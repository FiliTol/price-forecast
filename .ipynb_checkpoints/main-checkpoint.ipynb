{
 "cells": [
  {
   "cell_type": "code",
   "execution_count": 1,
   "id": "f8cf60f448884917",
   "metadata": {
    "ExecuteTime": {
     "end_time": "2024-08-03T13:26:52.405113Z",
     "start_time": "2024-08-03T13:26:52.378316Z"
    }
   },
   "outputs": [
    {
     "data": {
      "application/vnd.jupyter.widget-view+json": {
       "model_id": "73865575c5df4c6a8af07ec6c6c7594d",
       "version_major": 2,
       "version_minor": 0
      },
      "text/plain": [
       "VBox(children=(HTML(value='<center> <img\\nsrc=https://huggingface.co/front/assets/huggingface_logo-noborder.sv…"
      ]
     },
     "metadata": {},
     "output_type": "display_data"
    }
   ],
   "source": [
    "import pandas as pd\n",
    "from langdetect import detect, detect_langs\n",
    "from pandarallel import pandarallel\n",
    "from huggingface_hub import notebook_login\n",
    "notebook_login()"
   ]
  },
  {
   "cell_type": "code",
   "execution_count": null,
   "id": "initial_id",
   "metadata": {
    "collapsed": true,
    "jupyter": {
     "outputs_hidden": true
    }
   },
   "outputs": [],
   "source": [
    "## Load Visualization Pipeline for all the periods\n",
    "## Insert one of the following arguments to run the visualization\n",
    "# dataframe cleaning for that period\n",
    "#!python3 -m scripts.visualization_pipeline sep\n",
    "#!python3 -m scripts.visualization_pipeline dic\n",
    "#!python3 -m scripts.visualization_pipeline mar\n",
    "#!python3 -m scripts.visualization_pipeline jun\n",
    "\n",
    "#!python3 -m scripts.mappings_host_location"
   ]
  },
  {
   "cell_type": "markdown",
   "id": "c9a8f1fe1883fed8",
   "metadata": {},
   "source": [
    "# To deal with reviews, I need to detect the language and then transform it into english"
   ]
  },
  {
   "cell_type": "markdown",
   "id": "2572c6d38a69bcd5",
   "metadata": {},
   "source": [
    "- https://huggingface.co/docs/transformers/en/model_doc/nllb\n",
    "- https://pypi.org/project/langdetect/"
   ]
  },
  {
   "cell_type": "code",
   "execution_count": null,
   "id": "b39b702256b04634",
   "metadata": {},
   "outputs": [],
   "source": [
    "#dataset = pd.read_csv(\"data/data_dic/d_reviews.csv\")"
   ]
  },
  {
   "cell_type": "code",
   "execution_count": null,
   "id": "7f64f1f9c16a9e2c",
   "metadata": {},
   "outputs": [],
   "source": [
    "def try_detect_language(text):\n",
    "    try:\n",
    "        lang = detect(text)\n",
    "        return lang\n",
    "    except:\n",
    "        return None\n",
    "        "
   ]
  },
  {
   "cell_type": "markdown",
   "id": "fd8d6c665b09fdd2",
   "metadata": {},
   "source": [
    "### Detect comment language"
   ]
  },
  {
   "cell_type": "code",
   "execution_count": null,
   "id": "a93006fd7329ddcc",
   "metadata": {},
   "outputs": [],
   "source": [
    "#pandarallel.initialize(progress_bar=True)\n",
    "#dataset[\"comment_language\"] = dataset['comments'].parallel_apply(lambda x: try_detect_language(x))\n",
    "#pd.to_pickle(dataset, \"data/pickles/draft_reviews/dic_reviews.pkl\")\n",
    "#dataset.to_csv(\"data/pickles/draft_reviews/dic_reviews.csv\")\n"
   ]
  },
  {
   "cell_type": "code",
   "execution_count": 2,
   "id": "9e32cdd67a812a4f",
   "metadata": {
    "ExecuteTime": {
     "end_time": "2024-08-03T13:25:12.854317Z",
     "start_time": "2024-08-03T13:25:07.116538Z"
    }
   },
   "outputs": [
    {
     "name": "stderr",
     "output_type": "stream",
     "text": [
      "/tmp/ipykernel_26259/1288007277.py:1: DtypeWarning: Columns (0,1) have mixed types. Specify dtype option on import or set low_memory=False.\n",
      "  dataset = pd.read_csv(\"data/pickles/draft_reviews/dic_reviews.csv\")\n"
     ]
    }
   ],
   "source": [
    "dataset = pd.read_csv(\"data/pickles/draft_reviews/dic_reviews.csv\")"
   ]
  },
  {
   "cell_type": "code",
   "execution_count": 3,
   "id": "241595ff176f567c",
   "metadata": {
    "ExecuteTime": {
     "end_time": "2024-08-03T13:25:12.913658Z",
     "start_time": "2024-08-03T13:25:12.859908Z"
    }
   },
   "outputs": [
    {
     "data": {
      "text/plain": [
       "array(['en', 'fr', 'it', 'zh-cn', 'pl', nan, 'de', 'ko', 'da', 'es', 'hu',\n",
       "       'sk', 'pt', 'ru', 'ro', 'nl', 'af', 'cy', 'ja', 'id', 'et', 'he',\n",
       "       'sv', 'zh-tw', 'fi', 'tr', 'so', 'ca', 'cs', 'no', 'hr', 'ar',\n",
       "       'sw', 'sl', 'el', 'uk', 'tl', 'bg', 'vi', 'mk', 'lv', 'lt', 'th',\n",
       "       'ur', 'sq', 'fa'], dtype=object)"
      ]
     },
     "execution_count": 3,
     "metadata": {},
     "output_type": "execute_result"
    }
   ],
   "source": [
    "dataset['comment_language'].unique()"
   ]
  },
  {
   "cell_type": "markdown",
   "id": "4a1a1c9583fd35e4",
   "metadata": {},
   "source": [
    "### Translate all non english into english"
   ]
  },
  {
   "cell_type": "code",
   "execution_count": 4,
   "id": "397a52801e962214",
   "metadata": {
    "ExecuteTime": {
     "end_time": "2024-08-03T13:25:12.972540Z",
     "start_time": "2024-08-03T13:25:12.916246Z"
    }
   },
   "outputs": [],
   "source": [
    "copy_dataset = dataset.copy()"
   ]
  },
  {
   "cell_type": "code",
   "execution_count": 5,
   "id": "63c5daf3dacb804d",
   "metadata": {
    "ExecuteTime": {
     "end_time": "2024-08-03T13:25:13.119822Z",
     "start_time": "2024-08-03T13:25:12.977542Z"
    }
   },
   "outputs": [],
   "source": [
    "small_dataset = copy_dataset.loc[(copy_dataset['comment_language']!=\"en\") & (copy_dataset['comment_language'] is not None), :]"
   ]
  },
  {
   "cell_type": "code",
   "execution_count": null,
   "id": "5d65aba11145a789",
   "metadata": {},
   "outputs": [],
   "source": [
    "from transformers import TranslationPipeline, AutoModelForSeq2SeqLM, AutoTokenizer\n"
   ]
  },
  {
   "cell_type": "code",
   "execution_count": null,
   "id": "2db77f101cbc707d",
   "metadata": {},
   "outputs": [],
   "source": []
  },
  {
   "cell_type": "code",
   "execution_count": null,
   "id": "ee61f81d30ad5b07",
   "metadata": {},
   "outputs": [],
   "source": [
    "#from transformers import AutoModelForSeq2SeqLM, AutoTokenizer\n",
    "#\n",
    "#tokenizer = AutoTokenizer.from_pretrained(\n",
    "#    \"facebook/nllb-200-distilled-600M\", token=True, src_lang=\"ron_Latn\"\n",
    "#)\n",
    "#model = AutoModelForSeq2SeqLM.from_pretrained(\"facebook/nllb-200-distilled-600M\", token=True)\n",
    "#\n",
    "#article = \"Şeful ONU spune că nu există o soluţie militară în Siria\"\n",
    "#inputs = tokenizer(article, return_tensors=\"pt\")\n",
    "#\n",
    "#translated_tokens = model.generate(\n",
    "#    **inputs, forced_bos_token_id=tokenizer.lang_code_to_id[\"deu_Latn\"], max_length=30\n",
    "#)\n",
    "#tokenizer.batch_decode(translated_tokens, skip_special_tokens=True)[0]"
   ]
  }
 ],
 "metadata": {
  "kernelspec": {
   "display_name": "Python 3 (ipykernel)",
   "language": "python",
   "name": "python3"
  },
  "language_info": {
   "codemirror_mode": {
    "name": "ipython",
    "version": 3
   },
   "file_extension": ".py",
   "mimetype": "text/x-python",
   "name": "python",
   "nbconvert_exporter": "python",
   "pygments_lexer": "ipython3",
   "version": "3.10.4"
  }
 },
 "nbformat": 4,
 "nbformat_minor": 5
}
