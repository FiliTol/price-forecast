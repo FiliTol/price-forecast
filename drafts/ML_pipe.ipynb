{
 "cells": [
  {
   "cell_type": "code",
   "id": "f8cf60f448884917",
   "metadata": {},
   "source": [
    "import numpy as np\n",
    "import pandas as pd\n",
    "from pandarallel import pandarallel\n",
    "from tqdm.notebook import tqdm\n",
    "tqdm.pandas()\n",
    "import matplotlib.pyplot as plt"
   ],
   "outputs": [],
   "execution_count": null
  },
  {
   "cell_type": "code",
   "id": "initial_id",
   "metadata": {
    "collapsed": true,
    "jupyter": {
     "outputs_hidden": true
    }
   },
   "source": [
    "## Load Visualization Pipeline for all the periods\n",
    "## Insert one of the following arguments to run the visualization:\n",
    "## - sep\n",
    "## - dic\n",
    "## - mar\n",
    "## - jun\n",
    "\n",
    "#!python3 -m scripts.visualization_pipeline sep\n",
    "#!python3 -m scripts.visualization_pipeline dic\n",
    "#!python3 -m scripts.visualization_pipeline mar\n",
    "#!python3 -m scripts.visualization_pipeline jun\n",
    "\n",
    "## Run the following to compute the mappings for host locations\n",
    "#!python3 -m scripts.mappings_host_location"
   ],
   "outputs": [],
   "execution_count": null
  },
  {
   "metadata": {},
   "cell_type": "code",
   "source": "df = pd.read_pickle(\"data/pickles/listings_viz_sep.pkl\")\n",
   "id": "393e90d842e2fbd9",
   "outputs": [],
   "execution_count": null
  },
  {
   "metadata": {},
   "cell_type": "code",
   "source": [
    "\n",
    "df.dtypes\n"
   ],
   "id": "59f69ae6f15a5789",
   "outputs": [],
   "execution_count": null
  },
  {
   "metadata": {},
   "cell_type": "markdown",
   "source": [
    "### IDs\n",
    "\n",
    "https://feature-engine.trainindata.com/en/latest/user_guide/encoding/index.html"
   ],
   "id": "e649d1657b06202a"
  },
  {
   "metadata": {},
   "cell_type": "code",
   "source": [
    "df_plot = df.copy()\n",
    "df_ids = pd.DataFrame(df_plot.groupby(by=[\"host_id\"]).count()[\"id\"])\n",
    "\n",
    "df_ids['group'] = df_ids[\"id\"].apply(lambda x: x if x > 5 else \"other\")\n",
    "\n",
    "df_ids['index'] = df_ids.index\n",
    "\n",
    "def set_custom_index(row):\n",
    "    if row['group']=='other':\n",
    "        row['index'] = 'other'\n",
    "    return row\n",
    "\n",
    "df_ids = df_ids.apply(lambda x: set_custom_index(x), axis=1)\n",
    "\n",
    "df_ids.reset_index(inplace=True)\n",
    "df_ids.drop([\"host_id\", \"group\"], inplace=True, axis=1)\n",
    "df_ids.set_index('index', inplace=True)\n",
    "\n",
    "df_ids = pd.DataFrame(df_ids.groupby(by=['index']).sum())\n"
   ],
   "id": "381fdf688e93f635",
   "outputs": [],
   "execution_count": null
  },
  {
   "metadata": {},
   "cell_type": "code",
   "source": [
    "#plt.style.use('_mpl-gallery')\n",
    "#\n",
    "#plt.figure(figsize=(10, 6))\n",
    "#plt.bar(df_ids.index, df_ids['id'], color='skyblue')\n",
    "#plt.xlabel('Unique Host IDs')\n",
    "#plt.ylabel('Count of Rows')\n",
    "#plt.title('Count of Rows for Unique Host IDs')\n",
    "##plt.xticks(host_id_counts.index)\n",
    "#plt.grid(axis='y')\n",
    "#\n",
    "#plt.show()"
   ],
   "id": "5d44927ae7603136",
   "outputs": [],
   "execution_count": null
  },
  {
   "metadata": {},
   "cell_type": "markdown",
   "source": [
    "## Review dates\n",
    "\n",
    "From `first_review` and `last_review` to `reviewed_time_span`"
   ],
   "id": "c3461c27d0ab96ee"
  },
  {
   "metadata": {},
   "cell_type": "code",
   "source": "df.isnull().sum()",
   "id": "51081dda74db16c",
   "outputs": [],
   "execution_count": null
  },
  {
   "metadata": {},
   "cell_type": "code",
   "source": [
    "import pandas as pd\n",
    "from feature_engine.datetime import DatetimeSubtraction\n",
    "from feature_engine.pipeline import Pipeline\n",
    "from feature_engine.creation import RelativeFeatures\n",
    "from feature_engine.encoding import OneHotEncoder, CountFrequencyEncoder\n",
    "from feature_engine.wrappers import SklearnTransformerWrapper\n",
    "from feature_engine.imputation import MeanMedianImputer, AddMissingIndicator\n",
    "from feature_engine.preprocessing import MatchVariables\n",
    "\n",
    "from sklearn.model_selection import train_test_split\n",
    "from sklearn.base import BaseEstimator, TransformerMixin\n",
    "from sklearn.preprocessing import MinMaxScaler, StandardScaler, OrdinalEncoder\n",
    "from sklearn.impute import SimpleImputer, KNNImputer\n",
    "from sklearn.compose import ColumnTransformer\n",
    "from sklearn.ensemble import RandomForestRegressor\n",
    "from sklearn.preprocessing import PolynomialFeatures\n"
   ],
   "id": "846634c61a42b870",
   "outputs": [],
   "execution_count": null
  },
  {
   "metadata": {},
   "cell_type": "code",
   "source": [
    "review_dates_feature = [\"first_review\", \"last_review\"]\n",
    "\n",
    "review_dates_pipeline = Pipeline(steps=[\n",
    "    ('Review_dates_engineering', DatetimeSubtraction(variables=\"last_review\",\n",
    "                                                     reference=\"first_review\",\n",
    "                                                     output_unit=\"D\",\n",
    "                                                     drop_original=True,\n",
    "                                                     new_variables_names=[\"days_active_reviews\"],\n",
    "                                                     missing_values=\"ignore\"\n",
    "                                                     )\n",
    "     ),\n",
    "    (\"Imputation\", SimpleImputer(strategy='median')), #MeanMedianImputer(imputation_method=\"median\", variables=[\"days_active_reviews\"]\n",
    "    (\"Standardize\", MinMaxScaler()),\n",
    "])\n"
   ],
   "id": "f298cc92ad1c8a06",
   "outputs": [],
   "execution_count": null
  },
  {
   "metadata": {},
   "cell_type": "markdown",
   "source": [
    "## Host Listings Count\n",
    "\n",
    "`host_listings_count` as a percentage of `host_total_listings_count` and drop original columns"
   ],
   "id": "94af0d4a39a880f0"
  },
  {
   "metadata": {},
   "cell_type": "code",
   "source": [
    "host_listings_feature = [\"host_listings_count\",\n",
    "                         \"host_total_listings_count\"]\n",
    "\n",
    "host_listings_pipeline = Pipeline(steps=[\n",
    "    (\"Imputation\", SimpleImputer(strategy=\"median\")),\n",
    "    (\"relative_feature\", RelativeFeatures(\n",
    "        variables=['host_listings_count'],\n",
    "        reference=['host_total_listings_count'],\n",
    "        func=['div'],\n",
    "        drop_original=True\n",
    "    )),\n",
    "    (\"Standardize\", MinMaxScaler()),\n",
    "])\n"
   ],
   "id": "5dadc2eb6275934a",
   "outputs": [],
   "execution_count": null
  },
  {
   "metadata": {},
   "cell_type": "markdown",
   "source": [
    "## One-hot-encoding transformation\n",
    "\n",
    "*This pipeline is also suited for all the binary variables at hand because of the `drop_last_binary` option*"
   ],
   "id": "4a4b562c46cf966b"
  },
  {
   "metadata": {},
   "cell_type": "code",
   "source": [
    "ohe_feature = [\"neighbourhood_cleansed\", # categorical\n",
    "                \"host_is_superhost\",       # binary\n",
    "                \"host_has_profile_pic\",\n",
    "                \"host_identity_verified\",\n",
    "                \"email_verification\",\n",
    "                \"phone_verification\",\n",
    "                \"work_email_verification\"]\n",
    "\n",
    "ohe_pipeline = Pipeline(steps=[\n",
    "    (\"Imputation\", SimpleImputer(strategy=\"most_frequent\")),\n",
    "    (\"One-hot-encoder\", OneHotEncoder(drop_last_binary=True,\n",
    "                                      drop_last=True))\n",
    "])"
   ],
   "id": "91f9956e46bae691",
   "outputs": [],
   "execution_count": null
  },
  {
   "metadata": {},
   "cell_type": "markdown",
   "source": [
    "## Ordinal categorical encoding\n",
    "\n"
   ],
   "id": "1ebf05ce59120bad"
  },
  {
   "metadata": {},
   "cell_type": "code",
   "source": [
    "ordinal_feature = [\"host_response_time\",\n",
    "                   \"room_type\",\n",
    "                   \"bathrooms_text\"]\n",
    "\n",
    "ordinal_pipeline = Pipeline(steps=[\n",
    "    (\"Imputation\", SimpleImputer(strategy=\"most_frequent\")),\n",
    "    (\"Ordinal_encoder\", OrdinalEncoder(categories=\"auto\"))\n",
    "])"
   ],
   "id": "bf7651e34a3d7bb6",
   "outputs": [],
   "execution_count": null
  },
  {
   "metadata": {},
   "cell_type": "markdown",
   "source": [
    "## Host ID\n",
    "\n",
    "**The high cardinality of unique hosts and the severely skewed distribution in the number of listings for every host\n",
    "could lead us to drop also the `host_id` feature in order to avoid overfitting.**\n",
    "\n",
    "**The alternative is to use some Categorical Encoding functions from `feature_engine` library that seem to be well suited to handle this kind cardinality** like\n",
    "- the Rare Label Encoding,\n",
    "- Decision Tree Encoding,\n",
    "- Count Frequency Encoding (that enables us to handle also unseen categories by allocating the code $0$ for the prediction [see documentation])\n"
   ],
   "id": "2da90aa10123d898"
  },
  {
   "metadata": {},
   "cell_type": "code",
   "source": [
    "host_id_feature = [\"host_id\"]\n",
    "\n",
    "host_id_pipeline = Pipeline(steps=[\n",
    "    (\"Count_frequency_encoding\", CountFrequencyEncoder(encoding_method=\"count\",\n",
    "                               missing_values=\"ignore\",\n",
    "                               unseen=\"encode\"))\n",
    "])"
   ],
   "id": "5542009f927cea2d",
   "outputs": [],
   "execution_count": null
  },
  {
   "metadata": {},
   "cell_type": "markdown",
   "source": "## Host since",
   "id": "c8358fba7a4767c"
  },
  {
   "metadata": {},
   "cell_type": "code",
   "source": [
    "host_since_feature = [\"host_since\"]\n",
    "\n",
    "host_since_pipeline = Pipeline(steps=[\n",
    "    ('date_engineering', DatetimeSubtraction(variables=max(\"last_review\"),\n",
    "                                             reference=\"host_since\",\n",
    "                                             output_unit=\"D\",\n",
    "                                             drop_original=True,\n",
    "                                             new_variables_names=[\"host_since_days\"],\n",
    "                                             missing_values=\"ignore\"\n",
    "                                             )\n",
    "     ),\n",
    "    (\"Imputation\", SimpleImputer(strategy='median')),\n",
    "    (\"Standardize\", MinMaxScaler()),\n",
    "])"
   ],
   "id": "cbd4f8da48cc8f04",
   "outputs": [],
   "execution_count": null
  },
  {
   "metadata": {},
   "cell_type": "markdown",
   "source": "## Numerical features",
   "id": "dcc9f2f8d343bcf2"
  },
  {
   "metadata": {},
   "cell_type": "code",
   "source": [
    "numerical_feature = [\"host_response_rate\",\n",
    "                     \"host_acceptance_rate\",\n",
    "                     \"host_location\",\n",
    "                     \"minimum_nights\",\n",
    "                     \"maximum_nights\",\n",
    "                     \"number_of_reviews\",\n",
    "                     \"review_scores_rating\",\n",
    "                     \"review_scores_accuracy\",\n",
    "                     \"review_scores_cleanliness\",\n",
    "                     \"review_scores_checkin\",\n",
    "                     \"review_scores_communication\",\n",
    "                     \"review_scores_location\",\n",
    "                     \"review_scores_value\",\n",
    "                     \"reviews_per_month\",\n",
    "                     \"airport_distance_km\",\n",
    "                     \"ferretto_square_distance_km\",\n",
    "                     \"roma_square_distance_km\",\n",
    "                     \"rialto_bridge_distance_km\",\n",
    "                     \"san_marco_square_distance_km\"\n",
    "                     ]\n",
    "\n",
    "numerical_pipeline = Pipeline(steps=[\n",
    "    (\"Imputer\", KNNImputer(n_neighbors=5, weights=\"uniform\")),\n",
    "    (\"Standardize\", MinMaxScaler())\n",
    "])"
   ],
   "id": "6e0dd389a7ac3994",
   "outputs": [],
   "execution_count": null
  },
  {
   "metadata": {},
   "cell_type": "markdown",
   "source": "## Coordinates (numerical)",
   "id": "a6539f350be87c8d"
  },
  {
   "metadata": {},
   "cell_type": "code",
   "source": [
    "coordinates_feature = [\"latitude\",\n",
    "                       \"longitude\"]\n",
    "\n",
    "coordinates_pipeline = Pipeline(steps=[\n",
    "    (\"Imputer\", SimpleImputer(strategy=\"most_frequent\")),\n",
    "    (\"Standardization\", StandardScaler())\n",
    "])"
   ],
   "id": "43099582caddac1d",
   "outputs": [],
   "execution_count": null
  },
  {
   "metadata": {},
   "cell_type": "markdown",
   "source": "## Engineer Accomodates vs Beds and Bathrooms and Bedrooms",
   "id": "1abda78a5b7c69d"
  },
  {
   "metadata": {},
   "cell_type": "code",
   "source": [
    "accomodates_vs_feature = [\"accommodates\",\n",
    "                          \"bathrooms\",\n",
    "                          \"bedrooms\",\n",
    "                          \"beds\"]\n",
    "\n",
    "accomodates_vs_pipeline = Pipeline(steps=[\n",
    "    (\"Feature_engineering\", RelativeFeatures(\n",
    "        variables=[\n",
    "            \"bathrooms\",\n",
    "            \"bedrooms\",\n",
    "            \"beds\"],\n",
    "        reference=[\"accommodates\"],\n",
    "        func=[\"div\"],\n",
    "        fill_value=None,\n",
    "        missing_values=\"ignore\",\n",
    "        drop_original=True\n",
    "    )\n",
    "     ),\n",
    "    (\"Imputation\", SimpleImputer(strategy=\"median\")),\n",
    "    (\"Standardization\", MinMaxScaler())\n",
    "])"
   ],
   "id": "59db35cc6c61fe5c",
   "outputs": [],
   "execution_count": null
  },
  {
   "metadata": {},
   "cell_type": "markdown",
   "source": "## Engineer Beds vs Rooms",
   "id": "c5fd18fdd739d0a5"
  },
  {
   "metadata": {},
   "cell_type": "code",
   "source": [
    "bedrooms_feature = [\"beds\", \n",
    "                    \"bedrooms\"]\n",
    "\n",
    "bedrooms_pipeline = Pipeline(steps=[\n",
    "    (\"Feature_engineering\", RelativeFeatures(\n",
    "        variables=[\"beds\"],\n",
    "        reference=[\"bedrooms\"],\n",
    "        func=[\"div\"],\n",
    "        fill_value=None,\n",
    "        missing_values=\"ignore\",\n",
    "        drop_original=True\n",
    "    )\n",
    "     ),\n",
    "    (\"Imputation\", SimpleImputer(strategy=\"median\")),\n",
    "    (\"Standardization\", MinMaxScaler())\n",
    "])"
   ],
   "id": "6c8577f8c2869d76",
   "outputs": [],
   "execution_count": null
  },
  {
   "metadata": {},
   "cell_type": "markdown",
   "source": "## Calculated host listings features",
   "id": "fac422bfe2690f37"
  },
  {
   "metadata": {},
   "cell_type": "code",
   "source": [
    "calculated_listings_feature = [\"calculated_host_listings_count\",\n",
    "                          \"calculated_host_listings_count_entire_homes\",\n",
    "                          \"calculated_host_listings_count_private_rooms\",\n",
    "                          \"calculated_host_listings_count_shared_rooms\"\n",
    "                          ]\n",
    "\n",
    "calculated_listings_pipeline = Pipeline(steps=[\n",
    "    (\"Feature_engineering\", RelativeFeatures(\n",
    "        variables=[\n",
    "            \"calculated_host_listings_count_entire_homes\",\n",
    "            \"calculated_host_listings_count_private_rooms\",\n",
    "            \"calculated_host_listings_count_shared_rooms\"\n",
    "        ],\n",
    "        reference=[\"calculated_host_listings_count\"],\n",
    "        func=[\"div\"],\n",
    "        fill_value=None,\n",
    "        missing_values=\"ignore\",\n",
    "        drop_original=True\n",
    "    )\n",
    "     ),\n",
    "    (\"Imputation\", SimpleImputer(strategy=\"median\")),\n",
    "    (\"Standardization\", MinMaxScaler())\n",
    "])"
   ],
   "id": "e5613f5f3c6ed500",
   "outputs": [],
   "execution_count": null
  },
  {
   "metadata": {},
   "cell_type": "markdown",
   "source": "# Final transformer",
   "id": "3f8a64da6c3ac4c8"
  },
  {
   "metadata": {},
   "cell_type": "code",
   "source": [
    "## Drop rows with NaN in target \n",
    "df = df.loc[df['price'].notnull(), :]\n",
    "\n",
    "X = df.drop([\"price\"], axis=1, inplace=False)\n",
    "y = df[\"price\"]\n",
    "\n",
    "X_train, X_test, y_train, y_test = train_test_split(X, y, test_size=0.3, random_state=874631)"
   ],
   "id": "8cc7a73e3faff09c",
   "outputs": [],
   "execution_count": null
  },
  {
   "metadata": {},
   "cell_type": "code",
   "source": "",
   "id": "9eeb1c619e9e874c",
   "outputs": [],
   "execution_count": null
  },
  {
   "metadata": {},
   "cell_type": "code",
   "source": [
    "#preprocessor = ColumnTransformer(\n",
    "#    transformers=[\n",
    "#        (\"Review dates\", review_dates_pipeline, review_dates_feature),\n",
    "#        (\"Host listings\", host_listings_pipeline, host_listings_feature),\n",
    "#        (\"OHE\", ohe_pipeline, ohe_feature),\n",
    "#        (\"Ordinal\", ordinal_pipeline, ordinal_feature),\n",
    "#        (\"Host Id\", host_id_pipeline, host_id_feature),\n",
    "#        (\"Host since\", host_since_pipeline, host_since_feature),\n",
    "#        (\"Numerical\", numerical_pipeline, numerical_feature),\n",
    "#        (\"Coordinates\", coordinates_pipeline, coordinates_feature),\n",
    "#        (\"Accomodates VS\", accomodates_vs_pipeline, accommodates_vs_feature),\n",
    "#        (\"Bedrooms VS\", bedrooms_pipeline, bedrooms_feature),\n",
    "#        (\"Listings count VS\", calculated_listings_pipeline, calculated_listings_feature)\n",
    "#    ],\n",
    "#    remainder=\"drop\",\n",
    "#    n_jobs=-1,\n",
    "#    verbose=True,\n",
    "#    verbose_feature_names_out=True\n",
    "#)"
   ],
   "id": "c665ab4149e49ed3",
   "outputs": [],
   "execution_count": null
  },
  {
   "metadata": {},
   "cell_type": "code",
   "source": [
    "#transform = Pipeline(\n",
    "#   steps=[\n",
    "#       (\"processing\", preprocessor),\n",
    "#       (\"RandomForestRegressor\", RandomForestRegressor()),\n",
    "#   ]\n",
    "#)"
   ],
   "id": "880b3a8529fb1c86",
   "outputs": [],
   "execution_count": null
  },
  {
   "metadata": {},
   "cell_type": "code",
   "source": [
    "#model = transform.fit(X_train,y_train)\n",
    "#model.score(X_test, y_test)\n"
   ],
   "id": "98e2fd4565c5d9b7",
   "outputs": [],
   "execution_count": null
  },
  {
   "metadata": {},
   "cell_type": "code",
   "source": "calculated_listings_feature + ohe_feature + [\"cat\"]",
   "id": "b55f5a645cc835ef",
   "outputs": [],
   "execution_count": null
  }
 ],
 "metadata": {
  "kernelspec": {
   "display_name": "Python 3 (ipykernel)",
   "language": "python",
   "name": "python3"
  },
  "language_info": {
   "codemirror_mode": {
    "name": "ipython",
    "version": 3
   },
   "file_extension": ".py",
   "mimetype": "text/x-python",
   "name": "python",
   "nbconvert_exporter": "python",
   "pygments_lexer": "ipython3",
   "version": "3.10.4"
  }
 },
 "nbformat": 4,
 "nbformat_minor": 5
}
