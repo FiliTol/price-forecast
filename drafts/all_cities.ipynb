{
 "cells": [
  {
   "cell_type": "code",
   "id": "initial_id",
   "metadata": {
    "collapsed": true
   },
   "source": [
    "from tqdm.notebook import tqdm\n",
    "import pandas as pd\n",
    "import os\n",
    "import re\n",
    "from pandarallel import pandarallel\n",
    "import reverse_geocode\n",
    "from scripts.custom.viz.class_transformers import AmenitiesTransformer\n",
    "\n",
    "\n",
    "pandarallel.initialize(progress_bar=True)\n",
    "tqdm.pandas()"
   ],
   "outputs": [],
   "execution_count": null
  },
  {
   "metadata": {},
   "cell_type": "code",
   "source": [
    "datasets = {}\n",
    "\n",
    "for file in os.listdir(\"../data/all_cities\"):\n",
    "    pattern = r'_(\\w{2})'\n",
    "    match = re.search(pattern, file)\n",
    "    result = match.group(1)\n",
    "    datasets[f\"df_{result}\"] = pd.read_csv(f\"../data/all_cities/{file}\")\n",
    "df = pd.concat([value for key, value in datasets.items()], ignore_index=True)\n",
    "\n",
    "df.shape[0]"
   ],
   "id": "544c0a4dac4c8a8b",
   "outputs": [],
   "execution_count": null
  },
  {
   "metadata": {},
   "cell_type": "markdown",
   "source": "# Retrieving location from coordinates\n",
   "id": "1f789bbf38024f31"
  },
  {
   "metadata": {},
   "cell_type": "code",
   "source": [
    "def retrieve_city(row):\n",
    "    coords = (row[\"latitude\"], row['longitude'])\n",
    "    row[\"listing_city\"] = reverse_geocode.get(coords)[\"city\"]\n",
    "    row[\"listing_city_pop\"] = reverse_geocode.get(coords)[\"population\"]\n",
    "    return row\n",
    "\n",
    "df = df.parallel_apply(retrieve_city, axis=1)"
   ],
   "id": "3cd4c6ce9d43af1",
   "outputs": [],
   "execution_count": null
  },
  {
   "metadata": {},
   "cell_type": "code",
   "source": [
    "sep_nas = pd.DataFrame(df.isnull().sum(), columns=[\"NAs\"])\n",
    "#sep_nas.loc[sep_nas[\"NAs\"] > 0, :]\n",
    "sep_nas.reset_index()"
   ],
   "id": "b446e44545f842fe",
   "outputs": [],
   "execution_count": null
  },
  {
   "metadata": {},
   "cell_type": "markdown",
   "source": "## Drop columns with too many NAs",
   "id": "ebb59f6beee518f"
  },
  {
   "metadata": {},
   "cell_type": "code",
   "source": [
    "df.drop([\"neighborhood_overview\",\n",
    "             \"host_about\",\n",
    "             \"host_neighbourhood\",\n",
    "             \"neighbourhood\",\n",
    "             \"neighbourhood_group_cleansed\",\n",
    "             \"calendar_updated\",\n",
    "             \"license\"],\n",
    "            axis=1,\n",
    "            inplace=True)"
   ],
   "id": "76405def19ca754b",
   "outputs": [],
   "execution_count": null
  },
  {
   "metadata": {},
   "cell_type": "markdown",
   "source": "## Drop not useful",
   "id": "d2b4c14ebf277f9b"
  },
  {
   "metadata": {},
   "cell_type": "code",
   "source": [
    "df.drop([\n",
    "    \"listing_url\",\n",
    "    \"scrape_id\",\n",
    "    \"last_scraped\",\n",
    "    \"source\",\n",
    "    \"name\",\n",
    "    \"description\",\n",
    "    \"picture_url\",\n",
    "    \"host_url\",\n",
    "    \"host_name\",\n",
    "    \"host_thumbnail_url\",\n",
    "    \"host_picture_url\",\n",
    "    \"minimum_minimum_nights\",\n",
    "    \"maximum_minimum_nights\",\n",
    "    \"minimum_maximum_nights\",\n",
    "    \"maximum_maximum_nights\",\n",
    "    \"minimum_nights_avg_ntm\",\n",
    "    \"maximum_nights_avg_ntm\",\n",
    "    \"has_availability\",\n",
    "    \"availability_30\",\n",
    "    \"availability_60\",\n",
    "    \"availability_90\",\n",
    "    \"availability_365\",\n",
    "    \"calendar_last_scraped\",\n",
    "    \"number_of_reviews_ltm\",\n",
    "    \"number_of_reviews_l30d\",\n",
    "    \"instant_bookable\",\n",
    "    \"calculated_host_listings_count\",\n",
    "    \"calculated_host_listings_count_entire_homes\",\n",
    "    \"calculated_host_listings_count_private_rooms\",\n",
    "    \"calculated_host_listings_count_shared_rooms\",\n",
    "],\n",
    "axis=1,\n",
    "inplace=True)\n",
    "\n",
    "df.set_index(\"id\", inplace=True)"
   ],
   "id": "9cda8c9b28fcc085",
   "outputs": [],
   "execution_count": null
  },
  {
   "metadata": {},
   "cell_type": "code",
   "source": [
    "see_histograms = df.copy()\n",
    "\n",
    "pd.set_option('future.no_silent_downcasting', True)\n",
    "see_histograms.replace({'f': 0, 't': 1}, inplace=True)\n",
    "\n",
    "see_histograms.hist(figsize=(30,20));"
   ],
   "id": "a9d2d7c0a056f345",
   "outputs": [],
   "execution_count": null
  },
  {
   "metadata": {},
   "cell_type": "code",
   "source": [
    "print(df.shape)\n",
    "df_nas_columns = pd.DataFrame({\n",
    "    'NAs': df.isnull().sum(axis=1),\n",
    "    'Columns_with_NAs': df.parallel_apply(lambda x: ', '.join(x.index[x.isnull()]), axis=1)\n",
    "})\n",
    "df_nas_columns.loc[df_nas_columns[\"NAs\"]>7]"
   ],
   "id": "3961206d9690cf2",
   "outputs": [],
   "execution_count": null
  },
  {
   "metadata": {},
   "cell_type": "code",
   "source": [
    "more_than_7_missing = df_nas_columns.loc[df_nas_columns[\"NAs\"]>7, :].index.tolist()\n",
    "df.drop(more_than_7_missing, inplace=True)\n",
    "df.shape"
   ],
   "id": "d31d2defc3e2ac46",
   "outputs": [],
   "execution_count": null
  },
  {
   "metadata": {},
   "cell_type": "markdown",
   "source": "# Handling amenities",
   "id": "805e8968060d059f"
  },
  {
   "metadata": {},
   "cell_type": "code",
   "source": [
    "amenities_lists = df[\"amenities\"].tolist()\n",
    "\n",
    "amenities_counter = {}\n",
    "\n",
    "for el in amenities_lists:\n",
    "    for e in el.strip('][').split(', '):\n",
    "        try:\n",
    "            amenities_counter[e.strip('\"')] += 1\n",
    "        except:\n",
    "            amenities_counter[e.strip('\"')] = 1\n",
    "\n",
    "amenities_counter = dict(sorted(amenities_counter.items(), key=lambda item: item[1], reverse=True))\n"
   ],
   "id": "6c9edd4107a9b181",
   "outputs": [],
   "execution_count": null
  },
  {
   "metadata": {},
   "cell_type": "markdown",
   "source": "## Remapping amenities in smaller dictionary",
   "id": "2785616ca5564c90"
  },
  {
   "metadata": {},
   "cell_type": "code",
   "source": "amenities_remapping = {}\n",
   "id": "d3de96c8a30559f9",
   "outputs": [],
   "execution_count": null
  },
  {
   "metadata": {},
   "cell_type": "markdown",
   "source": "### technology",
   "id": "af192ea0ee262050"
  },
  {
   "metadata": {},
   "cell_type": "code",
   "source": [
    "pattern = r'\\b(wifi|internet|ethernet|cable|fibra|dolby|smart|connection|tv|television|netflix|amazon|disney)\\b'\n",
    "regex = re.compile(pattern, re.IGNORECASE)\n",
    "\n",
    "for am in list(amenities_counter.keys()):\n",
    "    if regex.search(am):\n",
    "        amenities_remapping[am] = \"technology\""
   ],
   "id": "e75cc4403e6fbfc5",
   "outputs": [],
   "execution_count": null
  },
  {
   "metadata": {},
   "cell_type": "markdown",
   "source": "### kitchen",
   "id": "411a89234e490b1e"
  },
  {
   "metadata": {},
   "cell_type": "code",
   "source": [
    "pattern = r'\\b(kitchen|cooking|grill|cucina|refrigerator|fridge|oven|stove|dish|coffee|espresso|lavazza|dining|breakfast|microonde|microwave|washer|freezer|glasses|toast|baking)\\b'\n",
    "regex = re.compile(pattern, re.IGNORECASE)\n",
    "\n",
    "for am in list(amenities_counter.keys()):\n",
    "    if regex.search(am):\n",
    "        amenities_remapping[am] = \"kitchen\""
   ],
   "id": "22db4b60109a08a3",
   "outputs": [],
   "execution_count": null
  },
  {
   "metadata": {},
   "cell_type": "markdown",
   "source": "### toiletry",
   "id": "d0af64937e482260"
  },
  {
   "metadata": {},
   "cell_type": "code",
   "source": [
    "pattern = r'\\b(hair|capelli|soap|sapone|bidet|shampoo|bathtub|gel|laundry|closet|pillow|blanket|shower)\\b'\n",
    "regex = re.compile(pattern, re.IGNORECASE)\n",
    "\n",
    "for am in list(amenities_counter.keys()):\n",
    "    if regex.search(am):\n",
    "        amenities_remapping[am] = \"toiletry\""
   ],
   "id": "133a9ea7c8b11823",
   "outputs": [],
   "execution_count": null
  },
  {
   "metadata": {},
   "cell_type": "markdown",
   "source": "### AC/heating",
   "id": "c2396364177690d4"
  },
  {
   "metadata": {},
   "cell_type": "code",
   "source": [
    "pattern = r'\\b(heating|ac|air|conditioning|fan)\\b'\n",
    "regex = re.compile(pattern, re.IGNORECASE)\n",
    "\n",
    "for am in list(amenities_counter.keys()):\n",
    "    if regex.search(am):\n",
    "        amenities_remapping[am] = \"AC/heating\""
   ],
   "id": "bad86ac55dea7e52",
   "outputs": [],
   "execution_count": null
  },
  {
   "metadata": {},
   "cell_type": "markdown",
   "source": "### benefits",
   "id": "cd57470ebf5bbdc2"
  },
  {
   "metadata": {},
   "cell_type": "code",
   "source": [
    "pattern = r'\\b(garden|backyard|skyline|beach|gym|fitness|view|outdoor|balcony|waterfront|bed linen|workspace|aid|luggage|elevator|free|safe|lock|security|bike|estinguisher)\\b'\n",
    "regex = re.compile(pattern, re.IGNORECASE)\n",
    "\n",
    "for am in list(amenities_counter.keys()):\n",
    "    if regex.search(am):\n",
    "        amenities_remapping[am] = \"benefits\""
   ],
   "id": "9c5491b5ed25b9bd",
   "outputs": [],
   "execution_count": null
  },
  {
   "metadata": {},
   "cell_type": "markdown",
   "source": "### other",
   "id": "afd8ed082131b865"
  },
  {
   "metadata": {},
   "cell_type": "code",
   "source": [
    "pattern = r'\\b(wifi|internet|ethernet|cable|fibra|dolby|smart|connection|tv|television|netflix|amazon|disney|kitchen|cooking|grill|cucina|refrigerator#|fridge|oven|stove|dish|coffee|espresso|lavazza|dining|breakfast|microonde|microwave|washer|freezer|glasses|toast|baking|hair|capelli|soap|sapone|bidet#|shampoo|bathtub|gel|laundry|closet|pillow|blanket|showers|heating|ac|air|conditioning|fan|garden|backyard|skyline|beach|gym|fitness|view|outdoor#|balcony|waterfront|bed linen|workspace|aid|luggage|elevator|free|safe|lock|security|bike)\\b'\n",
    "\n",
    "regex = re.compile(pattern, re.IGNORECASE)\n",
    "\n",
    "for am in list(amenities_counter.keys()):\n",
    "    if not regex.search(am):\n",
    "        amenities_remapping[am] = \"other\""
   ],
   "id": "a67c5447162503e6",
   "outputs": [],
   "execution_count": null
  },
  {
   "metadata": {},
   "cell_type": "markdown",
   "source": "## Remapping amenities in dataframe",
   "id": "9b5a25816c423297"
  },
  {
   "metadata": {},
   "cell_type": "code",
   "source": [
    "def unwrap_remap_amenities(value):\n",
    "    element = [e.strip('\"') for e in value.strip('][').split(', ')]\n",
    "    remapped_amenities = (pd.Series(element)).map(amenities_remapping)\n",
    "    return remapped_amenities.tolist()\n",
    "\n",
    "df[\"amenities\"] = df[\"amenities\"].parallel_apply(unwrap_remap_amenities)"
   ],
   "id": "1925b7dba6d903c9",
   "outputs": [],
   "execution_count": null
  },
  {
   "metadata": {},
   "cell_type": "code",
   "source": [
    "def return_amenity_counter(row):\n",
    "    amenities = [\"AC/heating\", \"technology\", \"kitchen\", \"benefits\", \"toiletry\", \"other\"]\n",
    "    counts = {amenity: row[\"amenities\"].count(amenity) for amenity in amenities}\n",
    "    for amenity, count in counts.items():\n",
    "        row[f'amenities_{amenity}'] = count\n",
    "    return row\n",
    "\n",
    "df = df.parallel_apply(return_amenity_counter, axis=1)\n"
   ],
   "id": "dc8f40d6fcc02d6b",
   "outputs": [],
   "execution_count": null
  },
  {
   "metadata": {},
   "cell_type": "markdown",
   "source": "## Manage Property type",
   "id": "761d74969a3bec06"
  },
  {
   "metadata": {},
   "cell_type": "code",
   "source": "property_type_list = df[\"property_type\"].tolist()",
   "id": "fb5a4760b6db14bf",
   "outputs": [],
   "execution_count": null
  },
  {
   "metadata": {},
   "cell_type": "code",
   "source": "properties_frequencies = {x:property_type_list.count(x) for x in property_type_list}",
   "id": "7312e90f6a2952ed",
   "outputs": [],
   "execution_count": null
  },
  {
   "metadata": {},
   "cell_type": "code",
   "source": "properties_frequencies",
   "id": "a1d813ee21318b03",
   "outputs": [],
   "execution_count": null
  },
  {
   "metadata": {},
   "cell_type": "code",
   "source": "property_type_remapping = {}",
   "id": "a892ec9954314e69",
   "outputs": [],
   "execution_count": null
  },
  {
   "metadata": {},
   "cell_type": "markdown",
   "source": "### Entire property",
   "id": "baaf58174078427a"
  },
  {
   "metadata": {},
   "cell_type": "code",
   "source": [
    "pattern = r'\\b(entire|tiny home)\\b'\n",
    "regex = re.compile(pattern, re.IGNORECASE)\n",
    "\n",
    "for am in list(properties_frequencies.keys()):\n",
    "    if regex.search(am):\n",
    "        property_type_remapping[am] = \"entire_property\""
   ],
   "id": "ceaae82e4a3630b",
   "outputs": [],
   "execution_count": null
  },
  {
   "metadata": {},
   "cell_type": "markdown",
   "source": "### Private room",
   "id": "dfac6ea4391cfb58"
  },
  {
   "metadata": {},
   "cell_type": "code",
   "source": [
    "pattern = r'\\b(private room|room in serviced apartment|room in bed and breakfast|room in hotel|room in resort)\\b'\n",
    "regex = re.compile(pattern, re.IGNORECASE)\n",
    "\n",
    "for am in list(properties_frequencies.keys()):\n",
    "    if regex.search(am):\n",
    "        property_type_remapping[am] = \"private_room\"\n"
   ],
   "id": "f5042eb40b8d4775",
   "outputs": [],
   "execution_count": null
  },
  {
   "metadata": {},
   "cell_type": "markdown",
   "source": "### Shared room",
   "id": "4b94bb8f9ffe41ab"
  },
  {
   "metadata": {},
   "cell_type": "code",
   "source": [
    "pattern = r'\\b(shared room|shared)\\b'\n",
    "regex = re.compile(pattern, re.IGNORECASE)\n",
    "\n",
    "for am in list(properties_frequencies.keys()):\n",
    "    if regex.search(am):\n",
    "        property_type_remapping[am] = \"shared_room\"\n",
    "\n"
   ],
   "id": "f2d2024ae19fd19e",
   "outputs": [],
   "execution_count": null
  },
  {
   "metadata": {},
   "cell_type": "markdown",
   "source": "### Other",
   "id": "5afcd4b2e7df8170"
  },
  {
   "metadata": {},
   "cell_type": "code",
   "source": [
    "pattern = r'\\b(entire|tiny home|private room|room in serviced apartment|room in bed and breakfast|room in hotel|room in resort|shared room|shared)\\b'\n",
    "regex = re.compile(pattern, re.IGNORECASE)\n",
    "\n",
    "for am in list(properties_frequencies.keys()):\n",
    "    if not regex.search(am):\n",
    "        property_type_remapping[am] = \"other\""
   ],
   "id": "a1ad4450693396",
   "outputs": [],
   "execution_count": null
  },
  {
   "metadata": {},
   "cell_type": "code",
   "source": "df[\"property_type\"] = df['property_type'].map(property_type_remapping)",
   "id": "52c16054c7a8ab80",
   "outputs": [],
   "execution_count": null
  },
  {
   "metadata": {},
   "cell_type": "code",
   "source": "df.head()",
   "id": "443fb4bc260e14f5",
   "outputs": [],
   "execution_count": null
  },
  {
   "metadata": {},
   "cell_type": "markdown",
   "source": "## Fill Host Locations NAs with the values from the same HostID or same listing city",
   "id": "5b1645c8f8bfdb2e"
  },
  {
   "metadata": {},
   "cell_type": "code",
   "source": [
    "def fill_host_location(row):\n",
    "    if pd.isna(row[\"host_location\"]):\n",
    "        row[\"host_location\"] = row[\"listing_city\"]+\", Italy\"\n",
    "    return row\n",
    "\n",
    "df = df.parallel_apply(fill_host_location, axis=1)"
   ],
   "id": "9d253fd6f4535602",
   "outputs": [],
   "execution_count": null
  },
  {
   "metadata": {},
   "cell_type": "code",
   "source": "df.head()",
   "id": "2c7a46729782c355",
   "outputs": [],
   "execution_count": null
  }
 ],
 "metadata": {
  "kernelspec": {
   "display_name": "Python 3",
   "language": "python",
   "name": "python3"
  },
  "language_info": {
   "codemirror_mode": {
    "name": "ipython",
    "version": 2
   },
   "file_extension": ".py",
   "mimetype": "text/x-python",
   "name": "python",
   "nbconvert_exporter": "python",
   "pygments_lexer": "ipython2",
   "version": "2.7.6"
  }
 },
 "nbformat": 4,
 "nbformat_minor": 5
}
