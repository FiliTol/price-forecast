{
 "cells": [
  {
   "cell_type": "code",
   "id": "initial_id",
   "metadata": {
    "collapsed": true,
    "ExecuteTime": {
     "end_time": "2024-08-13T15:06:38.763229Z",
     "start_time": "2024-08-13T15:06:38.047540Z"
    }
   },
   "source": [
    "from tqdm.notebook import tqdm\n",
    "import pandas as pd\n",
    "import os\n",
    "import re\n",
    "from pandarallel import pandarallel\n",
    "import reverse_geocode\n",
    "from scripts.custom.viz.class_transformers import AmenitiesTransformer\n",
    "\n",
    "\n",
    "pandarallel.initialize(progress_bar=True)\n",
    "tqdm.pandas()"
   ],
   "outputs": [
    {
     "name": "stdout",
     "output_type": "stream",
     "text": [
      "INFO: Pandarallel will run on 4 workers.\n",
      "INFO: Pandarallel will use Memory file system to transfer data between the main process and workers.\n",
      "INFO: Pandarallel will run on 4 workers.\n",
      "INFO: Pandarallel will use Memory file system to transfer data between the main process and workers.\n"
     ]
    }
   ],
   "execution_count": 1
  },
  {
   "metadata": {
    "ExecuteTime": {
     "end_time": "2024-08-13T15:06:40.386254Z",
     "start_time": "2024-08-13T15:06:38.764406Z"
    }
   },
   "cell_type": "code",
   "source": [
    "datasets = {}\n",
    "\n",
    "for file in os.listdir(\"../data/all_cities\"):\n",
    "    pattern = r'_(\\w{2})'\n",
    "    match = re.search(pattern, file)\n",
    "    result = match.group(1)\n",
    "    datasets[f\"df_{result}\"] = pd.read_csv(f\"../data/all_cities/{file}\")\n",
    "df = pd.concat([value for key, value in datasets.items()], ignore_index=True)\n",
    "\n",
    "df.shape"
   ],
   "id": "544c0a4dac4c8a8b",
   "outputs": [
    {
     "data": {
      "text/plain": [
       "(96015, 75)"
      ]
     },
     "execution_count": 2,
     "metadata": {},
     "output_type": "execute_result"
    }
   ],
   "execution_count": 2
  },
  {
   "metadata": {},
   "cell_type": "markdown",
   "source": "# Retrieving location from coordinates\n",
   "id": "1f789bbf38024f31"
  },
  {
   "metadata": {
    "ExecuteTime": {
     "end_time": "2024-08-13T15:07:03.395700Z",
     "start_time": "2024-08-13T15:06:40.387136Z"
    }
   },
   "cell_type": "code",
   "source": [
    "def retrieve_city(row):\n",
    "    coords = (row[\"latitude\"], row['longitude'])\n",
    "    row[\"listing_city\"] = reverse_geocode.get(coords)[\"city\"]\n",
    "    row[\"listing_city_pop\"] = reverse_geocode.get(coords)[\"population\"]\n",
    "    return row\n",
    "\n",
    "df = df.parallel_apply(retrieve_city, axis=1)"
   ],
   "id": "3cd4c6ce9d43af1",
   "outputs": [
    {
     "data": {
      "text/plain": [
       "VBox(children=(HBox(children=(IntProgress(value=0, description='0.00%', max=24004), Label(value='0 / 24004')))…"
      ],
      "application/vnd.jupyter.widget-view+json": {
       "version_major": 2,
       "version_minor": 0,
       "model_id": "031d2ff039ab4a649350e0b2efad496c"
      }
     },
     "metadata": {},
     "output_type": "display_data"
    }
   ],
   "execution_count": 3
  },
  {
   "metadata": {
    "ExecuteTime": {
     "end_time": "2024-08-13T15:07:03.523160Z",
     "start_time": "2024-08-13T15:07:03.397164Z"
    }
   },
   "cell_type": "code",
   "source": [
    "sep_nas = pd.DataFrame(df.isnull().sum(), columns=[\"NAs\"])\n",
    "sep_nas.loc[sep_nas[\"NAs\"] > 0, :]"
   ],
   "id": "b446e44545f842fe",
   "outputs": [
    {
     "data": {
      "text/plain": [
       "                                NAs\n",
       "description                    2861\n",
       "neighborhood_overview         41432\n",
       "host_name                         1\n",
       "host_since                        1\n",
       "host_location                 22088\n",
       "host_about                    48562\n",
       "host_response_time            11774\n",
       "host_response_rate            11774\n",
       "host_acceptance_rate           7630\n",
       "host_is_superhost              2182\n",
       "host_thumbnail_url                1\n",
       "host_picture_url                  1\n",
       "host_neighbourhood            62545\n",
       "host_listings_count               1\n",
       "host_total_listings_count         1\n",
       "host_verifications                1\n",
       "host_has_profile_pic              1\n",
       "host_identity_verified            1\n",
       "neighbourhood                 41432\n",
       "neighbourhood_group_cleansed  87905\n",
       "bathrooms                      6853\n",
       "bathrooms_text                  101\n",
       "bedrooms                       1368\n",
       "beds                           7069\n",
       "price                          6826\n",
       "calendar_updated              96015\n",
       "has_availability                938\n",
       "first_review                  14639\n",
       "last_review                   14639\n",
       "review_scores_rating          14639\n",
       "review_scores_accuracy        14702\n",
       "review_scores_cleanliness     14700\n",
       "review_scores_checkin         14703\n",
       "review_scores_communication   14699\n",
       "review_scores_location        14706\n",
       "review_scores_value           14705\n",
       "license                       66400\n",
       "reviews_per_month             14639"
      ],
      "text/html": [
       "<div>\n",
       "<style scoped>\n",
       "    .dataframe tbody tr th:only-of-type {\n",
       "        vertical-align: middle;\n",
       "    }\n",
       "\n",
       "    .dataframe tbody tr th {\n",
       "        vertical-align: top;\n",
       "    }\n",
       "\n",
       "    .dataframe thead th {\n",
       "        text-align: right;\n",
       "    }\n",
       "</style>\n",
       "<table border=\"1\" class=\"dataframe\">\n",
       "  <thead>\n",
       "    <tr style=\"text-align: right;\">\n",
       "      <th></th>\n",
       "      <th>NAs</th>\n",
       "    </tr>\n",
       "  </thead>\n",
       "  <tbody>\n",
       "    <tr>\n",
       "      <th>description</th>\n",
       "      <td>2861</td>\n",
       "    </tr>\n",
       "    <tr>\n",
       "      <th>neighborhood_overview</th>\n",
       "      <td>41432</td>\n",
       "    </tr>\n",
       "    <tr>\n",
       "      <th>host_name</th>\n",
       "      <td>1</td>\n",
       "    </tr>\n",
       "    <tr>\n",
       "      <th>host_since</th>\n",
       "      <td>1</td>\n",
       "    </tr>\n",
       "    <tr>\n",
       "      <th>host_location</th>\n",
       "      <td>22088</td>\n",
       "    </tr>\n",
       "    <tr>\n",
       "      <th>host_about</th>\n",
       "      <td>48562</td>\n",
       "    </tr>\n",
       "    <tr>\n",
       "      <th>host_response_time</th>\n",
       "      <td>11774</td>\n",
       "    </tr>\n",
       "    <tr>\n",
       "      <th>host_response_rate</th>\n",
       "      <td>11774</td>\n",
       "    </tr>\n",
       "    <tr>\n",
       "      <th>host_acceptance_rate</th>\n",
       "      <td>7630</td>\n",
       "    </tr>\n",
       "    <tr>\n",
       "      <th>host_is_superhost</th>\n",
       "      <td>2182</td>\n",
       "    </tr>\n",
       "    <tr>\n",
       "      <th>host_thumbnail_url</th>\n",
       "      <td>1</td>\n",
       "    </tr>\n",
       "    <tr>\n",
       "      <th>host_picture_url</th>\n",
       "      <td>1</td>\n",
       "    </tr>\n",
       "    <tr>\n",
       "      <th>host_neighbourhood</th>\n",
       "      <td>62545</td>\n",
       "    </tr>\n",
       "    <tr>\n",
       "      <th>host_listings_count</th>\n",
       "      <td>1</td>\n",
       "    </tr>\n",
       "    <tr>\n",
       "      <th>host_total_listings_count</th>\n",
       "      <td>1</td>\n",
       "    </tr>\n",
       "    <tr>\n",
       "      <th>host_verifications</th>\n",
       "      <td>1</td>\n",
       "    </tr>\n",
       "    <tr>\n",
       "      <th>host_has_profile_pic</th>\n",
       "      <td>1</td>\n",
       "    </tr>\n",
       "    <tr>\n",
       "      <th>host_identity_verified</th>\n",
       "      <td>1</td>\n",
       "    </tr>\n",
       "    <tr>\n",
       "      <th>neighbourhood</th>\n",
       "      <td>41432</td>\n",
       "    </tr>\n",
       "    <tr>\n",
       "      <th>neighbourhood_group_cleansed</th>\n",
       "      <td>87905</td>\n",
       "    </tr>\n",
       "    <tr>\n",
       "      <th>bathrooms</th>\n",
       "      <td>6853</td>\n",
       "    </tr>\n",
       "    <tr>\n",
       "      <th>bathrooms_text</th>\n",
       "      <td>101</td>\n",
       "    </tr>\n",
       "    <tr>\n",
       "      <th>bedrooms</th>\n",
       "      <td>1368</td>\n",
       "    </tr>\n",
       "    <tr>\n",
       "      <th>beds</th>\n",
       "      <td>7069</td>\n",
       "    </tr>\n",
       "    <tr>\n",
       "      <th>price</th>\n",
       "      <td>6826</td>\n",
       "    </tr>\n",
       "    <tr>\n",
       "      <th>calendar_updated</th>\n",
       "      <td>96015</td>\n",
       "    </tr>\n",
       "    <tr>\n",
       "      <th>has_availability</th>\n",
       "      <td>938</td>\n",
       "    </tr>\n",
       "    <tr>\n",
       "      <th>first_review</th>\n",
       "      <td>14639</td>\n",
       "    </tr>\n",
       "    <tr>\n",
       "      <th>last_review</th>\n",
       "      <td>14639</td>\n",
       "    </tr>\n",
       "    <tr>\n",
       "      <th>review_scores_rating</th>\n",
       "      <td>14639</td>\n",
       "    </tr>\n",
       "    <tr>\n",
       "      <th>review_scores_accuracy</th>\n",
       "      <td>14702</td>\n",
       "    </tr>\n",
       "    <tr>\n",
       "      <th>review_scores_cleanliness</th>\n",
       "      <td>14700</td>\n",
       "    </tr>\n",
       "    <tr>\n",
       "      <th>review_scores_checkin</th>\n",
       "      <td>14703</td>\n",
       "    </tr>\n",
       "    <tr>\n",
       "      <th>review_scores_communication</th>\n",
       "      <td>14699</td>\n",
       "    </tr>\n",
       "    <tr>\n",
       "      <th>review_scores_location</th>\n",
       "      <td>14706</td>\n",
       "    </tr>\n",
       "    <tr>\n",
       "      <th>review_scores_value</th>\n",
       "      <td>14705</td>\n",
       "    </tr>\n",
       "    <tr>\n",
       "      <th>license</th>\n",
       "      <td>66400</td>\n",
       "    </tr>\n",
       "    <tr>\n",
       "      <th>reviews_per_month</th>\n",
       "      <td>14639</td>\n",
       "    </tr>\n",
       "  </tbody>\n",
       "</table>\n",
       "</div>"
      ]
     },
     "execution_count": 4,
     "metadata": {},
     "output_type": "execute_result"
    }
   ],
   "execution_count": 4
  },
  {
   "metadata": {},
   "cell_type": "markdown",
   "source": "## Drop columns with too many NAs",
   "id": "ebb59f6beee518f"
  },
  {
   "metadata": {
    "ExecuteTime": {
     "end_time": "2024-08-13T15:07:03.568711Z",
     "start_time": "2024-08-13T15:07:03.524375Z"
    }
   },
   "cell_type": "code",
   "source": [
    "df.drop([\"neighborhood_overview\",\n",
    "             \"host_about\",\n",
    "             \"host_neighbourhood\",\n",
    "             \"neighbourhood\",\n",
    "             \"neighbourhood_group_cleansed\",\n",
    "             \"calendar_updated\",\n",
    "             \"license\"],\n",
    "            axis=1,\n",
    "            inplace=True)"
   ],
   "id": "76405def19ca754b",
   "outputs": [],
   "execution_count": 5
  },
  {
   "metadata": {},
   "cell_type": "markdown",
   "source": "## Drop not useful",
   "id": "d2b4c14ebf277f9b"
  },
  {
   "metadata": {
    "ExecuteTime": {
     "end_time": "2024-08-13T15:07:03.603922Z",
     "start_time": "2024-08-13T15:07:03.569777Z"
    }
   },
   "cell_type": "code",
   "source": [
    "df.drop([\n",
    "    \"listing_url\",\n",
    "    \"scrape_id\",\n",
    "    \"last_scraped\",\n",
    "    \"source\",\n",
    "    \"name\",\n",
    "    \"description\",\n",
    "    \"picture_url\",\n",
    "    \"host_url\",\n",
    "    \"host_name\",\n",
    "    \"host_thumbnail_url\",\n",
    "    \"host_picture_url\",\n",
    "    \"minimum_minimum_nights\",\n",
    "    \"maximum_minimum_nights\",\n",
    "    \"minimum_maximum_nights\",\n",
    "    \"maximum_maximum_nights\",\n",
    "    \"minimum_nights_avg_ntm\",\n",
    "    \"maximum_nights_avg_ntm\",\n",
    "    \"has_availability\",\n",
    "    \"availability_30\",\n",
    "    \"availability_60\",\n",
    "    \"availability_90\",\n",
    "    \"availability_365\",\n",
    "    \"calendar_last_scraped\",\n",
    "    \"number_of_reviews_ltm\",\n",
    "    \"number_of_reviews_l30d\",\n",
    "    \"instant_bookable\",\n",
    "    \"calculated_host_listings_count\",\n",
    "    \"calculated_host_listings_count_entire_homes\",\n",
    "    \"calculated_host_listings_count_private_rooms\",\n",
    "    \"calculated_host_listings_count_shared_rooms\",\n",
    "],\n",
    "axis=1,\n",
    "inplace=True)\n",
    "\n",
    "df.set_index(\"id\", inplace=True)"
   ],
   "id": "9cda8c9b28fcc085",
   "outputs": [],
   "execution_count": 6
  },
  {
   "metadata": {},
   "cell_type": "code",
   "source": [
    "see_histograms = df.copy()\n",
    "\n",
    "pd.set_option('future.no_silent_downcasting', True)\n",
    "see_histograms.replace({'f': 0, 't': 1}, inplace=True)\n",
    "\n",
    "see_histograms.hist(figsize=(30,20));"
   ],
   "id": "a9d2d7c0a056f345",
   "outputs": [],
   "execution_count": null
  },
  {
   "metadata": {
    "ExecuteTime": {
     "end_time": "2024-08-13T15:07:06.511548Z",
     "start_time": "2024-08-13T15:07:03.605037Z"
    }
   },
   "cell_type": "code",
   "source": [
    "print(df.shape)\n",
    "df_nas_columns = pd.DataFrame({\n",
    "    'NAs': df.isnull().sum(axis=1),\n",
    "    'Columns_with_NAs': df.parallel_apply(lambda x: ', '.join(x.index[x.isnull()]), axis=1)\n",
    "})\n",
    "df_nas_columns.loc[df_nas_columns[\"NAs\"]>7]"
   ],
   "id": "3961206d9690cf2",
   "outputs": [
    {
     "name": "stdout",
     "output_type": "stream",
     "text": [
      "(96015, 39)\n"
     ]
    },
    {
     "data": {
      "text/plain": [
       "VBox(children=(HBox(children=(IntProgress(value=0, description='0.00%', max=24004), Label(value='0 / 24004')))…"
      ],
      "application/vnd.jupyter.widget-view+json": {
       "version_major": 2,
       "version_minor": 0,
       "model_id": "402aa5697010452fb94412c9a6201309"
      }
     },
     "metadata": {},
     "output_type": "display_data"
    },
    {
     "data": {
      "text/plain": [
       "                     NAs                                   Columns_with_NAs\n",
       "id                                                                         \n",
       "482422                13  host_location, host_response_time, host_respon...\n",
       "523048                10  first_review, last_review, review_scores_ratin...\n",
       "523221                13  bathrooms, beds, price, first_review, last_rev...\n",
       "531903                10  first_review, last_review, review_scores_ratin...\n",
       "1190641               13  host_response_time, host_response_rate, host_a...\n",
       "...                  ...                                                ...\n",
       "1178237255401102369   10  first_review, last_review, review_scores_ratin...\n",
       "1178241933628166985   13  host_response_time, host_response_rate, host_a...\n",
       "1178285228892794868   10  first_review, last_review, review_scores_ratin...\n",
       "1178322393649515459   10  first_review, last_review, review_scores_ratin...\n",
       "1178844683571679752   10  first_review, last_review, review_scores_ratin...\n",
       "\n",
       "[14699 rows x 2 columns]"
      ],
      "text/html": [
       "<div>\n",
       "<style scoped>\n",
       "    .dataframe tbody tr th:only-of-type {\n",
       "        vertical-align: middle;\n",
       "    }\n",
       "\n",
       "    .dataframe tbody tr th {\n",
       "        vertical-align: top;\n",
       "    }\n",
       "\n",
       "    .dataframe thead th {\n",
       "        text-align: right;\n",
       "    }\n",
       "</style>\n",
       "<table border=\"1\" class=\"dataframe\">\n",
       "  <thead>\n",
       "    <tr style=\"text-align: right;\">\n",
       "      <th></th>\n",
       "      <th>NAs</th>\n",
       "      <th>Columns_with_NAs</th>\n",
       "    </tr>\n",
       "    <tr>\n",
       "      <th>id</th>\n",
       "      <th></th>\n",
       "      <th></th>\n",
       "    </tr>\n",
       "  </thead>\n",
       "  <tbody>\n",
       "    <tr>\n",
       "      <th>482422</th>\n",
       "      <td>13</td>\n",
       "      <td>host_location, host_response_time, host_respon...</td>\n",
       "    </tr>\n",
       "    <tr>\n",
       "      <th>523048</th>\n",
       "      <td>10</td>\n",
       "      <td>first_review, last_review, review_scores_ratin...</td>\n",
       "    </tr>\n",
       "    <tr>\n",
       "      <th>523221</th>\n",
       "      <td>13</td>\n",
       "      <td>bathrooms, beds, price, first_review, last_rev...</td>\n",
       "    </tr>\n",
       "    <tr>\n",
       "      <th>531903</th>\n",
       "      <td>10</td>\n",
       "      <td>first_review, last_review, review_scores_ratin...</td>\n",
       "    </tr>\n",
       "    <tr>\n",
       "      <th>1190641</th>\n",
       "      <td>13</td>\n",
       "      <td>host_response_time, host_response_rate, host_a...</td>\n",
       "    </tr>\n",
       "    <tr>\n",
       "      <th>...</th>\n",
       "      <td>...</td>\n",
       "      <td>...</td>\n",
       "    </tr>\n",
       "    <tr>\n",
       "      <th>1178237255401102369</th>\n",
       "      <td>10</td>\n",
       "      <td>first_review, last_review, review_scores_ratin...</td>\n",
       "    </tr>\n",
       "    <tr>\n",
       "      <th>1178241933628166985</th>\n",
       "      <td>13</td>\n",
       "      <td>host_response_time, host_response_rate, host_a...</td>\n",
       "    </tr>\n",
       "    <tr>\n",
       "      <th>1178285228892794868</th>\n",
       "      <td>10</td>\n",
       "      <td>first_review, last_review, review_scores_ratin...</td>\n",
       "    </tr>\n",
       "    <tr>\n",
       "      <th>1178322393649515459</th>\n",
       "      <td>10</td>\n",
       "      <td>first_review, last_review, review_scores_ratin...</td>\n",
       "    </tr>\n",
       "    <tr>\n",
       "      <th>1178844683571679752</th>\n",
       "      <td>10</td>\n",
       "      <td>first_review, last_review, review_scores_ratin...</td>\n",
       "    </tr>\n",
       "  </tbody>\n",
       "</table>\n",
       "<p>14699 rows × 2 columns</p>\n",
       "</div>"
      ]
     },
     "execution_count": 7,
     "metadata": {},
     "output_type": "execute_result"
    }
   ],
   "execution_count": 7
  },
  {
   "metadata": {
    "ExecuteTime": {
     "end_time": "2024-08-13T15:07:06.553353Z",
     "start_time": "2024-08-13T15:07:06.512809Z"
    }
   },
   "cell_type": "code",
   "source": [
    "more_than_7_missing = df_nas_columns.loc[df_nas_columns[\"NAs\"]>7, :].index.tolist()\n",
    "df.drop(more_than_7_missing, inplace=True)\n",
    "df.shape"
   ],
   "id": "d31d2defc3e2ac46",
   "outputs": [
    {
     "data": {
      "text/plain": [
       "(81316, 39)"
      ]
     },
     "execution_count": 8,
     "metadata": {},
     "output_type": "execute_result"
    }
   ],
   "execution_count": 8
  },
  {
   "metadata": {},
   "cell_type": "markdown",
   "source": "# Handling amenities",
   "id": "805e8968060d059f"
  },
  {
   "metadata": {
    "ExecuteTime": {
     "end_time": "2024-08-13T15:07:07.643022Z",
     "start_time": "2024-08-13T15:07:06.555613Z"
    }
   },
   "cell_type": "code",
   "source": [
    "amenities_lists = df[\"amenities\"].tolist()\n",
    "\n",
    "amenities_counter = {}\n",
    "\n",
    "for el in amenities_lists:\n",
    "    for e in el.strip('][').split(', '):\n",
    "        try:\n",
    "            amenities_counter[e.strip('\"')] += 1\n",
    "        except:\n",
    "            amenities_counter[e.strip('\"')] = 1\n",
    "\n",
    "amenities_counter = dict(sorted(amenities_counter.items(), key=lambda item: item[1], reverse=True))\n"
   ],
   "id": "6c9edd4107a9b181",
   "outputs": [],
   "execution_count": 9
  },
  {
   "metadata": {},
   "cell_type": "markdown",
   "source": "## Remapping amenities in smaller dictionary",
   "id": "2785616ca5564c90"
  },
  {
   "metadata": {
    "ExecuteTime": {
     "end_time": "2024-08-13T15:07:07.646391Z",
     "start_time": "2024-08-13T15:07:07.644233Z"
    }
   },
   "cell_type": "code",
   "source": "amenities_remapping = {}\n",
   "id": "d3de96c8a30559f9",
   "outputs": [],
   "execution_count": 10
  },
  {
   "metadata": {},
   "cell_type": "markdown",
   "source": "### technology",
   "id": "af192ea0ee262050"
  },
  {
   "metadata": {
    "ExecuteTime": {
     "end_time": "2024-08-13T15:07:07.677341Z",
     "start_time": "2024-08-13T15:07:07.647348Z"
    }
   },
   "cell_type": "code",
   "source": [
    "pattern = r'\\b(wifi|internet|ethernet|cable|fibra|dolby|smart|connection|tv|television|netflix|amazon|disney)\\b'\n",
    "regex = re.compile(pattern, re.IGNORECASE)\n",
    "\n",
    "for am in list(amenities_counter.keys()):\n",
    "    if regex.search(am):\n",
    "        amenities_remapping[am] = \"technology\""
   ],
   "id": "e75cc4403e6fbfc5",
   "outputs": [],
   "execution_count": 11
  },
  {
   "metadata": {},
   "cell_type": "markdown",
   "source": "### kitchen",
   "id": "411a89234e490b1e"
  },
  {
   "metadata": {
    "ExecuteTime": {
     "end_time": "2024-08-13T15:07:07.703606Z",
     "start_time": "2024-08-13T15:07:07.678371Z"
    }
   },
   "cell_type": "code",
   "source": [
    "pattern = r'\\b(kitchen|cooking|grill|cucina|refrigerator|fridge|oven|stove|dish|coffee|espresso|lavazza|dining|breakfast|microonde|microwave|washer|freezer|glasses|toast|baking)\\b'\n",
    "regex = re.compile(pattern, re.IGNORECASE)\n",
    "\n",
    "for am in list(amenities_counter.keys()):\n",
    "    if regex.search(am):\n",
    "        amenities_remapping[am] = \"kitchen\""
   ],
   "id": "22db4b60109a08a3",
   "outputs": [],
   "execution_count": 12
  },
  {
   "metadata": {},
   "cell_type": "markdown",
   "source": "### toiletry",
   "id": "d0af64937e482260"
  },
  {
   "metadata": {
    "ExecuteTime": {
     "end_time": "2024-08-13T15:07:07.728704Z",
     "start_time": "2024-08-13T15:07:07.704847Z"
    }
   },
   "cell_type": "code",
   "source": [
    "pattern = r'\\b(hair|capelli|soap|sapone|bidet|shampoo|bathtub|gel|laundry|closet|pillow|blanket|shower)\\b'\n",
    "regex = re.compile(pattern, re.IGNORECASE)\n",
    "\n",
    "for am in list(amenities_counter.keys()):\n",
    "    if regex.search(am):\n",
    "        amenities_remapping[am] = \"toiletry\""
   ],
   "id": "133a9ea7c8b11823",
   "outputs": [],
   "execution_count": 13
  },
  {
   "metadata": {},
   "cell_type": "markdown",
   "source": "### AC/heating",
   "id": "c2396364177690d4"
  },
  {
   "metadata": {
    "ExecuteTime": {
     "end_time": "2024-08-13T15:07:07.745605Z",
     "start_time": "2024-08-13T15:07:07.729816Z"
    }
   },
   "cell_type": "code",
   "source": [
    "pattern = r'\\b(heating|ac|air|conditioning|fan)\\b'\n",
    "regex = re.compile(pattern, re.IGNORECASE)\n",
    "\n",
    "for am in list(amenities_counter.keys()):\n",
    "    if regex.search(am):\n",
    "        amenities_remapping[am] = \"AC/heating\""
   ],
   "id": "bad86ac55dea7e52",
   "outputs": [],
   "execution_count": 14
  },
  {
   "metadata": {},
   "cell_type": "markdown",
   "source": "### benefits",
   "id": "cd57470ebf5bbdc2"
  },
  {
   "metadata": {
    "ExecuteTime": {
     "end_time": "2024-08-13T15:07:07.774634Z",
     "start_time": "2024-08-13T15:07:07.746930Z"
    }
   },
   "cell_type": "code",
   "source": [
    "pattern = r'\\b(garden|backyard|skyline|beach|gym|fitness|view|outdoor|balcony|waterfront|bed linen|workspace|aid|luggage|elevator|free|safe|lock|security|bike|estinguisher)\\b'\n",
    "regex = re.compile(pattern, re.IGNORECASE)\n",
    "\n",
    "for am in list(amenities_counter.keys()):\n",
    "    if regex.search(am):\n",
    "        amenities_remapping[am] = \"benefits\""
   ],
   "id": "9c5491b5ed25b9bd",
   "outputs": [],
   "execution_count": 15
  },
  {
   "metadata": {},
   "cell_type": "markdown",
   "source": "### other",
   "id": "afd8ed082131b865"
  },
  {
   "metadata": {
    "ExecuteTime": {
     "end_time": "2024-08-13T15:07:07.832036Z",
     "start_time": "2024-08-13T15:07:07.775906Z"
    }
   },
   "cell_type": "code",
   "source": [
    "pattern = r'\\b(wifi|internet|ethernet|cable|fibra|dolby|smart|connection|tv|television|netflix|amazon|disney|kitchen|cooking|grill|cucina|refrigerator#|fridge|oven|stove|dish|coffee|espresso|lavazza|dining|breakfast|microonde|microwave|washer|freezer|glasses|toast|baking|hair|capelli|soap|sapone|bidet#|shampoo|bathtub|gel|laundry|closet|pillow|blanket|showers|heating|ac|air|conditioning|fan|garden|backyard|skyline|beach|gym|fitness|view|outdoor#|balcony|waterfront|bed linen|workspace|aid|luggage|elevator|free|safe|lock|security|bike)\\b'\n",
    "\n",
    "regex = re.compile(pattern, re.IGNORECASE)\n",
    "\n",
    "for am in list(amenities_counter.keys()):\n",
    "    if not regex.search(am):\n",
    "        amenities_remapping[am] = \"other\""
   ],
   "id": "a67c5447162503e6",
   "outputs": [],
   "execution_count": 16
  },
  {
   "metadata": {},
   "cell_type": "markdown",
   "source": "## Remapping amenities in dataframe",
   "id": "9b5a25816c423297"
  },
  {
   "metadata": {
    "ExecuteTime": {
     "end_time": "2024-08-13T15:07:33.752004Z",
     "start_time": "2024-08-13T15:07:07.833177Z"
    }
   },
   "cell_type": "code",
   "source": [
    "def unwrap_remap_amenities(value):\n",
    "    element = [e.strip('\"') for e in value.strip('][').split(', ')]\n",
    "    remapped_amenities = (pd.Series(element)).map(amenities_remapping)\n",
    "    return remapped_amenities.tolist()\n",
    "\n",
    "df[\"amenities\"] = df[\"amenities\"].parallel_apply(unwrap_remap_amenities)"
   ],
   "id": "1925b7dba6d903c9",
   "outputs": [
    {
     "data": {
      "text/plain": [
       "VBox(children=(HBox(children=(IntProgress(value=0, description='0.00%', max=20329), Label(value='0 / 20329')))…"
      ],
      "application/vnd.jupyter.widget-view+json": {
       "version_major": 2,
       "version_minor": 0,
       "model_id": "c96461d39c564012bacc52b7e9e35173"
      }
     },
     "metadata": {},
     "output_type": "display_data"
    }
   ],
   "execution_count": 17
  },
  {
   "metadata": {
    "ExecuteTime": {
     "end_time": "2024-08-13T15:08:22.832998Z",
     "start_time": "2024-08-13T15:07:33.753036Z"
    }
   },
   "cell_type": "code",
   "source": [
    "def return_amenity_counter(row):\n",
    "    amenities = [\"AC/heating\", \"technology\", \"kitchen\", \"benefits\", \"toiletry\", \"other\"]\n",
    "    counts = {amenity: row[\"amenities\"].count(amenity) for amenity in amenities}\n",
    "    for amenity, count in counts.items():\n",
    "        row[f'amenities_{amenity}'] = count\n",
    "    return row\n",
    "\n",
    "df = df.parallel_apply(return_amenity_counter, axis=1)\n"
   ],
   "id": "dc8f40d6fcc02d6b",
   "outputs": [
    {
     "data": {
      "text/plain": [
       "VBox(children=(HBox(children=(IntProgress(value=0, description='0.00%', max=20329), Label(value='0 / 20329')))…"
      ],
      "application/vnd.jupyter.widget-view+json": {
       "version_major": 2,
       "version_minor": 0,
       "model_id": "8783bdd3b9f0412fabf6274d53bf13fc"
      }
     },
     "metadata": {},
     "output_type": "display_data"
    }
   ],
   "execution_count": 18
  },
  {
   "metadata": {},
   "cell_type": "markdown",
   "source": "## Manage Property type",
   "id": "761d74969a3bec06"
  },
  {
   "metadata": {
    "ExecuteTime": {
     "end_time": "2024-08-13T15:18:37.538957Z",
     "start_time": "2024-08-13T15:18:37.536476Z"
    }
   },
   "cell_type": "code",
   "source": "property_type_list = df[\"property_type\"].tolist()",
   "id": "fb5a4760b6db14bf",
   "outputs": [],
   "execution_count": 32
  },
  {
   "metadata": {
    "ExecuteTime": {
     "end_time": "2024-08-13T15:19:09.310030Z",
     "start_time": "2024-08-13T15:18:39.166545Z"
    }
   },
   "cell_type": "code",
   "source": "properties_frequencies = {x:property_type_list.count(x) for x in property_type_list}",
   "id": "7312e90f6a2952ed",
   "outputs": [],
   "execution_count": 33
  },
  {
   "metadata": {
    "ExecuteTime": {
     "end_time": "2024-08-13T15:19:09.314237Z",
     "start_time": "2024-08-13T15:19:09.311394Z"
    }
   },
   "cell_type": "code",
   "source": "properties_frequencies",
   "id": "a1d813ee21318b03",
   "outputs": [
    {
     "data": {
      "text/plain": [
       "{'private_room': 15419,\n",
       " 'entire_property': 64767,\n",
       " 'other': 743,\n",
       " 'shared_room': 387}"
      ]
     },
     "execution_count": 34,
     "metadata": {},
     "output_type": "execute_result"
    }
   ],
   "execution_count": 34
  },
  {
   "metadata": {
    "ExecuteTime": {
     "end_time": "2024-08-13T15:09:33.359683Z",
     "start_time": "2024-08-13T15:09:33.344170Z"
    }
   },
   "cell_type": "code",
   "source": "property_type_remapping = {}",
   "id": "a892ec9954314e69",
   "outputs": [],
   "execution_count": 22
  },
  {
   "metadata": {},
   "cell_type": "markdown",
   "source": "### Entire property",
   "id": "baaf58174078427a"
  },
  {
   "metadata": {
    "ExecuteTime": {
     "end_time": "2024-08-13T15:09:33.368465Z",
     "start_time": "2024-08-13T15:09:33.360427Z"
    }
   },
   "cell_type": "code",
   "source": [
    "pattern = r'\\b(entire|tiny home)\\b'\n",
    "regex = re.compile(pattern, re.IGNORECASE)\n",
    "\n",
    "for am in list(properties_frequencies.keys()):\n",
    "    if regex.search(am):\n",
    "        property_type_remapping[am] = \"entire_property\""
   ],
   "id": "ceaae82e4a3630b",
   "outputs": [],
   "execution_count": 23
  },
  {
   "metadata": {},
   "cell_type": "markdown",
   "source": "### Private room",
   "id": "dfac6ea4391cfb58"
  },
  {
   "metadata": {
    "ExecuteTime": {
     "end_time": "2024-08-13T15:09:33.377013Z",
     "start_time": "2024-08-13T15:09:33.370698Z"
    }
   },
   "cell_type": "code",
   "source": [
    "pattern = r'\\b(private room|room in serviced apartment|room in bed and breakfast|room in hotel|room in resort)\\b'\n",
    "regex = re.compile(pattern, re.IGNORECASE)\n",
    "\n",
    "for am in list(properties_frequencies.keys()):\n",
    "    if regex.search(am):\n",
    "        property_type_remapping[am] = \"private_room\"\n"
   ],
   "id": "f5042eb40b8d4775",
   "outputs": [],
   "execution_count": 24
  },
  {
   "metadata": {},
   "cell_type": "markdown",
   "source": "### Shared room",
   "id": "4b94bb8f9ffe41ab"
  },
  {
   "metadata": {
    "ExecuteTime": {
     "end_time": "2024-08-13T15:09:33.385586Z",
     "start_time": "2024-08-13T15:09:33.377740Z"
    }
   },
   "cell_type": "code",
   "source": [
    "pattern = r'\\b(shared room|shared)\\b'\n",
    "regex = re.compile(pattern, re.IGNORECASE)\n",
    "\n",
    "for am in list(properties_frequencies.keys()):\n",
    "    if regex.search(am):\n",
    "        property_type_remapping[am] = \"shared_room\"\n",
    "\n"
   ],
   "id": "f2d2024ae19fd19e",
   "outputs": [],
   "execution_count": 25
  },
  {
   "metadata": {},
   "cell_type": "markdown",
   "source": "### Other",
   "id": "5afcd4b2e7df8170"
  },
  {
   "metadata": {
    "ExecuteTime": {
     "end_time": "2024-08-13T15:09:33.394203Z",
     "start_time": "2024-08-13T15:09:33.386359Z"
    }
   },
   "cell_type": "code",
   "source": [
    "pattern = r'\\b(entire|tiny home|private room|room in serviced apartment|room in bed and breakfast|room in hotel|room in resort|shared room|shared)\\b'\n",
    "regex = re.compile(pattern, re.IGNORECASE)\n",
    "\n",
    "for am in list(properties_frequencies.keys()):\n",
    "    if not regex.search(am):\n",
    "        property_type_remapping[am] = \"other\""
   ],
   "id": "a1ad4450693396",
   "outputs": [],
   "execution_count": 26
  },
  {
   "metadata": {
    "ExecuteTime": {
     "end_time": "2024-08-13T15:13:46.754571Z",
     "start_time": "2024-08-13T15:13:46.749545Z"
    }
   },
   "cell_type": "code",
   "source": "df[\"property_type\"] = df['property_type'].map(property_type_remapping)",
   "id": "52c16054c7a8ab80",
   "outputs": [],
   "execution_count": 30
  },
  {
   "metadata": {
    "ExecuteTime": {
     "end_time": "2024-08-13T15:13:52.312441Z",
     "start_time": "2024-08-13T15:13:52.301957Z"
    }
   },
   "cell_type": "code",
   "source": "df.head()",
   "id": "443fb4bc260e14f5",
   "outputs": [
    {
     "data": {
      "text/plain": [
       "        host_id  host_since    host_location  host_response_time  \\\n",
       "id                                                                 \n",
       "31840    380378  2011-02-07  Florence, Italy      within an hour   \n",
       "32120     99235  2010-03-26  Florence, Italy      within an hour   \n",
       "32180  13925330  2014-04-05  Florence, Italy        within a day   \n",
       "39115    167739  2010-07-15  Florence, Italy  within a few hours   \n",
       "39165    167739  2010-07-15  Florence, Italy  within a few hours   \n",
       "\n",
       "      host_response_rate host_acceptance_rate host_is_superhost  \\\n",
       "id                                                                \n",
       "31840               100%                 100%                 f   \n",
       "32120               100%                  50%                 f   \n",
       "32180               100%                  67%                 t   \n",
       "39115               100%                  62%                 f   \n",
       "39165               100%                  62%                 f   \n",
       "\n",
       "       host_listings_count  host_total_listings_count  \\\n",
       "id                                                      \n",
       "31840                   39                         41   \n",
       "32120                    1                          1   \n",
       "32180                    1                          1   \n",
       "39115                   10                         12   \n",
       "39165                   10                         12   \n",
       "\n",
       "                     host_verifications  ... review_scores_value  \\\n",
       "id                                       ...                       \n",
       "31840  ['email', 'phone', 'work_email']  ...                   5   \n",
       "32120                ['email', 'phone']  ...                   5   \n",
       "32180                ['email', 'phone']  ...                   5   \n",
       "39115  ['email', 'phone', 'work_email']  ...                   5   \n",
       "39165  ['email', 'phone', 'work_email']  ...                   4   \n",
       "\n",
       "      reviews_per_month listing_city  listing_city_pop  amenities_AC/heating  \\\n",
       "id                                                                             \n",
       "31840                 1     Florence            367150                     2   \n",
       "32120                 0  Ponte a Ema              8412                     2   \n",
       "32180                 0     Florence            367150                     1   \n",
       "39115                 0     Florence            367150                     2   \n",
       "39165                 0     Florence            367150                     2   \n",
       "\n",
       "      amenities_technology amenities_kitchen  amenities_benefits  \\\n",
       "id                                                                 \n",
       "31840                    2                 5                   2   \n",
       "32120                    2                 1                   0   \n",
       "32180                    2                 6                   0   \n",
       "39115                    3                 0                   5   \n",
       "39165                    3                 0                   4   \n",
       "\n",
       "       amenities_toiletry amenities_other  \n",
       "id                                         \n",
       "31840                   3              14  \n",
       "32120                   0               2  \n",
       "32180                   1              10  \n",
       "39115                   5              10  \n",
       "39165                   5              12  \n",
       "\n",
       "[5 rows x 45 columns]"
      ],
      "text/html": [
       "<div>\n",
       "<style scoped>\n",
       "    .dataframe tbody tr th:only-of-type {\n",
       "        vertical-align: middle;\n",
       "    }\n",
       "\n",
       "    .dataframe tbody tr th {\n",
       "        vertical-align: top;\n",
       "    }\n",
       "\n",
       "    .dataframe thead th {\n",
       "        text-align: right;\n",
       "    }\n",
       "</style>\n",
       "<table border=\"1\" class=\"dataframe\">\n",
       "  <thead>\n",
       "    <tr style=\"text-align: right;\">\n",
       "      <th></th>\n",
       "      <th>host_id</th>\n",
       "      <th>host_since</th>\n",
       "      <th>host_location</th>\n",
       "      <th>host_response_time</th>\n",
       "      <th>host_response_rate</th>\n",
       "      <th>host_acceptance_rate</th>\n",
       "      <th>host_is_superhost</th>\n",
       "      <th>host_listings_count</th>\n",
       "      <th>host_total_listings_count</th>\n",
       "      <th>host_verifications</th>\n",
       "      <th>...</th>\n",
       "      <th>review_scores_value</th>\n",
       "      <th>reviews_per_month</th>\n",
       "      <th>listing_city</th>\n",
       "      <th>listing_city_pop</th>\n",
       "      <th>amenities_AC/heating</th>\n",
       "      <th>amenities_technology</th>\n",
       "      <th>amenities_kitchen</th>\n",
       "      <th>amenities_benefits</th>\n",
       "      <th>amenities_toiletry</th>\n",
       "      <th>amenities_other</th>\n",
       "    </tr>\n",
       "    <tr>\n",
       "      <th>id</th>\n",
       "      <th></th>\n",
       "      <th></th>\n",
       "      <th></th>\n",
       "      <th></th>\n",
       "      <th></th>\n",
       "      <th></th>\n",
       "      <th></th>\n",
       "      <th></th>\n",
       "      <th></th>\n",
       "      <th></th>\n",
       "      <th></th>\n",
       "      <th></th>\n",
       "      <th></th>\n",
       "      <th></th>\n",
       "      <th></th>\n",
       "      <th></th>\n",
       "      <th></th>\n",
       "      <th></th>\n",
       "      <th></th>\n",
       "      <th></th>\n",
       "      <th></th>\n",
       "    </tr>\n",
       "  </thead>\n",
       "  <tbody>\n",
       "    <tr>\n",
       "      <th>31840</th>\n",
       "      <td>380378</td>\n",
       "      <td>2011-02-07</td>\n",
       "      <td>Florence, Italy</td>\n",
       "      <td>within an hour</td>\n",
       "      <td>100%</td>\n",
       "      <td>100%</td>\n",
       "      <td>f</td>\n",
       "      <td>39</td>\n",
       "      <td>41</td>\n",
       "      <td>['email', 'phone', 'work_email']</td>\n",
       "      <td>...</td>\n",
       "      <td>5</td>\n",
       "      <td>1</td>\n",
       "      <td>Florence</td>\n",
       "      <td>367150</td>\n",
       "      <td>2</td>\n",
       "      <td>2</td>\n",
       "      <td>5</td>\n",
       "      <td>2</td>\n",
       "      <td>3</td>\n",
       "      <td>14</td>\n",
       "    </tr>\n",
       "    <tr>\n",
       "      <th>32120</th>\n",
       "      <td>99235</td>\n",
       "      <td>2010-03-26</td>\n",
       "      <td>Florence, Italy</td>\n",
       "      <td>within an hour</td>\n",
       "      <td>100%</td>\n",
       "      <td>50%</td>\n",
       "      <td>f</td>\n",
       "      <td>1</td>\n",
       "      <td>1</td>\n",
       "      <td>['email', 'phone']</td>\n",
       "      <td>...</td>\n",
       "      <td>5</td>\n",
       "      <td>0</td>\n",
       "      <td>Ponte a Ema</td>\n",
       "      <td>8412</td>\n",
       "      <td>2</td>\n",
       "      <td>2</td>\n",
       "      <td>1</td>\n",
       "      <td>0</td>\n",
       "      <td>0</td>\n",
       "      <td>2</td>\n",
       "    </tr>\n",
       "    <tr>\n",
       "      <th>32180</th>\n",
       "      <td>13925330</td>\n",
       "      <td>2014-04-05</td>\n",
       "      <td>Florence, Italy</td>\n",
       "      <td>within a day</td>\n",
       "      <td>100%</td>\n",
       "      <td>67%</td>\n",
       "      <td>t</td>\n",
       "      <td>1</td>\n",
       "      <td>1</td>\n",
       "      <td>['email', 'phone']</td>\n",
       "      <td>...</td>\n",
       "      <td>5</td>\n",
       "      <td>0</td>\n",
       "      <td>Florence</td>\n",
       "      <td>367150</td>\n",
       "      <td>1</td>\n",
       "      <td>2</td>\n",
       "      <td>6</td>\n",
       "      <td>0</td>\n",
       "      <td>1</td>\n",
       "      <td>10</td>\n",
       "    </tr>\n",
       "    <tr>\n",
       "      <th>39115</th>\n",
       "      <td>167739</td>\n",
       "      <td>2010-07-15</td>\n",
       "      <td>Florence, Italy</td>\n",
       "      <td>within a few hours</td>\n",
       "      <td>100%</td>\n",
       "      <td>62%</td>\n",
       "      <td>f</td>\n",
       "      <td>10</td>\n",
       "      <td>12</td>\n",
       "      <td>['email', 'phone', 'work_email']</td>\n",
       "      <td>...</td>\n",
       "      <td>5</td>\n",
       "      <td>0</td>\n",
       "      <td>Florence</td>\n",
       "      <td>367150</td>\n",
       "      <td>2</td>\n",
       "      <td>3</td>\n",
       "      <td>0</td>\n",
       "      <td>5</td>\n",
       "      <td>5</td>\n",
       "      <td>10</td>\n",
       "    </tr>\n",
       "    <tr>\n",
       "      <th>39165</th>\n",
       "      <td>167739</td>\n",
       "      <td>2010-07-15</td>\n",
       "      <td>Florence, Italy</td>\n",
       "      <td>within a few hours</td>\n",
       "      <td>100%</td>\n",
       "      <td>62%</td>\n",
       "      <td>f</td>\n",
       "      <td>10</td>\n",
       "      <td>12</td>\n",
       "      <td>['email', 'phone', 'work_email']</td>\n",
       "      <td>...</td>\n",
       "      <td>4</td>\n",
       "      <td>0</td>\n",
       "      <td>Florence</td>\n",
       "      <td>367150</td>\n",
       "      <td>2</td>\n",
       "      <td>3</td>\n",
       "      <td>0</td>\n",
       "      <td>4</td>\n",
       "      <td>5</td>\n",
       "      <td>12</td>\n",
       "    </tr>\n",
       "  </tbody>\n",
       "</table>\n",
       "<p>5 rows × 45 columns</p>\n",
       "</div>"
      ]
     },
     "execution_count": 31,
     "metadata": {},
     "output_type": "execute_result"
    }
   ],
   "execution_count": 31
  },
  {
   "metadata": {},
   "cell_type": "markdown",
   "source": "## Fill Host Locations NAs with the values from the same HostID or same listing city",
   "id": "5b1645c8f8bfdb2e"
  },
  {
   "metadata": {},
   "cell_type": "code",
   "source": [
    "def fill_host_location(row):\n",
    "    if pd.isna(row[\"host_location\"]):\n",
    "        row[\"host_location\"] = row[\"listing_city\"]+\", Italy\"\n",
    "    return row\n",
    "\n",
    "df = df.parallel_apply(fill_host_location, axis=1)"
   ],
   "id": "9d253fd6f4535602",
   "outputs": [],
   "execution_count": null
  },
  {
   "metadata": {},
   "cell_type": "code",
   "source": "df.head()",
   "id": "2c7a46729782c355",
   "outputs": [],
   "execution_count": null
  }
 ],
 "metadata": {
  "kernelspec": {
   "display_name": "Python 3",
   "language": "python",
   "name": "python3"
  },
  "language_info": {
   "codemirror_mode": {
    "name": "ipython",
    "version": 2
   },
   "file_extension": ".py",
   "mimetype": "text/x-python",
   "name": "python",
   "nbconvert_exporter": "python",
   "pygments_lexer": "ipython2",
   "version": "2.7.6"
  }
 },
 "nbformat": 4,
 "nbformat_minor": 5
}
