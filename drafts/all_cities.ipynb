{
 "cells": [
  {
   "cell_type": "code",
   "id": "initial_id",
   "metadata": {
    "collapsed": true,
    "ExecuteTime": {
     "end_time": "2024-08-11T14:28:15.425689Z",
     "start_time": "2024-08-11T14:28:15.006382Z"
    }
   },
   "source": [
    "from tqdm.notebook import tqdm\n",
    "import pandas as pd\n",
    "import os\n",
    "import re\n",
    "from pandarallel import pandarallel\n",
    "import reverse_geocode\n",
    "\n",
    "\n",
    "pandarallel.initialize(progress_bar=True)\n",
    "tqdm.pandas()"
   ],
   "execution_count": 1,
   "outputs": [
    {
     "name": "stdout",
     "output_type": "stream",
     "text": [
      "INFO: Pandarallel will run on 4 workers.\n",
      "INFO: Pandarallel will use Memory file system to transfer data between the main process and workers.\n"
     ]
    }
   ]
  },
  {
   "metadata": {
    "ExecuteTime": {
     "end_time": "2024-08-11T14:28:17.071298Z",
     "start_time": "2024-08-11T14:28:15.427255Z"
    }
   },
   "cell_type": "code",
   "source": [
    "datasets = {}\n",
    "\n",
    "for file in os.listdir(\"../data/all_cities\"):\n",
    "    pattern = r'_(\\w{2})'\n",
    "    match = re.search(pattern, file)\n",
    "    result = match.group(1)\n",
    "    datasets[f\"df_{result}\"] = pd.read_csv(f\"../data/all_cities/{file}\")\n",
    "df = pd.concat([value for key, value in datasets.items()], ignore_index=True)\n",
    "\n",
    "df.shape"
   ],
   "id": "544c0a4dac4c8a8b",
   "outputs": [
    {
     "data": {
      "text/plain": [
       "(96015, 75)"
      ]
     },
     "execution_count": 2,
     "metadata": {},
     "output_type": "execute_result"
    }
   ],
   "execution_count": 2
  },
  {
   "metadata": {},
   "cell_type": "markdown",
   "source": "# Retrieving location from coordinates\n",
   "id": "1f789bbf38024f31"
  },
  {
   "metadata": {
    "ExecuteTime": {
     "end_time": "2024-08-11T14:28:40.498210Z",
     "start_time": "2024-08-11T14:28:17.072364Z"
    }
   },
   "cell_type": "code",
   "source": [
    "def retrieve_city(row):\n",
    "    coords = (row[\"latitude\"], row['longitude'])\n",
    "    row[\"listing_city\"] = reverse_geocode.get(coords)[\"city\"]\n",
    "    row[\"listing_city_pop\"] = reverse_geocode.get(coords)[\"population\"]\n",
    "    return row\n",
    "\n",
    "df = df.parallel_apply(retrieve_city, axis=1)"
   ],
   "id": "3cd4c6ce9d43af1",
   "outputs": [
    {
     "data": {
      "text/plain": [
       "VBox(children=(HBox(children=(IntProgress(value=0, description='0.00%', max=24004), Label(value='0 / 24004')))…"
      ],
      "application/vnd.jupyter.widget-view+json": {
       "version_major": 2,
       "version_minor": 0,
       "model_id": "5ed05b0544374c649f686a782fe8602a"
      }
     },
     "metadata": {},
     "output_type": "display_data"
    }
   ],
   "execution_count": 3
  },
  {
   "metadata": {
    "ExecuteTime": {
     "end_time": "2024-08-11T14:28:40.629823Z",
     "start_time": "2024-08-11T14:28:40.499625Z"
    }
   },
   "cell_type": "code",
   "source": [
    "sep_nas = pd.DataFrame(df.isnull().sum(), columns=[\"NAs\"])\n",
    "sep_nas.loc[sep_nas[\"NAs\"] > 0, :]"
   ],
   "id": "b446e44545f842fe",
   "outputs": [
    {
     "data": {
      "text/plain": [
       "                                NAs\n",
       "description                    2861\n",
       "neighborhood_overview         41432\n",
       "host_name                         1\n",
       "host_since                        1\n",
       "host_location                 22088\n",
       "host_about                    48562\n",
       "host_response_time            11774\n",
       "host_response_rate            11774\n",
       "host_acceptance_rate           7630\n",
       "host_is_superhost              2182\n",
       "host_thumbnail_url                1\n",
       "host_picture_url                  1\n",
       "host_neighbourhood            62545\n",
       "host_listings_count               1\n",
       "host_total_listings_count         1\n",
       "host_verifications                1\n",
       "host_has_profile_pic              1\n",
       "host_identity_verified            1\n",
       "neighbourhood                 41432\n",
       "neighbourhood_group_cleansed  87905\n",
       "bathrooms                      6853\n",
       "bathrooms_text                  101\n",
       "bedrooms                       1368\n",
       "beds                           7069\n",
       "price                          6826\n",
       "calendar_updated              96015\n",
       "has_availability                938\n",
       "first_review                  14639\n",
       "last_review                   14639\n",
       "review_scores_rating          14639\n",
       "review_scores_accuracy        14702\n",
       "review_scores_cleanliness     14700\n",
       "review_scores_checkin         14703\n",
       "review_scores_communication   14699\n",
       "review_scores_location        14706\n",
       "review_scores_value           14705\n",
       "license                       66400\n",
       "reviews_per_month             14639"
      ],
      "text/html": [
       "<div>\n",
       "<style scoped>\n",
       "    .dataframe tbody tr th:only-of-type {\n",
       "        vertical-align: middle;\n",
       "    }\n",
       "\n",
       "    .dataframe tbody tr th {\n",
       "        vertical-align: top;\n",
       "    }\n",
       "\n",
       "    .dataframe thead th {\n",
       "        text-align: right;\n",
       "    }\n",
       "</style>\n",
       "<table border=\"1\" class=\"dataframe\">\n",
       "  <thead>\n",
       "    <tr style=\"text-align: right;\">\n",
       "      <th></th>\n",
       "      <th>NAs</th>\n",
       "    </tr>\n",
       "  </thead>\n",
       "  <tbody>\n",
       "    <tr>\n",
       "      <th>description</th>\n",
       "      <td>2861</td>\n",
       "    </tr>\n",
       "    <tr>\n",
       "      <th>neighborhood_overview</th>\n",
       "      <td>41432</td>\n",
       "    </tr>\n",
       "    <tr>\n",
       "      <th>host_name</th>\n",
       "      <td>1</td>\n",
       "    </tr>\n",
       "    <tr>\n",
       "      <th>host_since</th>\n",
       "      <td>1</td>\n",
       "    </tr>\n",
       "    <tr>\n",
       "      <th>host_location</th>\n",
       "      <td>22088</td>\n",
       "    </tr>\n",
       "    <tr>\n",
       "      <th>host_about</th>\n",
       "      <td>48562</td>\n",
       "    </tr>\n",
       "    <tr>\n",
       "      <th>host_response_time</th>\n",
       "      <td>11774</td>\n",
       "    </tr>\n",
       "    <tr>\n",
       "      <th>host_response_rate</th>\n",
       "      <td>11774</td>\n",
       "    </tr>\n",
       "    <tr>\n",
       "      <th>host_acceptance_rate</th>\n",
       "      <td>7630</td>\n",
       "    </tr>\n",
       "    <tr>\n",
       "      <th>host_is_superhost</th>\n",
       "      <td>2182</td>\n",
       "    </tr>\n",
       "    <tr>\n",
       "      <th>host_thumbnail_url</th>\n",
       "      <td>1</td>\n",
       "    </tr>\n",
       "    <tr>\n",
       "      <th>host_picture_url</th>\n",
       "      <td>1</td>\n",
       "    </tr>\n",
       "    <tr>\n",
       "      <th>host_neighbourhood</th>\n",
       "      <td>62545</td>\n",
       "    </tr>\n",
       "    <tr>\n",
       "      <th>host_listings_count</th>\n",
       "      <td>1</td>\n",
       "    </tr>\n",
       "    <tr>\n",
       "      <th>host_total_listings_count</th>\n",
       "      <td>1</td>\n",
       "    </tr>\n",
       "    <tr>\n",
       "      <th>host_verifications</th>\n",
       "      <td>1</td>\n",
       "    </tr>\n",
       "    <tr>\n",
       "      <th>host_has_profile_pic</th>\n",
       "      <td>1</td>\n",
       "    </tr>\n",
       "    <tr>\n",
       "      <th>host_identity_verified</th>\n",
       "      <td>1</td>\n",
       "    </tr>\n",
       "    <tr>\n",
       "      <th>neighbourhood</th>\n",
       "      <td>41432</td>\n",
       "    </tr>\n",
       "    <tr>\n",
       "      <th>neighbourhood_group_cleansed</th>\n",
       "      <td>87905</td>\n",
       "    </tr>\n",
       "    <tr>\n",
       "      <th>bathrooms</th>\n",
       "      <td>6853</td>\n",
       "    </tr>\n",
       "    <tr>\n",
       "      <th>bathrooms_text</th>\n",
       "      <td>101</td>\n",
       "    </tr>\n",
       "    <tr>\n",
       "      <th>bedrooms</th>\n",
       "      <td>1368</td>\n",
       "    </tr>\n",
       "    <tr>\n",
       "      <th>beds</th>\n",
       "      <td>7069</td>\n",
       "    </tr>\n",
       "    <tr>\n",
       "      <th>price</th>\n",
       "      <td>6826</td>\n",
       "    </tr>\n",
       "    <tr>\n",
       "      <th>calendar_updated</th>\n",
       "      <td>96015</td>\n",
       "    </tr>\n",
       "    <tr>\n",
       "      <th>has_availability</th>\n",
       "      <td>938</td>\n",
       "    </tr>\n",
       "    <tr>\n",
       "      <th>first_review</th>\n",
       "      <td>14639</td>\n",
       "    </tr>\n",
       "    <tr>\n",
       "      <th>last_review</th>\n",
       "      <td>14639</td>\n",
       "    </tr>\n",
       "    <tr>\n",
       "      <th>review_scores_rating</th>\n",
       "      <td>14639</td>\n",
       "    </tr>\n",
       "    <tr>\n",
       "      <th>review_scores_accuracy</th>\n",
       "      <td>14702</td>\n",
       "    </tr>\n",
       "    <tr>\n",
       "      <th>review_scores_cleanliness</th>\n",
       "      <td>14700</td>\n",
       "    </tr>\n",
       "    <tr>\n",
       "      <th>review_scores_checkin</th>\n",
       "      <td>14703</td>\n",
       "    </tr>\n",
       "    <tr>\n",
       "      <th>review_scores_communication</th>\n",
       "      <td>14699</td>\n",
       "    </tr>\n",
       "    <tr>\n",
       "      <th>review_scores_location</th>\n",
       "      <td>14706</td>\n",
       "    </tr>\n",
       "    <tr>\n",
       "      <th>review_scores_value</th>\n",
       "      <td>14705</td>\n",
       "    </tr>\n",
       "    <tr>\n",
       "      <th>license</th>\n",
       "      <td>66400</td>\n",
       "    </tr>\n",
       "    <tr>\n",
       "      <th>reviews_per_month</th>\n",
       "      <td>14639</td>\n",
       "    </tr>\n",
       "  </tbody>\n",
       "</table>\n",
       "</div>"
      ]
     },
     "execution_count": 4,
     "metadata": {},
     "output_type": "execute_result"
    }
   ],
   "execution_count": 4
  },
  {
   "metadata": {},
   "cell_type": "markdown",
   "source": "## Drop columns with too many NAs",
   "id": "ebb59f6beee518f"
  },
  {
   "metadata": {
    "ExecuteTime": {
     "end_time": "2024-08-11T14:28:40.676739Z",
     "start_time": "2024-08-11T14:28:40.631400Z"
    }
   },
   "cell_type": "code",
   "source": [
    "df.drop([\"neighborhood_overview\",\n",
    "             \"host_about\",\n",
    "             \"host_neighbourhood\",\n",
    "             \"neighbourhood\",\n",
    "             \"neighbourhood_group_cleansed\",\n",
    "             \"calendar_updated\",\n",
    "             \"license\"],\n",
    "            axis=1,\n",
    "            inplace=True)"
   ],
   "id": "76405def19ca754b",
   "outputs": [],
   "execution_count": 5
  },
  {
   "metadata": {},
   "cell_type": "markdown",
   "source": "## Drop not useful",
   "id": "d2b4c14ebf277f9b"
  },
  {
   "metadata": {
    "ExecuteTime": {
     "end_time": "2024-08-11T14:28:40.718340Z",
     "start_time": "2024-08-11T14:28:40.677955Z"
    }
   },
   "cell_type": "code",
   "source": [
    "df.drop([\n",
    "    \"listing_url\",\n",
    "    \"scrape_id\",\n",
    "    \"last_scraped\",\n",
    "    \"source\",\n",
    "    \"name\",\n",
    "    \"description\",\n",
    "    \"picture_url\",\n",
    "    \"host_url\",\n",
    "    \"host_name\",\n",
    "    \"host_thumbnail_url\",\n",
    "    \"host_picture_url\",\n",
    "    \"minimum_minimum_nights\",\n",
    "    \"maximum_minimum_nights\",\n",
    "    \"minimum_maximum_nights\",\n",
    "    \"maximum_maximum_nights\",\n",
    "    \"minimum_nights_avg_ntm\",\n",
    "    \"maximum_nights_avg_ntm\",\n",
    "    \"has_availability\",\n",
    "    \"availability_30\",\n",
    "    \"availability_60\",\n",
    "    \"availability_90\",\n",
    "    \"availability_365\",\n",
    "    \"calendar_last_scraped\",\n",
    "    \"number_of_reviews_ltm\",\n",
    "    \"number_of_reviews_l30d\",\n",
    "    \"instant_bookable\",\n",
    "    \"calculated_host_listings_count\",\n",
    "    \"calculated_host_listings_count_entire_homes\",\n",
    "    \"calculated_host_listings_count_private_rooms\",\n",
    "    \"calculated_host_listings_count_shared_rooms\",\n",
    "],\n",
    "axis=1,\n",
    "inplace=True)\n",
    "\n",
    "df.set_index(\"id\", inplace=True)"
   ],
   "id": "9cda8c9b28fcc085",
   "outputs": [],
   "execution_count": 6
  },
  {
   "metadata": {
    "ExecuteTime": {
     "end_time": "2024-08-11T14:28:43.712126Z",
     "start_time": "2024-08-11T14:28:40.719667Z"
    }
   },
   "cell_type": "code",
   "source": [
    "see_histograms = df.copy()\n",
    "\n",
    "pd.set_option('future.no_silent_downcasting', True)\n",
    "see_histograms.replace({'f': 0, 't': 1}, inplace=True)\n",
    "\n",
    "see_histograms.hist(figsize=(30,20));"
   ],
   "id": "a9d2d7c0a056f345",
   "outputs": [
    {
     "data": {
      "text/plain": [
       "<Figure size 3000x2000 with 25 Axes>"
      ],
      "image/png": "[encoded data removed]"
     },
     "metadata": {},
     "output_type": "display_data"
    }
   ],
   "execution_count": 7
  },
  {
   "metadata": {
    "ExecuteTime": {
     "end_time": "2024-08-11T14:28:46.242166Z",
     "start_time": "2024-08-11T14:28:43.713752Z"
    }
   },
   "cell_type": "code",
   "source": [
    "print(df.shape)\n",
    "df_nas_columns = pd.DataFrame({\n",
    "    'NAs': df.isnull().sum(axis=1),\n",
    "    'Columns_with_NAs': df.parallel_apply(lambda x: ', '.join(x.index[x.isnull()]), axis=1)\n",
    "})\n",
    "df_nas_columns.loc[df_nas_columns[\"NAs\"]>7]"
   ],
   "id": "3961206d9690cf2",
   "outputs": [
    {
     "name": "stdout",
     "output_type": "stream",
     "text": [
      "(96015, 39)\n"
     ]
    },
    {
     "data": {
      "text/plain": [
       "VBox(children=(HBox(children=(IntProgress(value=0, description='0.00%', max=24004), Label(value='0 / 24004')))…"
      ],
      "application/vnd.jupyter.widget-view+json": {
       "version_major": 2,
       "version_minor": 0,
       "model_id": "cd33b630797b43789fd781e097d9a0ac"
      }
     },
     "metadata": {},
     "output_type": "display_data"
    },
    {
     "data": {
      "text/plain": [
       "                     NAs                                   Columns_with_NAs\n",
       "id                                                                         \n",
       "482422                13  host_location, host_response_time, host_respon...\n",
       "523048                10  first_review, last_review, review_scores_ratin...\n",
       "523221                13  bathrooms, beds, price, first_review, last_rev...\n",
       "531903                10  first_review, last_review, review_scores_ratin...\n",
       "1190641               13  host_response_time, host_response_rate, host_a...\n",
       "...                  ...                                                ...\n",
       "1178237255401102369   10  first_review, last_review, review_scores_ratin...\n",
       "1178241933628166985   13  host_response_time, host_response_rate, host_a...\n",
       "1178285228892794868   10  first_review, last_review, review_scores_ratin...\n",
       "1178322393649515459   10  first_review, last_review, review_scores_ratin...\n",
       "1178844683571679752   10  first_review, last_review, review_scores_ratin...\n",
       "\n",
       "[14699 rows x 2 columns]"
      ],
      "text/html": [
       "<div>\n",
       "<style scoped>\n",
       "    .dataframe tbody tr th:only-of-type {\n",
       "        vertical-align: middle;\n",
       "    }\n",
       "\n",
       "    .dataframe tbody tr th {\n",
       "        vertical-align: top;\n",
       "    }\n",
       "\n",
       "    .dataframe thead th {\n",
       "        text-align: right;\n",
       "    }\n",
       "</style>\n",
       "<table border=\"1\" class=\"dataframe\">\n",
       "  <thead>\n",
       "    <tr style=\"text-align: right;\">\n",
       "      <th></th>\n",
       "      <th>NAs</th>\n",
       "      <th>Columns_with_NAs</th>\n",
       "    </tr>\n",
       "    <tr>\n",
       "      <th>id</th>\n",
       "      <th></th>\n",
       "      <th></th>\n",
       "    </tr>\n",
       "  </thead>\n",
       "  <tbody>\n",
       "    <tr>\n",
       "      <th>482422</th>\n",
       "      <td>13</td>\n",
       "      <td>host_location, host_response_time, host_respon...</td>\n",
       "    </tr>\n",
       "    <tr>\n",
       "      <th>523048</th>\n",
       "      <td>10</td>\n",
       "      <td>first_review, last_review, review_scores_ratin...</td>\n",
       "    </tr>\n",
       "    <tr>\n",
       "      <th>523221</th>\n",
       "      <td>13</td>\n",
       "      <td>bathrooms, beds, price, first_review, last_rev...</td>\n",
       "    </tr>\n",
       "    <tr>\n",
       "      <th>531903</th>\n",
       "      <td>10</td>\n",
       "      <td>first_review, last_review, review_scores_ratin...</td>\n",
       "    </tr>\n",
       "    <tr>\n",
       "      <th>1190641</th>\n",
       "      <td>13</td>\n",
       "      <td>host_response_time, host_response_rate, host_a...</td>\n",
       "    </tr>\n",
       "    <tr>\n",
       "      <th>...</th>\n",
       "      <td>...</td>\n",
       "      <td>...</td>\n",
       "    </tr>\n",
       "    <tr>\n",
       "      <th>1178237255401102369</th>\n",
       "      <td>10</td>\n",
       "      <td>first_review, last_review, review_scores_ratin...</td>\n",
       "    </tr>\n",
       "    <tr>\n",
       "      <th>1178241933628166985</th>\n",
       "      <td>13</td>\n",
       "      <td>host_response_time, host_response_rate, host_a...</td>\n",
       "    </tr>\n",
       "    <tr>\n",
       "      <th>1178285228892794868</th>\n",
       "      <td>10</td>\n",
       "      <td>first_review, last_review, review_scores_ratin...</td>\n",
       "    </tr>\n",
       "    <tr>\n",
       "      <th>1178322393649515459</th>\n",
       "      <td>10</td>\n",
       "      <td>first_review, last_review, review_scores_ratin...</td>\n",
       "    </tr>\n",
       "    <tr>\n",
       "      <th>1178844683571679752</th>\n",
       "      <td>10</td>\n",
       "      <td>first_review, last_review, review_scores_ratin...</td>\n",
       "    </tr>\n",
       "  </tbody>\n",
       "</table>\n",
       "<p>14699 rows × 2 columns</p>\n",
       "</div>"
      ]
     },
     "execution_count": 8,
     "metadata": {},
     "output_type": "execute_result"
    }
   ],
   "execution_count": 8
  },
  {
   "metadata": {
    "ExecuteTime": {
     "end_time": "2024-08-11T14:28:46.290166Z",
     "start_time": "2024-08-11T14:28:46.243331Z"
    }
   },
   "cell_type": "code",
   "source": [
    "more_than_7_missing = df_nas_columns.loc[df_nas_columns[\"NAs\"]>7, :].index.tolist()\n",
    "df.drop(more_than_7_missing, inplace=True)\n",
    "df.shape"
   ],
   "id": "d31d2defc3e2ac46",
   "outputs": [
    {
     "data": {
      "text/plain": [
       "(81316, 39)"
      ]
     },
     "execution_count": 9,
     "metadata": {},
     "output_type": "execute_result"
    }
   ],
   "execution_count": 9
  },
  {
   "metadata": {},
   "cell_type": "markdown",
   "source": "# Handling amenities",
   "id": "805e8968060d059f"
  },
  {
   "metadata": {
    "ExecuteTime": {
     "end_time": "2024-08-11T14:28:47.431073Z",
     "start_time": "2024-08-11T14:28:46.291937Z"
    }
   },
   "cell_type": "code",
   "source": [
    "amenities_lists = df[\"amenities\"].tolist()\n",
    "\n",
    "amenities_counter = {}\n",
    "\n",
    "for el in amenities_lists:\n",
    "    for e in el.strip('][').split(', '):\n",
    "        try:\n",
    "            amenities_counter[e.strip('\"')] += 1\n",
    "        except:\n",
    "            amenities_counter[e.strip('\"')] = 1\n",
    "\n",
    "amenities_counter = dict(sorted(amenities_counter.items(), key=lambda item: item[1], reverse=True))\n"
   ],
   "id": "6c9edd4107a9b181",
   "outputs": [],
   "execution_count": 10
  },
  {
   "metadata": {},
   "cell_type": "markdown",
   "source": "## Remapping amenities in smaller dictionary",
   "id": "2785616ca5564c90"
  },
  {
   "metadata": {
    "ExecuteTime": {
     "end_time": "2024-08-11T14:28:47.434468Z",
     "start_time": "2024-08-11T14:28:47.432070Z"
    }
   },
   "cell_type": "code",
   "source": "amenities_remapping = {}\n",
   "id": "d3de96c8a30559f9",
   "outputs": [],
   "execution_count": 11
  },
  {
   "metadata": {},
   "cell_type": "markdown",
   "source": "### technology",
   "id": "af192ea0ee262050"
  },
  {
   "metadata": {
    "ExecuteTime": {
     "end_time": "2024-08-11T14:28:47.462651Z",
     "start_time": "2024-08-11T14:28:47.435450Z"
    }
   },
   "cell_type": "code",
   "source": [
    "pattern = r'\\b(wifi|internet|ethernet|cable|fibra|dolby|smart|connection|tv|television|netflix|amazon|disney)\\b'\n",
    "regex = re.compile(pattern, re.IGNORECASE)\n",
    "\n",
    "for am in list(amenities_counter.keys()):\n",
    "    if regex.search(am):\n",
    "        amenities_remapping[am] = \"technology\""
   ],
   "id": "e75cc4403e6fbfc5",
   "outputs": [],
   "execution_count": 12
  },
  {
   "metadata": {},
   "cell_type": "markdown",
   "source": "### kitchen",
   "id": "411a89234e490b1e"
  },
  {
   "metadata": {
    "ExecuteTime": {
     "end_time": "2024-08-11T14:28:47.488239Z",
     "start_time": "2024-08-11T14:28:47.463651Z"
    }
   },
   "cell_type": "code",
   "source": [
    "pattern = r'\\b(kitchen|cooking|grill|cucina|refrigerator|fridge|oven|stove|dish|coffee|espresso|lavazza|dining|breakfast|microonde|microwave|washer|freezer|glasses|toast|baking)\\b'\n",
    "regex = re.compile(pattern, re.IGNORECASE)\n",
    "\n",
    "for am in list(amenities_counter.keys()):\n",
    "    if regex.search(am):\n",
    "        amenities_remapping[am] = \"kitchen\""
   ],
   "id": "22db4b60109a08a3",
   "outputs": [],
   "execution_count": 13
  },
  {
   "metadata": {},
   "cell_type": "markdown",
   "source": "### toiletry",
   "id": "d0af64937e482260"
  },
  {
   "metadata": {
    "ExecuteTime": {
     "end_time": "2024-08-11T14:28:47.510843Z",
     "start_time": "2024-08-11T14:28:47.491961Z"
    }
   },
   "cell_type": "code",
   "source": [
    "pattern = r'\\b(hair|capelli|soap|sapone|bidet|shampoo|bathtub|gel|laundry|closet|pillow|blanket|shower)\\b'\n",
    "regex = re.compile(pattern, re.IGNORECASE)\n",
    "\n",
    "for am in list(amenities_counter.keys()):\n",
    "    if regex.search(am):\n",
    "        amenities_remapping[am] = \"toiletry\""
   ],
   "id": "133a9ea7c8b11823",
   "outputs": [],
   "execution_count": 14
  },
  {
   "metadata": {},
   "cell_type": "markdown",
   "source": "### AC/heating",
   "id": "c2396364177690d4"
  },
  {
   "metadata": {
    "ExecuteTime": {
     "end_time": "2024-08-11T14:28:47.527532Z",
     "start_time": "2024-08-11T14:28:47.511788Z"
    }
   },
   "cell_type": "code",
   "source": [
    "pattern = r'\\b(heating|ac|air|conditioning|fan)\\b'\n",
    "regex = re.compile(pattern, re.IGNORECASE)\n",
    "\n",
    "for am in list(amenities_counter.keys()):\n",
    "    if regex.search(am):\n",
    "        amenities_remapping[am] = \"AC/heating\""
   ],
   "id": "bad86ac55dea7e52",
   "outputs": [],
   "execution_count": 15
  },
  {
   "metadata": {},
   "cell_type": "markdown",
   "source": "### benefits",
   "id": "cd57470ebf5bbdc2"
  },
  {
   "metadata": {
    "ExecuteTime": {
     "end_time": "2024-08-11T14:28:47.555549Z",
     "start_time": "2024-08-11T14:28:47.528543Z"
    }
   },
   "cell_type": "code",
   "source": [
    "pattern = r'\\b(garden|backyard|skyline|beach|gym|fitness|view|outdoor|balcony|waterfront|bed linen|workspace|aid|luggage|elevator|free|safe|lock|security|bike|estinguisher)\\b'\n",
    "regex = re.compile(pattern, re.IGNORECASE)\n",
    "\n",
    "for am in list(amenities_counter.keys()):\n",
    "    if regex.search(am):\n",
    "        amenities_remapping[am] = \"benefits\""
   ],
   "id": "9c5491b5ed25b9bd",
   "outputs": [],
   "execution_count": 16
  },
  {
   "metadata": {},
   "cell_type": "markdown",
   "source": "### other",
   "id": "afd8ed082131b865"
  },
  {
   "metadata": {
    "ExecuteTime": {
     "end_time": "2024-08-11T14:28:47.611627Z",
     "start_time": "2024-08-11T14:28:47.556550Z"
    }
   },
   "cell_type": "code",
   "source": [
    "pattern = r'\\b(wifi|internet|ethernet|cable|fibra|dolby|smart|connection|tv|television|netflix|amazon|disney|kitchen|cooking|grill|cucina|refrigerator#|fridge|oven|stove|dish|coffee|espresso|lavazza|dining|breakfast|microonde|microwave|washer|freezer|glasses|toast|baking|hair|capelli|soap|sapone|bidet#|shampoo|bathtub|gel|laundry|closet|pillow|blanket|showers|heating|ac|air|conditioning|fan|garden|backyard|skyline|beach|gym|fitness|view|outdoor#|balcony|waterfront|bed linen|workspace|aid|luggage|elevator|free|safe|lock|security|bike)\\b'\n",
    "\n",
    "regex = re.compile(pattern, re.IGNORECASE)\n",
    "\n",
    "for am in list(amenities_counter.keys()):\n",
    "    if not regex.search(am):\n",
    "        amenities_remapping[am] = \"other\""
   ],
   "id": "a67c5447162503e6",
   "outputs": [],
   "execution_count": 17
  },
  {
   "metadata": {},
   "cell_type": "markdown",
   "source": "## Remapping amenities in dataframe",
   "id": "9b5a25816c423297"
  },
  {
   "metadata": {
    "ExecuteTime": {
     "end_time": "2024-08-11T14:29:17.487698Z",
     "start_time": "2024-08-11T14:28:47.612771Z"
    }
   },
   "cell_type": "code",
   "source": [
    "def unwrap_remap_amenities(value):\n",
    "    element = [e.strip('\"') for e in value.strip('][').split(', ')]\n",
    "    remapped_amenities = (pd.Series(element)).map(amenities_remapping)\n",
    "    return remapped_amenities.tolist()\n",
    "\n",
    "df[\"amenities\"] = df[\"amenities\"].parallel_apply(unwrap_remap_amenities)"
   ],
   "id": "1925b7dba6d903c9",
   "outputs": [
    {
     "data": {
      "text/plain": [
       "VBox(children=(HBox(children=(IntProgress(value=0, description='0.00%', max=20329), Label(value='0 / 20329')))…"
      ],
      "application/vnd.jupyter.widget-view+json": {
       "version_major": 2,
       "version_minor": 0,
       "model_id": "1a3d2fabbec74c878062252ccc45589c"
      }
     },
     "metadata": {},
     "output_type": "display_data"
    }
   ],
   "execution_count": 18
  },
  {
   "metadata": {
    "ExecuteTime": {
     "end_time": "2024-08-11T14:30:06.874905Z",
     "start_time": "2024-08-11T14:29:17.488834Z"
    }
   },
   "cell_type": "code",
   "source": [
    "def return_amenity_counter(row):\n",
    "    amenities = [\"AC/heating\", \"technology\", \"kitchen\", \"benefits\", \"toiletry\", \"other\"]\n",
    "    counts = {amenity: row[\"amenities\"].count(amenity) for amenity in amenities}\n",
    "    for amenity, count in counts.items():\n",
    "        row[f'amenities_{amenity}'] = count\n",
    "    return row\n",
    "\n",
    "df = df.parallel_apply(return_amenity_counter, axis=1)\n"
   ],
   "id": "dc8f40d6fcc02d6b",
   "outputs": [
    {
     "data": {
      "text/plain": [
       "VBox(children=(HBox(children=(IntProgress(value=0, description='0.00%', max=20329), Label(value='0 / 20329')))…"
      ],
      "application/vnd.jupyter.widget-view+json": {
       "version_major": 2,
       "version_minor": 0,
       "model_id": "0ccc2632a3904738ad5123cdc76e908c"
      }
     },
     "metadata": {},
     "output_type": "display_data"
    }
   ],
   "execution_count": 19
  },
  {
   "metadata": {
    "ExecuteTime": {
     "end_time": "2024-08-11T14:30:06.897893Z",
     "start_time": "2024-08-11T14:30:06.875996Z"
    }
   },
   "cell_type": "code",
   "source": "df.loc[df[\"host_location\"]==\"Venice, Italy\"]",
   "id": "ab2319536047a665",
   "outputs": [
    {
     "data": {
      "text/plain": [
       "                      host_id  host_since  host_location  host_response_time  \\\n",
       "id                                                                             \n",
       "24329287             10258694  2013-11-25  Venice, Italy  within a few hours   \n",
       "1168604518137636191  41699367  2015-08-17  Venice, Italy      within an hour   \n",
       "6623                    15016  2009-04-27  Venice, Italy        within a day   \n",
       "27116                  116144  2010-04-30  Venice, Italy  within a few hours   \n",
       "44527                  120215  2010-05-07  Venice, Italy      within an hour   \n",
       "...                       ...         ...            ...                 ...   \n",
       "1121571978292906275  12174833  2014-02-12  Venice, Italy  a few days or more   \n",
       "1140385901206525073  41699367  2015-08-17  Venice, Italy      within an hour   \n",
       "1141043859299230155  41699367  2015-08-17  Venice, Italy      within an hour   \n",
       "1150440679593823387  41699367  2015-08-17  Venice, Italy      within an hour   \n",
       "1168559679010366540  41699367  2015-08-17  Venice, Italy      within an hour   \n",
       "\n",
       "                    host_response_rate host_acceptance_rate host_is_superhost  \\\n",
       "id                                                                              \n",
       "24329287                          100%                 100%                 f   \n",
       "1168604518137636191               100%                 100%                 f   \n",
       "6623                               88%                  78%                 t   \n",
       "27116                              67%                 100%                 f   \n",
       "44527                             100%                 100%                 t   \n",
       "...                                ...                  ...               ...   \n",
       "1121571978292906275                40%                  25%                 f   \n",
       "1140385901206525073               100%                 100%                 f   \n",
       "1141043859299230155               100%                 100%                 f   \n",
       "1150440679593823387               100%                 100%                 f   \n",
       "1168559679010366540               100%                 100%                 f   \n",
       "\n",
       "                     host_listings_count  host_total_listings_count  \\\n",
       "id                                                                    \n",
       "24329287                             1.0                        1.0   \n",
       "1168604518137636191                 63.0                       81.0   \n",
       "6623                                 8.0                       16.0   \n",
       "27116                                3.0                        3.0   \n",
       "44527                                3.0                        7.0   \n",
       "...                                  ...                        ...   \n",
       "1121571978292906275                  1.0                        1.0   \n",
       "1140385901206525073                 51.0                       73.0   \n",
       "1141043859299230155                 51.0                       73.0   \n",
       "1150440679593823387                 51.0                       73.0   \n",
       "1168559679010366540                 51.0                       73.0   \n",
       "\n",
       "                                   host_verifications  ...  \\\n",
       "id                                                     ...   \n",
       "24329287             ['email', 'phone', 'work_email']  ...   \n",
       "1168604518137636191                ['email', 'phone']  ...   \n",
       "6623                               ['email', 'phone']  ...   \n",
       "27116                              ['email', 'phone']  ...   \n",
       "44527                ['email', 'phone', 'work_email']  ...   \n",
       "...                                               ...  ...   \n",
       "1121571978292906275                ['email', 'phone']  ...   \n",
       "1140385901206525073                ['email', 'phone']  ...   \n",
       "1141043859299230155                ['email', 'phone']  ...   \n",
       "1150440679593823387                ['email', 'phone']  ...   \n",
       "1168559679010366540                ['email', 'phone']  ...   \n",
       "\n",
       "                    review_scores_value reviews_per_month   listing_city  \\\n",
       "id                                                                         \n",
       "24329287                           4.75              0.28       Florence   \n",
       "1168604518137636191                5.00              2.00       Florence   \n",
       "6623                               4.92              1.04         Venice   \n",
       "27116                              4.78              2.46         Venice   \n",
       "44527                              4.68              0.86         Venice   \n",
       "...                                 ...               ...            ...   \n",
       "1121571978292906275                5.00              1.25           Rome   \n",
       "1140385901206525073                4.00              1.00           Rome   \n",
       "1141043859299230155                3.00              2.00           Rome   \n",
       "1150440679593823387                4.00              4.00  Casal Bertone   \n",
       "1168559679010366540                5.00              1.00  Casal Bertone   \n",
       "\n",
       "                     listing_city_pop  amenities_AC/heating  \\\n",
       "id                                                            \n",
       "24329287                       367150                     2   \n",
       "1168604518137636191            367150                     2   \n",
       "6623                            51298                     2   \n",
       "27116                           51298                     2   \n",
       "44527                           51298                     2   \n",
       "...                               ...                   ...   \n",
       "1121571978292906275           2318895                     1   \n",
       "1140385901206525073           2318895                     1   \n",
       "1141043859299230155           2318895                     2   \n",
       "1150440679593823387             16273                     2   \n",
       "1168559679010366540             16273                     2   \n",
       "\n",
       "                    amenities_technology amenities_kitchen  \\\n",
       "id                                                           \n",
       "24329287                               3                 6   \n",
       "1168604518137636191                    2                 7   \n",
       "6623                                   2                11   \n",
       "27116                                  2                 5   \n",
       "44527                                  2                11   \n",
       "...                                  ...               ...   \n",
       "1121571978292906275                    1                 2   \n",
       "1140385901206525073                    2                10   \n",
       "1141043859299230155                    1                10   \n",
       "1150440679593823387                    2                 8   \n",
       "1168559679010366540                    2                 9   \n",
       "\n",
       "                     amenities_benefits  amenities_toiletry amenities_other  \n",
       "id                                                                           \n",
       "24329287                              1                   2              12  \n",
       "1168604518137636191                   5                   5              22  \n",
       "6623                                  3                   4              24  \n",
       "27116                                 2                   1               9  \n",
       "44527                                 3                   6              28  \n",
       "...                                 ...                 ...             ...  \n",
       "1121571978292906275                   2                   1               5  \n",
       "1140385901206525073                   5                   5              20  \n",
       "1141043859299230155                   8                   5              18  \n",
       "1150440679593823387                   4                   4              23  \n",
       "1168559679010366540                   5                   6              20  \n",
       "\n",
       "[4469 rows x 45 columns]"
      ],
      "text/html": [
       "<div>\n",
       "<style scoped>\n",
       "    .dataframe tbody tr th:only-of-type {\n",
       "        vertical-align: middle;\n",
       "    }\n",
       "\n",
       "    .dataframe tbody tr th {\n",
       "        vertical-align: top;\n",
       "    }\n",
       "\n",
       "    .dataframe thead th {\n",
       "        text-align: right;\n",
       "    }\n",
       "</style>\n",
       "<table border=\"1\" class=\"dataframe\">\n",
       "  <thead>\n",
       "    <tr style=\"text-align: right;\">\n",
       "      <th></th>\n",
       "      <th>host_id</th>\n",
       "      <th>host_since</th>\n",
       "      <th>host_location</th>\n",
       "      <th>host_response_time</th>\n",
       "      <th>host_response_rate</th>\n",
       "      <th>host_acceptance_rate</th>\n",
       "      <th>host_is_superhost</th>\n",
       "      <th>host_listings_count</th>\n",
       "      <th>host_total_listings_count</th>\n",
       "      <th>host_verifications</th>\n",
       "      <th>...</th>\n",
       "      <th>review_scores_value</th>\n",
       "      <th>reviews_per_month</th>\n",
       "      <th>listing_city</th>\n",
       "      <th>listing_city_pop</th>\n",
       "      <th>amenities_AC/heating</th>\n",
       "      <th>amenities_technology</th>\n",
       "      <th>amenities_kitchen</th>\n",
       "      <th>amenities_benefits</th>\n",
       "      <th>amenities_toiletry</th>\n",
       "      <th>amenities_other</th>\n",
       "    </tr>\n",
       "    <tr>\n",
       "      <th>id</th>\n",
       "      <th></th>\n",
       "      <th></th>\n",
       "      <th></th>\n",
       "      <th></th>\n",
       "      <th></th>\n",
       "      <th></th>\n",
       "      <th></th>\n",
       "      <th></th>\n",
       "      <th></th>\n",
       "      <th></th>\n",
       "      <th></th>\n",
       "      <th></th>\n",
       "      <th></th>\n",
       "      <th></th>\n",
       "      <th></th>\n",
       "      <th></th>\n",
       "      <th></th>\n",
       "      <th></th>\n",
       "      <th></th>\n",
       "      <th></th>\n",
       "      <th></th>\n",
       "    </tr>\n",
       "  </thead>\n",
       "  <tbody>\n",
       "    <tr>\n",
       "      <th>24329287</th>\n",
       "      <td>10258694</td>\n",
       "      <td>2013-11-25</td>\n",
       "      <td>Venice, Italy</td>\n",
       "      <td>within a few hours</td>\n",
       "      <td>100%</td>\n",
       "      <td>100%</td>\n",
       "      <td>f</td>\n",
       "      <td>1.0</td>\n",
       "      <td>1.0</td>\n",
       "      <td>['email', 'phone', 'work_email']</td>\n",
       "      <td>...</td>\n",
       "      <td>4.75</td>\n",
       "      <td>0.28</td>\n",
       "      <td>Florence</td>\n",
       "      <td>367150</td>\n",
       "      <td>2</td>\n",
       "      <td>3</td>\n",
       "      <td>6</td>\n",
       "      <td>1</td>\n",
       "      <td>2</td>\n",
       "      <td>12</td>\n",
       "    </tr>\n",
       "    <tr>\n",
       "      <th>1168604518137636191</th>\n",
       "      <td>41699367</td>\n",
       "      <td>2015-08-17</td>\n",
       "      <td>Venice, Italy</td>\n",
       "      <td>within an hour</td>\n",
       "      <td>100%</td>\n",
       "      <td>100%</td>\n",
       "      <td>f</td>\n",
       "      <td>63.0</td>\n",
       "      <td>81.0</td>\n",
       "      <td>['email', 'phone']</td>\n",
       "      <td>...</td>\n",
       "      <td>5.00</td>\n",
       "      <td>2.00</td>\n",
       "      <td>Florence</td>\n",
       "      <td>367150</td>\n",
       "      <td>2</td>\n",
       "      <td>2</td>\n",
       "      <td>7</td>\n",
       "      <td>5</td>\n",
       "      <td>5</td>\n",
       "      <td>22</td>\n",
       "    </tr>\n",
       "    <tr>\n",
       "      <th>6623</th>\n",
       "      <td>15016</td>\n",
       "      <td>2009-04-27</td>\n",
       "      <td>Venice, Italy</td>\n",
       "      <td>within a day</td>\n",
       "      <td>88%</td>\n",
       "      <td>78%</td>\n",
       "      <td>t</td>\n",
       "      <td>8.0</td>\n",
       "      <td>16.0</td>\n",
       "      <td>['email', 'phone']</td>\n",
       "      <td>...</td>\n",
       "      <td>4.92</td>\n",
       "      <td>1.04</td>\n",
       "      <td>Venice</td>\n",
       "      <td>51298</td>\n",
       "      <td>2</td>\n",
       "      <td>2</td>\n",
       "      <td>11</td>\n",
       "      <td>3</td>\n",
       "      <td>4</td>\n",
       "      <td>24</td>\n",
       "    </tr>\n",
       "    <tr>\n",
       "      <th>27116</th>\n",
       "      <td>116144</td>\n",
       "      <td>2010-04-30</td>\n",
       "      <td>Venice, Italy</td>\n",
       "      <td>within a few hours</td>\n",
       "      <td>67%</td>\n",
       "      <td>100%</td>\n",
       "      <td>f</td>\n",
       "      <td>3.0</td>\n",
       "      <td>3.0</td>\n",
       "      <td>['email', 'phone']</td>\n",
       "      <td>...</td>\n",
       "      <td>4.78</td>\n",
       "      <td>2.46</td>\n",
       "      <td>Venice</td>\n",
       "      <td>51298</td>\n",
       "      <td>2</td>\n",
       "      <td>2</td>\n",
       "      <td>5</td>\n",
       "      <td>2</td>\n",
       "      <td>1</td>\n",
       "      <td>9</td>\n",
       "    </tr>\n",
       "    <tr>\n",
       "      <th>44527</th>\n",
       "      <td>120215</td>\n",
       "      <td>2010-05-07</td>\n",
       "      <td>Venice, Italy</td>\n",
       "      <td>within an hour</td>\n",
       "      <td>100%</td>\n",
       "      <td>100%</td>\n",
       "      <td>t</td>\n",
       "      <td>3.0</td>\n",
       "      <td>7.0</td>\n",
       "      <td>['email', 'phone', 'work_email']</td>\n",
       "      <td>...</td>\n",
       "      <td>4.68</td>\n",
       "      <td>0.86</td>\n",
       "      <td>Venice</td>\n",
       "      <td>51298</td>\n",
       "      <td>2</td>\n",
       "      <td>2</td>\n",
       "      <td>11</td>\n",
       "      <td>3</td>\n",
       "      <td>6</td>\n",
       "      <td>28</td>\n",
       "    </tr>\n",
       "    <tr>\n",
       "      <th>...</th>\n",
       "      <td>...</td>\n",
       "      <td>...</td>\n",
       "      <td>...</td>\n",
       "      <td>...</td>\n",
       "      <td>...</td>\n",
       "      <td>...</td>\n",
       "      <td>...</td>\n",
       "      <td>...</td>\n",
       "      <td>...</td>\n",
       "      <td>...</td>\n",
       "      <td>...</td>\n",
       "      <td>...</td>\n",
       "      <td>...</td>\n",
       "      <td>...</td>\n",
       "      <td>...</td>\n",
       "      <td>...</td>\n",
       "      <td>...</td>\n",
       "      <td>...</td>\n",
       "      <td>...</td>\n",
       "      <td>...</td>\n",
       "      <td>...</td>\n",
       "    </tr>\n",
       "    <tr>\n",
       "      <th>1121571978292906275</th>\n",
       "      <td>12174833</td>\n",
       "      <td>2014-02-12</td>\n",
       "      <td>Venice, Italy</td>\n",
       "      <td>a few days or more</td>\n",
       "      <td>40%</td>\n",
       "      <td>25%</td>\n",
       "      <td>f</td>\n",
       "      <td>1.0</td>\n",
       "      <td>1.0</td>\n",
       "      <td>['email', 'phone']</td>\n",
       "      <td>...</td>\n",
       "      <td>5.00</td>\n",
       "      <td>1.25</td>\n",
       "      <td>Rome</td>\n",
       "      <td>2318895</td>\n",
       "      <td>1</td>\n",
       "      <td>1</td>\n",
       "      <td>2</td>\n",
       "      <td>2</td>\n",
       "      <td>1</td>\n",
       "      <td>5</td>\n",
       "    </tr>\n",
       "    <tr>\n",
       "      <th>1140385901206525073</th>\n",
       "      <td>41699367</td>\n",
       "      <td>2015-08-17</td>\n",
       "      <td>Venice, Italy</td>\n",
       "      <td>within an hour</td>\n",
       "      <td>100%</td>\n",
       "      <td>100%</td>\n",
       "      <td>f</td>\n",
       "      <td>51.0</td>\n",
       "      <td>73.0</td>\n",
       "      <td>['email', 'phone']</td>\n",
       "      <td>...</td>\n",
       "      <td>4.00</td>\n",
       "      <td>1.00</td>\n",
       "      <td>Rome</td>\n",
       "      <td>2318895</td>\n",
       "      <td>1</td>\n",
       "      <td>2</td>\n",
       "      <td>10</td>\n",
       "      <td>5</td>\n",
       "      <td>5</td>\n",
       "      <td>20</td>\n",
       "    </tr>\n",
       "    <tr>\n",
       "      <th>1141043859299230155</th>\n",
       "      <td>41699367</td>\n",
       "      <td>2015-08-17</td>\n",
       "      <td>Venice, Italy</td>\n",
       "      <td>within an hour</td>\n",
       "      <td>100%</td>\n",
       "      <td>100%</td>\n",
       "      <td>f</td>\n",
       "      <td>51.0</td>\n",
       "      <td>73.0</td>\n",
       "      <td>['email', 'phone']</td>\n",
       "      <td>...</td>\n",
       "      <td>3.00</td>\n",
       "      <td>2.00</td>\n",
       "      <td>Rome</td>\n",
       "      <td>2318895</td>\n",
       "      <td>2</td>\n",
       "      <td>1</td>\n",
       "      <td>10</td>\n",
       "      <td>8</td>\n",
       "      <td>5</td>\n",
       "      <td>18</td>\n",
       "    </tr>\n",
       "    <tr>\n",
       "      <th>1150440679593823387</th>\n",
       "      <td>41699367</td>\n",
       "      <td>2015-08-17</td>\n",
       "      <td>Venice, Italy</td>\n",
       "      <td>within an hour</td>\n",
       "      <td>100%</td>\n",
       "      <td>100%</td>\n",
       "      <td>f</td>\n",
       "      <td>51.0</td>\n",
       "      <td>73.0</td>\n",
       "      <td>['email', 'phone']</td>\n",
       "      <td>...</td>\n",
       "      <td>4.00</td>\n",
       "      <td>4.00</td>\n",
       "      <td>Casal Bertone</td>\n",
       "      <td>16273</td>\n",
       "      <td>2</td>\n",
       "      <td>2</td>\n",
       "      <td>8</td>\n",
       "      <td>4</td>\n",
       "      <td>4</td>\n",
       "      <td>23</td>\n",
       "    </tr>\n",
       "    <tr>\n",
       "      <th>1168559679010366540</th>\n",
       "      <td>41699367</td>\n",
       "      <td>2015-08-17</td>\n",
       "      <td>Venice, Italy</td>\n",
       "      <td>within an hour</td>\n",
       "      <td>100%</td>\n",
       "      <td>100%</td>\n",
       "      <td>f</td>\n",
       "      <td>51.0</td>\n",
       "      <td>73.0</td>\n",
       "      <td>['email', 'phone']</td>\n",
       "      <td>...</td>\n",
       "      <td>5.00</td>\n",
       "      <td>1.00</td>\n",
       "      <td>Casal Bertone</td>\n",
       "      <td>16273</td>\n",
       "      <td>2</td>\n",
       "      <td>2</td>\n",
       "      <td>9</td>\n",
       "      <td>5</td>\n",
       "      <td>6</td>\n",
       "      <td>20</td>\n",
       "    </tr>\n",
       "  </tbody>\n",
       "</table>\n",
       "<p>4469 rows × 45 columns</p>\n",
       "</div>"
      ]
     },
     "execution_count": 20,
     "metadata": {},
     "output_type": "execute_result"
    }
   ],
   "execution_count": 20
  },
  {
   "metadata": {
    "ExecuteTime": {
     "end_time": "2024-08-11T14:40:07.738323Z",
     "start_time": "2024-08-11T14:40:07.694295Z"
    }
   },
   "cell_type": "code",
   "source": [
    "sep_nas = pd.DataFrame(df.isnull().sum(), columns=[\"NAs\"])\n",
    "sep_nas.loc[sep_nas[\"NAs\"] > 0, :]"
   ],
   "id": "6a6358250eb2c239",
   "outputs": [
    {
     "data": {
      "text/plain": [
       "                              NAs\n",
       "host_response_time           7373\n",
       "host_response_rate           7373\n",
       "host_acceptance_rate         3743\n",
       "host_is_superhost            1938\n",
       "bathrooms                    4754\n",
       "bathrooms_text                 74\n",
       "bedrooms                      866\n",
       "beds                         4896\n",
       "price                        4735\n",
       "review_scores_accuracy         58\n",
       "review_scores_cleanliness      57\n",
       "review_scores_checkin          59\n",
       "review_scores_communication    56\n",
       "review_scores_location         60\n",
       "review_scores_value            60"
      ],
      "text/html": [
       "<div>\n",
       "<style scoped>\n",
       "    .dataframe tbody tr th:only-of-type {\n",
       "        vertical-align: middle;\n",
       "    }\n",
       "\n",
       "    .dataframe tbody tr th {\n",
       "        vertical-align: top;\n",
       "    }\n",
       "\n",
       "    .dataframe thead th {\n",
       "        text-align: right;\n",
       "    }\n",
       "</style>\n",
       "<table border=\"1\" class=\"dataframe\">\n",
       "  <thead>\n",
       "    <tr style=\"text-align: right;\">\n",
       "      <th></th>\n",
       "      <th>NAs</th>\n",
       "    </tr>\n",
       "  </thead>\n",
       "  <tbody>\n",
       "    <tr>\n",
       "      <th>host_response_time</th>\n",
       "      <td>7373</td>\n",
       "    </tr>\n",
       "    <tr>\n",
       "      <th>host_response_rate</th>\n",
       "      <td>7373</td>\n",
       "    </tr>\n",
       "    <tr>\n",
       "      <th>host_acceptance_rate</th>\n",
       "      <td>3743</td>\n",
       "    </tr>\n",
       "    <tr>\n",
       "      <th>host_is_superhost</th>\n",
       "      <td>1938</td>\n",
       "    </tr>\n",
       "    <tr>\n",
       "      <th>bathrooms</th>\n",
       "      <td>4754</td>\n",
       "    </tr>\n",
       "    <tr>\n",
       "      <th>bathrooms_text</th>\n",
       "      <td>74</td>\n",
       "    </tr>\n",
       "    <tr>\n",
       "      <th>bedrooms</th>\n",
       "      <td>866</td>\n",
       "    </tr>\n",
       "    <tr>\n",
       "      <th>beds</th>\n",
       "      <td>4896</td>\n",
       "    </tr>\n",
       "    <tr>\n",
       "      <th>price</th>\n",
       "      <td>4735</td>\n",
       "    </tr>\n",
       "    <tr>\n",
       "      <th>review_scores_accuracy</th>\n",
       "      <td>58</td>\n",
       "    </tr>\n",
       "    <tr>\n",
       "      <th>review_scores_cleanliness</th>\n",
       "      <td>57</td>\n",
       "    </tr>\n",
       "    <tr>\n",
       "      <th>review_scores_checkin</th>\n",
       "      <td>59</td>\n",
       "    </tr>\n",
       "    <tr>\n",
       "      <th>review_scores_communication</th>\n",
       "      <td>56</td>\n",
       "    </tr>\n",
       "    <tr>\n",
       "      <th>review_scores_location</th>\n",
       "      <td>60</td>\n",
       "    </tr>\n",
       "    <tr>\n",
       "      <th>review_scores_value</th>\n",
       "      <td>60</td>\n",
       "    </tr>\n",
       "  </tbody>\n",
       "</table>\n",
       "</div>"
      ]
     },
     "execution_count": 51,
     "metadata": {},
     "output_type": "execute_result"
    }
   ],
   "execution_count": 51
  },
  {
   "metadata": {},
   "cell_type": "markdown",
   "source": "## Fill Host Locations NAs with the values from the same HostID or same listing city",
   "id": "5b1645c8f8bfdb2e"
  },
  {
   "metadata": {
    "ExecuteTime": {
     "end_time": "2024-08-11T14:39:49.033171Z",
     "start_time": "2024-08-11T14:39:46.773568Z"
    }
   },
   "cell_type": "code",
   "source": [
    "def fill_host_location(row):\n",
    "    if pd.isna(row[\"host_location\"]):\n",
    "        row[\"host_location\"] = row[\"listing_city\"]+\", Italy\"\n",
    "    return row\n",
    "\n",
    "df = df.parallel_apply(fill_host_location, axis=1)"
   ],
   "id": "9d253fd6f4535602",
   "outputs": [
    {
     "data": {
      "text/plain": [
       "VBox(children=(HBox(children=(IntProgress(value=0, description='0.00%', max=20329), Label(value='0 / 20329')))…"
      ],
      "application/vnd.jupyter.widget-view+json": {
       "version_major": 2,
       "version_minor": 0,
       "model_id": "1ad17f7813dd4dbe97ebbf7095bf536a"
      }
     },
     "metadata": {},
     "output_type": "display_data"
    }
   ],
   "execution_count": 49
  }
 ],
 "metadata": {
  "kernelspec": {
   "display_name": "Python 3",
   "language": "python",
   "name": "python3"
  },
  "language_info": {
   "codemirror_mode": {
    "name": "ipython",
    "version": 2
   },
   "file_extension": ".py",
   "mimetype": "text/x-python",
   "name": "python",
   "nbconvert_exporter": "python",
   "pygments_lexer": "ipython2",
   "version": "2.7.6"
  }
 },
 "nbformat": 4,
 "nbformat_minor": 5
}
