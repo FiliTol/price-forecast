{
 "cells": [
  {
   "cell_type": "code",
   "id": "initial_id",
   "metadata": {
    "collapsed": true
   },
   "source": [
    "import pandas as pd\n",
    "import numpy as np\n",
    "import plotly.express as px\n",
    "from pandarallel import pandarallel"
   ],
   "outputs": [],
   "execution_count": null
  },
  {
   "metadata": {},
   "cell_type": "code",
   "source": "df = pd.read_pickle(\"../data/pickles/total_listings_viz.pkl\")",
   "id": "24e071f09a0e8013",
   "outputs": [],
   "execution_count": null
  },
  {
   "metadata": {},
   "cell_type": "code",
   "source": "df.head()",
   "id": "5cf54fdc3836f81e",
   "outputs": [],
   "execution_count": null
  },
  {
   "metadata": {},
   "cell_type": "code",
   "source": [
    "hist_cat_variables = [\n",
    "    \"host_response_time\",\n",
    "    \"host_is_superhost\",\n",
    "    \"host_listings_count\",\n",
    "    \"host_has_profile_pic\",\n",
    "    \"host_identity_verified\",\n",
    "    \"property_type\",\n",
    "    \"room_type\",\n",
    "    \"bathrooms_text\",\n",
    "    \"email_verification\",\n",
    "    \"phone_verification\",\n",
    "    \"work_email_verification\"\n",
    "]"
   ],
   "id": "3f8dab85150a95fc",
   "outputs": [],
   "execution_count": null
  },
  {
   "metadata": {},
   "cell_type": "code",
   "source": [
    "hist_num_variables = [\n",
    "    \"host_response_rate\",\n",
    "    \"host_acceptance_rate\",\n",
    "    \"price\",\n",
    "    \"host_location\",\n",
    "    \"host_listings_count\",\n",
    "    \"host_total_listings_count\",\n",
    "    \"accommodates\",\n",
    "    \"bathrooms\",\n",
    "    \"bedrooms\",\n",
    "    \"beds\",\n",
    "    \"minimum_nights\",\n",
    "    \"maximum_nights\",\n",
    "    \"number_of_reviews\",\n",
    "    \"review_scores_rating\",\n",
    "    \"review_scores_accuracy\",\n",
    "    \"review_scores_cleanliness\",\n",
    "    \"review_scores_checkin\",\n",
    "    \"review_scores_communication\",\n",
    "    \"review_scores_location\",\n",
    "    \"review_scores_value\",\n",
    "    \"reviews_per_month\",\n",
    "    \"listing_city_pop\",\n",
    "    \"amenities_AC/heating\",\n",
    "    \"amenities_technology\",\n",
    "    \"amenities_kitchen\",\n",
    "    \"amenities_benefits\",\n",
    "    \"amenities_toiletry\",\n",
    "    \"amenities_other\"\n",
    "]"
   ],
   "id": "c320e286971dfb1e",
   "outputs": [],
   "execution_count": null
  },
  {
   "metadata": {},
   "cell_type": "markdown",
   "source": "## Corr matrix for numerical variables",
   "id": "b2248eeab2222d38"
  },
  {
   "metadata": {},
   "cell_type": "code",
   "source": [
    "df_corr = df.copy()\n",
    "corr_full = df_corr[hist_num_variables].corr()\n",
    "colors = ['green' if val < 0.45 else 'red' for val in corr_full.values.flatten()]\n",
    "mask = np.where(corr_full < 0.45, 0, 1)\n",
    "\n"
   ],
   "id": "fc974450aafea95c",
   "outputs": [],
   "execution_count": null
  },
  {
   "metadata": {},
   "cell_type": "code",
   "source": [
    "fig = px.imshow(corr_full,\n",
    "                text_auto=True,\n",
    "                aspect=\"auto\",\n",
    "                width=900,\n",
    "                height=900\n",
    "                )\n",
    "\n",
    "\n",
    "fig.show()"
   ],
   "id": "75525e29221dec0e",
   "outputs": [],
   "execution_count": null
  },
  {
   "metadata": {},
   "cell_type": "code",
   "source": [
    "fig = px.imshow(corr_full,\n",
    "                text_auto=True,\n",
    "                aspect=\"auto\",\n",
    "                width=900,\n",
    "                height=900,\n",
    "                color_continuous_scale=[\"green\", \"red\"])\n",
    "\n",
    "fig.update_traces(z=mask, colorscale=[[0, \"green\"], [1, \"red\"]])\n",
    "\n",
    "fig.show()"
   ],
   "id": "192217974b5c983a",
   "outputs": [],
   "execution_count": null
  },
  {
   "metadata": {},
   "cell_type": "markdown",
   "source": "# Drop highly correlated variables",
   "id": "1c5bf13077752301"
  },
  {
   "metadata": {},
   "cell_type": "code",
   "source": [
    "to_drop_corr = [\n",
    "    \"host_acceptance_rate\",\n",
    "    \"host_total_listings_count\",\n",
    "    \"bathrooms\",\n",
    "    \"bedrooms\",\n",
    "    \"beds\",\n",
    "    \"review_scores_accuracy\",\n",
    "    \"review_scores_cleanliness\",\n",
    "    \"review_scores_checkin\",\n",
    "    \"review_scores_communication\",\n",
    "    \"review_scores_location\",\n",
    "    \"review_scores_value\",\n",
    "    \"amenities_other\",\n",
    "    \"amenities_toiletry\",\n",
    "    \"amenities\"\n",
    "]"
   ],
   "id": "b0cae8ea0fe1b99a",
   "outputs": [],
   "execution_count": null
  },
  {
   "metadata": {},
   "cell_type": "code",
   "source": "df.drop(to_drop_corr, inplace=True, axis=1)",
   "id": "86c0d4f433041bf2",
   "outputs": [],
   "execution_count": null
  },
  {
   "metadata": {},
   "cell_type": "code",
   "source": [
    "df_corr = df.copy()\n",
    "left_num_var = [x for x in hist_num_variables if x not in to_drop_corr]\n",
    "corr_full = df_corr[left_num_var].corr()\n",
    "\n",
    "fig = px.imshow(corr_full,\n",
    "                text_auto=True,\n",
    "                aspect=\"auto\",\n",
    "                width=600,\n",
    "                height=600\n",
    "                )\n",
    "fig.show()"
   ],
   "id": "9159345b335eb61f",
   "outputs": [],
   "execution_count": null
  },
  {
   "metadata": {},
   "cell_type": "code",
   "source": "df.shape",
   "id": "7d9e3914ba4e7b47",
   "outputs": [],
   "execution_count": null
  },
  {
   "metadata": {},
   "cell_type": "markdown",
   "source": "# Plots",
   "id": "4b96552feccb11e3"
  },
  {
   "metadata": {},
   "cell_type": "code",
   "source": [
    "for var in hist_cat_variables:\n",
    "    fig = px.histogram(df, x = f\"{var}\")\n",
    "    fig.show()"
   ],
   "id": "82b973fbad3f8fb8",
   "outputs": [],
   "execution_count": null
  },
  {
   "metadata": {},
   "cell_type": "markdown",
   "source": "## Numerical variables and price",
   "id": "b5d7b908b3d4e53d"
  },
  {
   "metadata": {},
   "cell_type": "code",
   "source": [
    "for var in left_num_var:\n",
    "    fig = px.histogram(df, x = f\"{var}\")\n",
    "    fig.show()"
   ],
   "id": "1c1c8039a19e1a9e",
   "outputs": [],
   "execution_count": null
  },
  {
   "metadata": {},
   "cell_type": "code",
   "source": "fig.show()",
   "id": "366ecc81e017d101",
   "outputs": [],
   "execution_count": null
  },
  {
   "metadata": {},
   "cell_type": "markdown",
   "source": "## Turning skewed numerical into categorical",
   "id": "1a7821aa4ecfc05b"
  },
  {
   "metadata": {},
   "cell_type": "code",
   "source": "df_man = df.copy()",
   "id": "8f041bf08b1724d4",
   "outputs": [],
   "execution_count": null
  },
  {
   "metadata": {},
   "cell_type": "code",
   "source": "df_man[\"host_response_rate\"] = df_man[\"host_response_rate\"].apply(lambda x: \"100\" if x==100 else \"lower\")",
   "id": "ff1a6b8cc6c1d48d",
   "outputs": [],
   "execution_count": null
  },
  {
   "metadata": {},
   "cell_type": "code",
   "source": [
    "fig = px.histogram(df_man, x = \"host_response_rate\")\n",
    "fig.show()"
   ],
   "id": "20f2d5355ee98491",
   "outputs": [],
   "execution_count": null
  },
  {
   "metadata": {},
   "cell_type": "code",
   "source": [
    "df_man[\"minimum_nights\"] = df_man[\"minimum_nights\"].apply(lambda x: \"1\" if x <= 1 else \"more_than_1\")\n",
    "fig = px.histogram(df_man, x = \"minimum_nights\")\n",
    "fig.show()"
   ],
   "id": "dc8324076b389155",
   "outputs": [],
   "execution_count": null
  },
  {
   "metadata": {},
   "cell_type": "code",
   "source": [
    "df_man[\"maximum_nights\"] = df_man[\"maximum_nights\"].apply(lambda x: \"less_than_100\" if x <= 100 else \"more_than_100\")\n",
    "fig = px.histogram(df_man, x = \"maximum_nights\")\n",
    "fig.show()\n"
   ],
   "id": "8633dbb5174ad960",
   "outputs": [],
   "execution_count": null
  },
  {
   "metadata": {},
   "cell_type": "code",
   "source": [
    "df_man[\"listing_city_pop\"] = df_man[\"listing_city_pop\"].apply(lambda x: \"less_than_300k\" if x <= 300000 else \"more_than_300k\")\n",
    "fig = px.histogram(df_man, x = \"listing_city_pop\")\n",
    "fig.show()\n"
   ],
   "id": "1deb25d0a4467b4f",
   "outputs": [],
   "execution_count": null
  },
  {
   "metadata": {},
   "cell_type": "code",
   "source": [
    "df_man[\"review_scores_rating\"] = df_man[\"review_scores_rating\"].apply(lambda x: \"less_than_4.8\" if x < 4.8 else \"more_than_4.8\")\n",
    "fig = px.histogram(df_man, x = \"review_scores_rating\")\n",
    "fig.show()\n"
   ],
   "id": "dcc16e4ef37f5bd1",
   "outputs": [],
   "execution_count": null
  },
  {
   "metadata": {},
   "cell_type": "code",
   "source": "pd.to_pickle(df, \"../data/pickles/total_listings_exploration_handling.pkl\")",
   "id": "9eece225b4bc610",
   "outputs": [],
   "execution_count": null
  }
 ],
 "metadata": {
  "kernelspec": {
   "display_name": "Python 3",
   "language": "python",
   "name": "python3"
  },
  "language_info": {
   "codemirror_mode": {
    "name": "ipython",
    "version": 2
   },
   "file_extension": ".py",
   "mimetype": "text/x-python",
   "name": "python",
   "nbconvert_exporter": "python",
   "pygments_lexer": "ipython2",
   "version": "2.7.6"
  }
 },
 "nbformat": 4,
 "nbformat_minor": 5
}
