{
 "cells": [
  {
   "metadata": {},
   "cell_type": "code",
   "outputs": [],
   "execution_count": null,
   "source": [
    "import numpy as np\n",
    "import pandas as pd\n",
    "from langdetect import detect, detect_langs\n",
    "from pandarallel import pandarallel\n",
    "import logging\n",
    "from tqdm.notebook import tqdm\n",
    "tqdm.pandas()"
   ],
   "id": "da651ffb754d3015"
  },
  {
   "metadata": {},
   "cell_type": "code",
   "outputs": [],
   "execution_count": null,
   "source": [
    "#dataset = pd.read_csv(\"data/data_dic/d_reviews.csv\")\n",
    "def try_detect_language(text):\n",
    "    try:\n",
    "        lang = detect(text)\n",
    "        return lang\n",
    "    except:\n",
    "        return None\n",
    "\n",
    "\n",
    "pandarallel.initialize(progress_bar=True)\n",
    "#dataset[\"comment_language\"] = dataset['comments'].parallel_apply(lambda x: try_detect_language(x))\n",
    "#pd.to_pickle(dataset, \"data/pickles/draft_reviews/dic_reviews.pkl\")\n",
    "#dataset.to_csv(\"data/pickles/draft_reviews/dic_reviews.csv\")\n",
    "\n",
    "#dataset = pd.read_csv(\"data/pickles/draft_reviews/dic_reviews.csv\", usecols=lambda x: x != \"Unnamed: 0\")\n",
    "dataset = pd.read_pickle(\"data/pickles/draft_reviews/dic_reviews.pkl\")\n",
    "languages_needed = dataset['comment_language'].unique().tolist()"
   ],
   "id": "7ff20abb9eca9fd"
  },
  {
   "metadata": {},
   "cell_type": "code",
   "outputs": [],
   "execution_count": null,
   "source": [
    "copy_dataset = dataset.copy()\n",
    "small_dataset = copy_dataset.loc[(copy_dataset['comment_language']!=\"en\") & (copy_dataset['comment_language']!=np.nan), :]"
   ],
   "id": "450346272e810d38"
  },
  {
   "metadata": {},
   "cell_type": "code",
   "outputs": [],
   "execution_count": null,
   "source": [
    "import argostranslate.package\n",
    "import argostranslate.translate\n",
    "\n",
    "\n",
    "to_code = \"en\"\n",
    "\n",
    "argostranslate.package.update_package_index()\n",
    "available_packages = argostranslate.package.get_available_packages()\n",
    "\n",
    "for lang in languages_needed:\n",
    "    try:\n",
    "        package_to_install = next(\n",
    "            filter(\n",
    "                lambda x: x.from_code == lang and x.to_code == to_code, available_packages\n",
    "            )\n",
    "        )\n",
    "        argostranslate.package.install_from_path(package_to_install.download())\n",
    "    except:\n",
    "        continue"
   ],
   "id": "ef3016ae413ce558"
  },
  {
   "metadata": {},
   "cell_type": "code",
   "outputs": [],
   "execution_count": null,
   "source": [
    "translatedText = argostranslate.translate.translate(\"Ciao, sono Filippo\", \"it\", to_code)\n",
    "print(translatedText)"
   ],
   "id": "e58a99b6881177ce"
  },
  {
   "metadata": {},
   "cell_type": "code",
   "outputs": [],
   "execution_count": null,
   "source": [
    "def translate_from_lan_to_eng(row):\n",
    "    if len(row[\"comments\"]) < 5:\n",
    "        return \"Text too short\"\n",
    "    try:\n",
    "        lang = row[\"comment_language\"]\n",
    "        if lang == \"zh-cn\":\n",
    "            lang = \"zh-CN\"\n",
    "        if lang == \"zh-tw\":\n",
    "            lang = \"zh-TW\"\n",
    "        if lang == \"he\":\n",
    "            lang = \"iw\"\n",
    "        return argostranslate.translate.translate(row[\"comments\"], lang, \"en\")\n",
    "    except Exception as e:\n",
    "        logging.error(f\"Error translating row: {row}, error: {e}\")\n",
    "        return \"Translation not applied\""
   ],
   "id": "d4caebbbf0a4958"
  },
  {
   "metadata": {},
   "cell_type": "code",
   "outputs": [],
   "execution_count": null,
   "source": "small_dataset[\"comment_translation\"] = small_dataset.progress_apply(lambda x: translate_from_lan_to_eng(x), axis=1)",
   "id": "febbf06403c3fdc"
  }
 ],
 "metadata": {
  "kernelspec": {
   "display_name": "Python 3",
   "language": "python",
   "name": "python3"
  },
  "language_info": {
   "codemirror_mode": {
    "name": "ipython",
    "version": 2
   },
   "file_extension": ".py",
   "mimetype": "text/x-python",
   "name": "python",
   "nbconvert_exporter": "python",
   "pygments_lexer": "ipython2",
   "version": "2.7.6"
  }
 },
 "nbformat": 4,
 "nbformat_minor": 5
}
