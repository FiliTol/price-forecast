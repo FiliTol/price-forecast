{
 "cells": [
  {
   "cell_type": "code",
   "id": "initial_id",
   "metadata": {
    "collapsed": true,
    "ExecuteTime": {
     "end_time": "2024-07-23T20:09:08.576525Z",
     "start_time": "2024-07-23T20:09:06.834431Z"
    }
   },
   "source": [
    "import pandas as pd\n",
    "from pandas.api.types import CategoricalDtype\n",
    "import numpy as np\n",
    "from geopy.geocoders import Nominatim\n",
    "from geopy.distance import geodesic\n",
    "from geopy.extra.rate_limiter import RateLimiter\n",
    "from tqdm import tqdm\n",
    "import json\n",
    "import statistics\n",
    "import re\n",
    "from sklearn.impute import KNNImputer"
   ],
   "outputs": [],
   "execution_count": 1
  },
  {
   "metadata": {},
   "cell_type": "markdown",
   "source": "## December 2023",
   "id": "b6fa6d1ba53c37f4"
  },
  {
   "metadata": {
    "ExecuteTime": {
     "end_time": "2024-07-23T20:09:16.692987Z",
     "start_time": "2024-07-23T20:09:08.579990Z"
    }
   },
   "cell_type": "code",
   "source": [
    "dic2023_reviews = pd.read_csv(\"data/2023dic/reviews.csv\")\n",
    "dic2023_calendar = pd.read_csv(\"data/2023dic/calendar.csv\", dtype={\"listing_id\": str,\n",
    "                                                   \"date\": str,\n",
    "                                                   \"available\": str,\n",
    "                                                   \"price\": str,\n",
    "                                                   \"adjusted_price\": str,\n",
    "                                                   \"minimum_nights\": str,\n",
    "                                                   \"maximum_nights\": str})\n",
    "dic2023_listings = pd.read_csv(\"data/2023dic/listings.csv\")\n",
    "dic2023_neighbourhoods = pd.read_csv(\"data/2023dic/neighbourhoods.csv\")\n",
    "# dic2023_geo_neighbourhoods  # GeoJson\n",
    "dic2023_d_listings = pd.read_csv(\"data/2023dic/d_listings.csv\")\n",
    "dic2023_d_reviews = pd.read_csv(\"data/2023dic/d_reviews.csv\")\n"
   ],
   "id": "10c9f9123683e30e",
   "outputs": [],
   "execution_count": 2
  },
  {
   "metadata": {},
   "cell_type": "markdown",
   "source": "## Listings",
   "id": "171719481d202a76"
  },
  {
   "metadata": {
    "ExecuteTime": {
     "end_time": "2024-07-23T20:09:16.716959Z",
     "start_time": "2024-07-23T20:09:16.697848Z"
    }
   },
   "cell_type": "code",
   "source": [
    "dic2023_d_listings = dic2023_d_listings[['id', 'name', 'neighborhood_overview', 'host_id', 'host_since', 'host_location', 'host_about',\n",
    "                   'host_response_time', 'host_response_rate', 'host_acceptance_rate', 'host_is_superhost',\n",
    "                   'host_listings_count', 'host_total_listings_count', 'host_verifications',\n",
    "                   'host_has_profile_pic', 'host_identity_verified', 'neighbourhood_cleansed',\n",
    "                   'latitude', 'longitude', 'property_type', 'room_type',\n",
    "                   'accommodates', 'bathrooms_text', 'beds', 'price',\n",
    "                   'minimum_nights_avg_ntm', 'maximum_nights_avg_ntm', 'has_availability', 'availability_30',\n",
    "                   'availability_60', 'availability_90', 'availability_365', 'number_of_reviews', 'first_review',\n",
    "                   'last_review', 'review_scores_rating', 'review_scores_accuracy', 'review_scores_cleanliness',\n",
    "                   'review_scores_checkin', 'review_scores_communication', 'review_scores_location',\n",
    "                   'review_scores_value', 'calculated_host_listings_count',\n",
    "                   'calculated_host_listings_count_entire_homes', 'calculated_host_listings_count_private_rooms',\n",
    "                   'calculated_host_listings_count_shared_rooms', 'reviews_per_month']]\n"
   ],
   "id": "521b936287b60cb9",
   "outputs": [],
   "execution_count": 3
  },
  {
   "metadata": {
    "ExecuteTime": {
     "end_time": "2024-07-23T20:09:16.742341Z",
     "start_time": "2024-07-23T20:09:16.720748Z"
    }
   },
   "cell_type": "code",
   "source": [
    "dic2023_d_listings.neighborhood_overview = dic2023_d_listings.neighborhood_overview.fillna(\"\")\n",
    "dic2023_d_listings.host_about = dic2023_d_listings.host_about.fillna(\"\")"
   ],
   "id": "44394dfcbaddb3c1",
   "outputs": [],
   "execution_count": 4
  },
  {
   "metadata": {},
   "cell_type": "markdown",
   "source": "We can consider the distance between the Host house and the actual property",
   "id": "1e866f8dda1fece1"
  },
  {
   "metadata": {
    "ExecuteTime": {
     "end_time": "2024-07-23T20:09:16.752135Z",
     "start_time": "2024-07-23T20:09:16.746733Z"
    }
   },
   "cell_type": "code",
   "source": [
    "#location_geo = {}\n",
    "#for l in tqdm(dic2023_d_listings.host_location.unique().tolist()):\n",
    "#    geolocator = Nominatim(user_agent=\"Host to listing distance\")\n",
    "#    geocode = RateLimiter(geolocator.geocode, min_delay_seconds=1.1)\n",
    "#    host_location = geolocator.geocode(l)\n",
    "#    location_geo[l] = (host_location.latitude, host_location.longitude)\n",
    "#    \n",
    "#with open(\"data/2023dic/hosts_locations.json\", 'w') as f:\n",
    "#    json.dump(location_geo, f)\n",
    "#"
   ],
   "id": "409b174f2c0d4917",
   "outputs": [],
   "execution_count": 5
  },
  {
   "metadata": {},
   "cell_type": "markdown",
   "source": "### Host and listing location",
   "id": "b1193b97a4c9f881"
  },
  {
   "metadata": {
    "ExecuteTime": {
     "end_time": "2024-07-23T20:09:18.929912Z",
     "start_time": "2024-07-23T20:09:16.755052Z"
    }
   },
   "cell_type": "code",
   "source": [
    "with open(\"data/2023dic/hosts_locations.json\", 'r') as f:\n",
    "    location_geo = json.load(f)\n",
    "\n",
    "dic2023_d_listings[\"host_location\"] = dic2023_d_listings[\"host_location\"].apply(lambda x: location_geo.get(x))\n",
    "\n",
    "def geodesic_distancer(row):\n",
    "    try:\n",
    "        coords_1 = (row['host_location'][0], row['host_location'][1])\n",
    "        coords_2 = (row[\"latitude\"], row[\"longitude\"])\n",
    "        return geodesic(coords_1, coords_2).km\n",
    "    except:\n",
    "        return None\n",
    "\n",
    "dic2023_d_listings['host_to_listing_geodesic_km'] = dic2023_d_listings.apply(geodesic_distancer, axis=1)\n",
    "dic2023_d_listings.host_to_listing_geodesic_km = dic2023_d_listings.host_to_listing_geodesic_km.fillna(statistics.mode(dic2023_d_listings[\"host_to_listing_geodesic_km\"]))\n",
    "dic2023_d_listings.drop(\"host_location\", axis=1, inplace=True)"
   ],
   "id": "d2293cdbf90d4425",
   "outputs": [],
   "execution_count": 6
  },
  {
   "metadata": {},
   "cell_type": "markdown",
   "source": "### Response time",
   "id": "e7f4a4201c971bad"
  },
  {
   "metadata": {
    "ExecuteTime": {
     "end_time": "2024-07-23T20:09:18.943314Z",
     "start_time": "2024-07-23T20:09:18.932191Z"
    }
   },
   "cell_type": "code",
   "source": [
    "dic2023_d_listings.host_response_time = dic2023_d_listings.host_response_time.fillna(\"MISSING\")\n",
    "categorial_response_time = CategoricalDtype(categories=['within an hour',\n",
    "                                                        'within a few hours',\n",
    "                                                        'within a day',\n",
    "                                                        'a few days or more',\n",
    "                                                        'MISSING'],\n",
    "                                            ordered=True)\n",
    "dic2023_d_listings.host_response_time = dic2023_d_listings.host_response_time.astype(categorial_response_time)"
   ],
   "id": "d0fc0e68f3ca8055",
   "outputs": [],
   "execution_count": 7
  },
  {
   "metadata": {},
   "cell_type": "markdown",
   "source": "### Response rate",
   "id": "76369d85a6e48a5c"
  },
  {
   "metadata": {
    "ExecuteTime": {
     "end_time": "2024-07-23T20:09:18.979991Z",
     "start_time": "2024-07-23T20:09:18.945899Z"
    }
   },
   "cell_type": "code",
   "source": [
    "dic2023_d_listings[\"host_response_rate\"] = dic2023_d_listings[\"host_response_rate\"].str.rstrip('%').astype(float)\n",
    "dic2023_d_listings.host_response_rate = dic2023_d_listings.host_response_rate.fillna(statistics.mode(dic2023_d_listings[\"host_response_rate\"]))\n"
   ],
   "id": "4c9e141220c2097e",
   "outputs": [],
   "execution_count": 8
  },
  {
   "metadata": {},
   "cell_type": "markdown",
   "source": "### Acceptance rate",
   "id": "3a57bc7d10d58718"
  },
  {
   "metadata": {
    "ExecuteTime": {
     "end_time": "2024-07-23T20:09:19.003440Z",
     "start_time": "2024-07-23T20:09:18.982381Z"
    }
   },
   "cell_type": "code",
   "source": [
    "dic2023_d_listings[\"host_acceptance_rate\"] = dic2023_d_listings[\"host_acceptance_rate\"].str.rstrip('%').astype(float)\n",
    "dic2023_d_listings.host_acceptance_rate = dic2023_d_listings.host_acceptance_rate.fillna(statistics.mode(dic2023_d_listings[\"host_acceptance_rate\"]))\n"
   ],
   "id": "1f8ac2160efd132f",
   "outputs": [],
   "execution_count": 9
  },
  {
   "metadata": {},
   "cell_type": "markdown",
   "source": "### Is superhost",
   "id": "d263f70a6ff1686c"
  },
  {
   "metadata": {
    "ExecuteTime": {
     "end_time": "2024-07-23T20:09:19.018802Z",
     "start_time": "2024-07-23T20:09:19.005730Z"
    }
   },
   "cell_type": "code",
   "source": [
    "dic2023_d_listings.host_is_superhost = dic2023_d_listings.host_is_superhost.fillna(statistics.mode(dic2023_d_listings[\"host_is_superhost\"]))\n",
    "dic2023_d_listings.host_is_superhost = dic2023_d_listings.host_is_superhost.astype(CategoricalDtype(categories=[\"t\", \"f\"], ordered=False))"
   ],
   "id": "5b765b690b317675",
   "outputs": [],
   "execution_count": 10
  },
  {
   "metadata": {},
   "cell_type": "markdown",
   "source": "### Bathrooms and bathrooms_text",
   "id": "1effbb27dcb5889b"
  },
  {
   "metadata": {
    "ExecuteTime": {
     "end_time": "2024-07-23T20:09:19.034878Z",
     "start_time": "2024-07-23T20:09:19.021342Z"
    }
   },
   "cell_type": "code",
   "source": "dic2023_d_listings.bathrooms_text = dic2023_d_listings.bathrooms_text.fillna(statistics.mode(dic2023_d_listings[\"bathrooms_text\"]))",
   "id": "1da0d1c477506ac3",
   "outputs": [],
   "execution_count": 11
  },
  {
   "metadata": {},
   "cell_type": "markdown",
   "source": "#### Create bathrooms feature",
   "id": "a96ff57924cae8a5"
  },
  {
   "metadata": {
    "ExecuteTime": {
     "end_time": "2024-07-23T20:09:19.075128Z",
     "start_time": "2024-07-23T20:09:19.038273Z"
    }
   },
   "cell_type": "code",
   "source": [
    "def extract_digits(text):\n",
    "    if \"half\" in text.lower():\n",
    "        return '0.5'\n",
    "    digits = re.findall(r'\\d+\\.\\d+|\\d+', text)\n",
    "    return ''.join(digits)\n",
    "\n",
    "dic2023_d_listings[\"bathrooms\"] = dic2023_d_listings[\"bathrooms_text\"].apply(extract_digits)\n",
    "dic2023_d_listings[\"bathrooms\"] = dic2023_d_listings[\"bathrooms\"].astype(float)"
   ],
   "id": "69498608604dcc41",
   "outputs": [],
   "execution_count": 12
  },
  {
   "metadata": {},
   "cell_type": "markdown",
   "source": "#### Edit bathrooms text_feature",
   "id": "1deaa23afb084205"
  },
  {
   "metadata": {
    "ExecuteTime": {
     "end_time": "2024-07-23T20:09:19.114965Z",
     "start_time": "2024-07-23T20:09:19.077479Z"
    }
   },
   "cell_type": "code",
   "source": [
    "def remove_digits(text):\n",
    "    return re.sub(r'\\d', '', text).strip()\n",
    "dic2023_d_listings[\"bathrooms_text\"] = dic2023_d_listings[\"bathrooms_text\"].apply(remove_digits)\n",
    "\n",
    "remap_baths = {\n",
    "    'baths': 'single',\n",
    "    'bath': 'single',\n",
    "    'private bath': 'private',\n",
    "    'shared bath': 'shared',\n",
    "    'shared baths': 'shared',\n",
    "    'Shared half-bath': 'shared',\n",
    "    '. baths': 'single',\n",
    "    '. shared baths': 'shared',\n",
    "    'Half-bath': 'single',\n",
    "    'Private half-bath': 'private'\n",
    "}\n",
    "\n",
    "dic2023_d_listings[\"bathrooms_text\"] = dic2023_d_listings[\"bathrooms_text\"].replace(remap_baths)\n"
   ],
   "id": "94a638f44744e8cb",
   "outputs": [],
   "execution_count": 13
  },
  {
   "metadata": {},
   "cell_type": "markdown",
   "source": "### Beds",
   "id": "1803ae676dd7e986"
  },
  {
   "metadata": {
    "ExecuteTime": {
     "end_time": "2024-07-23T20:09:19.133170Z",
     "start_time": "2024-07-23T20:09:19.121963Z"
    }
   },
   "cell_type": "code",
   "source": "dic2023_d_listings.beds = dic2023_d_listings.beds.fillna(statistics.mode(dic2023_d_listings[\"beds\"]))",
   "id": "323dbb0851e26cbc",
   "outputs": [],
   "execution_count": 14
  },
  {
   "metadata": {},
   "cell_type": "markdown",
   "source": "### Availability",
   "id": "4e6800eff6db8834"
  },
  {
   "metadata": {
    "ExecuteTime": {
     "end_time": "2024-07-23T20:09:19.149493Z",
     "start_time": "2024-07-23T20:09:19.136582Z"
    }
   },
   "cell_type": "code",
   "source": "dic2023_d_listings.has_availability = dic2023_d_listings.has_availability.fillna(statistics.mode(dic2023_d_listings[\"has_availability\"]))",
   "id": "8b8606a2cc339acd",
   "outputs": [],
   "execution_count": 15
  },
  {
   "metadata": {},
   "cell_type": "markdown",
   "source": "## Dealing with Types before NAs imputation",
   "id": "2caa38f7ebb3d19d"
  },
  {
   "metadata": {
    "ExecuteTime": {
     "end_time": "2024-07-23T20:09:19.174089Z",
     "start_time": "2024-07-23T20:09:19.152901Z"
    }
   },
   "cell_type": "code",
   "source": [
    "dic2023_d_listings[\"host_id\"] = dic2023_d_listings[\"host_id\"].astype(str)\n",
    "dic2023_d_listings[\"host_since\"] = pd.to_datetime(dic2023_d_listings[\"host_since\"])\n"
   ],
   "id": "500a5cd8be54863c",
   "outputs": [],
   "execution_count": 16
  },
  {
   "metadata": {
    "ExecuteTime": {
     "end_time": "2024-07-23T20:09:20.649812Z",
     "start_time": "2024-07-23T20:09:19.176563Z"
    }
   },
   "cell_type": "code",
   "source": [
    "dic2023_d_listings[\"email_verification\"] = False\n",
    "dic2023_d_listings[\"phone_verification\"] = False\n",
    "dic2023_d_listings[\"work_email_verification\"] = False\n",
    "\n",
    "def allocate_verifications_to_variables(row):\n",
    "    if \"email\" in row[\"host_verifications\"]:\n",
    "        row[\"email_verification\"] = True\n",
    "    if \"phone\" in row[\"host_verifications\"]:\n",
    "        row[\"phone_verification\"] = True\n",
    "    if \"work_email\" in row[\"host_verifications\"]:\n",
    "        row[\"work_email_verification\"] = True\n",
    "    return row\n",
    "\n",
    "dic2023_d_listings = dic2023_d_listings.apply(allocate_verifications_to_variables, axis=1)"
   ],
   "id": "964bfd1405b03f54",
   "outputs": [],
   "execution_count": 17
  },
  {
   "metadata": {
    "ExecuteTime": {
     "end_time": "2024-07-23T20:09:20.661934Z",
     "start_time": "2024-07-23T20:09:20.652661Z"
    }
   },
   "cell_type": "code",
   "source": "dic2023_d_listings.host_has_profile_pic = dic2023_d_listings.host_has_profile_pic.astype(CategoricalDtype(categories=[\"t\", \"f\"], ordered=False))",
   "id": "1e55c3b97b3a",
   "outputs": [],
   "execution_count": 18
  },
  {
   "metadata": {
    "ExecuteTime": {
     "end_time": "2024-07-23T20:09:20.685486Z",
     "start_time": "2024-07-23T20:09:20.665112Z"
    }
   },
   "cell_type": "code",
   "source": "dic2023_d_listings.host_identity_verified = dic2023_d_listings.host_identity_verified.astype(CategoricalDtype(categories=[\"t\", \"f\"], ordered=False))",
   "id": "19f7eff2d3d02414",
   "outputs": [],
   "execution_count": 19
  },
  {
   "metadata": {
    "ExecuteTime": {
     "end_time": "2024-07-23T20:09:20.746242Z",
     "start_time": "2024-07-23T20:09:20.688292Z"
    }
   },
   "cell_type": "code",
   "source": [
    "new_neighbourhoods_levels = {'Cannaregio': 'Centro Storico',\n",
    "                             'San Marco':'Centro Storico',\n",
    "                             'Isola San Giorgio': 'Centro Storico',\n",
    "                             'San Polo':'Centro Storico',\n",
    "                             'Castello': 'Centro Storico',\n",
    "                             \"Sant'Elena\": 'Centro Storico',\n",
    "                             'Dorsoduro': 'Centro Storico',\n",
    "                             'Sacca Fisola': 'Centro Storico',\n",
    "                             'Giudecca': 'Centro Storico',\n",
    "                             'Tronchetto': 'Centro Storico',\n",
    "                             'Santa Croce': 'Centro Storico',\n",
    "                             \"Ca' Emiliani\": 'Terraferma',\n",
    "                             'Marghera Zona Industriale': 'Terraferma',\n",
    "                             'Marghera Catene': 'Terraferma',\n",
    "                             'Marghera': 'Terraferma',\n",
    "                             \"Ca' Sabbioni\":'Terraferma',\n",
    "                             'Giustizia': 'Terraferma',\n",
    "                             'San Lorenzo XXV Aprile': 'Terraferma',\n",
    "                             'Bissuola': 'Terraferma',\n",
    "                             'Cipressina': 'Terraferma',\n",
    "                             'Zona Commerciale via Torino': 'Terraferma',\n",
    "                             'Carpenedo': 'Terraferma',\n",
    "                             'Villabona': 'Terraferma',\n",
    "                             'Santa Barbara': 'Terraferma',\n",
    "                             'Altobello': 'Terraferma',\n",
    "                             'Piave 1860': 'Terraferma',\n",
    "                             'La Favorita': 'Terraferma',\n",
    "                             'Villaggio Sartori': 'Terraferma',\n",
    "                             'Villaggio San Marco': 'Terraferma',\n",
    "                             'Gazzera': 'Terraferma',\n",
    "                             'Asseggiano': 'Terraferma',\n",
    "                             \"Pra' Secco\": 'Terraferma',\n",
    "                             'Gatta - Bondu?': 'Terraferma',\n",
    "                             'Quartiere Pertini': 'Terraferma',\n",
    "                             'Campalto CEP': 'Terraferma',\n",
    "                             'Mestre': 'Terraferma',\n",
    "                             \"Scaramuzza\": \"Terraferma\",\n",
    "                             'Alberoni': 'Isole',\n",
    "                             'Malamocco': 'Isole',\n",
    "                             'Lido': 'Isole',\n",
    "                             \"Sant'Erasmo\": 'Isole',\n",
    "                             'Burano': 'Isole',\n",
    "                             'San Pietro in Volta': 'Isole',\n",
    "                             'Mazzorbo': 'Isole',\n",
    "                             'Pellestrina': 'Isole',\n",
    "                             'Murano': 'Isole',\n",
    "                             'Torcello': 'Isole',\n",
    "                             'Favaro': 'Terraferma',\n",
    "                             'Case Dosa': 'Terraferma',\n",
    "                             'Marocco Terraglio': 'Terraferma',\n",
    "                             'Campalto Gobbi': 'Terraferma',\n",
    "                             'Malcontenta': 'Terraferma',\n",
    "                             'Zelarino': 'Terraferma',\n",
    "                             'Chirignago': 'Terraferma',\n",
    "                             'Campalto Bagaron': 'Terraferma',\n",
    "                             'Dese': 'Terraferma',\n",
    "                             'Torre Antica': 'Terraferma',\n",
    "                             'Aeroporto': 'Terraferma',\n",
    "                             'Tessera':'Terraferma',\n",
    "                             'Campalto': 'Terraferma',\n",
    "                             'other city': 'Terraferma'}\n",
    "\n",
    "dic2023_d_listings['neighbourhood_cleansed'] = dic2023_d_listings['neighbourhood_cleansed'].replace(new_neighbourhoods_levels)\n",
    "neighbourhoods_dummies = pd.get_dummies(dic2023_d_listings['neighbourhood_cleansed'], drop_first=True)\n",
    "#dic2023_d_listings = pd.concat([dic2023_d_listings, neighbourhoods_dummies], axis=0)"
   ],
   "id": "b74426ec13489646",
   "outputs": [],
   "execution_count": 20
  },
  {
   "metadata": {
    "ExecuteTime": {
     "end_time": "2024-07-23T20:20:00.927150Z",
     "start_time": "2024-07-23T20:20:00.921518Z"
    }
   },
   "cell_type": "code",
   "source": [
    "# TODO: concatenate dummy neighbourhoods with main dataframe\n",
    "# TODO: continue with the data transformation to categorial etc\n",
    "# TODO: fill NAs of reviews with the KNNImputer"
   ],
   "id": "caa8d228add10bb9",
   "outputs": [],
   "execution_count": 36
  },
  {
   "metadata": {
    "ExecuteTime": {
     "end_time": "2024-07-23T20:16:37.707623Z",
     "start_time": "2024-07-23T20:16:37.695106Z"
    }
   },
   "cell_type": "code",
   "source": "dic2023_d_listings[\"neighbourhood_cleansed\"]",
   "id": "55267a3a74957f15",
   "outputs": [
    {
     "data": {
      "text/plain": [
       "0       Centro Storico\n",
       "1       Centro Storico\n",
       "2       Centro Storico\n",
       "3       Centro Storico\n",
       "4       Centro Storico\n",
       "             ...      \n",
       "7881    Centro Storico\n",
       "7882        Terraferma\n",
       "7883    Centro Storico\n",
       "7884    Centro Storico\n",
       "7885    Centro Storico\n",
       "Name: neighbourhood_cleansed, Length: 7886, dtype: object"
      ]
     },
     "execution_count": 34,
     "metadata": {},
     "output_type": "execute_result"
    }
   ],
   "execution_count": 34
  },
  {
   "metadata": {
    "ExecuteTime": {
     "end_time": "2024-07-23T20:09:20.837969Z",
     "start_time": "2024-07-23T20:09:20.794425Z"
    }
   },
   "cell_type": "code",
   "source": [
    "property_types_groupings = {\n",
    "    'Entire rental unit': 'Entire Place',\n",
    "    'Entire home': 'Entire Place',\n",
    "    'Entire vacation home': 'Entire Place',\n",
    "    'Entire serviced apartment': 'Entire Place',\n",
    "    'Entire condo': 'Entire Place',\n",
    "    'Entire loft': 'Entire Place',\n",
    "    'Entire guesthouse': 'Entire Place',\n",
    "    'Entire villa': 'Entire Place',\n",
    "    'Entire townhouse': 'Entire Place',\n",
    "    'Entire bungalow': 'Entire Place',\n",
    "    'Entire guest suite': 'Entire Place',\n",
    "    'Entire cottage': 'Entire Place',\n",
    "    'Entire chalet': 'Entire Place',\n",
    "    'Entire place': 'Entire Place',\n",
    "    'Entire home/apt': 'Entire Place',\n",
    "    'Private room in bed and breakfast': 'Private Room',\n",
    "    'Private room in boat': 'Private Room',\n",
    "    'Private room in rental unit': 'Private Room',\n",
    "    'Private room in guest suite': 'Private Room',\n",
    "    'Private room in villa': 'Private Room',\n",
    "    'Private room in condo': 'Private Room',\n",
    "    'Private room in home': 'Private Room',\n",
    "    'Private room in guesthouse': 'Private Room',\n",
    "    'Private room in serviced apartment': 'Private Room',\n",
    "    'Private room in farm stay': 'Private Room',\n",
    "    'Private room in loft': 'Private Room',\n",
    "    'Private room in townhouse': 'Private Room',\n",
    "    'Private room in vacation home': 'Private Room',\n",
    "    'Private room in chalet': 'Private Room',\n",
    "    'Private room in casa particular': 'Private Room',\n",
    "    'Private room in pension': 'Private Room',\n",
    "    'Private room in hostel': 'Private Room',\n",
    "    'Shared room in bed and breakfast': 'Shared Room',\n",
    "    'Shared room in rental unit': 'Shared Room',\n",
    "    'Shared room in condo': 'Shared Room',\n",
    "    'Shared room in home': 'Shared Room',\n",
    "    'Shared room in hostel': 'Shared Room',\n",
    "    'Castle': 'Unique Stays',\n",
    "    'Boat': 'Unique Stays',\n",
    "    'Houseboat': 'Unique Stays',\n",
    "    'Tiny home': 'Unique Stays',\n",
    "    'Casa particular': 'Unique Stays',\n",
    "    'Room in bed and breakfast': 'Rooms in Commercial Establishments',\n",
    "    'Room in boutique hotel': 'Rooms in Commercial Establishments',\n",
    "    'Room in hotel': 'Rooms in Commercial Establishments',\n",
    "    'Room in serviced apartment': 'Rooms in Commercial Establishments',\n",
    "    'Room in aparthotel': 'Rooms in Commercial Establishments',\n",
    "    'Room in hostel': 'Rooms in Commercial Establishments',\n",
    "    'Room in heritage hotel': 'Rooms in Commercial Establishments',\n",
    "    'Floor': 'Shared Room'\n",
    "}\n",
    "\n",
    "dic2023_d_listings['property_type'] = dic2023_d_listings['property_type'].replace(property_types_groupings)\n"
   ],
   "id": "7ad5a329e141109c",
   "outputs": [],
   "execution_count": 22
  },
  {
   "metadata": {
    "ExecuteTime": {
     "end_time": "2024-07-23T20:16:31.881286Z",
     "start_time": "2024-07-23T20:16:31.871477Z"
    }
   },
   "cell_type": "code",
   "source": "dic2023_d_listings[\"neighbourhood_cleansed\"].unique()",
   "id": "3978634e692334da",
   "outputs": [
    {
     "data": {
      "text/plain": [
       "array(['Centro Storico', 'Terraferma', 'Isole'], dtype=object)"
      ]
     },
     "execution_count": 33,
     "metadata": {},
     "output_type": "execute_result"
    }
   ],
   "execution_count": 33
  },
  {
   "metadata": {},
   "cell_type": "markdown",
   "source": "### Reviews\n",
   "id": "64e5461bbf1d585b"
  },
  {
   "metadata": {
    "ExecuteTime": {
     "end_time": "2024-07-23T20:09:20.866149Z",
     "start_time": "2024-07-23T20:09:20.851563Z"
    }
   },
   "cell_type": "code",
   "source": [
    "dic2023_d_listings[\"first_review\"] = pd.to_datetime(dic2023_d_listings[\"first_review\"])\n",
    "dic2023_d_listings[\"last_review\"] = pd.to_datetime(dic2023_d_listings[\"last_review\"])\n"
   ],
   "id": "623f486aeaf868c1",
   "outputs": [],
   "execution_count": 24
  },
  {
   "metadata": {
    "ExecuteTime": {
     "end_time": "2024-07-23T20:09:20.881403Z",
     "start_time": "2024-07-23T20:09:20.868364Z"
    }
   },
   "cell_type": "code",
   "source": "dic2023_d_listings.dtypes",
   "id": "eeca4967e859ab5c",
   "outputs": [
    {
     "data": {
      "text/plain": [
       "id                                                       int64\n",
       "name                                                    object\n",
       "neighborhood_overview                                   object\n",
       "host_id                                                 object\n",
       "host_since                                      datetime64[ns]\n",
       "host_about                                              object\n",
       "host_response_time                                      object\n",
       "host_response_rate                                     float64\n",
       "host_acceptance_rate                                   float64\n",
       "host_is_superhost                                       object\n",
       "host_listings_count                                      int64\n",
       "host_total_listings_count                                int64\n",
       "host_verifications                                      object\n",
       "host_has_profile_pic                                  category\n",
       "host_identity_verified                                category\n",
       "neighbourhood_cleansed                                  object\n",
       "latitude                                               float64\n",
       "longitude                                              float64\n",
       "property_type                                           object\n",
       "room_type                                               object\n",
       "accommodates                                             int64\n",
       "bathrooms_text                                          object\n",
       "beds                                                   float64\n",
       "price                                                   object\n",
       "minimum_nights_avg_ntm                                 float64\n",
       "maximum_nights_avg_ntm                                 float64\n",
       "has_availability                                        object\n",
       "availability_30                                          int64\n",
       "availability_60                                          int64\n",
       "availability_90                                          int64\n",
       "availability_365                                         int64\n",
       "number_of_reviews                                        int64\n",
       "first_review                                    datetime64[ns]\n",
       "last_review                                     datetime64[ns]\n",
       "review_scores_rating                                   float64\n",
       "review_scores_accuracy                                 float64\n",
       "review_scores_cleanliness                              float64\n",
       "review_scores_checkin                                  float64\n",
       "review_scores_communication                            float64\n",
       "review_scores_location                                 float64\n",
       "review_scores_value                                    float64\n",
       "calculated_host_listings_count                           int64\n",
       "calculated_host_listings_count_entire_homes              int64\n",
       "calculated_host_listings_count_private_rooms             int64\n",
       "calculated_host_listings_count_shared_rooms              int64\n",
       "reviews_per_month                                      float64\n",
       "host_to_listing_geodesic_km                            float64\n",
       "bathrooms                                              float64\n",
       "email_verification                                        bool\n",
       "phone_verification                                        bool\n",
       "work_email_verification                                   bool\n",
       "dtype: object"
      ]
     },
     "execution_count": 25,
     "metadata": {},
     "output_type": "execute_result"
    }
   ],
   "execution_count": 25
  },
  {
   "metadata": {
    "ExecuteTime": {
     "end_time": "2024-07-23T20:09:20.925615Z",
     "start_time": "2024-07-23T20:09:20.884070Z"
    }
   },
   "cell_type": "code",
   "source": "dic2023_d_listings.head()",
   "id": "a26995f5e6860a9a",
   "outputs": [
    {
     "data": {
      "text/plain": [
       "      id                                               name  \\\n",
       "0   6623  Rental unit in Venice · ★4.94 · 2 bedrooms · 4...   \n",
       "1   6624  Rental unit in Venice · ★4.98 · 2 bedrooms · 6...   \n",
       "2  12074  Rental unit in Venice · ★4.94 · 2 bedrooms · 4...   \n",
       "3  27116  Bed and breakfast in Venice · ★4.84 · 1 bedroo...   \n",
       "4  44527  Rental unit in Venice · ★4.85 · 3 bedrooms · 3...   \n",
       "\n",
       "                               neighborhood_overview host_id host_since  \\\n",
       "0  Close by is the Frari Church (known as Tiziano...   15016 2009-04-27   \n",
       "1  We are in the middle of a residential area cal...   15016 2009-04-27   \n",
       "2  There are plenty of bars, restaurants and pizz...   15016 2009-04-27   \n",
       "3  The area is very beautiful and characteristic,...  116144 2010-04-30   \n",
       "4  Cannaregio is a well-connected, truly Venetian...  120215 2010-05-07   \n",
       "\n",
       "                                          host_about host_response_time  \\\n",
       "0  I'm usually happy and busy, often compelled to...       within a day   \n",
       "1  I'm usually happy and busy, often compelled to...       within a day   \n",
       "2  I'm usually happy and busy, often compelled to...       within a day   \n",
       "3                                                        within an hour   \n",
       "4  I (Marc) have lived in Venice all my life, stu...     within an hour   \n",
       "\n",
       "   host_response_rate  host_acceptance_rate host_is_superhost  ...  \\\n",
       "0               100.0                  74.0                 t  ...   \n",
       "1               100.0                  74.0                 t  ...   \n",
       "2               100.0                  74.0                 t  ...   \n",
       "3               100.0                 100.0                 f  ...   \n",
       "4               100.0                 100.0                 t  ...   \n",
       "\n",
       "   calculated_host_listings_count  \\\n",
       "0                               3   \n",
       "1                               3   \n",
       "2                               3   \n",
       "3                               3   \n",
       "4                               2   \n",
       "\n",
       "   calculated_host_listings_count_entire_homes  \\\n",
       "0                                            3   \n",
       "1                                            3   \n",
       "2                                            3   \n",
       "3                                            1   \n",
       "4                                            2   \n",
       "\n",
       "  calculated_host_listings_count_private_rooms  \\\n",
       "0                                            0   \n",
       "1                                            0   \n",
       "2                                            0   \n",
       "3                                            2   \n",
       "4                                            0   \n",
       "\n",
       "  calculated_host_listings_count_shared_rooms reviews_per_month  \\\n",
       "0                                           0              1.08   \n",
       "1                                           0              0.59   \n",
       "2                                           0              1.21   \n",
       "3                                           0              2.55   \n",
       "4                                           0              0.83   \n",
       "\n",
       "  host_to_listing_geodesic_km  bathrooms  email_verification  \\\n",
       "0                    0.573759        2.0                True   \n",
       "1                    0.634166        2.0                True   \n",
       "2                    0.430166        2.0                True   \n",
       "3                    0.491334        1.0                True   \n",
       "4                    1.040278        2.0                True   \n",
       "\n",
       "  phone_verification work_email_verification  \n",
       "0               True                   False  \n",
       "1               True                   False  \n",
       "2               True                   False  \n",
       "3               True                   False  \n",
       "4               True                    True  \n",
       "\n",
       "[5 rows x 51 columns]"
      ],
      "text/html": [
       "<div>\n",
       "<style scoped>\n",
       "    .dataframe tbody tr th:only-of-type {\n",
       "        vertical-align: middle;\n",
       "    }\n",
       "\n",
       "    .dataframe tbody tr th {\n",
       "        vertical-align: top;\n",
       "    }\n",
       "\n",
       "    .dataframe thead th {\n",
       "        text-align: right;\n",
       "    }\n",
       "</style>\n",
       "<table border=\"1\" class=\"dataframe\">\n",
       "  <thead>\n",
       "    <tr style=\"text-align: right;\">\n",
       "      <th></th>\n",
       "      <th>id</th>\n",
       "      <th>name</th>\n",
       "      <th>neighborhood_overview</th>\n",
       "      <th>host_id</th>\n",
       "      <th>host_since</th>\n",
       "      <th>host_about</th>\n",
       "      <th>host_response_time</th>\n",
       "      <th>host_response_rate</th>\n",
       "      <th>host_acceptance_rate</th>\n",
       "      <th>host_is_superhost</th>\n",
       "      <th>...</th>\n",
       "      <th>calculated_host_listings_count</th>\n",
       "      <th>calculated_host_listings_count_entire_homes</th>\n",
       "      <th>calculated_host_listings_count_private_rooms</th>\n",
       "      <th>calculated_host_listings_count_shared_rooms</th>\n",
       "      <th>reviews_per_month</th>\n",
       "      <th>host_to_listing_geodesic_km</th>\n",
       "      <th>bathrooms</th>\n",
       "      <th>email_verification</th>\n",
       "      <th>phone_verification</th>\n",
       "      <th>work_email_verification</th>\n",
       "    </tr>\n",
       "  </thead>\n",
       "  <tbody>\n",
       "    <tr>\n",
       "      <th>0</th>\n",
       "      <td>6623</td>\n",
       "      <td>Rental unit in Venice · ★4.94 · 2 bedrooms · 4...</td>\n",
       "      <td>Close by is the Frari Church (known as Tiziano...</td>\n",
       "      <td>15016</td>\n",
       "      <td>2009-04-27</td>\n",
       "      <td>I'm usually happy and busy, often compelled to...</td>\n",
       "      <td>within a day</td>\n",
       "      <td>100.0</td>\n",
       "      <td>74.0</td>\n",
       "      <td>t</td>\n",
       "      <td>...</td>\n",
       "      <td>3</td>\n",
       "      <td>3</td>\n",
       "      <td>0</td>\n",
       "      <td>0</td>\n",
       "      <td>1.08</td>\n",
       "      <td>0.573759</td>\n",
       "      <td>2.0</td>\n",
       "      <td>True</td>\n",
       "      <td>True</td>\n",
       "      <td>False</td>\n",
       "    </tr>\n",
       "    <tr>\n",
       "      <th>1</th>\n",
       "      <td>6624</td>\n",
       "      <td>Rental unit in Venice · ★4.98 · 2 bedrooms · 6...</td>\n",
       "      <td>We are in the middle of a residential area cal...</td>\n",
       "      <td>15016</td>\n",
       "      <td>2009-04-27</td>\n",
       "      <td>I'm usually happy and busy, often compelled to...</td>\n",
       "      <td>within a day</td>\n",
       "      <td>100.0</td>\n",
       "      <td>74.0</td>\n",
       "      <td>t</td>\n",
       "      <td>...</td>\n",
       "      <td>3</td>\n",
       "      <td>3</td>\n",
       "      <td>0</td>\n",
       "      <td>0</td>\n",
       "      <td>0.59</td>\n",
       "      <td>0.634166</td>\n",
       "      <td>2.0</td>\n",
       "      <td>True</td>\n",
       "      <td>True</td>\n",
       "      <td>False</td>\n",
       "    </tr>\n",
       "    <tr>\n",
       "      <th>2</th>\n",
       "      <td>12074</td>\n",
       "      <td>Rental unit in Venice · ★4.94 · 2 bedrooms · 4...</td>\n",
       "      <td>There are plenty of bars, restaurants and pizz...</td>\n",
       "      <td>15016</td>\n",
       "      <td>2009-04-27</td>\n",
       "      <td>I'm usually happy and busy, often compelled to...</td>\n",
       "      <td>within a day</td>\n",
       "      <td>100.0</td>\n",
       "      <td>74.0</td>\n",
       "      <td>t</td>\n",
       "      <td>...</td>\n",
       "      <td>3</td>\n",
       "      <td>3</td>\n",
       "      <td>0</td>\n",
       "      <td>0</td>\n",
       "      <td>1.21</td>\n",
       "      <td>0.430166</td>\n",
       "      <td>2.0</td>\n",
       "      <td>True</td>\n",
       "      <td>True</td>\n",
       "      <td>False</td>\n",
       "    </tr>\n",
       "    <tr>\n",
       "      <th>3</th>\n",
       "      <td>27116</td>\n",
       "      <td>Bed and breakfast in Venice · ★4.84 · 1 bedroo...</td>\n",
       "      <td>The area is very beautiful and characteristic,...</td>\n",
       "      <td>116144</td>\n",
       "      <td>2010-04-30</td>\n",
       "      <td></td>\n",
       "      <td>within an hour</td>\n",
       "      <td>100.0</td>\n",
       "      <td>100.0</td>\n",
       "      <td>f</td>\n",
       "      <td>...</td>\n",
       "      <td>3</td>\n",
       "      <td>1</td>\n",
       "      <td>2</td>\n",
       "      <td>0</td>\n",
       "      <td>2.55</td>\n",
       "      <td>0.491334</td>\n",
       "      <td>1.0</td>\n",
       "      <td>True</td>\n",
       "      <td>True</td>\n",
       "      <td>False</td>\n",
       "    </tr>\n",
       "    <tr>\n",
       "      <th>4</th>\n",
       "      <td>44527</td>\n",
       "      <td>Rental unit in Venice · ★4.85 · 3 bedrooms · 3...</td>\n",
       "      <td>Cannaregio is a well-connected, truly Venetian...</td>\n",
       "      <td>120215</td>\n",
       "      <td>2010-05-07</td>\n",
       "      <td>I (Marc) have lived in Venice all my life, stu...</td>\n",
       "      <td>within an hour</td>\n",
       "      <td>100.0</td>\n",
       "      <td>100.0</td>\n",
       "      <td>t</td>\n",
       "      <td>...</td>\n",
       "      <td>2</td>\n",
       "      <td>2</td>\n",
       "      <td>0</td>\n",
       "      <td>0</td>\n",
       "      <td>0.83</td>\n",
       "      <td>1.040278</td>\n",
       "      <td>2.0</td>\n",
       "      <td>True</td>\n",
       "      <td>True</td>\n",
       "      <td>True</td>\n",
       "    </tr>\n",
       "  </tbody>\n",
       "</table>\n",
       "<p>5 rows × 51 columns</p>\n",
       "</div>"
      ]
     },
     "execution_count": 26,
     "metadata": {},
     "output_type": "execute_result"
    }
   ],
   "execution_count": 26
  },
  {
   "metadata": {
    "ExecuteTime": {
     "end_time": "2024-07-23T20:09:20.940636Z",
     "start_time": "2024-07-23T20:09:20.928604Z"
    }
   },
   "cell_type": "code",
   "source": [
    "# create dataset for imputing reviews NAs\n",
    "df_imputation = dic2023_d_listings.drop([\"price\"], axis=1)"
   ],
   "id": "3829b34958683ef8",
   "outputs": [],
   "execution_count": 27
  },
  {
   "metadata": {
    "ExecuteTime": {
     "end_time": "2024-07-23T20:09:21.503637Z",
     "start_time": "2024-07-23T20:09:20.943205Z"
    }
   },
   "cell_type": "code",
   "source": [
    "imputer = KNNImputer(n_neighbors=5, weights=\"distance\", metric=\"nan_euclidean\", copy=False)\n",
    "imputer.fit_transform()"
   ],
   "id": "b6806c01ea4f4e7c",
   "outputs": [
    {
     "ename": "TypeError",
     "evalue": "TransformerMixin.fit_transform() missing 1 required positional argument: 'X'",
     "output_type": "error",
     "traceback": [
      "\u001B[0;31m---------------------------------------------------------------------------\u001B[0m",
      "\u001B[0;31mTypeError\u001B[0m                                 Traceback (most recent call last)",
      "Cell \u001B[0;32mIn[28], line 2\u001B[0m\n\u001B[1;32m      1\u001B[0m imputer \u001B[38;5;241m=\u001B[39m KNNImputer(n_neighbors\u001B[38;5;241m=\u001B[39m\u001B[38;5;241m5\u001B[39m, weights\u001B[38;5;241m=\u001B[39m\u001B[38;5;124m\"\u001B[39m\u001B[38;5;124mdistance\u001B[39m\u001B[38;5;124m\"\u001B[39m, metric\u001B[38;5;241m=\u001B[39m\u001B[38;5;124m\"\u001B[39m\u001B[38;5;124mnan_euclidean\u001B[39m\u001B[38;5;124m\"\u001B[39m, copy\u001B[38;5;241m=\u001B[39m\u001B[38;5;28;01mFalse\u001B[39;00m)\n\u001B[0;32m----> 2\u001B[0m \u001B[43mimputer\u001B[49m\u001B[38;5;241;43m.\u001B[39;49m\u001B[43mfit_transform\u001B[49m\u001B[43m(\u001B[49m\u001B[43m)\u001B[49m\n",
      "\u001B[0;31mTypeError\u001B[0m: TransformerMixin.fit_transform() missing 1 required positional argument: 'X'"
     ]
    }
   ],
   "execution_count": 28
  },
  {
   "metadata": {},
   "cell_type": "code",
   "source": "dic2023_d_listings.isnull().sum(axis=0)",
   "id": "671bd14ecfafc80b",
   "outputs": [],
   "execution_count": null
  },
  {
   "metadata": {},
   "cell_type": "code",
   "source": "dic2023_d_reviews = dic2023_d_reviews[[\"listing_id\", \"id\", \"date\", \"comments\"]]",
   "id": "1b619b4e2ff55601",
   "outputs": [],
   "execution_count": null
  }
 ],
 "metadata": {
  "kernelspec": {
   "display_name": "Python 3",
   "language": "python",
   "name": "python3"
  },
  "language_info": {
   "codemirror_mode": {
    "name": "ipython",
    "version": 2
   },
   "file_extension": ".py",
   "mimetype": "text/x-python",
   "name": "python",
   "nbconvert_exporter": "python",
   "pygments_lexer": "ipython2",
   "version": "2.7.6"
  }
 },
 "nbformat": 4,
 "nbformat_minor": 5
}
