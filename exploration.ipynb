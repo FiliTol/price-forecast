{
 "cells": [
  {
   "cell_type": "code",
   "id": "initial_id",
   "metadata": {
    "collapsed": true,
    "ExecuteTime": {
     "end_time": "2024-07-24T16:32:29.122136Z",
     "start_time": "2024-07-24T16:32:26.856203Z"
    }
   },
   "source": [
    "from distutils.command.clean import clean\n",
    "\n",
    "import pandas as pd\n",
    "pd.options.display.float_format = '{:.0f}'.format\n",
    "from pandas.api.types import CategoricalDtype\n",
    "import numpy as np\n",
    "from geopy.geocoders import Nominatim\n",
    "from geopy.distance import geodesic\n",
    "from geopy.extra.rate_limiter import RateLimiter\n",
    "from tqdm import tqdm\n",
    "import json\n",
    "import statistics\n",
    "import re\n",
    "from sklearn.impute import KNNImputer\n",
    "from decimal import Decimal\n",
    "\n",
    "# For sentiment analysis of text\n",
    "import nltk\n",
    "#nltk.download(\"all\") # Only first time\n",
    "from nltk.sentiment.vader import SentimentIntensityAnalyzer\n",
    "from nltk.corpus import stopwords\n",
    "from nltk.tokenize import word_tokenize\n",
    "from nltk.stem import WordNetLemmatizer\n"
   ],
   "outputs": [],
   "execution_count": 1
  },
  {
   "metadata": {},
   "cell_type": "markdown",
   "source": "## December 2023",
   "id": "b6fa6d1ba53c37f4"
  },
  {
   "metadata": {
    "ExecuteTime": {
     "end_time": "2024-07-24T16:32:29.444540Z",
     "start_time": "2024-07-24T16:32:29.127279Z"
    }
   },
   "cell_type": "code",
   "source": "pd.read_csv(\"data/2023dic/d_listings.csv\")",
   "id": "5d16fe00d5d7740a",
   "outputs": [
    {
     "data": {
      "text/plain": [
       "                       id                                       listing_url  \\\n",
       "0                    6623                 https://www.airbnb.com/rooms/6623   \n",
       "1                    6624                 https://www.airbnb.com/rooms/6624   \n",
       "2                   12074                https://www.airbnb.com/rooms/12074   \n",
       "3                   27116                https://www.airbnb.com/rooms/27116   \n",
       "4                   44527                https://www.airbnb.com/rooms/44527   \n",
       "...                   ...                                               ...   \n",
       "7881  1043303544124336952  https://www.airbnb.com/rooms/1043303544124336952   \n",
       "7882  1043366341069554128  https://www.airbnb.com/rooms/1043366341069554128   \n",
       "7883  1043440099679319097  https://www.airbnb.com/rooms/1043440099679319097   \n",
       "7884  1043464242138231179  https://www.airbnb.com/rooms/1043464242138231179   \n",
       "7885  1043656713215406286  https://www.airbnb.com/rooms/1043656713215406286   \n",
       "\n",
       "           scrape_id last_scraped       source  \\\n",
       "0     20231212042056   2023-12-12  city scrape   \n",
       "1     20231212042056   2023-12-12  city scrape   \n",
       "2     20231212042056   2023-12-12  city scrape   \n",
       "3     20231212042056   2023-12-12  city scrape   \n",
       "4     20231212042056   2023-12-12  city scrape   \n",
       "...              ...          ...          ...   \n",
       "7881  20231212042056   2023-12-12  city scrape   \n",
       "7882  20231212042056   2023-12-12  city scrape   \n",
       "7883  20231212042056   2023-12-12  city scrape   \n",
       "7884  20231212042056   2023-12-12  city scrape   \n",
       "7885  20231212042056   2023-12-12  city scrape   \n",
       "\n",
       "                                                   name  description  \\\n",
       "0     Rental unit in Venice · ★4.94 · 2 bedrooms · 4...          NaN   \n",
       "1     Rental unit in Venice · ★4.98 · 2 bedrooms · 6...          NaN   \n",
       "2     Rental unit in Venice · ★4.94 · 2 bedrooms · 4...          NaN   \n",
       "3     Bed and breakfast in Venice · ★4.84 · 1 bedroo...          NaN   \n",
       "4     Rental unit in Venice · ★4.85 · 3 bedrooms · 3...          NaN   \n",
       "...                                                 ...          ...   \n",
       "7881  Rental unit in Venice · ★New · 1 bedroom · 1 b...          NaN   \n",
       "7882  Hotel in Venice · ★New · 2 bedrooms · 2 beds ·...          NaN   \n",
       "7883  Rental unit in Venice · ★New · 2 bedrooms · 2 ...          NaN   \n",
       "7884  Rental unit in Venice · ★New · 1 bedroom · 1 b...          NaN   \n",
       "7885  Rental unit in Venice · ★New · 2 bedrooms · 3 ...          NaN   \n",
       "\n",
       "                                  neighborhood_overview  \\\n",
       "0     Close by is the Frari Church (known as Tiziano...   \n",
       "1     We are in the middle of a residential area cal...   \n",
       "2     There are plenty of bars, restaurants and pizz...   \n",
       "3     The area is very beautiful and characteristic,...   \n",
       "4     Cannaregio is a well-connected, truly Venetian...   \n",
       "...                                                 ...   \n",
       "7881  Sestiere Cannaregio, vicino alla Chiesa  San L...   \n",
       "7882                                                NaN   \n",
       "7883                                                NaN   \n",
       "7884                                                NaN   \n",
       "7885                                                NaN   \n",
       "\n",
       "                                            picture_url    host_id  ...  \\\n",
       "0     https://a0.muscache.com/pictures/492258/834683...      15016  ...   \n",
       "1     https://a0.muscache.com/pictures/65440024/a564...      15016  ...   \n",
       "2     https://a0.muscache.com/pictures/11646330/65e7...      15016  ...   \n",
       "3     https://a0.muscache.com/pictures/miso/Hosting-...     116144  ...   \n",
       "4     https://a0.muscache.com/pictures/d81fb136-a867...     120215  ...   \n",
       "...                                                 ...        ...  ...   \n",
       "7881  https://a0.muscache.com/pictures/miso/Hosting-...   10072655  ...   \n",
       "7882  https://a0.muscache.com/pictures/miso/Hosting-...  499474233  ...   \n",
       "7883  https://a0.muscache.com/pictures/miso/Hosting-...   10072655  ...   \n",
       "7884  https://a0.muscache.com/pictures/miso/Hosting-...   10072655  ...   \n",
       "7885  https://a0.muscache.com/pictures/hosting/Hosti...    3281444  ...   \n",
       "\n",
       "     review_scores_communication review_scores_location review_scores_value  \\\n",
       "0                              5                      5                   5   \n",
       "1                              5                      5                   5   \n",
       "2                              5                      5                   5   \n",
       "3                              5                      5                   5   \n",
       "4                              5                      5                   5   \n",
       "...                          ...                    ...                 ...   \n",
       "7881                         NaN                    NaN                 NaN   \n",
       "7882                         NaN                    NaN                 NaN   \n",
       "7883                         NaN                    NaN                 NaN   \n",
       "7884                         NaN                    NaN                 NaN   \n",
       "7885                         NaN                    NaN                 NaN   \n",
       "\n",
       "          license instant_bookable calculated_host_listings_count  \\\n",
       "0             NaN                f                              3   \n",
       "1             NaN                f                              3   \n",
       "2             NaN                f                              3   \n",
       "3             NaN                t                              3   \n",
       "4     M0270422294                f                              2   \n",
       "...           ...              ...                            ...   \n",
       "7881          NaN                t                             14   \n",
       "7882          NaN                t                              2   \n",
       "7883          NaN                t                             14   \n",
       "7884          NaN                t                             14   \n",
       "7885          NaN                t                              2   \n",
       "\n",
       "     calculated_host_listings_count_entire_homes  \\\n",
       "0                                              3   \n",
       "1                                              3   \n",
       "2                                              3   \n",
       "3                                              1   \n",
       "4                                              2   \n",
       "...                                          ...   \n",
       "7881                                          14   \n",
       "7882                                           0   \n",
       "7883                                          14   \n",
       "7884                                          14   \n",
       "7885                                           2   \n",
       "\n",
       "     calculated_host_listings_count_private_rooms  \\\n",
       "0                                               0   \n",
       "1                                               0   \n",
       "2                                               0   \n",
       "3                                               2   \n",
       "4                                               0   \n",
       "...                                           ...   \n",
       "7881                                            0   \n",
       "7882                                            2   \n",
       "7883                                            0   \n",
       "7884                                            0   \n",
       "7885                                            0   \n",
       "\n",
       "     calculated_host_listings_count_shared_rooms reviews_per_month  \n",
       "0                                              0                 1  \n",
       "1                                              0                 1  \n",
       "2                                              0                 1  \n",
       "3                                              0                 3  \n",
       "4                                              0                 1  \n",
       "...                                          ...               ...  \n",
       "7881                                           0               NaN  \n",
       "7882                                           0               NaN  \n",
       "7883                                           0               NaN  \n",
       "7884                                           0               NaN  \n",
       "7885                                           0               NaN  \n",
       "\n",
       "[7886 rows x 75 columns]"
      ],
      "text/html": [
       "<div>\n",
       "<style scoped>\n",
       "    .dataframe tbody tr th:only-of-type {\n",
       "        vertical-align: middle;\n",
       "    }\n",
       "\n",
       "    .dataframe tbody tr th {\n",
       "        vertical-align: top;\n",
       "    }\n",
       "\n",
       "    .dataframe thead th {\n",
       "        text-align: right;\n",
       "    }\n",
       "</style>\n",
       "<table border=\"1\" class=\"dataframe\">\n",
       "  <thead>\n",
       "    <tr style=\"text-align: right;\">\n",
       "      <th></th>\n",
       "      <th>id</th>\n",
       "      <th>listing_url</th>\n",
       "      <th>scrape_id</th>\n",
       "      <th>last_scraped</th>\n",
       "      <th>source</th>\n",
       "      <th>name</th>\n",
       "      <th>description</th>\n",
       "      <th>neighborhood_overview</th>\n",
       "      <th>picture_url</th>\n",
       "      <th>host_id</th>\n",
       "      <th>...</th>\n",
       "      <th>review_scores_communication</th>\n",
       "      <th>review_scores_location</th>\n",
       "      <th>review_scores_value</th>\n",
       "      <th>license</th>\n",
       "      <th>instant_bookable</th>\n",
       "      <th>calculated_host_listings_count</th>\n",
       "      <th>calculated_host_listings_count_entire_homes</th>\n",
       "      <th>calculated_host_listings_count_private_rooms</th>\n",
       "      <th>calculated_host_listings_count_shared_rooms</th>\n",
       "      <th>reviews_per_month</th>\n",
       "    </tr>\n",
       "  </thead>\n",
       "  <tbody>\n",
       "    <tr>\n",
       "      <th>0</th>\n",
       "      <td>6623</td>\n",
       "      <td>https://www.airbnb.com/rooms/6623</td>\n",
       "      <td>20231212042056</td>\n",
       "      <td>2023-12-12</td>\n",
       "      <td>city scrape</td>\n",
       "      <td>Rental unit in Venice · ★4.94 · 2 bedrooms · 4...</td>\n",
       "      <td>NaN</td>\n",
       "      <td>Close by is the Frari Church (known as Tiziano...</td>\n",
       "      <td>https://a0.muscache.com/pictures/492258/834683...</td>\n",
       "      <td>15016</td>\n",
       "      <td>...</td>\n",
       "      <td>5</td>\n",
       "      <td>5</td>\n",
       "      <td>5</td>\n",
       "      <td>NaN</td>\n",
       "      <td>f</td>\n",
       "      <td>3</td>\n",
       "      <td>3</td>\n",
       "      <td>0</td>\n",
       "      <td>0</td>\n",
       "      <td>1</td>\n",
       "    </tr>\n",
       "    <tr>\n",
       "      <th>1</th>\n",
       "      <td>6624</td>\n",
       "      <td>https://www.airbnb.com/rooms/6624</td>\n",
       "      <td>20231212042056</td>\n",
       "      <td>2023-12-12</td>\n",
       "      <td>city scrape</td>\n",
       "      <td>Rental unit in Venice · ★4.98 · 2 bedrooms · 6...</td>\n",
       "      <td>NaN</td>\n",
       "      <td>We are in the middle of a residential area cal...</td>\n",
       "      <td>https://a0.muscache.com/pictures/65440024/a564...</td>\n",
       "      <td>15016</td>\n",
       "      <td>...</td>\n",
       "      <td>5</td>\n",
       "      <td>5</td>\n",
       "      <td>5</td>\n",
       "      <td>NaN</td>\n",
       "      <td>f</td>\n",
       "      <td>3</td>\n",
       "      <td>3</td>\n",
       "      <td>0</td>\n",
       "      <td>0</td>\n",
       "      <td>1</td>\n",
       "    </tr>\n",
       "    <tr>\n",
       "      <th>2</th>\n",
       "      <td>12074</td>\n",
       "      <td>https://www.airbnb.com/rooms/12074</td>\n",
       "      <td>20231212042056</td>\n",
       "      <td>2023-12-12</td>\n",
       "      <td>city scrape</td>\n",
       "      <td>Rental unit in Venice · ★4.94 · 2 bedrooms · 4...</td>\n",
       "      <td>NaN</td>\n",
       "      <td>There are plenty of bars, restaurants and pizz...</td>\n",
       "      <td>https://a0.muscache.com/pictures/11646330/65e7...</td>\n",
       "      <td>15016</td>\n",
       "      <td>...</td>\n",
       "      <td>5</td>\n",
       "      <td>5</td>\n",
       "      <td>5</td>\n",
       "      <td>NaN</td>\n",
       "      <td>f</td>\n",
       "      <td>3</td>\n",
       "      <td>3</td>\n",
       "      <td>0</td>\n",
       "      <td>0</td>\n",
       "      <td>1</td>\n",
       "    </tr>\n",
       "    <tr>\n",
       "      <th>3</th>\n",
       "      <td>27116</td>\n",
       "      <td>https://www.airbnb.com/rooms/27116</td>\n",
       "      <td>20231212042056</td>\n",
       "      <td>2023-12-12</td>\n",
       "      <td>city scrape</td>\n",
       "      <td>Bed and breakfast in Venice · ★4.84 · 1 bedroo...</td>\n",
       "      <td>NaN</td>\n",
       "      <td>The area is very beautiful and characteristic,...</td>\n",
       "      <td>https://a0.muscache.com/pictures/miso/Hosting-...</td>\n",
       "      <td>116144</td>\n",
       "      <td>...</td>\n",
       "      <td>5</td>\n",
       "      <td>5</td>\n",
       "      <td>5</td>\n",
       "      <td>NaN</td>\n",
       "      <td>t</td>\n",
       "      <td>3</td>\n",
       "      <td>1</td>\n",
       "      <td>2</td>\n",
       "      <td>0</td>\n",
       "      <td>3</td>\n",
       "    </tr>\n",
       "    <tr>\n",
       "      <th>4</th>\n",
       "      <td>44527</td>\n",
       "      <td>https://www.airbnb.com/rooms/44527</td>\n",
       "      <td>20231212042056</td>\n",
       "      <td>2023-12-12</td>\n",
       "      <td>city scrape</td>\n",
       "      <td>Rental unit in Venice · ★4.85 · 3 bedrooms · 3...</td>\n",
       "      <td>NaN</td>\n",
       "      <td>Cannaregio is a well-connected, truly Venetian...</td>\n",
       "      <td>https://a0.muscache.com/pictures/d81fb136-a867...</td>\n",
       "      <td>120215</td>\n",
       "      <td>...</td>\n",
       "      <td>5</td>\n",
       "      <td>5</td>\n",
       "      <td>5</td>\n",
       "      <td>M0270422294</td>\n",
       "      <td>f</td>\n",
       "      <td>2</td>\n",
       "      <td>2</td>\n",
       "      <td>0</td>\n",
       "      <td>0</td>\n",
       "      <td>1</td>\n",
       "    </tr>\n",
       "    <tr>\n",
       "      <th>...</th>\n",
       "      <td>...</td>\n",
       "      <td>...</td>\n",
       "      <td>...</td>\n",
       "      <td>...</td>\n",
       "      <td>...</td>\n",
       "      <td>...</td>\n",
       "      <td>...</td>\n",
       "      <td>...</td>\n",
       "      <td>...</td>\n",
       "      <td>...</td>\n",
       "      <td>...</td>\n",
       "      <td>...</td>\n",
       "      <td>...</td>\n",
       "      <td>...</td>\n",
       "      <td>...</td>\n",
       "      <td>...</td>\n",
       "      <td>...</td>\n",
       "      <td>...</td>\n",
       "      <td>...</td>\n",
       "      <td>...</td>\n",
       "      <td>...</td>\n",
       "    </tr>\n",
       "    <tr>\n",
       "      <th>7881</th>\n",
       "      <td>1043303544124336952</td>\n",
       "      <td>https://www.airbnb.com/rooms/1043303544124336952</td>\n",
       "      <td>20231212042056</td>\n",
       "      <td>2023-12-12</td>\n",
       "      <td>city scrape</td>\n",
       "      <td>Rental unit in Venice · ★New · 1 bedroom · 1 b...</td>\n",
       "      <td>NaN</td>\n",
       "      <td>Sestiere Cannaregio, vicino alla Chiesa  San L...</td>\n",
       "      <td>https://a0.muscache.com/pictures/miso/Hosting-...</td>\n",
       "      <td>10072655</td>\n",
       "      <td>...</td>\n",
       "      <td>NaN</td>\n",
       "      <td>NaN</td>\n",
       "      <td>NaN</td>\n",
       "      <td>NaN</td>\n",
       "      <td>t</td>\n",
       "      <td>14</td>\n",
       "      <td>14</td>\n",
       "      <td>0</td>\n",
       "      <td>0</td>\n",
       "      <td>NaN</td>\n",
       "    </tr>\n",
       "    <tr>\n",
       "      <th>7882</th>\n",
       "      <td>1043366341069554128</td>\n",
       "      <td>https://www.airbnb.com/rooms/1043366341069554128</td>\n",
       "      <td>20231212042056</td>\n",
       "      <td>2023-12-12</td>\n",
       "      <td>city scrape</td>\n",
       "      <td>Hotel in Venice · ★New · 2 bedrooms · 2 beds ·...</td>\n",
       "      <td>NaN</td>\n",
       "      <td>NaN</td>\n",
       "      <td>https://a0.muscache.com/pictures/miso/Hosting-...</td>\n",
       "      <td>499474233</td>\n",
       "      <td>...</td>\n",
       "      <td>NaN</td>\n",
       "      <td>NaN</td>\n",
       "      <td>NaN</td>\n",
       "      <td>NaN</td>\n",
       "      <td>t</td>\n",
       "      <td>2</td>\n",
       "      <td>0</td>\n",
       "      <td>2</td>\n",
       "      <td>0</td>\n",
       "      <td>NaN</td>\n",
       "    </tr>\n",
       "    <tr>\n",
       "      <th>7883</th>\n",
       "      <td>1043440099679319097</td>\n",
       "      <td>https://www.airbnb.com/rooms/1043440099679319097</td>\n",
       "      <td>20231212042056</td>\n",
       "      <td>2023-12-12</td>\n",
       "      <td>city scrape</td>\n",
       "      <td>Rental unit in Venice · ★New · 2 bedrooms · 2 ...</td>\n",
       "      <td>NaN</td>\n",
       "      <td>NaN</td>\n",
       "      <td>https://a0.muscache.com/pictures/miso/Hosting-...</td>\n",
       "      <td>10072655</td>\n",
       "      <td>...</td>\n",
       "      <td>NaN</td>\n",
       "      <td>NaN</td>\n",
       "      <td>NaN</td>\n",
       "      <td>NaN</td>\n",
       "      <td>t</td>\n",
       "      <td>14</td>\n",
       "      <td>14</td>\n",
       "      <td>0</td>\n",
       "      <td>0</td>\n",
       "      <td>NaN</td>\n",
       "    </tr>\n",
       "    <tr>\n",
       "      <th>7884</th>\n",
       "      <td>1043464242138231179</td>\n",
       "      <td>https://www.airbnb.com/rooms/1043464242138231179</td>\n",
       "      <td>20231212042056</td>\n",
       "      <td>2023-12-12</td>\n",
       "      <td>city scrape</td>\n",
       "      <td>Rental unit in Venice · ★New · 1 bedroom · 1 b...</td>\n",
       "      <td>NaN</td>\n",
       "      <td>NaN</td>\n",
       "      <td>https://a0.muscache.com/pictures/miso/Hosting-...</td>\n",
       "      <td>10072655</td>\n",
       "      <td>...</td>\n",
       "      <td>NaN</td>\n",
       "      <td>NaN</td>\n",
       "      <td>NaN</td>\n",
       "      <td>NaN</td>\n",
       "      <td>t</td>\n",
       "      <td>14</td>\n",
       "      <td>14</td>\n",
       "      <td>0</td>\n",
       "      <td>0</td>\n",
       "      <td>NaN</td>\n",
       "    </tr>\n",
       "    <tr>\n",
       "      <th>7885</th>\n",
       "      <td>1043656713215406286</td>\n",
       "      <td>https://www.airbnb.com/rooms/1043656713215406286</td>\n",
       "      <td>20231212042056</td>\n",
       "      <td>2023-12-12</td>\n",
       "      <td>city scrape</td>\n",
       "      <td>Rental unit in Venice · ★New · 2 bedrooms · 3 ...</td>\n",
       "      <td>NaN</td>\n",
       "      <td>NaN</td>\n",
       "      <td>https://a0.muscache.com/pictures/hosting/Hosti...</td>\n",
       "      <td>3281444</td>\n",
       "      <td>...</td>\n",
       "      <td>NaN</td>\n",
       "      <td>NaN</td>\n",
       "      <td>NaN</td>\n",
       "      <td>NaN</td>\n",
       "      <td>t</td>\n",
       "      <td>2</td>\n",
       "      <td>2</td>\n",
       "      <td>0</td>\n",
       "      <td>0</td>\n",
       "      <td>NaN</td>\n",
       "    </tr>\n",
       "  </tbody>\n",
       "</table>\n",
       "<p>7886 rows × 75 columns</p>\n",
       "</div>"
      ]
     },
     "execution_count": 2,
     "metadata": {},
     "output_type": "execute_result"
    }
   ],
   "execution_count": 2
  },
  {
   "metadata": {
    "ExecuteTime": {
     "end_time": "2024-07-24T16:32:38.777883Z",
     "start_time": "2024-07-24T16:32:29.447826Z"
    }
   },
   "cell_type": "code",
   "source": [
    "dic2023_reviews = pd.read_csv(\"data/2023dic/reviews.csv\")\n",
    "dic2023_calendar = pd.read_csv(\"data/2023dic/calendar.csv\", dtype={\"listing_id\": str,\n",
    "                                                   \"date\": str,\n",
    "                                                   \"available\": str,\n",
    "                                                   \"price\": str,\n",
    "                                                   \"adjusted_price\": str,\n",
    "                                                   \"minimum_nights\": str,\n",
    "                                                   \"maximum_nights\": str})\n",
    "dic2023_listings = pd.read_csv(\"data/2023dic/listings.csv\")\n",
    "dic2023_neighbourhoods = pd.read_csv(\"data/2023dic/neighbourhoods.csv\")\n",
    "# dic2023_geo_neighbourhoods  # GeoJson\n",
    "dic2023_d_listings = pd.read_csv(\"data/2023dic/d_listings.csv\")\n",
    "dic2023_d_reviews = pd.read_csv(\"data/2023dic/d_reviews.csv\")\n"
   ],
   "id": "10c9f9123683e30e",
   "outputs": [],
   "execution_count": 3
  },
  {
   "metadata": {},
   "cell_type": "markdown",
   "source": "## Listings",
   "id": "171719481d202a76"
  },
  {
   "metadata": {
    "ExecuteTime": {
     "end_time": "2024-07-24T16:32:38.803746Z",
     "start_time": "2024-07-24T16:32:38.782307Z"
    }
   },
   "cell_type": "code",
   "source": [
    "dic2023_d_listings = dic2023_d_listings[['id', 'name', 'neighborhood_overview', 'host_id', 'host_since', 'host_location', 'host_about',\n",
    "                   'host_response_time', 'host_response_rate', 'host_acceptance_rate', 'host_is_superhost',\n",
    "                   'host_listings_count', 'host_total_listings_count', 'host_verifications',\n",
    "                   'host_has_profile_pic', 'host_identity_verified', 'neighbourhood_cleansed',\n",
    "                   'latitude', 'longitude', 'property_type',\n",
    "                   'accommodates', 'bathrooms_text', 'beds', 'price',\n",
    "                   'minimum_nights_avg_ntm', 'maximum_nights_avg_ntm', 'has_availability', 'availability_30',\n",
    "                   'availability_60', 'availability_90', 'availability_365', 'number_of_reviews', 'first_review',\n",
    "                   'last_review', 'review_scores_rating', 'review_scores_accuracy', 'review_scores_cleanliness',\n",
    "                   'review_scores_checkin', 'review_scores_communication', 'review_scores_location',\n",
    "                   'review_scores_value', 'calculated_host_listings_count',\n",
    "                   'calculated_host_listings_count_entire_homes', 'calculated_host_listings_count_private_rooms',\n",
    "                   'calculated_host_listings_count_shared_rooms', 'reviews_per_month']]\n"
   ],
   "id": "521b936287b60cb9",
   "outputs": [],
   "execution_count": 4
  },
  {
   "metadata": {
    "ExecuteTime": {
     "end_time": "2024-07-24T16:32:38.832065Z",
     "start_time": "2024-07-24T16:32:38.812706Z"
    }
   },
   "cell_type": "code",
   "source": [
    "dic2023_d_listings.neighborhood_overview = dic2023_d_listings.neighborhood_overview.fillna(\"\")\n",
    "dic2023_d_listings.host_about = dic2023_d_listings.host_about.fillna(\"\")"
   ],
   "id": "44394dfcbaddb3c1",
   "outputs": [],
   "execution_count": 5
  },
  {
   "metadata": {},
   "cell_type": "markdown",
   "source": "We can consider the distance between the Host house and the actual property",
   "id": "1e866f8dda1fece1"
  },
  {
   "metadata": {
    "ExecuteTime": {
     "end_time": "2024-07-24T16:32:38.847608Z",
     "start_time": "2024-07-24T16:32:38.836180Z"
    }
   },
   "cell_type": "code",
   "source": [
    "#location_geo = {}\n",
    "#for l in tqdm(dic2023_d_listings.host_location.unique().tolist()):\n",
    "#    geolocator = Nominatim(user_agent=\"Host to listing distance\")\n",
    "#    geocode = RateLimiter(geolocator.geocode, min_delay_seconds=1.1)\n",
    "#    host_location = geolocator.geocode(l)\n",
    "#    location_geo[l] = (host_location.latitude, host_location.longitude)\n",
    "#    \n",
    "#with open(\"data/2023dic/hosts_locations.json\", 'w') as f:\n",
    "#    json.dump(location_geo, f)\n",
    "#"
   ],
   "id": "409b174f2c0d4917",
   "outputs": [],
   "execution_count": 6
  },
  {
   "metadata": {},
   "cell_type": "markdown",
   "source": "### Host and listing location",
   "id": "b1193b97a4c9f881"
  },
  {
   "metadata": {
    "ExecuteTime": {
     "end_time": "2024-07-24T16:32:41.363604Z",
     "start_time": "2024-07-24T16:32:38.850851Z"
    }
   },
   "cell_type": "code",
   "source": [
    "with open(\"data/2023dic/hosts_locations.json\", 'r') as f:\n",
    "    location_geo = json.load(f)\n",
    "\n",
    "dic2023_d_listings[\"host_location\"] = dic2023_d_listings[\"host_location\"].apply(lambda x: location_geo.get(x))\n",
    "\n",
    "def geodesic_distancer(row):\n",
    "    try:\n",
    "        coords_1 = (row['host_location'][0], row['host_location'][1])\n",
    "        coords_2 = (row[\"latitude\"], row[\"longitude\"])\n",
    "        return geodesic(coords_1, coords_2).km\n",
    "    except:\n",
    "        return None\n",
    "\n",
    "dic2023_d_listings['host_to_listing_geodesic_km'] = dic2023_d_listings.apply(geodesic_distancer, axis=1)\n",
    "dic2023_d_listings.host_to_listing_geodesic_km = dic2023_d_listings.host_to_listing_geodesic_km.fillna(statistics.mode(dic2023_d_listings[\"host_to_listing_geodesic_km\"]))\n",
    "dic2023_d_listings.drop(\"host_location\", axis=1, inplace=True)"
   ],
   "id": "d2293cdbf90d4425",
   "outputs": [],
   "execution_count": 7
  },
  {
   "metadata": {},
   "cell_type": "markdown",
   "source": "### Response time",
   "id": "e7f4a4201c971bad"
  },
  {
   "metadata": {
    "ExecuteTime": {
     "end_time": "2024-07-24T16:32:41.380799Z",
     "start_time": "2024-07-24T16:32:41.366844Z"
    }
   },
   "cell_type": "code",
   "source": [
    "dic2023_d_listings.host_response_time = dic2023_d_listings.host_response_time.fillna(\"MISSING\")\n",
    "categorial_response_time = CategoricalDtype(categories= ['MISSING',\n",
    "                                                         'a few days or more',\n",
    "                                                         'within a day',\n",
    "                                                         'within a few hours',\n",
    "                                                         'within an hour'],\n",
    "                                            ordered=True)\n",
    "dic2023_d_listings.host_response_time = dic2023_d_listings.host_response_time.astype(categorial_response_time)"
   ],
   "id": "d0fc0e68f3ca8055",
   "outputs": [],
   "execution_count": 8
  },
  {
   "metadata": {},
   "cell_type": "markdown",
   "source": "### Response rate",
   "id": "76369d85a6e48a5c"
  },
  {
   "metadata": {
    "ExecuteTime": {
     "end_time": "2024-07-24T16:32:41.414628Z",
     "start_time": "2024-07-24T16:32:41.383960Z"
    }
   },
   "cell_type": "code",
   "source": [
    "dic2023_d_listings[\"host_response_rate\"] = dic2023_d_listings[\"host_response_rate\"].str.rstrip('%').astype(float)\n",
    "dic2023_d_listings.host_response_rate = dic2023_d_listings.host_response_rate.fillna(statistics.mode(dic2023_d_listings[\"host_response_rate\"]))\n"
   ],
   "id": "4c9e141220c2097e",
   "outputs": [],
   "execution_count": 9
  },
  {
   "metadata": {},
   "cell_type": "markdown",
   "source": "### Acceptance rate",
   "id": "3a57bc7d10d58718"
  },
  {
   "metadata": {
    "ExecuteTime": {
     "end_time": "2024-07-24T16:32:41.443539Z",
     "start_time": "2024-07-24T16:32:41.417397Z"
    }
   },
   "cell_type": "code",
   "source": [
    "dic2023_d_listings[\"host_acceptance_rate\"] = dic2023_d_listings[\"host_acceptance_rate\"].str.rstrip('%').astype(float)\n",
    "dic2023_d_listings.host_acceptance_rate = dic2023_d_listings.host_acceptance_rate.fillna(statistics.mode(dic2023_d_listings[\"host_acceptance_rate\"]))\n"
   ],
   "id": "1f8ac2160efd132f",
   "outputs": [],
   "execution_count": 10
  },
  {
   "metadata": {},
   "cell_type": "markdown",
   "source": "### Is superhost",
   "id": "d263f70a6ff1686c"
  },
  {
   "metadata": {
    "ExecuteTime": {
     "end_time": "2024-07-24T16:32:41.465434Z",
     "start_time": "2024-07-24T16:32:41.447101Z"
    }
   },
   "cell_type": "code",
   "source": [
    "dic2023_d_listings.host_is_superhost = dic2023_d_listings.host_is_superhost.fillna(statistics.mode(dic2023_d_listings[\"host_is_superhost\"]))\n",
    "dic2023_d_listings.host_is_superhost = dic2023_d_listings.host_is_superhost.apply(lambda x: 1 if x==\"t\" else 0)\n"
   ],
   "id": "5b765b690b317675",
   "outputs": [],
   "execution_count": 11
  },
  {
   "metadata": {},
   "cell_type": "markdown",
   "source": "### Bathrooms and bathrooms_text",
   "id": "1effbb27dcb5889b"
  },
  {
   "metadata": {
    "ExecuteTime": {
     "end_time": "2024-07-24T16:32:41.518459Z",
     "start_time": "2024-07-24T16:32:41.467975Z"
    }
   },
   "cell_type": "code",
   "source": "dic2023_d_listings.bathrooms_text = dic2023_d_listings.bathrooms_text.fillna(statistics.mode(dic2023_d_listings[\"bathrooms_text\"]))",
   "id": "1da0d1c477506ac3",
   "outputs": [],
   "execution_count": 12
  },
  {
   "metadata": {},
   "cell_type": "markdown",
   "source": "#### Create bathrooms feature",
   "id": "a96ff57924cae8a5"
  },
  {
   "metadata": {
    "ExecuteTime": {
     "end_time": "2024-07-24T16:32:41.567384Z",
     "start_time": "2024-07-24T16:32:41.520996Z"
    }
   },
   "cell_type": "code",
   "source": [
    "def extract_digits(text):\n",
    "    if \"half\" in text.lower():\n",
    "        return '0.5'\n",
    "    digits = re.findall(r'\\d+\\.\\d+|\\d+', text)\n",
    "    return ''.join(digits)\n",
    "\n",
    "dic2023_d_listings[\"bathrooms\"] = dic2023_d_listings[\"bathrooms_text\"].apply(extract_digits)\n",
    "dic2023_d_listings[\"bathrooms\"] = dic2023_d_listings[\"bathrooms\"].astype(float)"
   ],
   "id": "69498608604dcc41",
   "outputs": [],
   "execution_count": 13
  },
  {
   "metadata": {},
   "cell_type": "markdown",
   "source": "#### Edit bathrooms text_feature",
   "id": "1deaa23afb084205"
  },
  {
   "metadata": {
    "ExecuteTime": {
     "end_time": "2024-07-24T16:32:41.627012Z",
     "start_time": "2024-07-24T16:32:41.577823Z"
    }
   },
   "cell_type": "code",
   "source": [
    "def remove_digits(text):\n",
    "    return re.sub(r'\\d', '', text).strip()\n",
    "dic2023_d_listings[\"bathrooms_text\"] = dic2023_d_listings[\"bathrooms_text\"].apply(remove_digits)\n",
    "\n",
    "remap_baths = {\n",
    "    'baths': 'single',\n",
    "    'bath': 'single',\n",
    "    'private bath': 'private',\n",
    "    'shared bath': 'shared',\n",
    "    'shared baths': 'shared',\n",
    "    'Shared half-bath': 'shared',\n",
    "    '. baths': 'single',\n",
    "    '. shared baths': 'shared',\n",
    "    'Half-bath': 'single',\n",
    "    'Private half-bath': 'private'\n",
    "}\n",
    "\n",
    "dic2023_d_listings[\"bathrooms_text\"] = dic2023_d_listings[\"bathrooms_text\"].replace(remap_baths)\n"
   ],
   "id": "94a638f44744e8cb",
   "outputs": [],
   "execution_count": 14
  },
  {
   "metadata": {},
   "cell_type": "markdown",
   "source": "### Beds",
   "id": "1803ae676dd7e986"
  },
  {
   "metadata": {
    "ExecuteTime": {
     "end_time": "2024-07-24T16:32:41.671847Z",
     "start_time": "2024-07-24T16:32:41.629942Z"
    }
   },
   "cell_type": "code",
   "source": "dic2023_d_listings.beds = dic2023_d_listings.beds.fillna(statistics.mode(dic2023_d_listings[\"beds\"]))",
   "id": "323dbb0851e26cbc",
   "outputs": [],
   "execution_count": 15
  },
  {
   "metadata": {},
   "cell_type": "markdown",
   "source": "### Availability",
   "id": "4e6800eff6db8834"
  },
  {
   "metadata": {
    "ExecuteTime": {
     "end_time": "2024-07-24T16:32:41.687792Z",
     "start_time": "2024-07-24T16:32:41.676845Z"
    }
   },
   "cell_type": "code",
   "source": "dic2023_d_listings.has_availability = dic2023_d_listings.has_availability.fillna(statistics.mode(dic2023_d_listings[\"has_availability\"]))",
   "id": "8b8606a2cc339acd",
   "outputs": [],
   "execution_count": 16
  },
  {
   "metadata": {},
   "cell_type": "markdown",
   "source": "## Dealing with Types before NAs imputation",
   "id": "2caa38f7ebb3d19d"
  },
  {
   "metadata": {
    "ExecuteTime": {
     "end_time": "2024-07-24T16:32:41.739771Z",
     "start_time": "2024-07-24T16:32:41.693289Z"
    }
   },
   "cell_type": "code",
   "source": [
    "dic2023_d_listings[\"host_id\"] = dic2023_d_listings[\"host_id\"].astype(str)\n",
    "dic2023_d_listings[\"id\"] = dic2023_d_listings[\"id\"].astype(str)\n",
    "dic2023_d_listings[\"host_since\"] = pd.to_datetime(dic2023_d_listings[\"host_since\"])\n"
   ],
   "id": "500a5cd8be54863c",
   "outputs": [],
   "execution_count": 17
  },
  {
   "metadata": {
    "ExecuteTime": {
     "end_time": "2024-07-24T16:32:43.480925Z",
     "start_time": "2024-07-24T16:32:41.744518Z"
    }
   },
   "cell_type": "code",
   "source": [
    "dic2023_d_listings[\"email_verification\"] = False\n",
    "dic2023_d_listings[\"phone_verification\"] = False\n",
    "dic2023_d_listings[\"work_email_verification\"] = False\n",
    "\n",
    "def allocate_verifications_to_variables(row):\n",
    "    if \"email\" in row[\"host_verifications\"]:\n",
    "        row[\"email_verification\"] = True\n",
    "    if \"phone\" in row[\"host_verifications\"]:\n",
    "        row[\"phone_verification\"] = True\n",
    "    if \"work_email\" in row[\"host_verifications\"]:\n",
    "        row[\"work_email_verification\"] = True\n",
    "    return row\n",
    "\n",
    "dic2023_d_listings = dic2023_d_listings.apply(allocate_verifications_to_variables, axis=1)"
   ],
   "id": "964bfd1405b03f54",
   "outputs": [],
   "execution_count": 18
  },
  {
   "metadata": {
    "ExecuteTime": {
     "end_time": "2024-07-24T16:32:43.497379Z",
     "start_time": "2024-07-24T16:32:43.484056Z"
    }
   },
   "cell_type": "code",
   "source": "dic2023_d_listings.host_has_profile_pic = dic2023_d_listings.host_has_profile_pic.apply(lambda x: 1 if x==\"t\" else 0)",
   "id": "1e55c3b97b3a",
   "outputs": [],
   "execution_count": 19
  },
  {
   "metadata": {
    "ExecuteTime": {
     "end_time": "2024-07-24T16:32:43.519497Z",
     "start_time": "2024-07-24T16:32:43.500507Z"
    }
   },
   "cell_type": "code",
   "source": "dic2023_d_listings.host_identity_verified = dic2023_d_listings.host_identity_verified.apply(lambda x: 1 if x==\"t\" else 0)",
   "id": "19f7eff2d3d02414",
   "outputs": [],
   "execution_count": 20
  },
  {
   "metadata": {
    "ExecuteTime": {
     "end_time": "2024-07-24T16:32:43.618948Z",
     "start_time": "2024-07-24T16:32:43.522982Z"
    }
   },
   "cell_type": "code",
   "source": [
    "new_neighbourhoods_levels = {'Cannaregio': 'Centro Storico',\n",
    "                             'San Marco':'Centro Storico',\n",
    "                             'Isola San Giorgio': 'Centro Storico',\n",
    "                             'San Polo':'Centro Storico',\n",
    "                             'Castello': 'Centro Storico',\n",
    "                             \"Sant'Elena\": 'Centro Storico',\n",
    "                             'Dorsoduro': 'Centro Storico',\n",
    "                             'Sacca Fisola': 'Centro Storico',\n",
    "                             'Giudecca': 'Centro Storico',\n",
    "                             'Tronchetto': 'Centro Storico',\n",
    "                             'Santa Croce': 'Centro Storico',\n",
    "                             \"Ca' Emiliani\": 'Terraferma',\n",
    "                             'Marghera Zona Industriale': 'Terraferma',\n",
    "                             'Marghera Catene': 'Terraferma',\n",
    "                             'Marghera': 'Terraferma',\n",
    "                             \"Ca' Sabbioni\":'Terraferma',\n",
    "                             'Giustizia': 'Terraferma',\n",
    "                             'San Lorenzo XXV Aprile': 'Terraferma',\n",
    "                             'Bissuola': 'Terraferma',\n",
    "                             'Cipressina': 'Terraferma',\n",
    "                             'Zona Commerciale via Torino': 'Terraferma',\n",
    "                             'Carpenedo': 'Terraferma',\n",
    "                             'Villabona': 'Terraferma',\n",
    "                             'Santa Barbara': 'Terraferma',\n",
    "                             'Altobello': 'Terraferma',\n",
    "                             'Piave 1860': 'Terraferma',\n",
    "                             'La Favorita': 'Terraferma',\n",
    "                             'Villaggio Sartori': 'Terraferma',\n",
    "                             'Villaggio San Marco': 'Terraferma',\n",
    "                             'Gazzera': 'Terraferma',\n",
    "                             'Asseggiano': 'Terraferma',\n",
    "                             \"Pra' Secco\": 'Terraferma',\n",
    "                             'Gatta - Bondu?': 'Terraferma',\n",
    "                             'Quartiere Pertini': 'Terraferma',\n",
    "                             'Campalto CEP': 'Terraferma',\n",
    "                             'Mestre': 'Terraferma',\n",
    "                             \"Scaramuzza\": \"Terraferma\",\n",
    "                             'Alberoni': 'Isole',\n",
    "                             'Malamocco': 'Isole',\n",
    "                             'Lido': 'Isole',\n",
    "                             \"Sant'Erasmo\": 'Isole',\n",
    "                             'Burano': 'Isole',\n",
    "                             'San Pietro in Volta': 'Isole',\n",
    "                             'Mazzorbo': 'Isole',\n",
    "                             'Pellestrina': 'Isole',\n",
    "                             'Murano': 'Isole',\n",
    "                             'Torcello': 'Isole',\n",
    "                             'Favaro': 'Terraferma',\n",
    "                             'Case Dosa': 'Terraferma',\n",
    "                             'Marocco Terraglio': 'Terraferma',\n",
    "                             'Campalto Gobbi': 'Terraferma',\n",
    "                             'Malcontenta': 'Terraferma',\n",
    "                             'Zelarino': 'Terraferma',\n",
    "                             'Chirignago': 'Terraferma',\n",
    "                             'Campalto Bagaron': 'Terraferma',\n",
    "                             'Dese': 'Terraferma',\n",
    "                             'Torre Antica': 'Terraferma',\n",
    "                             'Aeroporto': 'Terraferma',\n",
    "                             'Tessera':'Terraferma',\n",
    "                             'Campalto': 'Terraferma',\n",
    "                             'other city': 'Terraferma'}\n",
    "\n",
    "dic2023_d_listings['neighbourhood_cleansed'] = dic2023_d_listings['neighbourhood_cleansed'].replace(new_neighbourhoods_levels)\n",
    "neighbourhoods_dummies = pd.get_dummies(dic2023_d_listings['neighbourhood_cleansed'], drop_first=True)\n",
    "dic2023_d_listings = pd.concat([dic2023_d_listings, neighbourhoods_dummies], axis=1)"
   ],
   "id": "b74426ec13489646",
   "outputs": [],
   "execution_count": 21
  },
  {
   "metadata": {
    "ExecuteTime": {
     "end_time": "2024-07-24T16:32:43.670919Z",
     "start_time": "2024-07-24T16:32:43.622406Z"
    }
   },
   "cell_type": "code",
   "source": [
    "property_types_groupings = {\n",
    "    'Entire rental unit': 'Entire Place',\n",
    "    'Entire home': 'Entire Place',\n",
    "    'Entire vacation home': 'Entire Place',\n",
    "    'Entire serviced apartment': 'Entire Place',\n",
    "    'Entire condo': 'Entire Place',\n",
    "    'Entire loft': 'Entire Place',\n",
    "    'Entire guesthouse': 'Entire Place',\n",
    "    'Entire villa': 'Entire Place',\n",
    "    'Entire townhouse': 'Entire Place',\n",
    "    'Entire bungalow': 'Entire Place',\n",
    "    'Entire guest suite': 'Entire Place',\n",
    "    'Entire cottage': 'Entire Place',\n",
    "    'Entire chalet': 'Entire Place',\n",
    "    'Entire place': 'Entire Place',\n",
    "    'Entire home/apt': 'Entire Place',\n",
    "    'Private room in bed and breakfast': 'Private Room',\n",
    "    'Private room in boat': 'Private Room',\n",
    "    'Private room in rental unit': 'Private Room',\n",
    "    'Private room in guest suite': 'Private Room',\n",
    "    'Private room in villa': 'Private Room',\n",
    "    'Private room in condo': 'Private Room',\n",
    "    'Private room in home': 'Private Room',\n",
    "    'Private room in guesthouse': 'Private Room',\n",
    "    'Private room in serviced apartment': 'Private Room',\n",
    "    'Private room in farm stay': 'Private Room',\n",
    "    'Private room in loft': 'Private Room',\n",
    "    'Private room in townhouse': 'Private Room',\n",
    "    'Private room in vacation home': 'Private Room',\n",
    "    'Private room in chalet': 'Private Room',\n",
    "    'Private room in casa particular': 'Private Room',\n",
    "    'Private room in pension': 'Private Room',\n",
    "    'Private room in hostel': 'Private Room',\n",
    "    'Shared room in bed and breakfast': 'Shared Room',\n",
    "    'Shared room in rental unit': 'Shared Room',\n",
    "    'Shared room in condo': 'Shared Room',\n",
    "    'Shared room in home': 'Shared Room',\n",
    "    'Shared room in hostel': 'Shared Room',\n",
    "    'Castle': 'Unique Stays',\n",
    "    'Boat': 'Unique Stays',\n",
    "    'Houseboat': 'Unique Stays',\n",
    "    'Tiny home': 'Unique Stays',\n",
    "    'Casa particular': 'Unique Stays',\n",
    "    'Room in bed and breakfast': 'Rooms in Commercial Establishments',\n",
    "    'Room in boutique hotel': 'Rooms in Commercial Establishments',\n",
    "    'Room in hotel': 'Rooms in Commercial Establishments',\n",
    "    'Room in serviced apartment': 'Rooms in Commercial Establishments',\n",
    "    'Room in aparthotel': 'Rooms in Commercial Establishments',\n",
    "    'Room in hostel': 'Rooms in Commercial Establishments',\n",
    "    'Room in heritage hotel': 'Rooms in Commercial Establishments',\n",
    "    'Floor': 'Shared Room',\n",
    "    'Private room': 'Private Room'\n",
    "}\n",
    "\n",
    "dic2023_d_listings['property_type'] = dic2023_d_listings['property_type'].replace(property_types_groupings)\n",
    "categorial_property_type = CategoricalDtype(categories=['Shared Room',\n",
    "                                                        'Private Room',\n",
    "                                                        'Rooms in Commercial Establishments',\n",
    "                                                        'Entire Place',\n",
    "                                                        'Unique Stays'],\n",
    "                                            ordered=True)\n",
    "dic2023_d_listings.property_type = dic2023_d_listings.property_type.astype(categorial_property_type)"
   ],
   "id": "7ad5a329e141109c",
   "outputs": [],
   "execution_count": 22
  },
  {
   "metadata": {
    "ExecuteTime": {
     "end_time": "2024-07-24T16:32:43.683611Z",
     "start_time": "2024-07-24T16:32:43.673342Z"
    }
   },
   "cell_type": "code",
   "source": [
    "dic2023_d_listings.bathrooms_text = dic2023_d_listings.bathrooms_text.astype(CategoricalDtype(categories=[\"shared\",\n",
    "                                                                                                          \"single\",\n",
    "                                                                                                          \"private\"],\n",
    "                                                                                              ordered=True))"
   ],
   "id": "9527db529416012c",
   "outputs": [],
   "execution_count": 23
  },
  {
   "metadata": {
    "ExecuteTime": {
     "end_time": "2024-07-24T16:32:43.729575Z",
     "start_time": "2024-07-24T16:32:43.687649Z"
    }
   },
   "cell_type": "code",
   "source": [
    "def remove_symbols(text):\n",
    "    try:\n",
    "        cleaned_text = re.sub(r'[$,]', '', text)\n",
    "        return cleaned_text.strip()\n",
    "    except:\n",
    "        return None\n",
    "dic2023_d_listings[\"price\"] = dic2023_d_listings[\"price\"].apply(remove_symbols).astype(float)"
   ],
   "id": "7c84615910817970",
   "outputs": [],
   "execution_count": 24
  },
  {
   "metadata": {
    "ExecuteTime": {
     "end_time": "2024-07-24T16:32:43.746281Z",
     "start_time": "2024-07-24T16:32:43.732253Z"
    }
   },
   "cell_type": "code",
   "source": "dic2023_d_listings.has_availability = dic2023_d_listings.has_availability.apply(lambda x: 1 if x==\"t\" else 0)",
   "id": "e841ca4a07e9a6cd",
   "outputs": [],
   "execution_count": 25
  },
  {
   "metadata": {},
   "cell_type": "markdown",
   "source": "### Reviews\n",
   "id": "64e5461bbf1d585b"
  },
  {
   "metadata": {
    "ExecuteTime": {
     "end_time": "2024-07-24T16:32:43.764647Z",
     "start_time": "2024-07-24T16:32:43.748875Z"
    }
   },
   "cell_type": "code",
   "source": [
    "dic2023_d_listings[\"first_review\"] = pd.to_datetime(dic2023_d_listings[\"first_review\"])\n",
    "dic2023_d_listings[\"last_review\"] = pd.to_datetime(dic2023_d_listings[\"last_review\"])\n"
   ],
   "id": "623f486aeaf868c1",
   "outputs": [],
   "execution_count": 26
  },
  {
   "metadata": {},
   "cell_type": "markdown",
   "source": [
    "*To estimate the values of the reviews, I need to keep only numeric data in the dataset.\n",
    "For this reason, I decided to use a simple Sentiment Analysis on the Description to at least\n",
    "retain some information about the listing*"
   ],
   "id": "9969ed8550e9fd0f"
  },
  {
   "metadata": {
    "ExecuteTime": {
     "end_time": "2024-07-24T16:32:43.789619Z",
     "start_time": "2024-07-24T16:32:43.766975Z"
    }
   },
   "cell_type": "code",
   "source": [
    "# create dataset for imputing reviews NAs and eliminate categorial variables\n",
    "df_imputation = dic2023_d_listings.drop([\"id\",\n",
    "                                         \"name\",\n",
    "                                         \"host_id\",\n",
    "                                         \"host_since\",\n",
    "                                         \"host_response_time\",\n",
    "                                         \"host_verifications\",     # to remove permanently\n",
    "                                         \"neighbourhood_cleansed\", # to remove permanently\n",
    "                                         \"property_type\",\n",
    "                                         \"bathrooms_text\",\n",
    "                                         \"first_review\",\n",
    "                                         \"last_review\",\n",
    "                                         \"price\"\n",
    "                                         ], axis=1)\n",
    "\n",
    "column_names = list(df_imputation.columns)"
   ],
   "id": "b0d8e6429e97a18f",
   "outputs": [],
   "execution_count": 27
  },
  {
   "metadata": {
    "ExecuteTime": {
     "end_time": "2024-07-24T16:32:43.826346Z",
     "start_time": "2024-07-24T16:32:43.792847Z"
    }
   },
   "cell_type": "code",
   "source": [
    "def preprocess_text(text):\n",
    "    tokens = word_tokenize(text.lower())\n",
    "    filtered_tokens = [token for token in tokens if token not in stopwords.words('english')]\n",
    "    lemmatizer = WordNetLemmatizer()\n",
    "    lemmatized_tokens = [lemmatizer.lemmatize(token) for token in filtered_tokens]\n",
    "    processed_text = ' '.join(lemmatized_tokens)\n",
    "    return processed_text\n",
    "\n",
    "analyzer = SentimentIntensityAnalyzer()\n",
    "def get_sentiment(text):\n",
    "    scores = analyzer.polarity_scores(text)\n",
    "    sentiment = scores['pos']\n",
    "    return sentiment"
   ],
   "id": "56ee5e1ab9610785",
   "outputs": [],
   "execution_count": 28
  },
  {
   "metadata": {
    "ExecuteTime": {
     "end_time": "2024-07-24T16:34:52.065685Z",
     "start_time": "2024-07-24T16:32:43.829120Z"
    }
   },
   "cell_type": "code",
   "source": [
    "df_imputation[\"neighborhood_overview\"] = df_imputation[\"neighborhood_overview\"].apply(preprocess_text)\n",
    "df_imputation[\"neighborhood_overview\"] = df_imputation[\"neighborhood_overview\"].apply(get_sentiment)\n",
    "\n",
    "df_imputation[\"host_about\"] = df_imputation[\"host_about\"].apply(preprocess_text)\n",
    "df_imputation[\"host_about\"] = df_imputation[\"host_about\"].apply(get_sentiment)"
   ],
   "id": "7685d57d474b74e",
   "outputs": [],
   "execution_count": 29
  },
  {
   "metadata": {
    "ExecuteTime": {
     "end_time": "2024-07-24T16:34:53.549987Z",
     "start_time": "2024-07-24T16:34:52.068705Z"
    }
   },
   "cell_type": "code",
   "source": [
    "imputer = KNNImputer(n_neighbors=5, weights=\"distance\", metric=\"nan_euclidean\", copy=False)\n",
    "imputed_df = imputer.fit_transform(df_imputation)\n",
    "imputed_df = pd.DataFrame(imputed_df, columns = column_names)"
   ],
   "id": "b6806c01ea4f4e7c",
   "outputs": [],
   "execution_count": 30
  },
  {
   "metadata": {},
   "cell_type": "markdown",
   "source": "### Merge again datasets adding categorial columns",
   "id": "b338fbe9ab4283e3"
  },
  {
   "metadata": {
    "ExecuteTime": {
     "end_time": "2024-07-24T16:34:53.566765Z",
     "start_time": "2024-07-24T16:34:53.552845Z"
    }
   },
   "cell_type": "code",
   "source": [
    "dropped_columns = [\"id\",\n",
    "                   \"name\",\n",
    "                   \"host_id\",\n",
    "                   \"host_since\",\n",
    "                   \"host_response_time\",\n",
    "                   \"property_type\",\n",
    "                   \"bathrooms_text\",\n",
    "                   \"first_review\",\n",
    "                   \"last_review\",\n",
    "                   \"neighborhood_overview\", # add again string form\n",
    "                   \"host_about\",            # add again string form\n",
    "                   \"price\"\n",
    "                   ]\n",
    "\n",
    "imputed_df = imputed_df.drop([\"neighborhood_overview\",\n",
    "                              \"host_about\"],\n",
    "                             axis=1)\n",
    "\n",
    "pre_concat_dic = dic2023_d_listings[dropped_columns]\n",
    "clean_dic_listings = pd.concat([pre_concat_dic, imputed_df], axis=1)"
   ],
   "id": "df2341de38d2814e",
   "outputs": [],
   "execution_count": 31
  },
  {
   "metadata": {
    "ExecuteTime": {
     "end_time": "2024-07-24T16:34:53.593138Z",
     "start_time": "2024-07-24T16:34:53.570797Z"
    }
   },
   "cell_type": "code",
   "source": [
    "# Now replace the missing values of:\n",
    "# - first_review with the value of host_since of that host,\n",
    "# - last_review with the max data for this dataset (31/12/2023)\n",
    "\n",
    "clean_dic_listings.loc[clean_dic_listings[\"first_review\"].isna(), \"first_review\"] = clean_dic_listings.loc[clean_dic_listings[\"first_review\"].isna(), \"host_since\"]\n",
    "clean_dic_listings.loc[clean_dic_listings[\"last_review\"].isna(), \"last_review\"] = pd.to_datetime(\"26/12/2023\", dayfirst=True)\n",
    "\n",
    "clean_dic_listings.isnull().sum(axis=0)\n"
   ],
   "id": "3ca9bbd4ea4e4d5e",
   "outputs": [],
   "execution_count": 32
  },
  {
   "metadata": {},
   "cell_type": "markdown",
   "source": "## Reviews",
   "id": "3970266ae949f023"
  },
  {
   "metadata": {
    "ExecuteTime": {
     "end_time": "2024-07-24T16:34:53.679601Z",
     "start_time": "2024-07-24T16:34:53.632128Z"
    }
   },
   "cell_type": "code",
   "source": "dic2023_d_reviews = dic2023_d_reviews[[\"listing_id\", \"id\", \"date\", \"comments\"]]",
   "id": "1b619b4e2ff55601",
   "outputs": [],
   "execution_count": 35
  }
 ],
 "metadata": {
  "kernelspec": {
   "display_name": "Python 3",
   "language": "python",
   "name": "python3"
  },
  "language_info": {
   "codemirror_mode": {
    "name": "ipython",
    "version": 2
   },
   "file_extension": ".py",
   "mimetype": "text/x-python",
   "name": "python",
   "nbconvert_exporter": "python",
   "pygments_lexer": "ipython2",
   "version": "2.7.6"
  }
 },
 "nbformat": 4,
 "nbformat_minor": 5
}
