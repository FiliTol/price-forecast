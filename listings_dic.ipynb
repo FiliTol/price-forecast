{
 "cells": [
  {
   "cell_type": "code",
   "id": "initial_id",
   "metadata": {
    "collapsed": true,
    "ExecuteTime": {
     "end_time": "2024-07-25T19:14:25.044544Z",
     "start_time": "2024-07-25T19:14:22.295782Z"
    }
   },
   "source": [
    "from distutils.command.clean import clean\n",
    "\n",
    "import pandas as pd\n",
    "pd.options.display.float_format = '{:.0f}'.format\n",
    "from pandas.api.types import CategoricalDtype\n",
    "import numpy as np\n",
    "from geopy.geocoders import Nominatim\n",
    "from geopy.distance import geodesic\n",
    "from geopy.extra.rate_limiter import RateLimiter\n",
    "from tqdm import tqdm\n",
    "import json\n",
    "import statistics\n",
    "import re\n",
    "from sklearn.impute import KNNImputer\n",
    "from decimal import Decimal\n",
    "\n",
    "# For sentiment analysis of text\n",
    "import nltk\n",
    "#nltk.download(\"all\") # Only first time\n",
    "from nltk.sentiment.vader import SentimentIntensityAnalyzer\n",
    "from nltk.corpus import stopwords\n",
    "from nltk.tokenize import word_tokenize\n",
    "from nltk.stem import WordNetLemmatizer\n"
   ],
   "outputs": [],
   "execution_count": 1
  },
  {
   "metadata": {},
   "cell_type": "markdown",
   "source": "## December 2023",
   "id": "b6fa6d1ba53c37f4"
  },
  {
   "metadata": {
    "ExecuteTime": {
     "end_time": "2024-07-25T19:14:34.113767Z",
     "start_time": "2024-07-25T19:14:25.049470Z"
    }
   },
   "cell_type": "code",
   "source": [
    "dic2023_reviews = pd.read_csv(\"data/2023dic/reviews.csv\")\n",
    "dic2023_calendar = pd.read_csv(\"data/2023dic/calendar.csv\", dtype={\"listing_id\": str,\n",
    "                                                   \"date\": str,\n",
    "                                                   \"available\": str,\n",
    "                                                   \"price\": str,\n",
    "                                                   \"adjusted_price\": str,\n",
    "                                                   \"minimum_nights\": str,\n",
    "                                                   \"maximum_nights\": str})\n",
    "dic2023_listings = pd.read_csv(\"data/2023dic/listings.csv\")\n",
    "dic2023_neighbourhoods = pd.read_csv(\"data/2023dic/neighbourhoods.csv\")\n",
    "# dic2023_geo_neighbourhoods  # GeoJson\n",
    "dic2023_d_listings = pd.read_csv(\"data/2023dic/d_listings.csv\")\n",
    "dic2023_d_reviews = pd.read_csv(\"data/2023dic/d_reviews.csv\")\n"
   ],
   "id": "10c9f9123683e30e",
   "outputs": [],
   "execution_count": 2
  },
  {
   "metadata": {},
   "cell_type": "markdown",
   "source": "## Listings",
   "id": "171719481d202a76"
  },
  {
   "metadata": {},
   "cell_type": "markdown",
   "source": [
    "- Reviews interpretation\n",
    "    - Accuracy: consistency between the Listing description and the actual listing IRL\n",
    "    - Rating is the average of the ratings in other categories"
   ],
   "id": "39cff62316d9a3bd"
  },
  {
   "metadata": {
    "ExecuteTime": {
     "end_time": "2024-07-25T19:14:34.136169Z",
     "start_time": "2024-07-25T19:14:34.117879Z"
    }
   },
   "cell_type": "code",
   "source": [
    "dic2023_d_listings = dic2023_d_listings[['id', 'name', 'neighborhood_overview', 'host_id', 'host_since', 'host_location', 'host_about',\n",
    "                   'host_response_time', 'host_response_rate', 'host_acceptance_rate', 'host_is_superhost',\n",
    "                   'host_listings_count', 'host_total_listings_count', 'host_verifications',\n",
    "                   'host_has_profile_pic', 'host_identity_verified', 'neighbourhood_cleansed',\n",
    "                   'latitude', 'longitude', 'property_type',\n",
    "                   'accommodates', 'bathrooms_text', 'beds', 'price',\n",
    "                   'minimum_nights_avg_ntm', 'maximum_nights_avg_ntm', 'has_availability', 'availability_30',\n",
    "                   'availability_60', 'availability_90', 'availability_365', 'number_of_reviews', 'first_review',\n",
    "                   'last_review', 'review_scores_rating', 'review_scores_accuracy', 'review_scores_cleanliness',\n",
    "                   'review_scores_checkin', 'review_scores_communication', 'review_scores_location',\n",
    "                   'review_scores_value', 'calculated_host_listings_count',\n",
    "                   'calculated_host_listings_count_entire_homes', 'calculated_host_listings_count_private_rooms',\n",
    "                   'calculated_host_listings_count_shared_rooms', 'reviews_per_month']]\n"
   ],
   "id": "521b936287b60cb9",
   "outputs": [],
   "execution_count": 3
  },
  {
   "metadata": {
    "ExecuteTime": {
     "end_time": "2024-07-25T19:14:34.154515Z",
     "start_time": "2024-07-25T19:14:34.141619Z"
    }
   },
   "cell_type": "code",
   "source": [
    "dic2023_d_listings.neighborhood_overview = dic2023_d_listings.neighborhood_overview.fillna(\"\")\n",
    "dic2023_d_listings.host_about = dic2023_d_listings.host_about.fillna(\"\")"
   ],
   "id": "44394dfcbaddb3c1",
   "outputs": [],
   "execution_count": 4
  },
  {
   "metadata": {},
   "cell_type": "markdown",
   "source": "We can consider the distance between the Host house and the actual property",
   "id": "1e866f8dda1fece1"
  },
  {
   "metadata": {
    "ExecuteTime": {
     "end_time": "2024-07-25T19:14:34.164361Z",
     "start_time": "2024-07-25T19:14:34.158204Z"
    }
   },
   "cell_type": "code",
   "source": [
    "#location_geo = {}\n",
    "#for l in tqdm(dic2023_d_listings.host_location.unique().tolist()):\n",
    "#    geolocator = Nominatim(user_agent=\"Host to listing distance\")\n",
    "#    geocode = RateLimiter(geolocator.geocode, min_delay_seconds=1.1)\n",
    "#    host_location = geolocator.geocode(l)\n",
    "#    location_geo[l] = (host_location.latitude, host_location.longitude)\n",
    "#    \n",
    "#with open(\"data/2023dic/hosts_locations.json\", 'w') as f:\n",
    "#    json.dump(location_geo, f)\n",
    "#"
   ],
   "id": "409b174f2c0d4917",
   "outputs": [],
   "execution_count": 5
  },
  {
   "metadata": {},
   "cell_type": "markdown",
   "source": "### Host and listing location",
   "id": "b1193b97a4c9f881"
  },
  {
   "metadata": {
    "ExecuteTime": {
     "end_time": "2024-07-25T19:14:36.503931Z",
     "start_time": "2024-07-25T19:14:34.168643Z"
    }
   },
   "cell_type": "code",
   "source": [
    "with open(\"data/2023dic/hosts_locations.json\", 'r') as f:\n",
    "    location_geo = json.load(f)\n",
    "\n",
    "dic2023_d_listings[\"host_location\"] = dic2023_d_listings[\"host_location\"].apply(lambda x: location_geo.get(x))\n",
    "\n",
    "def geodesic_distancer(row, from_loc: str):\n",
    "    try:\n",
    "        coords_1 = (row[f\"{from_loc}\"][0], row[f\"{from_loc}\"][1])\n",
    "        coords_2 = (row[\"latitude\"], row[\"longitude\"])\n",
    "        return geodesic(coords_1, coords_2).km\n",
    "    except:\n",
    "        return None\n",
    "\n",
    "dic2023_d_listings['host_to_listing_geodesic_km'] = dic2023_d_listings.apply(lambda row: geodesic_distancer(row, \"host_location\"), axis=1)\n",
    "dic2023_d_listings.host_to_listing_geodesic_km = dic2023_d_listings.host_to_listing_geodesic_km.fillna(statistics.mode(dic2023_d_listings[\"host_to_listing_geodesic_km\"]))\n",
    "dic2023_d_listings.drop(\"host_location\", axis=1, inplace=True)"
   ],
   "id": "d2293cdbf90d4425",
   "outputs": [],
   "execution_count": 6
  },
  {
   "metadata": {},
   "cell_type": "markdown",
   "source": "### Strategic points distancer",
   "id": "6c69a3f59dff9154"
  },
  {
   "metadata": {
    "ExecuteTime": {
     "end_time": "2024-07-25T19:14:36.516333Z",
     "start_time": "2024-07-25T19:14:36.506723Z"
    }
   },
   "cell_type": "code",
   "source": [
    "strategic_locations_geo = {\"Aereoporto Marco Polo\": [45.50354, 12.34258],\n",
    "                       \"Piazza Erminio Ferretto\": [45.49479, 12.24251],\n",
    "                       \"Piazzale Roma\": [45.43801, 12.31885],\n",
    "                       \"Ponte di Rialto\": [45.43805, 12.33593],\n",
    "                       \"Piazza San Marco\": [45.434, 12.338]\n",
    "                       }\n",
    "\n",
    "with open(\"data/strategic_locations.json\", 'w') as f:\n",
    "    json.dump(strategic_locations_geo, f)\n"
   ],
   "id": "cf6a468fdcf64869",
   "outputs": [],
   "execution_count": 7
  },
  {
   "metadata": {
    "ExecuteTime": {
     "end_time": "2024-07-25T19:14:36.533516Z",
     "start_time": "2024-07-25T19:14:36.519239Z"
    }
   },
   "cell_type": "code",
   "source": [
    "with open(\"data/strategic_locations.json\", 'r') as f:\n",
    "    strategic_locations_geo = json.load(f)"
   ],
   "id": "e2688b4e20b48037",
   "outputs": [],
   "execution_count": 8
  },
  {
   "metadata": {
    "ExecuteTime": {
     "end_time": "2024-07-25T19:14:50.852196Z",
     "start_time": "2024-07-25T19:14:36.536725Z"
    }
   },
   "cell_type": "code",
   "source": [
    "dic2023_d_listings[\"airport_distance_km\"] = None\n",
    "dic2023_d_listings[\"ferretto_square_distance_km\"] = None\n",
    "dic2023_d_listings[\"roma_square_distance_km\"] = None\n",
    "dic2023_d_listings[\"rialto_bridge_distance_km\"] = None\n",
    "dic2023_d_listings[\"san_marco_square_distance_km\"] = None\n",
    "\n",
    "dic2023_d_listings[\"airport_distance_km\"] = dic2023_d_listings[\"airport_distance_km\"].apply(lambda x: strategic_locations_geo[\"Aereoporto Marco Polo\"])\n",
    "dic2023_d_listings[\"ferretto_square_distance_km\"] = dic2023_d_listings[\"ferretto_square_distance_km\"].apply(lambda x: strategic_locations_geo[\"Piazza Erminio Ferretto\"])\n",
    "dic2023_d_listings[\"roma_square_distance_km\"] = dic2023_d_listings[\"roma_square_distance_km\"].apply(lambda x: strategic_locations_geo[\"Piazzale Roma\"])\n",
    "dic2023_d_listings[\"rialto_bridge_distance_km\"] = dic2023_d_listings[\"rialto_bridge_distance_km\"].apply(lambda x: strategic_locations_geo[\"Ponte di Rialto\"])\n",
    "dic2023_d_listings[\"san_marco_square_distance_km\"] = dic2023_d_listings[\"san_marco_square_distance_km\"].apply(lambda x: strategic_locations_geo[\"Piazza San Marco\"])\n",
    "\n",
    "dic2023_d_listings['airport_distance_km'] = dic2023_d_listings.apply(lambda row: geodesic_distancer(row, \"airport_distance_km\"), axis=1)\n",
    "dic2023_d_listings['ferretto_square_distance_km'] = dic2023_d_listings.apply(lambda row: geodesic_distancer(row, \"ferretto_square_distance_km\"), axis=1)\n",
    "dic2023_d_listings['roma_square_distance_km'] = dic2023_d_listings.apply(lambda row: geodesic_distancer(row, \"roma_square_distance_km\"), axis=1)\n",
    "dic2023_d_listings['rialto_bridge_distance_km'] = dic2023_d_listings.apply(lambda row: geodesic_distancer(row, \"rialto_bridge_distance_km\"), axis=1)\n",
    "dic2023_d_listings['san_marco_square_distance_km'] = dic2023_d_listings.apply(lambda row: geodesic_distancer(row, \"san_marco_square_distance_km\"), axis=1)\n",
    "\n"
   ],
   "id": "e844224421ee086b",
   "outputs": [],
   "execution_count": 9
  },
  {
   "metadata": {},
   "cell_type": "markdown",
   "source": "### Response time",
   "id": "e7f4a4201c971bad"
  },
  {
   "metadata": {
    "ExecuteTime": {
     "end_time": "2024-07-25T19:14:50.869457Z",
     "start_time": "2024-07-25T19:14:50.858821Z"
    }
   },
   "cell_type": "code",
   "source": [
    "dic2023_d_listings.host_response_time = dic2023_d_listings.host_response_time.fillna(\"MISSING\")\n",
    "categorial_response_time = CategoricalDtype(categories= ['MISSING',\n",
    "                                                         'a few days or more',\n",
    "                                                         'within a day',\n",
    "                                                         'within a few hours',\n",
    "                                                         'within an hour'],\n",
    "                                            ordered=True)\n",
    "dic2023_d_listings.host_response_time = dic2023_d_listings.host_response_time.astype(categorial_response_time)"
   ],
   "id": "d0fc0e68f3ca8055",
   "outputs": [],
   "execution_count": 10
  },
  {
   "metadata": {},
   "cell_type": "markdown",
   "source": "### Response rate",
   "id": "76369d85a6e48a5c"
  },
  {
   "metadata": {
    "ExecuteTime": {
     "end_time": "2024-07-25T19:14:50.903348Z",
     "start_time": "2024-07-25T19:14:50.872463Z"
    }
   },
   "cell_type": "code",
   "source": [
    "dic2023_d_listings[\"host_response_rate\"] = dic2023_d_listings[\"host_response_rate\"].str.rstrip('%').astype(float)\n",
    "dic2023_d_listings.host_response_rate = dic2023_d_listings.host_response_rate.fillna(statistics.mode(dic2023_d_listings[\"host_response_rate\"]))\n"
   ],
   "id": "4c9e141220c2097e",
   "outputs": [],
   "execution_count": 11
  },
  {
   "metadata": {},
   "cell_type": "markdown",
   "source": "### Acceptance rate",
   "id": "3a57bc7d10d58718"
  },
  {
   "metadata": {
    "ExecuteTime": {
     "end_time": "2024-07-25T19:14:50.929874Z",
     "start_time": "2024-07-25T19:14:50.907501Z"
    }
   },
   "cell_type": "code",
   "source": [
    "dic2023_d_listings[\"host_acceptance_rate\"] = dic2023_d_listings[\"host_acceptance_rate\"].str.rstrip('%').astype(float)\n",
    "dic2023_d_listings.host_acceptance_rate = dic2023_d_listings.host_acceptance_rate.fillna(statistics.mode(dic2023_d_listings[\"host_acceptance_rate\"]))\n"
   ],
   "id": "1f8ac2160efd132f",
   "outputs": [],
   "execution_count": 12
  },
  {
   "metadata": {},
   "cell_type": "markdown",
   "source": "### Is superhost",
   "id": "d263f70a6ff1686c"
  },
  {
   "metadata": {
    "ExecuteTime": {
     "end_time": "2024-07-25T19:14:50.950792Z",
     "start_time": "2024-07-25T19:14:50.932218Z"
    }
   },
   "cell_type": "code",
   "source": [
    "dic2023_d_listings.host_is_superhost = dic2023_d_listings.host_is_superhost.fillna(statistics.mode(dic2023_d_listings[\"host_is_superhost\"]))\n",
    "dic2023_d_listings.host_is_superhost = dic2023_d_listings.host_is_superhost.apply(lambda x: 1 if x==\"t\" else 0)\n"
   ],
   "id": "5b765b690b317675",
   "outputs": [],
   "execution_count": 13
  },
  {
   "metadata": {},
   "cell_type": "markdown",
   "source": "### Bathrooms and bathrooms_text",
   "id": "1effbb27dcb5889b"
  },
  {
   "metadata": {
    "ExecuteTime": {
     "end_time": "2024-07-25T19:14:50.964749Z",
     "start_time": "2024-07-25T19:14:50.953372Z"
    }
   },
   "cell_type": "code",
   "source": "dic2023_d_listings.bathrooms_text = dic2023_d_listings.bathrooms_text.fillna(statistics.mode(dic2023_d_listings[\"bathrooms_text\"]))",
   "id": "1da0d1c477506ac3",
   "outputs": [],
   "execution_count": 14
  },
  {
   "metadata": {},
   "cell_type": "markdown",
   "source": "#### Create bathrooms feature",
   "id": "a96ff57924cae8a5"
  },
  {
   "metadata": {
    "ExecuteTime": {
     "end_time": "2024-07-25T19:14:51.010557Z",
     "start_time": "2024-07-25T19:14:50.967951Z"
    }
   },
   "cell_type": "code",
   "source": [
    "def extract_digits(text):\n",
    "    if \"half\" in text.lower():\n",
    "        return '0.5'\n",
    "    digits = re.findall(r'\\d+\\.\\d+|\\d+', text)\n",
    "    return ''.join(digits)\n",
    "\n",
    "dic2023_d_listings[\"bathrooms\"] = dic2023_d_listings[\"bathrooms_text\"].apply(extract_digits)\n",
    "dic2023_d_listings[\"bathrooms\"] = dic2023_d_listings[\"bathrooms\"].astype(float)"
   ],
   "id": "69498608604dcc41",
   "outputs": [],
   "execution_count": 15
  },
  {
   "metadata": {},
   "cell_type": "markdown",
   "source": "#### Edit bathrooms text_feature",
   "id": "1deaa23afb084205"
  },
  {
   "metadata": {
    "ExecuteTime": {
     "end_time": "2024-07-25T19:14:51.057880Z",
     "start_time": "2024-07-25T19:14:51.013641Z"
    }
   },
   "cell_type": "code",
   "source": [
    "def remove_digits(text):\n",
    "    return re.sub(r'\\d', '', text).strip()\n",
    "dic2023_d_listings[\"bathrooms_text\"] = dic2023_d_listings[\"bathrooms_text\"].apply(remove_digits)\n",
    "\n",
    "remap_baths = {\n",
    "    'baths': 'single',\n",
    "    'bath': 'single',\n",
    "    'private bath': 'private',\n",
    "    'shared bath': 'shared',\n",
    "    'shared baths': 'shared',\n",
    "    'Shared half-bath': 'shared',\n",
    "    '. baths': 'single',\n",
    "    '. shared baths': 'shared',\n",
    "    'Half-bath': 'single',\n",
    "    'Private half-bath': 'private'\n",
    "}\n",
    "\n",
    "dic2023_d_listings[\"bathrooms_text\"] = dic2023_d_listings[\"bathrooms_text\"].replace(remap_baths)\n"
   ],
   "id": "94a638f44744e8cb",
   "outputs": [],
   "execution_count": 16
  },
  {
   "metadata": {},
   "cell_type": "markdown",
   "source": "### Beds",
   "id": "1803ae676dd7e986"
  },
  {
   "metadata": {
    "ExecuteTime": {
     "end_time": "2024-07-25T19:14:51.069754Z",
     "start_time": "2024-07-25T19:14:51.060488Z"
    }
   },
   "cell_type": "code",
   "source": "dic2023_d_listings.beds = dic2023_d_listings.beds.fillna(statistics.mode(dic2023_d_listings[\"beds\"]))",
   "id": "323dbb0851e26cbc",
   "outputs": [],
   "execution_count": 17
  },
  {
   "metadata": {},
   "cell_type": "markdown",
   "source": "### Availability",
   "id": "4e6800eff6db8834"
  },
  {
   "metadata": {
    "ExecuteTime": {
     "end_time": "2024-07-25T19:14:51.083376Z",
     "start_time": "2024-07-25T19:14:51.072584Z"
    }
   },
   "cell_type": "code",
   "source": "dic2023_d_listings.has_availability = dic2023_d_listings.has_availability.fillna(statistics.mode(dic2023_d_listings[\"has_availability\"]))",
   "id": "8b8606a2cc339acd",
   "outputs": [],
   "execution_count": 18
  },
  {
   "metadata": {},
   "cell_type": "markdown",
   "source": "## Dealing with Types before NAs imputation",
   "id": "2caa38f7ebb3d19d"
  },
  {
   "metadata": {
    "ExecuteTime": {
     "end_time": "2024-07-25T19:14:51.111658Z",
     "start_time": "2024-07-25T19:14:51.086152Z"
    }
   },
   "cell_type": "code",
   "source": [
    "dic2023_d_listings[\"host_id\"] = dic2023_d_listings[\"host_id\"].astype(str)\n",
    "dic2023_d_listings[\"id\"] = dic2023_d_listings[\"id\"].astype(str)\n",
    "dic2023_d_listings[\"host_since\"] = pd.to_datetime(dic2023_d_listings[\"host_since\"])\n"
   ],
   "id": "500a5cd8be54863c",
   "outputs": [],
   "execution_count": 19
  },
  {
   "metadata": {},
   "cell_type": "markdown",
   "source": "**Forse da rimuovere**",
   "id": "8318317206a22224"
  },
  {
   "metadata": {
    "ExecuteTime": {
     "end_time": "2024-07-25T19:14:53.215631Z",
     "start_time": "2024-07-25T19:14:51.114934Z"
    }
   },
   "cell_type": "code",
   "source": [
    "dic2023_d_listings[\"email_verification\"] = False\n",
    "dic2023_d_listings[\"phone_verification\"] = False\n",
    "dic2023_d_listings[\"work_email_verification\"] = False\n",
    "\n",
    "def allocate_verifications_to_variables(row):\n",
    "    if \"email\" in row[\"host_verifications\"]:\n",
    "        row[\"email_verification\"] = True\n",
    "    if \"phone\" in row[\"host_verifications\"]:\n",
    "        row[\"phone_verification\"] = True\n",
    "    if \"work_email\" in row[\"host_verifications\"]:\n",
    "        row[\"work_email_verification\"] = True\n",
    "    return row\n",
    "\n",
    "dic2023_d_listings = dic2023_d_listings.apply(allocate_verifications_to_variables, axis=1)"
   ],
   "id": "964bfd1405b03f54",
   "outputs": [],
   "execution_count": 20
  },
  {
   "metadata": {
    "ExecuteTime": {
     "end_time": "2024-07-25T19:14:53.231508Z",
     "start_time": "2024-07-25T19:14:53.218162Z"
    }
   },
   "cell_type": "code",
   "source": "dic2023_d_listings.host_has_profile_pic = dic2023_d_listings.host_has_profile_pic.apply(lambda x: 1 if x==\"t\" else 0)",
   "id": "1e55c3b97b3a",
   "outputs": [],
   "execution_count": 21
  },
  {
   "metadata": {
    "ExecuteTime": {
     "end_time": "2024-07-25T19:14:53.255643Z",
     "start_time": "2024-07-25T19:14:53.233960Z"
    }
   },
   "cell_type": "code",
   "source": "dic2023_d_listings.host_identity_verified = dic2023_d_listings.host_identity_verified.apply(lambda x: 1 if x==\"t\" else 0)",
   "id": "19f7eff2d3d02414",
   "outputs": [],
   "execution_count": 22
  },
  {
   "metadata": {
    "ExecuteTime": {
     "end_time": "2024-07-25T19:14:53.347523Z",
     "start_time": "2024-07-25T19:14:53.259089Z"
    }
   },
   "cell_type": "code",
   "source": [
    "new_neighbourhoods_levels = {'Cannaregio': 'Centro Storico',\n",
    "                             'San Marco':'Centro Storico',\n",
    "                             'Isola San Giorgio': 'Centro Storico',\n",
    "                             'San Polo':'Centro Storico',\n",
    "                             'Castello': 'Centro Storico',\n",
    "                             \"Sant'Elena\": 'Centro Storico',\n",
    "                             'Dorsoduro': 'Centro Storico',\n",
    "                             'Sacca Fisola': 'Centro Storico',\n",
    "                             'Giudecca': 'Centro Storico',\n",
    "                             'Tronchetto': 'Centro Storico',\n",
    "                             'Santa Croce': 'Centro Storico',\n",
    "                             \"Ca' Emiliani\": 'Terraferma',\n",
    "                             'Marghera Zona Industriale': 'Terraferma',\n",
    "                             'Marghera Catene': 'Terraferma',\n",
    "                             'Marghera': 'Terraferma',\n",
    "                             \"Ca' Sabbioni\":'Terraferma',\n",
    "                             'Giustizia': 'Terraferma',\n",
    "                             'San Lorenzo XXV Aprile': 'Terraferma',\n",
    "                             'Bissuola': 'Terraferma',\n",
    "                             'Cipressina': 'Terraferma',\n",
    "                             'Zona Commerciale via Torino': 'Terraferma',\n",
    "                             'Carpenedo': 'Terraferma',\n",
    "                             'Villabona': 'Terraferma',\n",
    "                             'Santa Barbara': 'Terraferma',\n",
    "                             'Altobello': 'Terraferma',\n",
    "                             'Piave 1860': 'Terraferma',\n",
    "                             'La Favorita': 'Terraferma',\n",
    "                             'Villaggio Sartori': 'Terraferma',\n",
    "                             'Villaggio San Marco': 'Terraferma',\n",
    "                             'Gazzera': 'Terraferma',\n",
    "                             'Asseggiano': 'Terraferma',\n",
    "                             \"Pra' Secco\": 'Terraferma',\n",
    "                             'Gatta - Bondu?': 'Terraferma',\n",
    "                             'Quartiere Pertini': 'Terraferma',\n",
    "                             'Campalto CEP': 'Terraferma',\n",
    "                             'Mestre': 'Terraferma',\n",
    "                             \"Scaramuzza\": \"Terraferma\",\n",
    "                             'Alberoni': 'Isole',\n",
    "                             'Malamocco': 'Isole',\n",
    "                             'Lido': 'Isole',\n",
    "                             \"Sant'Erasmo\": 'Isole',\n",
    "                             'Burano': 'Isole',\n",
    "                             'San Pietro in Volta': 'Isole',\n",
    "                             'Mazzorbo': 'Isole',\n",
    "                             'Pellestrina': 'Isole',\n",
    "                             'Murano': 'Isole',\n",
    "                             'Torcello': 'Isole',\n",
    "                             'Favaro': 'Terraferma',\n",
    "                             'Case Dosa': 'Terraferma',\n",
    "                             'Marocco Terraglio': 'Terraferma',\n",
    "                             'Campalto Gobbi': 'Terraferma',\n",
    "                             'Malcontenta': 'Terraferma',\n",
    "                             'Zelarino': 'Terraferma',\n",
    "                             'Chirignago': 'Terraferma',\n",
    "                             'Campalto Bagaron': 'Terraferma',\n",
    "                             'Dese': 'Terraferma',\n",
    "                             'Torre Antica': 'Terraferma',\n",
    "                             'Aeroporto': 'Terraferma',\n",
    "                             'Tessera':'Terraferma',\n",
    "                             'Campalto': 'Terraferma',\n",
    "                             'other city': 'Terraferma'}\n",
    "\n",
    "dic2023_d_listings['neighbourhood_cleansed'] = dic2023_d_listings['neighbourhood_cleansed'].replace(new_neighbourhoods_levels)\n",
    "neighbourhoods_dummies = pd.get_dummies(dic2023_d_listings['neighbourhood_cleansed'], drop_first=True)\n",
    "dic2023_d_listings = pd.concat([dic2023_d_listings, neighbourhoods_dummies], axis=1)"
   ],
   "id": "b74426ec13489646",
   "outputs": [],
   "execution_count": 23
  },
  {
   "metadata": {
    "ExecuteTime": {
     "end_time": "2024-07-25T19:14:53.448868Z",
     "start_time": "2024-07-25T19:14:53.356825Z"
    }
   },
   "cell_type": "code",
   "source": [
    "property_types_groupings = {\n",
    "    'Entire rental unit': 'Entire Place',\n",
    "    'Entire home': 'Entire Place',\n",
    "    'Entire vacation home': 'Entire Place',\n",
    "    'Entire serviced apartment': 'Entire Place',\n",
    "    'Entire condo': 'Entire Place',\n",
    "    'Entire loft': 'Entire Place',\n",
    "    'Entire guesthouse': 'Entire Place',\n",
    "    'Entire villa': 'Entire Place',\n",
    "    'Entire townhouse': 'Entire Place',\n",
    "    'Entire bungalow': 'Entire Place',\n",
    "    'Entire guest suite': 'Entire Place',\n",
    "    'Entire cottage': 'Entire Place',\n",
    "    'Entire chalet': 'Entire Place',\n",
    "    'Entire place': 'Entire Place',\n",
    "    'Entire home/apt': 'Entire Place',\n",
    "    'Private room in bed and breakfast': 'Private Room',\n",
    "    'Private room in boat': 'Private Room',\n",
    "    'Private room in rental unit': 'Private Room',\n",
    "    'Private room in guest suite': 'Private Room',\n",
    "    'Private room in villa': 'Private Room',\n",
    "    'Private room in condo': 'Private Room',\n",
    "    'Private room in home': 'Private Room',\n",
    "    'Private room in guesthouse': 'Private Room',\n",
    "    'Private room in serviced apartment': 'Private Room',\n",
    "    'Private room in farm stay': 'Private Room',\n",
    "    'Private room in loft': 'Private Room',\n",
    "    'Private room in townhouse': 'Private Room',\n",
    "    'Private room in vacation home': 'Private Room',\n",
    "    'Private room in chalet': 'Private Room',\n",
    "    'Private room in casa particular': 'Private Room',\n",
    "    'Private room in pension': 'Private Room',\n",
    "    'Private room in hostel': 'Private Room',\n",
    "    'Shared room in bed and breakfast': 'Shared Room',\n",
    "    'Shared room in rental unit': 'Shared Room',\n",
    "    'Shared room in condo': 'Shared Room',\n",
    "    'Shared room in home': 'Shared Room',\n",
    "    'Shared room in hostel': 'Shared Room',\n",
    "    'Castle': 'Unique Stays',\n",
    "    'Boat': 'Unique Stays',\n",
    "    'Houseboat': 'Unique Stays',\n",
    "    'Tiny home': 'Unique Stays',\n",
    "    'Casa particular': 'Unique Stays',\n",
    "    'Room in bed and breakfast': 'Rooms in Commercial Establishments',\n",
    "    'Room in boutique hotel': 'Rooms in Commercial Establishments',\n",
    "    'Room in hotel': 'Rooms in Commercial Establishments',\n",
    "    'Room in serviced apartment': 'Rooms in Commercial Establishments',\n",
    "    'Room in aparthotel': 'Rooms in Commercial Establishments',\n",
    "    'Room in hostel': 'Rooms in Commercial Establishments',\n",
    "    'Room in heritage hotel': 'Rooms in Commercial Establishments',\n",
    "    'Floor': 'Shared Room',\n",
    "    'Private room': 'Private Room'\n",
    "}\n",
    "\n",
    "dic2023_d_listings['property_type'] = dic2023_d_listings['property_type'].replace(property_types_groupings)\n",
    "categorial_property_type = CategoricalDtype(categories=['Shared Room',\n",
    "                                                        'Private Room',\n",
    "                                                        'Rooms in Commercial Establishments',\n",
    "                                                        'Entire Place',\n",
    "                                                        'Unique Stays'],\n",
    "                                            ordered=True)\n",
    "dic2023_d_listings.property_type = dic2023_d_listings.property_type.astype(categorial_property_type)"
   ],
   "id": "7ad5a329e141109c",
   "outputs": [],
   "execution_count": 24
  },
  {
   "metadata": {
    "ExecuteTime": {
     "end_time": "2024-07-25T19:14:53.468918Z",
     "start_time": "2024-07-25T19:14:53.452110Z"
    }
   },
   "cell_type": "code",
   "source": [
    "dic2023_d_listings.bathrooms_text = dic2023_d_listings.bathrooms_text.astype(CategoricalDtype(categories=[\"shared\",\n",
    "                                                                                                          \"single\",\n",
    "                                                                                                          \"private\"],\n",
    "                                                                                              ordered=True))"
   ],
   "id": "9527db529416012c",
   "outputs": [],
   "execution_count": 25
  },
  {
   "metadata": {
    "ExecuteTime": {
     "end_time": "2024-07-25T19:14:53.539396Z",
     "start_time": "2024-07-25T19:14:53.473243Z"
    }
   },
   "cell_type": "code",
   "source": [
    "def remove_symbols(text):\n",
    "    try:\n",
    "        cleaned_text = re.sub(r'[$,]', '', text)\n",
    "        return cleaned_text.strip()\n",
    "    except:\n",
    "        return None\n",
    "dic2023_d_listings[\"price\"] = dic2023_d_listings[\"price\"].apply(remove_symbols).astype(float)"
   ],
   "id": "7c84615910817970",
   "outputs": [],
   "execution_count": 26
  },
  {
   "metadata": {
    "ExecuteTime": {
     "end_time": "2024-07-25T19:14:53.563772Z",
     "start_time": "2024-07-25T19:14:53.543836Z"
    }
   },
   "cell_type": "code",
   "source": "dic2023_d_listings.has_availability = dic2023_d_listings.has_availability.apply(lambda x: 1 if x==\"t\" else 0)",
   "id": "e841ca4a07e9a6cd",
   "outputs": [],
   "execution_count": 27
  },
  {
   "metadata": {},
   "cell_type": "markdown",
   "source": "### Reviews\n",
   "id": "64e5461bbf1d585b"
  },
  {
   "metadata": {
    "ExecuteTime": {
     "end_time": "2024-07-25T19:14:53.598273Z",
     "start_time": "2024-07-25T19:14:53.577755Z"
    }
   },
   "cell_type": "code",
   "source": [
    "dic2023_d_listings[\"first_review\"] = pd.to_datetime(dic2023_d_listings[\"first_review\"])\n",
    "dic2023_d_listings[\"last_review\"] = pd.to_datetime(dic2023_d_listings[\"last_review\"])\n"
   ],
   "id": "623f486aeaf868c1",
   "outputs": [],
   "execution_count": 28
  },
  {
   "metadata": {},
   "cell_type": "markdown",
   "source": [
    "*To estimate the values of the reviews, I need to keep only numeric data in the dataset.\n",
    "For this reason, I decided to use a simple Sentiment Analysis on the Description to at least\n",
    "retain some information about the listing*"
   ],
   "id": "9969ed8550e9fd0f"
  },
  {
   "metadata": {
    "ExecuteTime": {
     "end_time": "2024-07-25T19:14:53.612902Z",
     "start_time": "2024-07-25T19:14:53.601713Z"
    }
   },
   "cell_type": "code",
   "source": [
    "# create dataset for imputing reviews NAs and eliminate categorial variables\n",
    "df_imputation = dic2023_d_listings.drop([\"id\",\n",
    "                                         \"name\",\n",
    "                                         \"host_id\",\n",
    "                                         \"host_since\",\n",
    "                                         \"host_response_time\",\n",
    "                                         \"host_verifications\",     # to remove permanently\n",
    "                                         \"neighbourhood_cleansed\", # to remove permanently\n",
    "                                         \"property_type\",\n",
    "                                         \"bathrooms_text\",\n",
    "                                         \"first_review\",\n",
    "                                         \"last_review\",\n",
    "                                         \"price\"\n",
    "                                         ], axis=1)\n",
    "\n",
    "column_names = list(df_imputation.columns)"
   ],
   "id": "b0d8e6429e97a18f",
   "outputs": [],
   "execution_count": 29
  },
  {
   "metadata": {
    "ExecuteTime": {
     "end_time": "2024-07-25T19:14:53.643512Z",
     "start_time": "2024-07-25T19:14:53.615565Z"
    }
   },
   "cell_type": "code",
   "source": [
    "def preprocess_text(text):\n",
    "    tokens = word_tokenize(text.lower())\n",
    "    filtered_tokens = [token for token in tokens if token not in stopwords.words('english')]\n",
    "    lemmatizer = WordNetLemmatizer()\n",
    "    lemmatized_tokens = [lemmatizer.lemmatize(token) for token in filtered_tokens]\n",
    "    processed_text = ' '.join(lemmatized_tokens)\n",
    "    return processed_text\n",
    "\n",
    "analyzer = SentimentIntensityAnalyzer()\n",
    "def get_sentiment(text):\n",
    "    scores = analyzer.polarity_scores(text)\n",
    "    sentiment = scores['pos']\n",
    "    return sentiment"
   ],
   "id": "56ee5e1ab9610785",
   "outputs": [],
   "execution_count": 30
  },
  {
   "metadata": {
    "ExecuteTime": {
     "end_time": "2024-07-25T19:17:11.814879Z",
     "start_time": "2024-07-25T19:14:53.646998Z"
    }
   },
   "cell_type": "code",
   "source": [
    "df_imputation[\"neighborhood_overview\"] = df_imputation[\"neighborhood_overview\"].apply(preprocess_text)\n",
    "df_imputation[\"neighborhood_overview\"] = df_imputation[\"neighborhood_overview\"].apply(get_sentiment)\n",
    "\n",
    "df_imputation[\"host_about\"] = df_imputation[\"host_about\"].apply(preprocess_text)\n",
    "df_imputation[\"host_about\"] = df_imputation[\"host_about\"].apply(get_sentiment)"
   ],
   "id": "7685d57d474b74e",
   "outputs": [],
   "execution_count": 31
  },
  {
   "metadata": {
    "ExecuteTime": {
     "end_time": "2024-07-25T19:17:14.755916Z",
     "start_time": "2024-07-25T19:17:11.817373Z"
    }
   },
   "cell_type": "code",
   "source": [
    "imputer = KNNImputer(n_neighbors=5, weights=\"distance\", metric=\"nan_euclidean\", copy=False)\n",
    "imputed_df = imputer.fit_transform(df_imputation)\n",
    "imputed_df = pd.DataFrame(imputed_df, columns = column_names)"
   ],
   "id": "b6806c01ea4f4e7c",
   "outputs": [],
   "execution_count": 32
  },
  {
   "metadata": {},
   "cell_type": "markdown",
   "source": "### Merge datasets adding categorial columns",
   "id": "b338fbe9ab4283e3"
  },
  {
   "metadata": {
    "ExecuteTime": {
     "end_time": "2024-07-25T19:17:14.777747Z",
     "start_time": "2024-07-25T19:17:14.758738Z"
    }
   },
   "cell_type": "code",
   "source": [
    "dropped_columns = [\"id\",\n",
    "                   \"name\",\n",
    "                   \"host_id\",\n",
    "                   \"host_since\",\n",
    "                   \"host_response_time\",\n",
    "                   \"property_type\",\n",
    "                   \"bathrooms_text\",\n",
    "                   \"first_review\",\n",
    "                   \"last_review\",\n",
    "                   \"neighborhood_overview\", # add again string form\n",
    "                   \"host_about\",            # add again string form\n",
    "                   \"price\"\n",
    "                   ]\n",
    "\n",
    "imputed_df = imputed_df.drop([\"neighborhood_overview\",\n",
    "                              \"host_about\"],\n",
    "                             axis=1)\n",
    "\n",
    "pre_concat_dic = dic2023_d_listings[dropped_columns]\n",
    "clean_dic_listings = pd.concat([pre_concat_dic, imputed_df], axis=1)"
   ],
   "id": "df2341de38d2814e",
   "outputs": [],
   "execution_count": 33
  },
  {
   "metadata": {
    "ExecuteTime": {
     "end_time": "2024-07-25T19:17:14.824690Z",
     "start_time": "2024-07-25T19:17:14.781909Z"
    }
   },
   "cell_type": "code",
   "source": [
    "clean_dic_listings.loc[clean_dic_listings[\"first_review\"].isna(), \"first_review\"] = clean_dic_listings.loc[clean_dic_listings[\"first_review\"].isna(), \"host_since\"]\n",
    "clean_dic_listings.loc[clean_dic_listings[\"last_review\"].isna(), \"last_review\"] = pd.to_datetime(\"26/12/2023\", dayfirst=True)\n",
    "\n",
    "clean_dic_listings.isnull().sum(axis=0)\n"
   ],
   "id": "3ca9bbd4ea4e4d5e",
   "outputs": [
    {
     "data": {
      "text/plain": [
       "id                                                0\n",
       "name                                              0\n",
       "host_id                                           0\n",
       "host_since                                        0\n",
       "host_response_time                                0\n",
       "property_type                                     0\n",
       "bathrooms_text                                    0\n",
       "first_review                                      0\n",
       "last_review                                       0\n",
       "neighborhood_overview                             0\n",
       "host_about                                        0\n",
       "price                                           173\n",
       "host_response_rate                                0\n",
       "host_acceptance_rate                              0\n",
       "host_is_superhost                                 0\n",
       "host_listings_count                               0\n",
       "host_total_listings_count                         0\n",
       "host_has_profile_pic                              0\n",
       "host_identity_verified                            0\n",
       "latitude                                          0\n",
       "longitude                                         0\n",
       "accommodates                                      0\n",
       "beds                                              0\n",
       "minimum_nights_avg_ntm                            0\n",
       "maximum_nights_avg_ntm                            0\n",
       "has_availability                                  0\n",
       "availability_30                                   0\n",
       "availability_60                                   0\n",
       "availability_90                                   0\n",
       "availability_365                                  0\n",
       "number_of_reviews                                 0\n",
       "review_scores_rating                              0\n",
       "review_scores_accuracy                            0\n",
       "review_scores_cleanliness                         0\n",
       "review_scores_checkin                             0\n",
       "review_scores_communication                       0\n",
       "review_scores_location                            0\n",
       "review_scores_value                               0\n",
       "calculated_host_listings_count                    0\n",
       "calculated_host_listings_count_entire_homes       0\n",
       "calculated_host_listings_count_private_rooms      0\n",
       "calculated_host_listings_count_shared_rooms       0\n",
       "reviews_per_month                                 0\n",
       "host_to_listing_geodesic_km                       0\n",
       "airport_distance_km                               0\n",
       "ferretto_square_distance_km                       0\n",
       "roma_square_distance_km                           0\n",
       "rialto_bridge_distance_km                         0\n",
       "san_marco_square_distance_km                      0\n",
       "bathrooms                                         0\n",
       "email_verification                                0\n",
       "phone_verification                                0\n",
       "work_email_verification                           0\n",
       "Isole                                             0\n",
       "Terraferma                                        0\n",
       "dtype: int64"
      ]
     },
     "execution_count": 34,
     "metadata": {},
     "output_type": "execute_result"
    }
   ],
   "execution_count": 34
  },
  {
   "metadata": {
    "ExecuteTime": {
     "end_time": "2024-07-25T19:17:14.861204Z",
     "start_time": "2024-07-25T19:17:14.828853Z"
    }
   },
   "cell_type": "code",
   "source": "clean_dic_listings.to_pickle(\"data/pickles/december_listings.pkl\")",
   "id": "92c766da89d2b7a8",
   "outputs": [],
   "execution_count": 35
  }
 ],
 "metadata": {
  "kernelspec": {
   "display_name": "Python 3",
   "language": "python",
   "name": "python3"
  },
  "language_info": {
   "codemirror_mode": {
    "name": "ipython",
    "version": 2
   },
   "file_extension": ".py",
   "mimetype": "text/x-python",
   "name": "python",
   "nbconvert_exporter": "python",
   "pygments_lexer": "ipython2",
   "version": "2.7.6"
  }
 },
 "nbformat": 4,
 "nbformat_minor": 5
}
