{
 "cells": [
  {
   "metadata": {
    "ExecuteTime": {
     "end_time": "2024-08-16T10:46:15.269019Z",
     "start_time": "2024-08-16T10:46:13.493261Z"
    }
   },
   "cell_type": "code",
   "source": [
    "from tqdm.notebook import tqdm\n",
    "import pandas as pd\n",
    "import os\n",
    "import re\n",
    "import matplotlib.pyplot as plt\n",
    "\n",
    "tqdm.pandas()"
   ],
   "id": "174fae200d112ed3",
   "outputs": [],
   "execution_count": 1
  },
  {
   "metadata": {},
   "cell_type": "code",
   "source": [
    "## Run the following to compute the mappings for host locations\n",
    "#!python3 -m scripts.mappings_host_location_all_cities\n",
    "\n",
    "## Load Visualization Pipeline\n",
    "#!python3 -m scripts.pipeline_all_cities_viz\n",
    "\n",
    "## Load ML pipeline\n",
    "#!python3 -m scripts.pipeline_ML"
   ],
   "id": "4553ee22eba0240e",
   "outputs": [],
   "execution_count": null
  },
  {
   "metadata": {
    "ExecuteTime": {
     "end_time": "2024-08-16T10:46:15.377499Z",
     "start_time": "2024-08-16T10:46:15.271823Z"
    }
   },
   "cell_type": "code",
   "source": "df = pd.read_pickle(\"data/pickles/total_listings_exploration_handling.pkl\")",
   "id": "381f4ae14b4387d5",
   "outputs": [],
   "execution_count": 2
  },
  {
   "metadata": {
    "ExecuteTime": {
     "end_time": "2024-08-16T10:47:16.980995Z",
     "start_time": "2024-08-16T10:47:16.972931Z"
    }
   },
   "cell_type": "code",
   "source": "df[\"host_id\"].name",
   "id": "d783e9ed443c8bef",
   "outputs": [
    {
     "data": {
      "text/plain": [
       "'host_id'"
      ]
     },
     "execution_count": 4,
     "metadata": {},
     "output_type": "execute_result"
    }
   ],
   "execution_count": 4
  },
  {
   "metadata": {},
   "cell_type": "code",
   "source": "df.isna().sum()",
   "id": "bc9d2956621bb4e7",
   "outputs": [],
   "execution_count": null
  },
  {
   "metadata": {},
   "cell_type": "code",
   "source": "df.head()",
   "id": "47d15f049d598d3b",
   "outputs": [],
   "execution_count": null
  },
  {
   "metadata": {},
   "cell_type": "markdown",
   "source": "## Visualize neighbourhoods",
   "id": "e21ac184b0a65c09"
  },
  {
   "metadata": {},
   "cell_type": "code",
   "source": [
    "neigh_list = df[\"neighbourhood_cleansed\"].tolist()\n",
    "neigh_counter = {x:neigh_list.count(x) for x in neigh_list}\n",
    "neigh_counter = dict(sorted(neigh_counter.items(), key=lambda item: item[1], reverse=True))\n",
    "\n",
    "neigh_counter\n"
   ],
   "id": "1d25a211efe22bbc",
   "outputs": [],
   "execution_count": null
  }
 ],
 "metadata": {
  "kernelspec": {
   "display_name": "Python 3",
   "language": "python",
   "name": "python3"
  },
  "language_info": {
   "codemirror_mode": {
    "name": "ipython",
    "version": 2
   },
   "file_extension": ".py",
   "mimetype": "text/x-python",
   "name": "python",
   "nbconvert_exporter": "python",
   "pygments_lexer": "ipython2",
   "version": "2.7.6"
  }
 },
 "nbformat": 4,
 "nbformat_minor": 5
}
