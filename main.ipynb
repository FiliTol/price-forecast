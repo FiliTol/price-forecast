{
 "cells": [
  {
   "cell_type": "code",
   "id": "f8cf60f448884917",
   "metadata": {
    "ExecuteTime": {
     "end_time": "2024-08-05T15:45:17.317960Z",
     "start_time": "2024-08-05T15:45:15.613971Z"
    }
   },
   "source": [
    "import numpy as np\n",
    "import pandas as pd\n",
    "from pandarallel import pandarallel\n",
    "from tqdm.notebook import tqdm\n",
    "tqdm.pandas()\n",
    "import matplotlib.pyplot as plt"
   ],
   "outputs": [],
   "execution_count": 1
  },
  {
   "cell_type": "code",
   "id": "initial_id",
   "metadata": {
    "collapsed": true,
    "jupyter": {
     "outputs_hidden": true
    },
    "ExecuteTime": {
     "end_time": "2024-08-05T15:45:17.326535Z",
     "start_time": "2024-08-05T15:45:17.320907Z"
    }
   },
   "source": [
    "## Load Visualization Pipeline for all the periods\n",
    "## Insert one of the following arguments to run the visualization:\n",
    "## - sep\n",
    "## - dic\n",
    "## - mar\n",
    "## - jun\n",
    "\n",
    "#!python3 -m scripts.visualization_pipeline sep\n",
    "#!python3 -m scripts.visualization_pipeline dic\n",
    "#!python3 -m scripts.visualization_pipeline mar\n",
    "#!python3 -m scripts.visualization_pipeline jun\n",
    "\n",
    "## Run the following to compute the mappings for host locations\n",
    "#!python3 -m scripts.mappings_host_location"
   ],
   "outputs": [],
   "execution_count": 2
  },
  {
   "metadata": {
    "ExecuteTime": {
     "end_time": "2024-08-05T15:45:17.385266Z",
     "start_time": "2024-08-05T15:45:17.329718Z"
    }
   },
   "cell_type": "code",
   "source": [
    "df = pd.read_pickle(\"data/pickles/listings_viz_sep.pkl\")\n",
    "df.dtypes\n"
   ],
   "id": "393e90d842e2fbd9",
   "outputs": [
    {
     "data": {
      "text/plain": [
       "id                                                      object\n",
       "host_id                                                 object\n",
       "host_response_rate                                     float64\n",
       "host_acceptance_rate                                   float64\n",
       "neighbourhood_cleansed                                  object\n",
       "price                                                  float64\n",
       "host_since                                      datetime64[ns]\n",
       "first_review                                    datetime64[ns]\n",
       "last_review                                     datetime64[ns]\n",
       "neighborhood_overview                                   object\n",
       "host_location                                          float64\n",
       "host_about                                              object\n",
       "host_response_time                                      object\n",
       "host_is_superhost                                       object\n",
       "host_listings_count                                      int64\n",
       "host_total_listings_count                                int64\n",
       "host_has_profile_pic                                    object\n",
       "host_identity_verified                                  object\n",
       "latitude                                               float64\n",
       "longitude                                              float64\n",
       "room_type                                               object\n",
       "accommodates                                             int64\n",
       "bathrooms                                              float64\n",
       "bathrooms_text                                          object\n",
       "bedrooms                                               float64\n",
       "beds                                                   float64\n",
       "minimum_nights                                           int64\n",
       "maximum_nights                                           int64\n",
       "number_of_reviews                                        int64\n",
       "review_scores_rating                                   float64\n",
       "review_scores_accuracy                                 float64\n",
       "review_scores_cleanliness                              float64\n",
       "review_scores_checkin                                  float64\n",
       "review_scores_communication                            float64\n",
       "review_scores_location                                 float64\n",
       "review_scores_value                                    float64\n",
       "calculated_host_listings_count                           int64\n",
       "calculated_host_listings_count_entire_homes              int64\n",
       "calculated_host_listings_count_private_rooms             int64\n",
       "calculated_host_listings_count_shared_rooms              int64\n",
       "reviews_per_month                                      float64\n",
       "airport_distance_km                                    float64\n",
       "ferretto_square_distance_km                            float64\n",
       "roma_square_distance_km                                float64\n",
       "rialto_bridge_distance_km                              float64\n",
       "san_marco_square_distance_km                           float64\n",
       "email_verification                                      object\n",
       "phone_verification                                      object\n",
       "work_email_verification                                 object\n",
       "dtype: object"
      ]
     },
     "execution_count": 3,
     "metadata": {},
     "output_type": "execute_result"
    }
   ],
   "execution_count": 3
  },
  {
   "metadata": {},
   "cell_type": "markdown",
   "source": [
    "### IDs\n",
    "\n",
    "https://feature-engine.trainindata.com/en/latest/user_guide/encoding/index.html"
   ],
   "id": "e649d1657b06202a"
  },
  {
   "metadata": {
    "ExecuteTime": {
     "end_time": "2024-08-05T15:45:18.762540Z",
     "start_time": "2024-08-05T15:45:18.251253Z"
    }
   },
   "cell_type": "code",
   "source": [
    "df_plot = df.copy()\n",
    "df_ids = pd.DataFrame(df_plot.groupby(by=[\"host_id\"]).count()[\"id\"])\n",
    "\n",
    "df_ids['group'] = df_ids[\"id\"].apply(lambda x: x if x > 5 else \"other\")\n",
    "\n",
    "df_ids['index'] = df_ids.index\n",
    "\n",
    "def set_custom_index(row):\n",
    "    if row['group']=='other':\n",
    "        row['index'] = 'other'\n",
    "    return row\n",
    "\n",
    "df_ids = df_ids.apply(lambda x: set_custom_index(x), axis=1)\n",
    "\n",
    "df_ids.reset_index(inplace=True)\n",
    "df_ids.drop([\"host_id\", \"group\"], inplace=True, axis=1)\n",
    "df_ids.set_index('index', inplace=True)\n",
    "\n",
    "df_ids = pd.DataFrame(df_ids.groupby(by=['index']).sum())\n"
   ],
   "id": "381fdf688e93f635",
   "outputs": [],
   "execution_count": 5
  },
  {
   "metadata": {
    "ExecuteTime": {
     "end_time": "2024-08-05T15:45:18.783164Z",
     "start_time": "2024-08-05T15:45:18.765644Z"
    }
   },
   "cell_type": "code",
   "source": "df_ids",
   "id": "9f85d741184e4b1e",
   "outputs": [
    {
     "data": {
      "text/plain": [
       "            id\n",
       "index         \n",
       "10072655     8\n",
       "10189388    19\n",
       "10333185     6\n",
       "10988715    15\n",
       "10989537    12\n",
       "...        ...\n",
       "97355921     6\n",
       "97583266     7\n",
       "9852012     10\n",
       "98667453     7\n",
       "other     5191\n",
       "\n",
       "[215 rows x 1 columns]"
      ],
      "text/html": [
       "<div>\n",
       "<style scoped>\n",
       "    .dataframe tbody tr th:only-of-type {\n",
       "        vertical-align: middle;\n",
       "    }\n",
       "\n",
       "    .dataframe tbody tr th {\n",
       "        vertical-align: top;\n",
       "    }\n",
       "\n",
       "    .dataframe thead th {\n",
       "        text-align: right;\n",
       "    }\n",
       "</style>\n",
       "<table border=\"1\" class=\"dataframe\">\n",
       "  <thead>\n",
       "    <tr style=\"text-align: right;\">\n",
       "      <th></th>\n",
       "      <th>id</th>\n",
       "    </tr>\n",
       "    <tr>\n",
       "      <th>index</th>\n",
       "      <th></th>\n",
       "    </tr>\n",
       "  </thead>\n",
       "  <tbody>\n",
       "    <tr>\n",
       "      <th>10072655</th>\n",
       "      <td>8</td>\n",
       "    </tr>\n",
       "    <tr>\n",
       "      <th>10189388</th>\n",
       "      <td>19</td>\n",
       "    </tr>\n",
       "    <tr>\n",
       "      <th>10333185</th>\n",
       "      <td>6</td>\n",
       "    </tr>\n",
       "    <tr>\n",
       "      <th>10988715</th>\n",
       "      <td>15</td>\n",
       "    </tr>\n",
       "    <tr>\n",
       "      <th>10989537</th>\n",
       "      <td>12</td>\n",
       "    </tr>\n",
       "    <tr>\n",
       "      <th>...</th>\n",
       "      <td>...</td>\n",
       "    </tr>\n",
       "    <tr>\n",
       "      <th>97355921</th>\n",
       "      <td>6</td>\n",
       "    </tr>\n",
       "    <tr>\n",
       "      <th>97583266</th>\n",
       "      <td>7</td>\n",
       "    </tr>\n",
       "    <tr>\n",
       "      <th>9852012</th>\n",
       "      <td>10</td>\n",
       "    </tr>\n",
       "    <tr>\n",
       "      <th>98667453</th>\n",
       "      <td>7</td>\n",
       "    </tr>\n",
       "    <tr>\n",
       "      <th>other</th>\n",
       "      <td>5191</td>\n",
       "    </tr>\n",
       "  </tbody>\n",
       "</table>\n",
       "<p>215 rows × 1 columns</p>\n",
       "</div>"
      ]
     },
     "execution_count": 6,
     "metadata": {},
     "output_type": "execute_result"
    }
   ],
   "execution_count": 6
  },
  {
   "metadata": {},
   "cell_type": "markdown",
   "source": [
    "**The high cardinality of unique hosts and the severely skewed distribution in the number of listings for every host\n",
    "could lead us to drop also the `host_id` feature in order to avoid overfitting.**\n",
    "\n",
    "**The alternative is to use some Categorical Encoding functions from `feature_engine` library that seem to be well suited to handle this kind cardinality** like\n",
    "- the Rare Label Encoding,\n",
    "- Decision Tree Encoding,\n",
    "- Count Frequency Encoding (that enables us to handle also unseen categories by allocating the code $0$ for the prediction [see documentation])"
   ],
   "id": "a763e5024126ddc0"
  },
  {
   "metadata": {
    "ExecuteTime": {
     "end_time": "2024-08-05T15:45:21.049626Z",
     "start_time": "2024-08-05T15:45:18.786957Z"
    }
   },
   "cell_type": "code",
   "source": [
    "plt.style.use('_mpl-gallery')\n",
    "\n",
    "plt.figure(figsize=(10, 6))\n",
    "plt.bar(df_ids.index, df_ids['id'], color='skyblue')\n",
    "plt.xlabel('Unique Host IDs')\n",
    "plt.ylabel('Count of Rows')\n",
    "plt.title('Count of Rows for Unique Host IDs')\n",
    "#plt.xticks(host_id_counts.index)\n",
    "plt.grid(axis='y')\n",
    "\n",
    "plt.show()"
   ],
   "id": "5d44927ae7603136",
   "outputs": [
    {
     "data": {
      "text/plain": [
       "<Figure size 1000x600 with 1 Axes>"
      ],
      "image/png": "[encoded data removed]"
     },
     "metadata": {},
     "output_type": "display_data"
    }
   ],
   "execution_count": 7
  },
  {
   "metadata": {},
   "cell_type": "markdown",
   "source": [
    "## Review dates\n",
    "\n",
    "From `first_review` and `last_review` to `reviewed_time_span`"
   ],
   "id": "c3461c27d0ab96ee"
  },
  {
   "metadata": {
    "ExecuteTime": {
     "end_time": "2024-08-05T16:20:02.314087Z",
     "start_time": "2024-08-05T16:20:02.289233Z"
    }
   },
   "cell_type": "code",
   "source": "df.isnull().sum()",
   "id": "51081dda74db16c",
   "outputs": [
    {
     "data": {
      "text/plain": [
       "id                                                 0\n",
       "host_id                                            0\n",
       "host_response_rate                               829\n",
       "host_acceptance_rate                             535\n",
       "neighbourhood_cleansed                             0\n",
       "price                                              0\n",
       "host_since                                         0\n",
       "first_review                                     806\n",
       "last_review                                      806\n",
       "neighborhood_overview                           3208\n",
       "host_location                                   1754\n",
       "host_about                                      3529\n",
       "host_response_time                               829\n",
       "host_is_superhost                                205\n",
       "host_listings_count                                0\n",
       "host_total_listings_count                          0\n",
       "host_has_profile_pic                               0\n",
       "host_identity_verified                             0\n",
       "latitude                                           0\n",
       "longitude                                          0\n",
       "room_type                                          0\n",
       "accommodates                                       0\n",
       "bathrooms                                          0\n",
       "bathrooms_text                                     0\n",
       "bedrooms                                        1383\n",
       "beds                                              38\n",
       "minimum_nights                                     0\n",
       "maximum_nights                                     0\n",
       "number_of_reviews                                  0\n",
       "review_scores_rating                             806\n",
       "review_scores_accuracy                           817\n",
       "review_scores_cleanliness                        817\n",
       "review_scores_checkin                            817\n",
       "review_scores_communication                      816\n",
       "review_scores_location                           817\n",
       "review_scores_value                              817\n",
       "calculated_host_listings_count                     0\n",
       "calculated_host_listings_count_entire_homes        0\n",
       "calculated_host_listings_count_private_rooms       0\n",
       "calculated_host_listings_count_shared_rooms        0\n",
       "reviews_per_month                                806\n",
       "airport_distance_km                                0\n",
       "ferretto_square_distance_km                        0\n",
       "roma_square_distance_km                            0\n",
       "rialto_bridge_distance_km                          0\n",
       "san_marco_square_distance_km                       0\n",
       "email_verification                                 0\n",
       "phone_verification                                 0\n",
       "work_email_verification                            0\n",
       "dtype: int64"
      ]
     },
     "execution_count": 8,
     "metadata": {},
     "output_type": "execute_result"
    }
   ],
   "execution_count": 8
  },
  {
   "metadata": {
    "ExecuteTime": {
     "end_time": "2024-08-05T17:41:43.312022Z",
     "start_time": "2024-08-05T17:41:43.260717Z"
    }
   },
   "cell_type": "code",
   "source": [
    "from sklearn.base import BaseEstimator, TransformerMixin\n",
    "from sklearn.preprocessing import MinMaxScaler, StandardScaler\n",
    "from sklearn.impute import SimpleImputer\n",
    "import pandas as pd\n",
    "from feature_engine.datetime import DatetimeSubtraction\n",
    "from feature_engine.pipeline import Pipeline\n",
    "from feature_engine.creation import RelativeFeatures\n",
    "from feature_engine.encoding import OneHotEncoder, OrdinalEncoder\n",
    "\n",
    "\n",
    "review_dates_feature = [\"first_review\", \"last_review\"]\n",
    "\n",
    "review_dates_pipeline = Pipeline(steps=[\n",
    "    ('Review_dates_engineering', DatetimeSubtraction(variables=\"last_review\",\n",
    "                                                     reference=\"first_review\",\n",
    "                                                     output_unit=\"D\",\n",
    "                                                     drop_original=True,\n",
    "                                                     new_variables_names=[\"days_active_reviews\"]\n",
    "                                                     )\n",
    "     ),\n",
    "    (\"Imputation\", SimpleImputer(strategy='median')),\n",
    "    (\"Standardize\", MinMaxScaler()),\n",
    "])\n"
   ],
   "id": "f298cc92ad1c8a06",
   "outputs": [],
   "execution_count": 17
  },
  {
   "metadata": {},
   "cell_type": "markdown",
   "source": [
    "## Host Listings Count\n",
    "\n",
    "`host_listings_count` as a percentage of `host_total_listings_count` and drop original columns"
   ],
   "id": "94af0d4a39a880f0"
  },
  {
   "metadata": {
    "ExecuteTime": {
     "end_time": "2024-08-05T17:24:49.743497Z",
     "start_time": "2024-08-05T17:24:49.735993Z"
    }
   },
   "cell_type": "code",
   "source": [
    "host_listings_feature = [\"host_listings_count\", \"host_total_listings_count\"]\n",
    "\n",
    "host_listings_pipeline = Pipeline(steps=[\n",
    "    (\"Imputation\", SimpleImputer(strategy=\"median\")),\n",
    "    (\"relative_feature\", RelativeFeatures(variables=[\n",
    "        \"host_listings_count\"],\n",
    "        reference=['\"host_total_listings_count\"'],\n",
    "        func=['div'],\n",
    "        drop_original=True\n",
    "    )),\n",
    "    (\"Standardize\", MinMaxScaler()),\n",
    "])\n"
   ],
   "id": "5dadc2eb6275934a",
   "outputs": [],
   "execution_count": 15
  },
  {
   "metadata": {},
   "cell_type": "markdown",
   "source": [
    "## One-hot-encoding transformation\n",
    "\n",
    "*This pipeline is also suited for all the binary variables at hand because of the `drop_last_binary` option*"
   ],
   "id": "4a4b562c46cf966b"
  },
  {
   "metadata": {
    "ExecuteTime": {
     "end_time": "2024-08-05T17:54:27.148066Z",
     "start_time": "2024-08-05T17:54:27.137199Z"
    }
   },
   "cell_type": "code",
   "source": [
    "ohe_features = [\"neighbourhoods_cleansed\", # categorical\n",
    "                \"host_is_superhost\",       # binary\n",
    "                \"host_has_profile_pic\",\n",
    "                \"host_identity_verified\",\n",
    "                \"email_verification\",\n",
    "                \"phone_verification\",\n",
    "                \"work_email_verification\"]\n",
    "\n",
    "ohe_pipeline = Pipeline(steps=[\n",
    "    (\"One-hot-encoder\", OneHotEncoder(drop_last_binary=True)),\n",
    "    (\"Imputation\", SimpleImputer(strategy=\"most_frequent\"))\n",
    "])"
   ],
   "id": "91f9956e46bae691",
   "outputs": [],
   "execution_count": 19
  },
  {
   "metadata": {},
   "cell_type": "markdown",
   "source": [
    "## Ordinal categorical encoding\n",
    "\n"
   ],
   "id": "1ebf05ce59120bad"
  },
  {
   "metadata": {},
   "cell_type": "markdown",
   "source": "# Final transformer",
   "id": "3f8a64da6c3ac4c8"
  },
  {
   "metadata": {
    "ExecuteTime": {
     "end_time": "2024-08-05T17:43:51.030538Z",
     "start_time": "2024-08-05T17:43:50.991178Z"
    }
   },
   "cell_type": "code",
   "source": "df.head()",
   "id": "b04c1eefdcf6d3d8",
   "outputs": [
    {
     "data": {
      "text/plain": [
       "                   id    host_id  host_response_rate  host_acceptance_rate  \\\n",
       "0            27491536  185612295                50.0                  32.0   \n",
       "1  829284975573971493  321485673                 NaN                   NaN   \n",
       "2            22925979    7074201                 NaN                   NaN   \n",
       "3            33146077  184936719               100.0                  55.0   \n",
       "4              603168    2985972               100.0                 100.0   \n",
       "\n",
       "  neighbourhood_cleansed   price host_since first_review last_review  \\\n",
       "0         Centro Storico   211.0 2018-04-22   2018-10-01  2023-05-28   \n",
       "1         Centro Storico  1000.0 2019-12-27          NaT         NaT   \n",
       "2         Centro Storico    55.0 2013-06-23          NaT         NaT   \n",
       "3                  Isole   190.0 2018-04-18   2019-11-04  2019-11-04   \n",
       "4         Centro Storico    80.0 2012-07-19   2012-10-27  2023-08-11   \n",
       "\n",
       "  neighborhood_overview  ...  calculated_host_listings_count_shared_rooms  \\\n",
       "0                   NaN  ...                                            0   \n",
       "1                   NaN  ...                                            0   \n",
       "2                   NaN  ...                                            0   \n",
       "3                     0  ...                                            0   \n",
       "4                   NaN  ...                                            0   \n",
       "\n",
       "  reviews_per_month airport_distance_km ferretto_square_distance_km  \\\n",
       "0              0.03            6.874816                    8.510272   \n",
       "1               NaN            6.707799                    8.911650   \n",
       "2               NaN            7.706987                   10.683423   \n",
       "3              0.02           10.213909                   13.283630   \n",
       "4              3.84            6.561673                    8.436345   \n",
       "\n",
       "   roma_square_distance_km  rialto_bridge_distance_km  \\\n",
       "0                 0.665043                   1.165896   \n",
       "1                 1.112071                   0.768878   \n",
       "2                 2.371963                   1.082086   \n",
       "3                 4.644740                   3.659282   \n",
       "4                 0.990182                   1.218631   \n",
       "\n",
       "  san_marco_square_distance_km email_verification  phone_verification  \\\n",
       "0                     1.560678                  t                   t   \n",
       "1                     1.238334                  t                   t   \n",
       "2                     0.838850                  t                   t   \n",
       "3                     3.218084                  t                   t   \n",
       "4                     1.664298                  t                   t   \n",
       "\n",
       "   work_email_verification  \n",
       "0                        f  \n",
       "1                        f  \n",
       "2                        f  \n",
       "3                        f  \n",
       "4                        f  \n",
       "\n",
       "[5 rows x 49 columns]"
      ],
      "text/html": [
       "<div>\n",
       "<style scoped>\n",
       "    .dataframe tbody tr th:only-of-type {\n",
       "        vertical-align: middle;\n",
       "    }\n",
       "\n",
       "    .dataframe tbody tr th {\n",
       "        vertical-align: top;\n",
       "    }\n",
       "\n",
       "    .dataframe thead th {\n",
       "        text-align: right;\n",
       "    }\n",
       "</style>\n",
       "<table border=\"1\" class=\"dataframe\">\n",
       "  <thead>\n",
       "    <tr style=\"text-align: right;\">\n",
       "      <th></th>\n",
       "      <th>id</th>\n",
       "      <th>host_id</th>\n",
       "      <th>host_response_rate</th>\n",
       "      <th>host_acceptance_rate</th>\n",
       "      <th>neighbourhood_cleansed</th>\n",
       "      <th>price</th>\n",
       "      <th>host_since</th>\n",
       "      <th>first_review</th>\n",
       "      <th>last_review</th>\n",
       "      <th>neighborhood_overview</th>\n",
       "      <th>...</th>\n",
       "      <th>calculated_host_listings_count_shared_rooms</th>\n",
       "      <th>reviews_per_month</th>\n",
       "      <th>airport_distance_km</th>\n",
       "      <th>ferretto_square_distance_km</th>\n",
       "      <th>roma_square_distance_km</th>\n",
       "      <th>rialto_bridge_distance_km</th>\n",
       "      <th>san_marco_square_distance_km</th>\n",
       "      <th>email_verification</th>\n",
       "      <th>phone_verification</th>\n",
       "      <th>work_email_verification</th>\n",
       "    </tr>\n",
       "  </thead>\n",
       "  <tbody>\n",
       "    <tr>\n",
       "      <th>0</th>\n",
       "      <td>27491536</td>\n",
       "      <td>185612295</td>\n",
       "      <td>50.0</td>\n",
       "      <td>32.0</td>\n",
       "      <td>Centro Storico</td>\n",
       "      <td>211.0</td>\n",
       "      <td>2018-04-22</td>\n",
       "      <td>2018-10-01</td>\n",
       "      <td>2023-05-28</td>\n",
       "      <td>NaN</td>\n",
       "      <td>...</td>\n",
       "      <td>0</td>\n",
       "      <td>0.03</td>\n",
       "      <td>6.874816</td>\n",
       "      <td>8.510272</td>\n",
       "      <td>0.665043</td>\n",
       "      <td>1.165896</td>\n",
       "      <td>1.560678</td>\n",
       "      <td>t</td>\n",
       "      <td>t</td>\n",
       "      <td>f</td>\n",
       "    </tr>\n",
       "    <tr>\n",
       "      <th>1</th>\n",
       "      <td>829284975573971493</td>\n",
       "      <td>321485673</td>\n",
       "      <td>NaN</td>\n",
       "      <td>NaN</td>\n",
       "      <td>Centro Storico</td>\n",
       "      <td>1000.0</td>\n",
       "      <td>2019-12-27</td>\n",
       "      <td>NaT</td>\n",
       "      <td>NaT</td>\n",
       "      <td>NaN</td>\n",
       "      <td>...</td>\n",
       "      <td>0</td>\n",
       "      <td>NaN</td>\n",
       "      <td>6.707799</td>\n",
       "      <td>8.911650</td>\n",
       "      <td>1.112071</td>\n",
       "      <td>0.768878</td>\n",
       "      <td>1.238334</td>\n",
       "      <td>t</td>\n",
       "      <td>t</td>\n",
       "      <td>f</td>\n",
       "    </tr>\n",
       "    <tr>\n",
       "      <th>2</th>\n",
       "      <td>22925979</td>\n",
       "      <td>7074201</td>\n",
       "      <td>NaN</td>\n",
       "      <td>NaN</td>\n",
       "      <td>Centro Storico</td>\n",
       "      <td>55.0</td>\n",
       "      <td>2013-06-23</td>\n",
       "      <td>NaT</td>\n",
       "      <td>NaT</td>\n",
       "      <td>NaN</td>\n",
       "      <td>...</td>\n",
       "      <td>0</td>\n",
       "      <td>NaN</td>\n",
       "      <td>7.706987</td>\n",
       "      <td>10.683423</td>\n",
       "      <td>2.371963</td>\n",
       "      <td>1.082086</td>\n",
       "      <td>0.838850</td>\n",
       "      <td>t</td>\n",
       "      <td>t</td>\n",
       "      <td>f</td>\n",
       "    </tr>\n",
       "    <tr>\n",
       "      <th>3</th>\n",
       "      <td>33146077</td>\n",
       "      <td>184936719</td>\n",
       "      <td>100.0</td>\n",
       "      <td>55.0</td>\n",
       "      <td>Isole</td>\n",
       "      <td>190.0</td>\n",
       "      <td>2018-04-18</td>\n",
       "      <td>2019-11-04</td>\n",
       "      <td>2019-11-04</td>\n",
       "      <td>0</td>\n",
       "      <td>...</td>\n",
       "      <td>0</td>\n",
       "      <td>0.02</td>\n",
       "      <td>10.213909</td>\n",
       "      <td>13.283630</td>\n",
       "      <td>4.644740</td>\n",
       "      <td>3.659282</td>\n",
       "      <td>3.218084</td>\n",
       "      <td>t</td>\n",
       "      <td>t</td>\n",
       "      <td>f</td>\n",
       "    </tr>\n",
       "    <tr>\n",
       "      <th>4</th>\n",
       "      <td>603168</td>\n",
       "      <td>2985972</td>\n",
       "      <td>100.0</td>\n",
       "      <td>100.0</td>\n",
       "      <td>Centro Storico</td>\n",
       "      <td>80.0</td>\n",
       "      <td>2012-07-19</td>\n",
       "      <td>2012-10-27</td>\n",
       "      <td>2023-08-11</td>\n",
       "      <td>NaN</td>\n",
       "      <td>...</td>\n",
       "      <td>0</td>\n",
       "      <td>3.84</td>\n",
       "      <td>6.561673</td>\n",
       "      <td>8.436345</td>\n",
       "      <td>0.990182</td>\n",
       "      <td>1.218631</td>\n",
       "      <td>1.664298</td>\n",
       "      <td>t</td>\n",
       "      <td>t</td>\n",
       "      <td>f</td>\n",
       "    </tr>\n",
       "  </tbody>\n",
       "</table>\n",
       "<p>5 rows × 49 columns</p>\n",
       "</div>"
      ]
     },
     "execution_count": 18,
     "metadata": {},
     "output_type": "execute_result"
    }
   ],
   "execution_count": 18
  }
 ],
 "metadata": {
  "kernelspec": {
   "display_name": "Python 3 (ipykernel)",
   "language": "python",
   "name": "python3"
  },
  "language_info": {
   "codemirror_mode": {
    "name": "ipython",
    "version": 3
   },
   "file_extension": ".py",
   "mimetype": "text/x-python",
   "name": "python",
   "nbconvert_exporter": "python",
   "pygments_lexer": "ipython3",
   "version": "3.10.4"
  }
 },
 "nbformat": 4,
 "nbformat_minor": 5
}
