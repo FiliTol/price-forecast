{
 "cells": [
  {
   "cell_type": "code",
   "id": "f8cf60f448884917",
   "metadata": {
    "ExecuteTime": {
     "end_time": "2024-08-06T14:52:56.025263Z",
     "start_time": "2024-08-06T14:52:54.530380Z"
    }
   },
   "source": [
    "import numpy as np\n",
    "import pandas as pd\n",
    "from pandarallel import pandarallel\n",
    "from tqdm.notebook import tqdm\n",
    "tqdm.pandas()\n",
    "import matplotlib.pyplot as plt"
   ],
   "outputs": [],
   "execution_count": 1
  },
  {
   "cell_type": "code",
   "id": "initial_id",
   "metadata": {
    "collapsed": true,
    "jupyter": {
     "outputs_hidden": true
    },
    "ExecuteTime": {
     "end_time": "2024-08-06T14:52:56.033839Z",
     "start_time": "2024-08-06T14:52:56.028685Z"
    }
   },
   "source": [
    "## Load Visualization Pipeline for all the periods\n",
    "## Insert one of the following arguments to run the visualization:\n",
    "## - sep\n",
    "## - dic\n",
    "## - mar\n",
    "## - jun\n",
    "\n",
    "#!python3 -m scripts.visualization_pipeline sep\n",
    "#!python3 -m scripts.visualization_pipeline dic\n",
    "#!python3 -m scripts.visualization_pipeline mar\n",
    "#!python3 -m scripts.visualization_pipeline jun\n",
    "\n",
    "## Run the following to compute the mappings for host locations\n",
    "#!python3 -m scripts.mappings_host_location"
   ],
   "outputs": [],
   "execution_count": 2
  },
  {
   "metadata": {
    "ExecuteTime": {
     "end_time": "2024-08-06T14:52:56.090727Z",
     "start_time": "2024-08-06T14:52:56.036418Z"
    }
   },
   "cell_type": "code",
   "source": [
    "df = pd.read_pickle(\"data/pickles/listings_viz_sep.pkl\")\n",
    "df.dtypes\n"
   ],
   "id": "393e90d842e2fbd9",
   "outputs": [
    {
     "data": {
      "text/plain": [
       "id                                                      object\n",
       "host_id                                                 object\n",
       "host_response_rate                                     float64\n",
       "host_acceptance_rate                                   float64\n",
       "neighbourhood_cleansed                                  object\n",
       "price                                                  float64\n",
       "host_since                                      datetime64[ns]\n",
       "first_review                                    datetime64[ns]\n",
       "last_review                                     datetime64[ns]\n",
       "neighborhood_overview                                   object\n",
       "host_location                                          float64\n",
       "host_about                                              object\n",
       "host_response_time                                      object\n",
       "host_is_superhost                                       object\n",
       "host_listings_count                                      int64\n",
       "host_total_listings_count                                int64\n",
       "host_has_profile_pic                                    object\n",
       "host_identity_verified                                  object\n",
       "latitude                                               float64\n",
       "longitude                                              float64\n",
       "room_type                                               object\n",
       "accommodates                                             int64\n",
       "bathrooms                                              float64\n",
       "bathrooms_text                                          object\n",
       "bedrooms                                               float64\n",
       "beds                                                   float64\n",
       "minimum_nights                                           int64\n",
       "maximum_nights                                           int64\n",
       "number_of_reviews                                        int64\n",
       "review_scores_rating                                   float64\n",
       "review_scores_accuracy                                 float64\n",
       "review_scores_cleanliness                              float64\n",
       "review_scores_checkin                                  float64\n",
       "review_scores_communication                            float64\n",
       "review_scores_location                                 float64\n",
       "review_scores_value                                    float64\n",
       "calculated_host_listings_count                           int64\n",
       "calculated_host_listings_count_entire_homes              int64\n",
       "calculated_host_listings_count_private_rooms             int64\n",
       "calculated_host_listings_count_shared_rooms              int64\n",
       "reviews_per_month                                      float64\n",
       "airport_distance_km                                    float64\n",
       "ferretto_square_distance_km                            float64\n",
       "roma_square_distance_km                                float64\n",
       "rialto_bridge_distance_km                              float64\n",
       "san_marco_square_distance_km                           float64\n",
       "email_verification                                      object\n",
       "phone_verification                                      object\n",
       "work_email_verification                                 object\n",
       "dtype: object"
      ]
     },
     "execution_count": 3,
     "metadata": {},
     "output_type": "execute_result"
    }
   ],
   "execution_count": 3
  },
  {
   "metadata": {},
   "cell_type": "markdown",
   "source": [
    "### IDs\n",
    "\n",
    "https://feature-engine.trainindata.com/en/latest/user_guide/encoding/index.html"
   ],
   "id": "e649d1657b06202a"
  },
  {
   "metadata": {
    "ExecuteTime": {
     "end_time": "2024-08-06T14:52:56.599193Z",
     "start_time": "2024-08-06T14:52:56.093834Z"
    }
   },
   "cell_type": "code",
   "source": [
    "df_plot = df.copy()\n",
    "df_ids = pd.DataFrame(df_plot.groupby(by=[\"host_id\"]).count()[\"id\"])\n",
    "\n",
    "df_ids['group'] = df_ids[\"id\"].apply(lambda x: x if x > 5 else \"other\")\n",
    "\n",
    "df_ids['index'] = df_ids.index\n",
    "\n",
    "def set_custom_index(row):\n",
    "    if row['group']=='other':\n",
    "        row['index'] = 'other'\n",
    "    return row\n",
    "\n",
    "df_ids = df_ids.apply(lambda x: set_custom_index(x), axis=1)\n",
    "\n",
    "df_ids.reset_index(inplace=True)\n",
    "df_ids.drop([\"host_id\", \"group\"], inplace=True, axis=1)\n",
    "df_ids.set_index('index', inplace=True)\n",
    "\n",
    "df_ids = pd.DataFrame(df_ids.groupby(by=['index']).sum())\n"
   ],
   "id": "381fdf688e93f635",
   "outputs": [],
   "execution_count": 4
  },
  {
   "metadata": {
    "ExecuteTime": {
     "end_time": "2024-08-06T14:52:56.607788Z",
     "start_time": "2024-08-06T14:52:56.603113Z"
    }
   },
   "cell_type": "code",
   "source": [
    "#plt.style.use('_mpl-gallery')\n",
    "#\n",
    "#plt.figure(figsize=(10, 6))\n",
    "#plt.bar(df_ids.index, df_ids['id'], color='skyblue')\n",
    "#plt.xlabel('Unique Host IDs')\n",
    "#plt.ylabel('Count of Rows')\n",
    "#plt.title('Count of Rows for Unique Host IDs')\n",
    "##plt.xticks(host_id_counts.index)\n",
    "#plt.grid(axis='y')\n",
    "#\n",
    "#plt.show()"
   ],
   "id": "5d44927ae7603136",
   "outputs": [],
   "execution_count": 5
  },
  {
   "metadata": {},
   "cell_type": "markdown",
   "source": [
    "## Review dates\n",
    "\n",
    "From `first_review` and `last_review` to `reviewed_time_span`"
   ],
   "id": "c3461c27d0ab96ee"
  },
  {
   "metadata": {
    "ExecuteTime": {
     "end_time": "2024-08-06T14:52:56.644420Z",
     "start_time": "2024-08-06T14:52:56.610302Z"
    }
   },
   "cell_type": "code",
   "source": "df.isnull().sum()",
   "id": "51081dda74db16c",
   "outputs": [
    {
     "data": {
      "text/plain": [
       "id                                                 0\n",
       "host_id                                            0\n",
       "host_response_rate                               829\n",
       "host_acceptance_rate                             535\n",
       "neighbourhood_cleansed                             0\n",
       "price                                              0\n",
       "host_since                                         0\n",
       "first_review                                     806\n",
       "last_review                                      806\n",
       "neighborhood_overview                           3208\n",
       "host_location                                   1754\n",
       "host_about                                      3529\n",
       "host_response_time                               829\n",
       "host_is_superhost                                205\n",
       "host_listings_count                                0\n",
       "host_total_listings_count                          0\n",
       "host_has_profile_pic                               0\n",
       "host_identity_verified                             0\n",
       "latitude                                           0\n",
       "longitude                                          0\n",
       "room_type                                          0\n",
       "accommodates                                       0\n",
       "bathrooms                                          0\n",
       "bathrooms_text                                     0\n",
       "bedrooms                                        1383\n",
       "beds                                              38\n",
       "minimum_nights                                     0\n",
       "maximum_nights                                     0\n",
       "number_of_reviews                                  0\n",
       "review_scores_rating                             806\n",
       "review_scores_accuracy                           817\n",
       "review_scores_cleanliness                        817\n",
       "review_scores_checkin                            817\n",
       "review_scores_communication                      816\n",
       "review_scores_location                           817\n",
       "review_scores_value                              817\n",
       "calculated_host_listings_count                     0\n",
       "calculated_host_listings_count_entire_homes        0\n",
       "calculated_host_listings_count_private_rooms       0\n",
       "calculated_host_listings_count_shared_rooms        0\n",
       "reviews_per_month                                806\n",
       "airport_distance_km                                0\n",
       "ferretto_square_distance_km                        0\n",
       "roma_square_distance_km                            0\n",
       "rialto_bridge_distance_km                          0\n",
       "san_marco_square_distance_km                       0\n",
       "email_verification                                 0\n",
       "phone_verification                                 0\n",
       "work_email_verification                            0\n",
       "dtype: int64"
      ]
     },
     "execution_count": 6,
     "metadata": {},
     "output_type": "execute_result"
    }
   ],
   "execution_count": 6
  },
  {
   "metadata": {
    "ExecuteTime": {
     "end_time": "2024-08-06T14:57:20.121215Z",
     "start_time": "2024-08-06T14:57:20.110915Z"
    }
   },
   "cell_type": "code",
   "source": [
    "import pandas as pd\n",
    "from feature_engine.datetime import DatetimeSubtraction\n",
    "from feature_engine.pipeline import Pipeline\n",
    "from feature_engine.creation import RelativeFeatures\n",
    "from feature_engine.encoding import OneHotEncoder, CountFrequencyEncoder\n",
    "from feature_engine.wrappers import SklearnTransformerWrapper\n",
    "from sklearn.model_selection import train_test_split\n",
    "from sklearn.base import BaseEstimator, TransformerMixin\n",
    "from sklearn.preprocessing import MinMaxScaler, StandardScaler, OrdinalEncoder\n",
    "from sklearn.impute import SimpleImputer, KNNImputer\n",
    "from sklearn.compose import ColumnTransformer"
   ],
   "id": "846634c61a42b870",
   "outputs": [],
   "execution_count": 29
  },
  {
   "metadata": {
    "ExecuteTime": {
     "end_time": "2024-08-06T14:52:57.510Z",
     "start_time": "2024-08-06T14:52:57.501124Z"
    }
   },
   "cell_type": "code",
   "source": [
    "review_dates_feature = [\"first_review\", \"last_review\"]\n",
    "\n",
    "review_dates_pipeline = Pipeline(steps=[\n",
    "    ('Review_dates_engineering', DatetimeSubtraction(variables=\"last_review\",\n",
    "                                                     reference=\"first_review\",\n",
    "                                                     output_unit=\"D\",\n",
    "                                                     drop_original=True,\n",
    "                                                     new_variables_names=[\"days_active_reviews\"],\n",
    "                                                     missing_values=\"ignore\"\n",
    "                                                     )\n",
    "     ),\n",
    "    (\"Imputation\", SimpleImputer(strategy='median')),\n",
    "    (\"Standardize\", MinMaxScaler()),\n",
    "])\n"
   ],
   "id": "f298cc92ad1c8a06",
   "outputs": [],
   "execution_count": 8
  },
  {
   "metadata": {},
   "cell_type": "markdown",
   "source": [
    "## Host Listings Count\n",
    "\n",
    "`host_listings_count` as a percentage of `host_total_listings_count` and drop original columns"
   ],
   "id": "94af0d4a39a880f0"
  },
  {
   "metadata": {
    "ExecuteTime": {
     "end_time": "2024-08-06T14:52:57.612559Z",
     "start_time": "2024-08-06T14:52:57.512575Z"
    }
   },
   "cell_type": "code",
   "source": [
    "host_listings_feature = [\"host_listings_count\",\n",
    "                         \"host_total_listings_count\"]\n",
    "\n",
    "host_listings_pipeline = Pipeline(steps=[\n",
    "    (\"Imputation\", SimpleImputer(strategy=\"median\")),\n",
    "    (\"relative_feature\", RelativeFeatures(\n",
    "        variables=['host_listings_count'],\n",
    "        reference=['host_total_listings_count'],\n",
    "        func=['div'],\n",
    "        drop_original=True\n",
    "    )),\n",
    "    (\"Standardize\", MinMaxScaler()),\n",
    "])\n"
   ],
   "id": "5dadc2eb6275934a",
   "outputs": [],
   "execution_count": 9
  },
  {
   "metadata": {},
   "cell_type": "markdown",
   "source": [
    "## One-hot-encoding transformation\n",
    "\n",
    "*This pipeline is also suited for all the binary variables at hand because of the `drop_last_binary` option*"
   ],
   "id": "4a4b562c46cf966b"
  },
  {
   "metadata": {
    "ExecuteTime": {
     "end_time": "2024-08-06T14:52:57.627678Z",
     "start_time": "2024-08-06T14:52:57.616283Z"
    }
   },
   "cell_type": "code",
   "source": [
    "ohe_feature = [\"neighbourhood_cleansed\", # categorical\n",
    "                \"host_is_superhost\",       # binary\n",
    "                \"host_has_profile_pic\",\n",
    "                \"host_identity_verified\",\n",
    "                \"email_verification\",\n",
    "                \"phone_verification\",\n",
    "                \"work_email_verification\"]\n",
    "\n",
    "ohe_pipeline = Pipeline(steps=[\n",
    "    (\"Imputation\", SimpleImputer(strategy=\"most_frequent\")),\n",
    "    (\"One-hot-encoder\", OneHotEncoder(drop_last_binary=True,\n",
    "                                      drop_last=True))\n",
    "])"
   ],
   "id": "91f9956e46bae691",
   "outputs": [],
   "execution_count": 10
  },
  {
   "metadata": {},
   "cell_type": "markdown",
   "source": [
    "## Ordinal categorical encoding\n",
    "\n"
   ],
   "id": "1ebf05ce59120bad"
  },
  {
   "metadata": {
    "ExecuteTime": {
     "end_time": "2024-08-06T14:52:57.640512Z",
     "start_time": "2024-08-06T14:52:57.630724Z"
    }
   },
   "cell_type": "code",
   "source": [
    "ordinal_feature = [\"host_response_time\",\n",
    "                   \"room_type\",\n",
    "                   \"bathrooms_text\"]\n",
    "\n",
    "ordinal_pipeline = Pipeline(steps=[\n",
    "    (\"Imputation\", SimpleImputer(strategy=\"most_frequent\")),\n",
    "    (\"Ordinal_encoder\", OrdinalEncoder(categories=\"auto\"))\n",
    "])"
   ],
   "id": "bf7651e34a3d7bb6",
   "outputs": [],
   "execution_count": 11
  },
  {
   "metadata": {},
   "cell_type": "markdown",
   "source": [
    "## Host ID\n",
    "\n",
    "**The high cardinality of unique hosts and the severely skewed distribution in the number of listings for every host\n",
    "could lead us to drop also the `host_id` feature in order to avoid overfitting.**\n",
    "\n",
    "**The alternative is to use some Categorical Encoding functions from `feature_engine` library that seem to be well suited to handle this kind cardinality** like\n",
    "- the Rare Label Encoding,\n",
    "- Decision Tree Encoding,\n",
    "- Count Frequency Encoding (that enables us to handle also unseen categories by allocating the code $0$ for the prediction [see documentation])\n"
   ],
   "id": "2da90aa10123d898"
  },
  {
   "metadata": {
    "ExecuteTime": {
     "end_time": "2024-08-06T14:52:57.652184Z",
     "start_time": "2024-08-06T14:52:57.643849Z"
    }
   },
   "cell_type": "code",
   "source": [
    "host_id_feature = [\"host_id\"]\n",
    "\n",
    "host_id_pipeline = Pipeline(steps=[\n",
    "    (\"Count_frequency_encoding\", CountFrequencyEncoder(encoding_method=\"count\",\n",
    "                               missing_values=\"ignore\",\n",
    "                               unseen=\"encode\"))\n",
    "])"
   ],
   "id": "5542009f927cea2d",
   "outputs": [],
   "execution_count": 12
  },
  {
   "metadata": {},
   "cell_type": "markdown",
   "source": "## Host since",
   "id": "c8358fba7a4767c"
  },
  {
   "metadata": {
    "ExecuteTime": {
     "end_time": "2024-08-06T14:52:57.663360Z",
     "start_time": "2024-08-06T14:52:57.655261Z"
    }
   },
   "cell_type": "code",
   "source": [
    "host_since_feature = [\"host_since\"]\n",
    "\n",
    "host_since_pipeline = Pipeline(steps=[\n",
    "    ('date_engineering', DatetimeSubtraction(variables=max(\"last_review\"),\n",
    "                                             reference=\"host_since\",\n",
    "                                             output_unit=\"D\",\n",
    "                                             drop_original=True,\n",
    "                                             new_variables_names=[\"host_since_days\"],\n",
    "                                             missing_values=\"ignore\"\n",
    "                                             )\n",
    "     ),\n",
    "    (\"Imputation\", SimpleImputer(strategy='median')),\n",
    "    (\"Standardize\", MinMaxScaler()),\n",
    "])"
   ],
   "id": "cbd4f8da48cc8f04",
   "outputs": [],
   "execution_count": 13
  },
  {
   "metadata": {},
   "cell_type": "markdown",
   "source": "## Numerical features",
   "id": "dcc9f2f8d343bcf2"
  },
  {
   "metadata": {
    "ExecuteTime": {
     "end_time": "2024-08-06T14:52:57.679639Z",
     "start_time": "2024-08-06T14:52:57.670954Z"
    }
   },
   "cell_type": "code",
   "source": [
    "numerical_feature = [\"host_response_rate\",\n",
    "                     \"host_acceptance_rate\",\n",
    "                     \"host_location\",\n",
    "                     \"minimum_nights\",\n",
    "                     \"maximum_nights\",\n",
    "                     \"number_of_reviews\",\n",
    "                     \"review_scores_rating\",\n",
    "                     \"review_scores_accuracy\",\n",
    "                     \"review_scores_cleanliness\",\n",
    "                     \"review_scores_checkin\",\n",
    "                     \"review_scores_communication\",\n",
    "                     \"review_scores_location\",\n",
    "                     \"review_scores_value\",\n",
    "                     \"reviews_per_month\",\n",
    "                     \"airport_distance_km\",\n",
    "                     \"ferretto_square_distance_km\",\n",
    "                     \"roma_square_distance_km\",\n",
    "                     \"rialto_bridge_distance_km\",\n",
    "                     \"san_marco_square_distance_km\"\n",
    "                     ]\n",
    "\n",
    "numerical_pipeline = Pipeline(steps=[\n",
    "    (\"Imputer\", KNNImputer(n_neighbors=5, weights=\"uniform\")),\n",
    "    (\"Standardize\", MinMaxScaler())\n",
    "])"
   ],
   "id": "6e0dd389a7ac3994",
   "outputs": [],
   "execution_count": 14
  },
  {
   "metadata": {},
   "cell_type": "markdown",
   "source": "## Coordinates (numerical)",
   "id": "a6539f350be87c8d"
  },
  {
   "metadata": {
    "ExecuteTime": {
     "end_time": "2024-08-06T14:52:57.690981Z",
     "start_time": "2024-08-06T14:52:57.683236Z"
    }
   },
   "cell_type": "code",
   "source": [
    "coordinates_feature = [\"latitude\",\n",
    "                       \"longitude\"]\n",
    "\n",
    "coordinates_pipeline = Pipeline(steps=[\n",
    "    (\"Imputer\", SimpleImputer(strategy=\"most_frequent\")),\n",
    "    (\"Standardization\", StandardScaler())\n",
    "])"
   ],
   "id": "43099582caddac1d",
   "outputs": [],
   "execution_count": 15
  },
  {
   "metadata": {},
   "cell_type": "markdown",
   "source": "## Engineer Accomodates vs Beds and Bathrooms and Bedrooms",
   "id": "1abda78a5b7c69d"
  },
  {
   "metadata": {
    "ExecuteTime": {
     "end_time": "2024-08-06T14:52:57.702602Z",
     "start_time": "2024-08-06T14:52:57.693755Z"
    }
   },
   "cell_type": "code",
   "source": [
    "accomodates_vs_feature = [\"accommodates\",\n",
    "                          \"bathrooms\",\n",
    "                          \"bedrooms\",\n",
    "                          \"beds\"]\n",
    "\n",
    "accomodates_vs_pipeline = Pipeline(steps=[\n",
    "    (\"Feature_engineering\", RelativeFeatures(\n",
    "        variables=[\n",
    "            \"bathrooms\",\n",
    "            \"bedrooms\",\n",
    "            \"beds\"],\n",
    "        reference=[\"accommodates\"],\n",
    "        func=[\"div\"],\n",
    "        fill_value=None,\n",
    "        missing_values=\"ignore\",\n",
    "        drop_original=True\n",
    "    )\n",
    "     ),\n",
    "    (\"Imputation\", SimpleImputer(strategy=\"median\")),\n",
    "    (\"Standardization\", MinMaxScaler())\n",
    "])"
   ],
   "id": "59db35cc6c61fe5c",
   "outputs": [],
   "execution_count": 16
  },
  {
   "metadata": {},
   "cell_type": "markdown",
   "source": "## Engineer Beds vs Rooms",
   "id": "c5fd18fdd739d0a5"
  },
  {
   "metadata": {
    "ExecuteTime": {
     "end_time": "2024-08-06T14:52:57.713171Z",
     "start_time": "2024-08-06T14:52:57.704902Z"
    }
   },
   "cell_type": "code",
   "source": [
    "bedrooms_feature = [\"beds\", \n",
    "                    \"bedrooms\"]\n",
    "\n",
    "bedrooms_pipeline = Pipeline(steps=[\n",
    "    (\"Feature_engineering\", RelativeFeatures(\n",
    "        variables=[\"beds\"],\n",
    "        reference=[\"bedrooms\"],\n",
    "        func=[\"div\"],\n",
    "        fill_value=None,\n",
    "        missing_values=\"ignore\",\n",
    "        drop_original=True\n",
    "    )\n",
    "     ),\n",
    "    (\"Imputation\", SimpleImputer(strategy=\"median\")),\n",
    "    (\"Standardization\", MinMaxScaler())\n",
    "])"
   ],
   "id": "6c8577f8c2869d76",
   "outputs": [],
   "execution_count": 17
  },
  {
   "metadata": {},
   "cell_type": "markdown",
   "source": "## Calculated host listings features",
   "id": "fac422bfe2690f37"
  },
  {
   "metadata": {
    "ExecuteTime": {
     "end_time": "2024-08-06T14:52:57.726660Z",
     "start_time": "2024-08-06T14:52:57.715704Z"
    }
   },
   "cell_type": "code",
   "source": [
    "calculated_listings_feature = [\"calculated_host_listings_count\",\n",
    "                          \"calculated_host_listings_count_entire_homes\",\n",
    "                          \"calculated_host_listings_count_private_rooms\",\n",
    "                          \"calculated_host_listings_count_shared_rooms\"\n",
    "                          ]\n",
    "\n",
    "calculated_listings_pipeline = Pipeline(steps=[\n",
    "    (\"Feature_engineering\", RelativeFeatures(\n",
    "        variables=[\n",
    "            \"calculated_host_listings_count_entire_homes\",\n",
    "            \"calculated_host_listings_count_private_rooms\",\n",
    "            \"calculated_host_listings_count_shared_rooms\"\n",
    "        ],\n",
    "        reference=[\"calculated_host_listings_count\"],\n",
    "        func=[\"div\"],\n",
    "        fill_value=None,\n",
    "        missing_values=\"ignore\",\n",
    "        drop_original=True\n",
    "    )\n",
    "     ),\n",
    "    (\"Imputation\", SimpleImputer(strategy=\"median\")),\n",
    "    (\"Standardization\", MinMaxScaler())\n",
    "])"
   ],
   "id": "e5613f5f3c6ed500",
   "outputs": [],
   "execution_count": 18
  },
  {
   "metadata": {},
   "cell_type": "markdown",
   "source": "# Final transformer",
   "id": "3f8a64da6c3ac4c8"
  },
  {
   "metadata": {
    "ExecuteTime": {
     "end_time": "2024-08-06T14:52:57.768347Z",
     "start_time": "2024-08-06T14:52:57.729298Z"
    }
   },
   "cell_type": "code",
   "source": "df.head()",
   "id": "9fc9ae190e3f70cf",
   "outputs": [
    {
     "data": {
      "text/plain": [
       "                   id    host_id  host_response_rate  host_acceptance_rate  \\\n",
       "0            27491536  185612295                50.0                  32.0   \n",
       "1  829284975573971493  321485673                 NaN                   NaN   \n",
       "2            22925979    7074201                 NaN                   NaN   \n",
       "3            33146077  184936719               100.0                  55.0   \n",
       "4              603168    2985972               100.0                 100.0   \n",
       "\n",
       "  neighbourhood_cleansed   price host_since first_review last_review  \\\n",
       "0         Centro Storico   211.0 2018-04-22   2018-10-01  2023-05-28   \n",
       "1         Centro Storico  1000.0 2019-12-27          NaT         NaT   \n",
       "2         Centro Storico    55.0 2013-06-23          NaT         NaT   \n",
       "3                  Isole   190.0 2018-04-18   2019-11-04  2019-11-04   \n",
       "4         Centro Storico    80.0 2012-07-19   2012-10-27  2023-08-11   \n",
       "\n",
       "  neighborhood_overview  ...  calculated_host_listings_count_shared_rooms  \\\n",
       "0                   NaN  ...                                            0   \n",
       "1                   NaN  ...                                            0   \n",
       "2                   NaN  ...                                            0   \n",
       "3                     0  ...                                            0   \n",
       "4                   NaN  ...                                            0   \n",
       "\n",
       "  reviews_per_month airport_distance_km ferretto_square_distance_km  \\\n",
       "0              0.03            6.874816                    8.510272   \n",
       "1               NaN            6.707799                    8.911650   \n",
       "2               NaN            7.706987                   10.683423   \n",
       "3              0.02           10.213909                   13.283630   \n",
       "4              3.84            6.561673                    8.436345   \n",
       "\n",
       "   roma_square_distance_km  rialto_bridge_distance_km  \\\n",
       "0                 0.665043                   1.165896   \n",
       "1                 1.112071                   0.768878   \n",
       "2                 2.371963                   1.082086   \n",
       "3                 4.644740                   3.659282   \n",
       "4                 0.990182                   1.218631   \n",
       "\n",
       "  san_marco_square_distance_km email_verification  phone_verification  \\\n",
       "0                     1.560678                  t                   t   \n",
       "1                     1.238334                  t                   t   \n",
       "2                     0.838850                  t                   t   \n",
       "3                     3.218084                  t                   t   \n",
       "4                     1.664298                  t                   t   \n",
       "\n",
       "   work_email_verification  \n",
       "0                        f  \n",
       "1                        f  \n",
       "2                        f  \n",
       "3                        f  \n",
       "4                        f  \n",
       "\n",
       "[5 rows x 49 columns]"
      ],
      "text/html": [
       "<div>\n",
       "<style scoped>\n",
       "    .dataframe tbody tr th:only-of-type {\n",
       "        vertical-align: middle;\n",
       "    }\n",
       "\n",
       "    .dataframe tbody tr th {\n",
       "        vertical-align: top;\n",
       "    }\n",
       "\n",
       "    .dataframe thead th {\n",
       "        text-align: right;\n",
       "    }\n",
       "</style>\n",
       "<table border=\"1\" class=\"dataframe\">\n",
       "  <thead>\n",
       "    <tr style=\"text-align: right;\">\n",
       "      <th></th>\n",
       "      <th>id</th>\n",
       "      <th>host_id</th>\n",
       "      <th>host_response_rate</th>\n",
       "      <th>host_acceptance_rate</th>\n",
       "      <th>neighbourhood_cleansed</th>\n",
       "      <th>price</th>\n",
       "      <th>host_since</th>\n",
       "      <th>first_review</th>\n",
       "      <th>last_review</th>\n",
       "      <th>neighborhood_overview</th>\n",
       "      <th>...</th>\n",
       "      <th>calculated_host_listings_count_shared_rooms</th>\n",
       "      <th>reviews_per_month</th>\n",
       "      <th>airport_distance_km</th>\n",
       "      <th>ferretto_square_distance_km</th>\n",
       "      <th>roma_square_distance_km</th>\n",
       "      <th>rialto_bridge_distance_km</th>\n",
       "      <th>san_marco_square_distance_km</th>\n",
       "      <th>email_verification</th>\n",
       "      <th>phone_verification</th>\n",
       "      <th>work_email_verification</th>\n",
       "    </tr>\n",
       "  </thead>\n",
       "  <tbody>\n",
       "    <tr>\n",
       "      <th>0</th>\n",
       "      <td>27491536</td>\n",
       "      <td>185612295</td>\n",
       "      <td>50.0</td>\n",
       "      <td>32.0</td>\n",
       "      <td>Centro Storico</td>\n",
       "      <td>211.0</td>\n",
       "      <td>2018-04-22</td>\n",
       "      <td>2018-10-01</td>\n",
       "      <td>2023-05-28</td>\n",
       "      <td>NaN</td>\n",
       "      <td>...</td>\n",
       "      <td>0</td>\n",
       "      <td>0.03</td>\n",
       "      <td>6.874816</td>\n",
       "      <td>8.510272</td>\n",
       "      <td>0.665043</td>\n",
       "      <td>1.165896</td>\n",
       "      <td>1.560678</td>\n",
       "      <td>t</td>\n",
       "      <td>t</td>\n",
       "      <td>f</td>\n",
       "    </tr>\n",
       "    <tr>\n",
       "      <th>1</th>\n",
       "      <td>829284975573971493</td>\n",
       "      <td>321485673</td>\n",
       "      <td>NaN</td>\n",
       "      <td>NaN</td>\n",
       "      <td>Centro Storico</td>\n",
       "      <td>1000.0</td>\n",
       "      <td>2019-12-27</td>\n",
       "      <td>NaT</td>\n",
       "      <td>NaT</td>\n",
       "      <td>NaN</td>\n",
       "      <td>...</td>\n",
       "      <td>0</td>\n",
       "      <td>NaN</td>\n",
       "      <td>6.707799</td>\n",
       "      <td>8.911650</td>\n",
       "      <td>1.112071</td>\n",
       "      <td>0.768878</td>\n",
       "      <td>1.238334</td>\n",
       "      <td>t</td>\n",
       "      <td>t</td>\n",
       "      <td>f</td>\n",
       "    </tr>\n",
       "    <tr>\n",
       "      <th>2</th>\n",
       "      <td>22925979</td>\n",
       "      <td>7074201</td>\n",
       "      <td>NaN</td>\n",
       "      <td>NaN</td>\n",
       "      <td>Centro Storico</td>\n",
       "      <td>55.0</td>\n",
       "      <td>2013-06-23</td>\n",
       "      <td>NaT</td>\n",
       "      <td>NaT</td>\n",
       "      <td>NaN</td>\n",
       "      <td>...</td>\n",
       "      <td>0</td>\n",
       "      <td>NaN</td>\n",
       "      <td>7.706987</td>\n",
       "      <td>10.683423</td>\n",
       "      <td>2.371963</td>\n",
       "      <td>1.082086</td>\n",
       "      <td>0.838850</td>\n",
       "      <td>t</td>\n",
       "      <td>t</td>\n",
       "      <td>f</td>\n",
       "    </tr>\n",
       "    <tr>\n",
       "      <th>3</th>\n",
       "      <td>33146077</td>\n",
       "      <td>184936719</td>\n",
       "      <td>100.0</td>\n",
       "      <td>55.0</td>\n",
       "      <td>Isole</td>\n",
       "      <td>190.0</td>\n",
       "      <td>2018-04-18</td>\n",
       "      <td>2019-11-04</td>\n",
       "      <td>2019-11-04</td>\n",
       "      <td>0</td>\n",
       "      <td>...</td>\n",
       "      <td>0</td>\n",
       "      <td>0.02</td>\n",
       "      <td>10.213909</td>\n",
       "      <td>13.283630</td>\n",
       "      <td>4.644740</td>\n",
       "      <td>3.659282</td>\n",
       "      <td>3.218084</td>\n",
       "      <td>t</td>\n",
       "      <td>t</td>\n",
       "      <td>f</td>\n",
       "    </tr>\n",
       "    <tr>\n",
       "      <th>4</th>\n",
       "      <td>603168</td>\n",
       "      <td>2985972</td>\n",
       "      <td>100.0</td>\n",
       "      <td>100.0</td>\n",
       "      <td>Centro Storico</td>\n",
       "      <td>80.0</td>\n",
       "      <td>2012-07-19</td>\n",
       "      <td>2012-10-27</td>\n",
       "      <td>2023-08-11</td>\n",
       "      <td>NaN</td>\n",
       "      <td>...</td>\n",
       "      <td>0</td>\n",
       "      <td>3.84</td>\n",
       "      <td>6.561673</td>\n",
       "      <td>8.436345</td>\n",
       "      <td>0.990182</td>\n",
       "      <td>1.218631</td>\n",
       "      <td>1.664298</td>\n",
       "      <td>t</td>\n",
       "      <td>t</td>\n",
       "      <td>f</td>\n",
       "    </tr>\n",
       "  </tbody>\n",
       "</table>\n",
       "<p>5 rows × 49 columns</p>\n",
       "</div>"
      ]
     },
     "execution_count": 19,
     "metadata": {},
     "output_type": "execute_result"
    }
   ],
   "execution_count": 19
  },
  {
   "metadata": {
    "ExecuteTime": {
     "end_time": "2024-08-06T14:52:57.796754Z",
     "start_time": "2024-08-06T14:52:57.771557Z"
    }
   },
   "cell_type": "code",
   "source": [
    "## Drop rows with NaN in target \n",
    "df = df.loc[df['price'].notnull(), :]\n",
    "\n",
    "X = df.drop([\"price\"], axis=1, inplace=False)\n",
    "y = df[\"price\"]\n",
    "\n",
    "X_train, X_test, y_train, y_test = train_test_split(X, y, test_size=0.3, random_state=874631)"
   ],
   "id": "8cc7a73e3faff09c",
   "outputs": [],
   "execution_count": 20
  },
  {
   "metadata": {
    "ExecuteTime": {
     "end_time": "2024-08-06T14:52:57.810780Z",
     "start_time": "2024-08-06T14:52:57.799590Z"
    }
   },
   "cell_type": "code",
   "source": [
    "preprocessor = ColumnTransformer(\n",
    "    transformers=[\n",
    "        (\"Review dates\", review_dates_pipeline, review_dates_feature),\n",
    "        (\"Host listings\", host_listings_pipeline, host_listings_feature),\n",
    "        (\"OHE\", ohe_pipeline, ohe_feature),\n",
    "        (\"Ordinal\", ordinal_pipeline, ordinal_feature),\n",
    "        (\"Host Id\", host_id_pipeline, host_id_feature),\n",
    "        (\"Host since\", host_since_pipeline, host_since_feature),\n",
    "        (\"Numerical\", numerical_pipeline, numerical_feature),\n",
    "        (\"Coordinates\", coordinates_pipeline, coordinates_feature),\n",
    "        (\"Accomodates VS\", accomodates_vs_pipeline, accomodates_vs_feature),\n",
    "        (\"Bedrooms VS\", bedrooms_pipeline, bedrooms_feature),\n",
    "        (\"Listings count VS\", calculated_listings_pipeline, calculated_listings_feature)\n",
    "    ],\n",
    "    remainder=\"drop\",\n",
    "    n_jobs=-1,\n",
    "    verbose=True,\n",
    "    verbose_feature_names_out=True\n",
    ")"
   ],
   "id": "c665ab4149e49ed3",
   "outputs": [],
   "execution_count": 21
  },
  {
   "metadata": {
    "ExecuteTime": {
     "end_time": "2024-08-06T14:52:57.859740Z",
     "start_time": "2024-08-06T14:52:57.813703Z"
    }
   },
   "cell_type": "code",
   "source": [
    "from sklearn.ensemble import RandomForestRegressor\n",
    "from feature_engine.preprocessing import MatchVariables\n",
    "\n",
    "transform = Pipeline(\n",
    "   steps=[\n",
    "       (\"processing\", preprocessor),\n",
    "       (\"RandomForestRegressor\", RandomForestRegressor()),\n",
    "   ]\n",
    ")"
   ],
   "id": "880b3a8529fb1c86",
   "outputs": [],
   "execution_count": 22
  },
  {
   "metadata": {
    "ExecuteTime": {
     "end_time": "2024-08-06T14:53:02.954582Z",
     "start_time": "2024-08-06T14:52:57.862101Z"
    }
   },
   "cell_type": "code",
   "source": [
    "model = transform.fit(X_train,y_train)\n",
    "#model.score(X_test, y_test)\n"
   ],
   "id": "98e2fd4565c5d9b7",
   "outputs": [
    {
     "ename": "KeyError",
     "evalue": "\"None of [Index(['host_listings_count'], dtype='object')] are in the [columns]\"",
     "output_type": "error",
     "traceback": [
      "\u001B[0;31m---------------------------------------------------------------------------\u001B[0m",
      "\u001B[0;31m_RemoteTraceback\u001B[0m                          Traceback (most recent call last)",
      "\u001B[0;31m_RemoteTraceback\u001B[0m: \n\"\"\"\nTraceback (most recent call last):\n  File \"/home/filippo/repositories/price-forecast/venv/lib/python3.10/site-packages/joblib/externals/loky/process_executor.py\", line 463, in _process_worker\n    r = call_item()\n  File \"/home/filippo/repositories/price-forecast/venv/lib/python3.10/site-packages/joblib/externals/loky/process_executor.py\", line 291, in __call__\n    return self.fn(*self.args, **self.kwargs)\n  File \"/home/filippo/repositories/price-forecast/venv/lib/python3.10/site-packages/joblib/parallel.py\", line 598, in __call__\n    return [func(*args, **kwargs)\n  File \"/home/filippo/repositories/price-forecast/venv/lib/python3.10/site-packages/joblib/parallel.py\", line 598, in <listcomp>\n    return [func(*args, **kwargs)\n  File \"/home/filippo/repositories/price-forecast/venv/lib/python3.10/site-packages/sklearn/utils/parallel.py\", line 136, in __call__\n    return self.function(*args, **kwargs)\n  File \"/home/filippo/repositories/price-forecast/venv/lib/python3.10/site-packages/sklearn/pipeline.py\", line 1310, in _fit_transform_one\n    res = transformer.fit_transform(X, y, **params.get(\"fit_transform\", {}))\n  File \"/home/filippo/repositories/price-forecast/venv/lib/python3.10/site-packages/sklearn/base.py\", line 1473, in wrapper\n    return fit_method(estimator, *args, **kwargs)\n  File \"/home/filippo/repositories/price-forecast/venv/lib/python3.10/site-packages/feature_engine/pipeline/pipeline.py\", line 299, in fit_transform\n    Xt, yt = self._fit(X, y, routed_params)\n  File \"/home/filippo/repositories/price-forecast/venv/lib/python3.10/site-packages/feature_engine/pipeline/pipeline.py\", line 173, in _fit\n    X, fitted_transformer = fit_transform_one_cached(\n  File \"/home/filippo/repositories/price-forecast/venv/lib/python3.10/site-packages/joblib/memory.py\", line 312, in __call__\n    return self.func(*args, **kwargs)\n  File \"/home/filippo/repositories/price-forecast/venv/lib/python3.10/site-packages/sklearn/pipeline.py\", line 1310, in _fit_transform_one\n    res = transformer.fit_transform(X, y, **params.get(\"fit_transform\", {}))\n  File \"/home/filippo/repositories/price-forecast/venv/lib/python3.10/site-packages/sklearn/utils/_set_output.py\", line 313, in wrapped\n    data_to_wrap = f(self, X, *args, **kwargs)\n  File \"/home/filippo/repositories/price-forecast/venv/lib/python3.10/site-packages/sklearn/base.py\", line 1101, in fit_transform\n    return self.fit(X, y, **fit_params).transform(X)\n  File \"/home/filippo/repositories/price-forecast/venv/lib/python3.10/site-packages/feature_engine/creation/base_creation.py\", line 60, in fit\n    self.variables_ = check_numerical_variables(X, self.variables)\n  File \"/home/filippo/repositories/price-forecast/venv/lib/python3.10/site-packages/feature_engine/variable_handling/check_variables.py\", line 53, in check_numerical_variables\n    if len(X[variables].select_dtypes(exclude=\"number\").columns) > 0:\n  File \"/home/filippo/repositories/price-forecast/venv/lib/python3.10/site-packages/pandas/core/frame.py\", line 4108, in __getitem__\n    indexer = self.columns._get_indexer_strict(key, \"columns\")[1]\n  File \"/home/filippo/repositories/price-forecast/venv/lib/python3.10/site-packages/pandas/core/indexes/base.py\", line 6200, in _get_indexer_strict\n    self._raise_if_missing(keyarr, indexer, axis_name)\n  File \"/home/filippo/repositories/price-forecast/venv/lib/python3.10/site-packages/pandas/core/indexes/base.py\", line 6249, in _raise_if_missing\n    raise KeyError(f\"None of [{key}] are in the [{axis_name}]\")\nKeyError: \"None of [Index(['host_listings_count'], dtype='object')] are in the [columns]\"\n\"\"\"",
      "\nThe above exception was the direct cause of the following exception:\n",
      "\u001B[0;31mKeyError\u001B[0m                                  Traceback (most recent call last)",
      "Cell \u001B[0;32mIn[23], line 1\u001B[0m\n\u001B[0;32m----> 1\u001B[0m model \u001B[38;5;241m=\u001B[39m \u001B[43mtransform\u001B[49m\u001B[38;5;241;43m.\u001B[39;49m\u001B[43mfit\u001B[49m\u001B[43m(\u001B[49m\u001B[43mX_train\u001B[49m\u001B[43m,\u001B[49m\u001B[43my_train\u001B[49m\u001B[43m)\u001B[49m\n\u001B[1;32m      2\u001B[0m \u001B[38;5;66;03m#model.score(X_test, y_test)\u001B[39;00m\n",
      "File \u001B[0;32m~/repositories/price-forecast/venv/lib/python3.10/site-packages/sklearn/base.py:1473\u001B[0m, in \u001B[0;36m_fit_context.<locals>.decorator.<locals>.wrapper\u001B[0;34m(estimator, *args, **kwargs)\u001B[0m\n\u001B[1;32m   1466\u001B[0m     estimator\u001B[38;5;241m.\u001B[39m_validate_params()\n\u001B[1;32m   1468\u001B[0m \u001B[38;5;28;01mwith\u001B[39;00m config_context(\n\u001B[1;32m   1469\u001B[0m     skip_parameter_validation\u001B[38;5;241m=\u001B[39m(\n\u001B[1;32m   1470\u001B[0m         prefer_skip_nested_validation \u001B[38;5;129;01mor\u001B[39;00m global_skip_validation\n\u001B[1;32m   1471\u001B[0m     )\n\u001B[1;32m   1472\u001B[0m ):\n\u001B[0;32m-> 1473\u001B[0m     \u001B[38;5;28;01mreturn\u001B[39;00m \u001B[43mfit_method\u001B[49m\u001B[43m(\u001B[49m\u001B[43mestimator\u001B[49m\u001B[43m,\u001B[49m\u001B[43m \u001B[49m\u001B[38;5;241;43m*\u001B[39;49m\u001B[43margs\u001B[49m\u001B[43m,\u001B[49m\u001B[43m \u001B[49m\u001B[38;5;241;43m*\u001B[39;49m\u001B[38;5;241;43m*\u001B[39;49m\u001B[43mkwargs\u001B[49m\u001B[43m)\u001B[49m\n",
      "File \u001B[0;32m~/repositories/price-forecast/venv/lib/python3.10/site-packages/feature_engine/pipeline/pipeline.py:237\u001B[0m, in \u001B[0;36mPipeline.fit\u001B[0;34m(self, X, y, **params)\u001B[0m\n\u001B[1;32m    194\u001B[0m \u001B[38;5;250m\u001B[39m\u001B[38;5;124;03m\"\"\"Fit the model.\u001B[39;00m\n\u001B[1;32m    195\u001B[0m \n\u001B[1;32m    196\u001B[0m \u001B[38;5;124;03mFit all the transformers one after the other and transform the data, then fit\u001B[39;00m\n\u001B[0;32m   (...)\u001B[0m\n\u001B[1;32m    234\u001B[0m \u001B[38;5;124;03m    This estimator.\u001B[39;00m\n\u001B[1;32m    235\u001B[0m \u001B[38;5;124;03m\"\"\"\u001B[39;00m\n\u001B[1;32m    236\u001B[0m routed_params \u001B[38;5;241m=\u001B[39m \u001B[38;5;28mself\u001B[39m\u001B[38;5;241m.\u001B[39m_check_method_params(method\u001B[38;5;241m=\u001B[39m\u001B[38;5;124m\"\u001B[39m\u001B[38;5;124mfit\u001B[39m\u001B[38;5;124m\"\u001B[39m, props\u001B[38;5;241m=\u001B[39mparams)\n\u001B[0;32m--> 237\u001B[0m Xt, yt \u001B[38;5;241m=\u001B[39m \u001B[38;5;28;43mself\u001B[39;49m\u001B[38;5;241;43m.\u001B[39;49m\u001B[43m_fit\u001B[49m\u001B[43m(\u001B[49m\u001B[43mX\u001B[49m\u001B[43m,\u001B[49m\u001B[43m \u001B[49m\u001B[43my\u001B[49m\u001B[43m,\u001B[49m\u001B[43m \u001B[49m\u001B[43mrouted_params\u001B[49m\u001B[43m)\u001B[49m\n\u001B[1;32m    238\u001B[0m \u001B[38;5;28;01mwith\u001B[39;00m _print_elapsed_time(\u001B[38;5;124m\"\u001B[39m\u001B[38;5;124mPipeline\u001B[39m\u001B[38;5;124m\"\u001B[39m, \u001B[38;5;28mself\u001B[39m\u001B[38;5;241m.\u001B[39m_log_message(\u001B[38;5;28mlen\u001B[39m(\u001B[38;5;28mself\u001B[39m\u001B[38;5;241m.\u001B[39msteps) \u001B[38;5;241m-\u001B[39m \u001B[38;5;241m1\u001B[39m)):\n\u001B[1;32m    239\u001B[0m     \u001B[38;5;28;01mif\u001B[39;00m \u001B[38;5;28mself\u001B[39m\u001B[38;5;241m.\u001B[39m_final_estimator \u001B[38;5;241m!=\u001B[39m \u001B[38;5;124m\"\u001B[39m\u001B[38;5;124mpassthrough\u001B[39m\u001B[38;5;124m\"\u001B[39m:\n",
      "File \u001B[0;32m~/repositories/price-forecast/venv/lib/python3.10/site-packages/feature_engine/pipeline/pipeline.py:173\u001B[0m, in \u001B[0;36mPipeline._fit\u001B[0;34m(self, X, y, routed_params)\u001B[0m\n\u001B[1;32m    162\u001B[0m     X, y, fitted_transformer \u001B[38;5;241m=\u001B[39m fit_transform_x_y_one_cached(\n\u001B[1;32m    163\u001B[0m         cloned_transformer,\n\u001B[1;32m    164\u001B[0m         X,\n\u001B[0;32m   (...)\u001B[0m\n\u001B[1;32m    168\u001B[0m         params\u001B[38;5;241m=\u001B[39mrouted_params[name],\n\u001B[1;32m    169\u001B[0m     )\n\u001B[1;32m    170\u001B[0m \u001B[38;5;28;01melif\u001B[39;00m \u001B[38;5;28mhasattr\u001B[39m(cloned_transformer, \u001B[38;5;124m\"\u001B[39m\u001B[38;5;124mtransform\u001B[39m\u001B[38;5;124m\"\u001B[39m) \u001B[38;5;129;01mor\u001B[39;00m \u001B[38;5;28mhasattr\u001B[39m(\n\u001B[1;32m    171\u001B[0m     cloned_transformer, \u001B[38;5;124m\"\u001B[39m\u001B[38;5;124mfit_transform\u001B[39m\u001B[38;5;124m\"\u001B[39m\n\u001B[1;32m    172\u001B[0m ):\n\u001B[0;32m--> 173\u001B[0m     X, fitted_transformer \u001B[38;5;241m=\u001B[39m \u001B[43mfit_transform_one_cached\u001B[49m\u001B[43m(\u001B[49m\n\u001B[1;32m    174\u001B[0m \u001B[43m        \u001B[49m\u001B[43mcloned_transformer\u001B[49m\u001B[43m,\u001B[49m\n\u001B[1;32m    175\u001B[0m \u001B[43m        \u001B[49m\u001B[43mX\u001B[49m\u001B[43m,\u001B[49m\n\u001B[1;32m    176\u001B[0m \u001B[43m        \u001B[49m\u001B[43my\u001B[49m\u001B[43m,\u001B[49m\n\u001B[1;32m    177\u001B[0m \u001B[43m        \u001B[49m\u001B[38;5;28;43;01mNone\u001B[39;49;00m\u001B[43m,\u001B[49m\n\u001B[1;32m    178\u001B[0m \u001B[43m        \u001B[49m\u001B[43mmessage_clsname\u001B[49m\u001B[38;5;241;43m=\u001B[39;49m\u001B[38;5;124;43m\"\u001B[39;49m\u001B[38;5;124;43mPipeline\u001B[39;49m\u001B[38;5;124;43m\"\u001B[39;49m\u001B[43m,\u001B[49m\n\u001B[1;32m    179\u001B[0m \u001B[43m        \u001B[49m\u001B[43mmessage\u001B[49m\u001B[38;5;241;43m=\u001B[39;49m\u001B[38;5;28;43mself\u001B[39;49m\u001B[38;5;241;43m.\u001B[39;49m\u001B[43m_log_message\u001B[49m\u001B[43m(\u001B[49m\u001B[43mstep_idx\u001B[49m\u001B[43m)\u001B[49m\u001B[43m,\u001B[49m\n\u001B[1;32m    180\u001B[0m \u001B[43m        \u001B[49m\u001B[43mparams\u001B[49m\u001B[38;5;241;43m=\u001B[39;49m\u001B[43mrouted_params\u001B[49m\u001B[43m[\u001B[49m\u001B[43mname\u001B[49m\u001B[43m]\u001B[49m\u001B[43m,\u001B[49m\n\u001B[1;32m    181\u001B[0m \u001B[43m    \u001B[49m\u001B[43m)\u001B[49m\n\u001B[1;32m    183\u001B[0m \u001B[38;5;66;03m# Replace the transformer of the step with the fitted\u001B[39;00m\n\u001B[1;32m    184\u001B[0m \u001B[38;5;66;03m# transformer. This is necessary when loading the transformer\u001B[39;00m\n\u001B[1;32m    185\u001B[0m \u001B[38;5;66;03m# from the cache.\u001B[39;00m\n\u001B[1;32m    186\u001B[0m \u001B[38;5;28mself\u001B[39m\u001B[38;5;241m.\u001B[39msteps[step_idx] \u001B[38;5;241m=\u001B[39m (name, fitted_transformer)\n",
      "File \u001B[0;32m~/repositories/price-forecast/venv/lib/python3.10/site-packages/joblib/memory.py:312\u001B[0m, in \u001B[0;36mNotMemorizedFunc.__call__\u001B[0;34m(self, *args, **kwargs)\u001B[0m\n\u001B[1;32m    311\u001B[0m \u001B[38;5;28;01mdef\u001B[39;00m \u001B[38;5;21m__call__\u001B[39m(\u001B[38;5;28mself\u001B[39m, \u001B[38;5;241m*\u001B[39margs, \u001B[38;5;241m*\u001B[39m\u001B[38;5;241m*\u001B[39mkwargs):\n\u001B[0;32m--> 312\u001B[0m     \u001B[38;5;28;01mreturn\u001B[39;00m \u001B[38;5;28;43mself\u001B[39;49m\u001B[38;5;241;43m.\u001B[39;49m\u001B[43mfunc\u001B[49m\u001B[43m(\u001B[49m\u001B[38;5;241;43m*\u001B[39;49m\u001B[43margs\u001B[49m\u001B[43m,\u001B[49m\u001B[43m \u001B[49m\u001B[38;5;241;43m*\u001B[39;49m\u001B[38;5;241;43m*\u001B[39;49m\u001B[43mkwargs\u001B[49m\u001B[43m)\u001B[49m\n",
      "File \u001B[0;32m~/repositories/price-forecast/venv/lib/python3.10/site-packages/sklearn/pipeline.py:1310\u001B[0m, in \u001B[0;36m_fit_transform_one\u001B[0;34m(transformer, X, y, weight, message_clsname, message, params)\u001B[0m\n\u001B[1;32m   1308\u001B[0m \u001B[38;5;28;01mwith\u001B[39;00m _print_elapsed_time(message_clsname, message):\n\u001B[1;32m   1309\u001B[0m     \u001B[38;5;28;01mif\u001B[39;00m \u001B[38;5;28mhasattr\u001B[39m(transformer, \u001B[38;5;124m\"\u001B[39m\u001B[38;5;124mfit_transform\u001B[39m\u001B[38;5;124m\"\u001B[39m):\n\u001B[0;32m-> 1310\u001B[0m         res \u001B[38;5;241m=\u001B[39m \u001B[43mtransformer\u001B[49m\u001B[38;5;241;43m.\u001B[39;49m\u001B[43mfit_transform\u001B[49m\u001B[43m(\u001B[49m\u001B[43mX\u001B[49m\u001B[43m,\u001B[49m\u001B[43m \u001B[49m\u001B[43my\u001B[49m\u001B[43m,\u001B[49m\u001B[43m \u001B[49m\u001B[38;5;241;43m*\u001B[39;49m\u001B[38;5;241;43m*\u001B[39;49m\u001B[43mparams\u001B[49m\u001B[38;5;241;43m.\u001B[39;49m\u001B[43mget\u001B[49m\u001B[43m(\u001B[49m\u001B[38;5;124;43m\"\u001B[39;49m\u001B[38;5;124;43mfit_transform\u001B[39;49m\u001B[38;5;124;43m\"\u001B[39;49m\u001B[43m,\u001B[49m\u001B[43m \u001B[49m\u001B[43m{\u001B[49m\u001B[43m}\u001B[49m\u001B[43m)\u001B[49m\u001B[43m)\u001B[49m\n\u001B[1;32m   1311\u001B[0m     \u001B[38;5;28;01melse\u001B[39;00m:\n\u001B[1;32m   1312\u001B[0m         res \u001B[38;5;241m=\u001B[39m transformer\u001B[38;5;241m.\u001B[39mfit(X, y, \u001B[38;5;241m*\u001B[39m\u001B[38;5;241m*\u001B[39mparams\u001B[38;5;241m.\u001B[39mget(\u001B[38;5;124m\"\u001B[39m\u001B[38;5;124mfit\u001B[39m\u001B[38;5;124m\"\u001B[39m, {}))\u001B[38;5;241m.\u001B[39mtransform(\n\u001B[1;32m   1313\u001B[0m             X, \u001B[38;5;241m*\u001B[39m\u001B[38;5;241m*\u001B[39mparams\u001B[38;5;241m.\u001B[39mget(\u001B[38;5;124m\"\u001B[39m\u001B[38;5;124mtransform\u001B[39m\u001B[38;5;124m\"\u001B[39m, {})\n\u001B[1;32m   1314\u001B[0m         )\n",
      "File \u001B[0;32m~/repositories/price-forecast/venv/lib/python3.10/site-packages/sklearn/utils/_set_output.py:313\u001B[0m, in \u001B[0;36m_wrap_method_output.<locals>.wrapped\u001B[0;34m(self, X, *args, **kwargs)\u001B[0m\n\u001B[1;32m    311\u001B[0m \u001B[38;5;129m@wraps\u001B[39m(f)\n\u001B[1;32m    312\u001B[0m \u001B[38;5;28;01mdef\u001B[39;00m \u001B[38;5;21mwrapped\u001B[39m(\u001B[38;5;28mself\u001B[39m, X, \u001B[38;5;241m*\u001B[39margs, \u001B[38;5;241m*\u001B[39m\u001B[38;5;241m*\u001B[39mkwargs):\n\u001B[0;32m--> 313\u001B[0m     data_to_wrap \u001B[38;5;241m=\u001B[39m \u001B[43mf\u001B[49m\u001B[43m(\u001B[49m\u001B[38;5;28;43mself\u001B[39;49m\u001B[43m,\u001B[49m\u001B[43m \u001B[49m\u001B[43mX\u001B[49m\u001B[43m,\u001B[49m\u001B[43m \u001B[49m\u001B[38;5;241;43m*\u001B[39;49m\u001B[43margs\u001B[49m\u001B[43m,\u001B[49m\u001B[43m \u001B[49m\u001B[38;5;241;43m*\u001B[39;49m\u001B[38;5;241;43m*\u001B[39;49m\u001B[43mkwargs\u001B[49m\u001B[43m)\u001B[49m\n\u001B[1;32m    314\u001B[0m     \u001B[38;5;28;01mif\u001B[39;00m \u001B[38;5;28misinstance\u001B[39m(data_to_wrap, \u001B[38;5;28mtuple\u001B[39m):\n\u001B[1;32m    315\u001B[0m         \u001B[38;5;66;03m# only wrap the first output for cross decomposition\u001B[39;00m\n\u001B[1;32m    316\u001B[0m         return_tuple \u001B[38;5;241m=\u001B[39m (\n\u001B[1;32m    317\u001B[0m             _wrap_data_with_container(method, data_to_wrap[\u001B[38;5;241m0\u001B[39m], X, \u001B[38;5;28mself\u001B[39m),\n\u001B[1;32m    318\u001B[0m             \u001B[38;5;241m*\u001B[39mdata_to_wrap[\u001B[38;5;241m1\u001B[39m:],\n\u001B[1;32m    319\u001B[0m         )\n",
      "File \u001B[0;32m~/repositories/price-forecast/venv/lib/python3.10/site-packages/sklearn/base.py:1473\u001B[0m, in \u001B[0;36m_fit_context.<locals>.decorator.<locals>.wrapper\u001B[0;34m(estimator, *args, **kwargs)\u001B[0m\n\u001B[1;32m   1466\u001B[0m     estimator\u001B[38;5;241m.\u001B[39m_validate_params()\n\u001B[1;32m   1468\u001B[0m \u001B[38;5;28;01mwith\u001B[39;00m config_context(\n\u001B[1;32m   1469\u001B[0m     skip_parameter_validation\u001B[38;5;241m=\u001B[39m(\n\u001B[1;32m   1470\u001B[0m         prefer_skip_nested_validation \u001B[38;5;129;01mor\u001B[39;00m global_skip_validation\n\u001B[1;32m   1471\u001B[0m     )\n\u001B[1;32m   1472\u001B[0m ):\n\u001B[0;32m-> 1473\u001B[0m     \u001B[38;5;28;01mreturn\u001B[39;00m \u001B[43mfit_method\u001B[49m\u001B[43m(\u001B[49m\u001B[43mestimator\u001B[49m\u001B[43m,\u001B[49m\u001B[43m \u001B[49m\u001B[38;5;241;43m*\u001B[39;49m\u001B[43margs\u001B[49m\u001B[43m,\u001B[49m\u001B[43m \u001B[49m\u001B[38;5;241;43m*\u001B[39;49m\u001B[38;5;241;43m*\u001B[39;49m\u001B[43mkwargs\u001B[49m\u001B[43m)\u001B[49m\n",
      "File \u001B[0;32m~/repositories/price-forecast/venv/lib/python3.10/site-packages/sklearn/compose/_column_transformer.py:976\u001B[0m, in \u001B[0;36mColumnTransformer.fit_transform\u001B[0;34m(self, X, y, **params)\u001B[0m\n\u001B[1;32m    973\u001B[0m \u001B[38;5;28;01melse\u001B[39;00m:\n\u001B[1;32m    974\u001B[0m     routed_params \u001B[38;5;241m=\u001B[39m \u001B[38;5;28mself\u001B[39m\u001B[38;5;241m.\u001B[39m_get_empty_routing()\n\u001B[0;32m--> 976\u001B[0m result \u001B[38;5;241m=\u001B[39m \u001B[38;5;28;43mself\u001B[39;49m\u001B[38;5;241;43m.\u001B[39;49m\u001B[43m_call_func_on_transformers\u001B[49m\u001B[43m(\u001B[49m\n\u001B[1;32m    977\u001B[0m \u001B[43m    \u001B[49m\u001B[43mX\u001B[49m\u001B[43m,\u001B[49m\n\u001B[1;32m    978\u001B[0m \u001B[43m    \u001B[49m\u001B[43my\u001B[49m\u001B[43m,\u001B[49m\n\u001B[1;32m    979\u001B[0m \u001B[43m    \u001B[49m\u001B[43m_fit_transform_one\u001B[49m\u001B[43m,\u001B[49m\n\u001B[1;32m    980\u001B[0m \u001B[43m    \u001B[49m\u001B[43mcolumn_as_labels\u001B[49m\u001B[38;5;241;43m=\u001B[39;49m\u001B[38;5;28;43;01mFalse\u001B[39;49;00m\u001B[43m,\u001B[49m\n\u001B[1;32m    981\u001B[0m \u001B[43m    \u001B[49m\u001B[43mrouted_params\u001B[49m\u001B[38;5;241;43m=\u001B[39;49m\u001B[43mrouted_params\u001B[49m\u001B[43m,\u001B[49m\n\u001B[1;32m    982\u001B[0m \u001B[43m\u001B[49m\u001B[43m)\u001B[49m\n\u001B[1;32m    984\u001B[0m \u001B[38;5;28;01mif\u001B[39;00m \u001B[38;5;129;01mnot\u001B[39;00m result:\n\u001B[1;32m    985\u001B[0m     \u001B[38;5;28mself\u001B[39m\u001B[38;5;241m.\u001B[39m_update_fitted_transformers([])\n",
      "File \u001B[0;32m~/repositories/price-forecast/venv/lib/python3.10/site-packages/sklearn/compose/_column_transformer.py:885\u001B[0m, in \u001B[0;36mColumnTransformer._call_func_on_transformers\u001B[0;34m(self, X, y, func, column_as_labels, routed_params)\u001B[0m\n\u001B[1;32m    873\u001B[0m             extra_args \u001B[38;5;241m=\u001B[39m {}\n\u001B[1;32m    874\u001B[0m         jobs\u001B[38;5;241m.\u001B[39mappend(\n\u001B[1;32m    875\u001B[0m             delayed(func)(\n\u001B[1;32m    876\u001B[0m                 transformer\u001B[38;5;241m=\u001B[39mclone(trans) \u001B[38;5;28;01mif\u001B[39;00m \u001B[38;5;129;01mnot\u001B[39;00m fitted \u001B[38;5;28;01melse\u001B[39;00m trans,\n\u001B[0;32m   (...)\u001B[0m\n\u001B[1;32m    882\u001B[0m             )\n\u001B[1;32m    883\u001B[0m         )\n\u001B[0;32m--> 885\u001B[0m     \u001B[38;5;28;01mreturn\u001B[39;00m \u001B[43mParallel\u001B[49m\u001B[43m(\u001B[49m\u001B[43mn_jobs\u001B[49m\u001B[38;5;241;43m=\u001B[39;49m\u001B[38;5;28;43mself\u001B[39;49m\u001B[38;5;241;43m.\u001B[39;49m\u001B[43mn_jobs\u001B[49m\u001B[43m)\u001B[49m\u001B[43m(\u001B[49m\u001B[43mjobs\u001B[49m\u001B[43m)\u001B[49m\n\u001B[1;32m    887\u001B[0m \u001B[38;5;28;01mexcept\u001B[39;00m \u001B[38;5;167;01mValueError\u001B[39;00m \u001B[38;5;28;01mas\u001B[39;00m e:\n\u001B[1;32m    888\u001B[0m     \u001B[38;5;28;01mif\u001B[39;00m \u001B[38;5;124m\"\u001B[39m\u001B[38;5;124mExpected 2D array, got 1D array instead\u001B[39m\u001B[38;5;124m\"\u001B[39m \u001B[38;5;129;01min\u001B[39;00m \u001B[38;5;28mstr\u001B[39m(e):\n",
      "File \u001B[0;32m~/repositories/price-forecast/venv/lib/python3.10/site-packages/sklearn/utils/parallel.py:74\u001B[0m, in \u001B[0;36mParallel.__call__\u001B[0;34m(self, iterable)\u001B[0m\n\u001B[1;32m     69\u001B[0m config \u001B[38;5;241m=\u001B[39m get_config()\n\u001B[1;32m     70\u001B[0m iterable_with_config \u001B[38;5;241m=\u001B[39m (\n\u001B[1;32m     71\u001B[0m     (_with_config(delayed_func, config), args, kwargs)\n\u001B[1;32m     72\u001B[0m     \u001B[38;5;28;01mfor\u001B[39;00m delayed_func, args, kwargs \u001B[38;5;129;01min\u001B[39;00m iterable\n\u001B[1;32m     73\u001B[0m )\n\u001B[0;32m---> 74\u001B[0m \u001B[38;5;28;01mreturn\u001B[39;00m \u001B[38;5;28;43msuper\u001B[39;49m\u001B[43m(\u001B[49m\u001B[43m)\u001B[49m\u001B[38;5;241;43m.\u001B[39;49m\u001B[38;5;21;43m__call__\u001B[39;49m\u001B[43m(\u001B[49m\u001B[43miterable_with_config\u001B[49m\u001B[43m)\u001B[49m\n",
      "File \u001B[0;32m~/repositories/price-forecast/venv/lib/python3.10/site-packages/joblib/parallel.py:2007\u001B[0m, in \u001B[0;36mParallel.__call__\u001B[0;34m(self, iterable)\u001B[0m\n\u001B[1;32m   2001\u001B[0m \u001B[38;5;66;03m# The first item from the output is blank, but it makes the interpreter\u001B[39;00m\n\u001B[1;32m   2002\u001B[0m \u001B[38;5;66;03m# progress until it enters the Try/Except block of the generator and\u001B[39;00m\n\u001B[1;32m   2003\u001B[0m \u001B[38;5;66;03m# reaches the first `yield` statement. This starts the asynchronous\u001B[39;00m\n\u001B[1;32m   2004\u001B[0m \u001B[38;5;66;03m# dispatch of the tasks to the workers.\u001B[39;00m\n\u001B[1;32m   2005\u001B[0m \u001B[38;5;28mnext\u001B[39m(output)\n\u001B[0;32m-> 2007\u001B[0m \u001B[38;5;28;01mreturn\u001B[39;00m output \u001B[38;5;28;01mif\u001B[39;00m \u001B[38;5;28mself\u001B[39m\u001B[38;5;241m.\u001B[39mreturn_generator \u001B[38;5;28;01melse\u001B[39;00m \u001B[38;5;28;43mlist\u001B[39;49m\u001B[43m(\u001B[49m\u001B[43moutput\u001B[49m\u001B[43m)\u001B[49m\n",
      "File \u001B[0;32m~/repositories/price-forecast/venv/lib/python3.10/site-packages/joblib/parallel.py:1650\u001B[0m, in \u001B[0;36mParallel._get_outputs\u001B[0;34m(self, iterator, pre_dispatch)\u001B[0m\n\u001B[1;32m   1647\u001B[0m     \u001B[38;5;28;01myield\u001B[39;00m\n\u001B[1;32m   1649\u001B[0m     \u001B[38;5;28;01mwith\u001B[39;00m \u001B[38;5;28mself\u001B[39m\u001B[38;5;241m.\u001B[39m_backend\u001B[38;5;241m.\u001B[39mretrieval_context():\n\u001B[0;32m-> 1650\u001B[0m         \u001B[38;5;28;01myield from\u001B[39;00m \u001B[38;5;28mself\u001B[39m\u001B[38;5;241m.\u001B[39m_retrieve()\n\u001B[1;32m   1652\u001B[0m \u001B[38;5;28;01mexcept\u001B[39;00m \u001B[38;5;167;01mGeneratorExit\u001B[39;00m:\n\u001B[1;32m   1653\u001B[0m     \u001B[38;5;66;03m# The generator has been garbage collected before being fully\u001B[39;00m\n\u001B[1;32m   1654\u001B[0m     \u001B[38;5;66;03m# consumed. This aborts the remaining tasks if possible and warn\u001B[39;00m\n\u001B[1;32m   1655\u001B[0m     \u001B[38;5;66;03m# the user if necessary.\u001B[39;00m\n\u001B[1;32m   1656\u001B[0m     \u001B[38;5;28mself\u001B[39m\u001B[38;5;241m.\u001B[39m_exception \u001B[38;5;241m=\u001B[39m \u001B[38;5;28;01mTrue\u001B[39;00m\n",
      "File \u001B[0;32m~/repositories/price-forecast/venv/lib/python3.10/site-packages/joblib/parallel.py:1754\u001B[0m, in \u001B[0;36mParallel._retrieve\u001B[0;34m(self)\u001B[0m\n\u001B[1;32m   1747\u001B[0m \u001B[38;5;28;01mwhile\u001B[39;00m \u001B[38;5;28mself\u001B[39m\u001B[38;5;241m.\u001B[39m_wait_retrieval():\n\u001B[1;32m   1748\u001B[0m \n\u001B[1;32m   1749\u001B[0m     \u001B[38;5;66;03m# If the callback thread of a worker has signaled that its task\u001B[39;00m\n\u001B[1;32m   1750\u001B[0m     \u001B[38;5;66;03m# triggered an exception, or if the retrieval loop has raised an\u001B[39;00m\n\u001B[1;32m   1751\u001B[0m     \u001B[38;5;66;03m# exception (e.g. `GeneratorExit`), exit the loop and surface the\u001B[39;00m\n\u001B[1;32m   1752\u001B[0m     \u001B[38;5;66;03m# worker traceback.\u001B[39;00m\n\u001B[1;32m   1753\u001B[0m     \u001B[38;5;28;01mif\u001B[39;00m \u001B[38;5;28mself\u001B[39m\u001B[38;5;241m.\u001B[39m_aborting:\n\u001B[0;32m-> 1754\u001B[0m         \u001B[38;5;28;43mself\u001B[39;49m\u001B[38;5;241;43m.\u001B[39;49m\u001B[43m_raise_error_fast\u001B[49m\u001B[43m(\u001B[49m\u001B[43m)\u001B[49m\n\u001B[1;32m   1755\u001B[0m         \u001B[38;5;28;01mbreak\u001B[39;00m\n\u001B[1;32m   1757\u001B[0m     \u001B[38;5;66;03m# If the next job is not ready for retrieval yet, we just wait for\u001B[39;00m\n\u001B[1;32m   1758\u001B[0m     \u001B[38;5;66;03m# async callbacks to progress.\u001B[39;00m\n",
      "File \u001B[0;32m~/repositories/price-forecast/venv/lib/python3.10/site-packages/joblib/parallel.py:1789\u001B[0m, in \u001B[0;36mParallel._raise_error_fast\u001B[0;34m(self)\u001B[0m\n\u001B[1;32m   1785\u001B[0m \u001B[38;5;66;03m# If this error job exists, immediately raise the error by\u001B[39;00m\n\u001B[1;32m   1786\u001B[0m \u001B[38;5;66;03m# calling get_result. This job might not exists if abort has been\u001B[39;00m\n\u001B[1;32m   1787\u001B[0m \u001B[38;5;66;03m# called directly or if the generator is gc'ed.\u001B[39;00m\n\u001B[1;32m   1788\u001B[0m \u001B[38;5;28;01mif\u001B[39;00m error_job \u001B[38;5;129;01mis\u001B[39;00m \u001B[38;5;129;01mnot\u001B[39;00m \u001B[38;5;28;01mNone\u001B[39;00m:\n\u001B[0;32m-> 1789\u001B[0m     \u001B[43merror_job\u001B[49m\u001B[38;5;241;43m.\u001B[39;49m\u001B[43mget_result\u001B[49m\u001B[43m(\u001B[49m\u001B[38;5;28;43mself\u001B[39;49m\u001B[38;5;241;43m.\u001B[39;49m\u001B[43mtimeout\u001B[49m\u001B[43m)\u001B[49m\n",
      "File \u001B[0;32m~/repositories/price-forecast/venv/lib/python3.10/site-packages/joblib/parallel.py:745\u001B[0m, in \u001B[0;36mBatchCompletionCallBack.get_result\u001B[0;34m(self, timeout)\u001B[0m\n\u001B[1;32m    739\u001B[0m backend \u001B[38;5;241m=\u001B[39m \u001B[38;5;28mself\u001B[39m\u001B[38;5;241m.\u001B[39mparallel\u001B[38;5;241m.\u001B[39m_backend\n\u001B[1;32m    741\u001B[0m \u001B[38;5;28;01mif\u001B[39;00m backend\u001B[38;5;241m.\u001B[39msupports_retrieve_callback:\n\u001B[1;32m    742\u001B[0m     \u001B[38;5;66;03m# We assume that the result has already been retrieved by the\u001B[39;00m\n\u001B[1;32m    743\u001B[0m     \u001B[38;5;66;03m# callback thread, and is stored internally. It's just waiting to\u001B[39;00m\n\u001B[1;32m    744\u001B[0m     \u001B[38;5;66;03m# be returned.\u001B[39;00m\n\u001B[0;32m--> 745\u001B[0m     \u001B[38;5;28;01mreturn\u001B[39;00m \u001B[38;5;28;43mself\u001B[39;49m\u001B[38;5;241;43m.\u001B[39;49m\u001B[43m_return_or_raise\u001B[49m\u001B[43m(\u001B[49m\u001B[43m)\u001B[49m\n\u001B[1;32m    747\u001B[0m \u001B[38;5;66;03m# For other backends, the main thread needs to run the retrieval step.\u001B[39;00m\n\u001B[1;32m    748\u001B[0m \u001B[38;5;28;01mtry\u001B[39;00m:\n",
      "File \u001B[0;32m~/repositories/price-forecast/venv/lib/python3.10/site-packages/joblib/parallel.py:763\u001B[0m, in \u001B[0;36mBatchCompletionCallBack._return_or_raise\u001B[0;34m(self)\u001B[0m\n\u001B[1;32m    761\u001B[0m \u001B[38;5;28;01mtry\u001B[39;00m:\n\u001B[1;32m    762\u001B[0m     \u001B[38;5;28;01mif\u001B[39;00m \u001B[38;5;28mself\u001B[39m\u001B[38;5;241m.\u001B[39mstatus \u001B[38;5;241m==\u001B[39m TASK_ERROR:\n\u001B[0;32m--> 763\u001B[0m         \u001B[38;5;28;01mraise\u001B[39;00m \u001B[38;5;28mself\u001B[39m\u001B[38;5;241m.\u001B[39m_result\n\u001B[1;32m    764\u001B[0m     \u001B[38;5;28;01mreturn\u001B[39;00m \u001B[38;5;28mself\u001B[39m\u001B[38;5;241m.\u001B[39m_result\n\u001B[1;32m    765\u001B[0m \u001B[38;5;28;01mfinally\u001B[39;00m:\n",
      "\u001B[0;31mKeyError\u001B[0m: \"None of [Index(['host_listings_count'], dtype='object')] are in the [columns]\""
     ]
    }
   ],
   "execution_count": 23
  }
 ],
 "metadata": {
  "kernelspec": {
   "display_name": "Python 3 (ipykernel)",
   "language": "python",
   "name": "python3"
  },
  "language_info": {
   "codemirror_mode": {
    "name": "ipython",
    "version": 3
   },
   "file_extension": ".py",
   "mimetype": "text/x-python",
   "name": "python",
   "nbconvert_exporter": "python",
   "pygments_lexer": "ipython3",
   "version": "3.10.4"
  }
 },
 "nbformat": 4,
 "nbformat_minor": 5
}
