{
 "cells": [
  {
   "metadata": {
    "ExecuteTime": {
     "end_time": "2024-08-01T14:52:14.065104Z",
     "start_time": "2024-08-01T14:52:13.443309Z"
    }
   },
   "cell_type": "code",
   "source": [
    "import sqlite3\n",
    "import pandas as pd"
   ],
   "id": "f8cf60f448884917",
   "outputs": [],
   "execution_count": 1
  },
  {
   "cell_type": "code",
   "id": "initial_id",
   "metadata": {
    "collapsed": true,
    "ExecuteTime": {
     "end_time": "2024-07-31T16:31:25.261279Z",
     "start_time": "2024-07-31T16:30:53.627669Z"
    }
   },
   "source": [
    "## Load Visualization Pipeline for December 2023\n",
    "#!python3 -m scripts.visualization_pipeline\n",
    "#!python3 -m scripts.mappings_host_location"
   ],
   "outputs": [],
   "execution_count": 15
  },
  {
   "metadata": {
    "ExecuteTime": {
     "end_time": "2024-07-31T16:31:39.711711Z",
     "start_time": "2024-07-31T16:31:39.698401Z"
    }
   },
   "cell_type": "code",
   "source": [
    "import sqlite3\n",
    "import pandas as pd\n",
    "\n",
    "def create_connection(db_file):\n",
    "    conn = sqlite3.connect(db_file)\n",
    "    return conn\n",
    "\n",
    "def create_table(conn):\n",
    "    cursor = conn.cursor()\n",
    "    cursor.execute('''\n",
    "        CREATE TABLE IF NOT EXISTS my_table (\n",
    "            id INTEGER PRIMARY KEY AUTOINCREMENT,\n",
    "            column1 TEXT,\n",
    "            column2 INTEGER,\n",
    "            column3 REAL\n",
    "        )\n",
    "    ''')\n",
    "    conn.commit()\n",
    "\n",
    "def insert_dataframe(conn, df):\n",
    "    df.to_sql('listings', conn, if_exists='replace', index=False)\n",
    "    \n",
    "def main():\n",
    "    database = 'data/database.sqlite'\n",
    "    conn = create_connection(database)\n",
    "    \n",
    "    create_table(conn)\n",
    "    df = pd.read_pickle(\"data/pickles/december_listings_viz.pkl\")\n",
    "    insert_dataframe(conn, df)\n",
    "    \n",
    "    conn.close()\n",
    "    \n",
    "main()"
   ],
   "id": "f5c37540c6c8ddd8",
   "outputs": [],
   "execution_count": 16
  },
  {
   "metadata": {
    "ExecuteTime": {
     "end_time": "2024-08-01T14:54:02.521369Z",
     "start_time": "2024-08-01T14:54:02.514068Z"
    }
   },
   "cell_type": "code",
   "source": [
    "def load_listings_datasets():\n",
    "    datasets = {'2023dic': pd.read_csv(\"data/2023dic/d_listings.csv\"),\n",
    "                '2023sep': pd.read_csv(\"data/2023sep/d_listings.csv\"),\n",
    "                '2024jun': pd.read_csv(\"data/2024jun/d_listings.csv\"),\n",
    "                '2024mar': pd.read_csv(\"data/2024mar/d_listings.csv\")}\n",
    "    return datasets"
   ],
   "id": "ff39e22d24e206e4",
   "outputs": [],
   "execution_count": 2
  },
  {
   "metadata": {
    "ExecuteTime": {
     "end_time": "2024-08-01T14:54:18.031295Z",
     "start_time": "2024-08-01T14:54:16.491408Z"
    }
   },
   "cell_type": "code",
   "source": "dataframes = load_listings_datasets()",
   "id": "82863cadcaf1abe8",
   "outputs": [],
   "execution_count": 3
  },
  {
   "metadata": {
    "ExecuteTime": {
     "end_time": "2024-08-01T15:16:57.222871Z",
     "start_time": "2024-08-01T15:16:57.218091Z"
    }
   },
   "cell_type": "code",
   "source": "dic = dataframes['2024jun']",
   "id": "ca783b87ce568583",
   "outputs": [],
   "execution_count": 35
  }
 ],
 "metadata": {
  "kernelspec": {
   "display_name": "Python 3",
   "language": "python",
   "name": "python3"
  },
  "language_info": {
   "codemirror_mode": {
    "name": "ipython",
    "version": 2
   },
   "file_extension": ".py",
   "mimetype": "text/x-python",
   "name": "python",
   "nbconvert_exporter": "python",
   "pygments_lexer": "ipython2",
   "version": "2.7.6"
  }
 },
 "nbformat": 4,
 "nbformat_minor": 5
}
