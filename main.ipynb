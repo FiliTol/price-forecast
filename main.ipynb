{
 "cells": [
  {
   "metadata": {
    "ExecuteTime": {
     "end_time": "2024-08-10T12:06:43.319155Z",
     "start_time": "2024-08-10T12:06:41.271021Z"
    }
   },
   "cell_type": "code",
   "source": [
    "from tqdm.notebook import tqdm\n",
    "import pandas as pd\n",
    "import os\n",
    "import re\n",
    "import matplotlib.pyplot as plt\n",
    "\n",
    "tqdm.pandas()"
   ],
   "id": "174fae200d112ed3",
   "outputs": [],
   "execution_count": 1
  },
  {
   "metadata": {
    "ExecuteTime": {
     "end_time": "2024-08-10T12:06:43.332040Z",
     "start_time": "2024-08-10T12:06:43.322928Z"
    }
   },
   "cell_type": "code",
   "source": [
    "## Run the following to compute the mappings for host locations\n",
    "#!python3 -m scripts.mappings_host_location\n",
    "\n",
    "## Load Visualization Pipeline for all the periods\n",
    "## Insert one of the following arguments to run the visualization:\n",
    "## - sep\n",
    "## - dic\n",
    "## - mar\n",
    "## - jun\n",
    "\n",
    "#!python3 -m scripts.pipeline_viz sep\n",
    "#!python3 -m scripts.pipeline_viz dic\n",
    "#!python3 -m scripts.pipeline_viz mar\n",
    "#!python3 -m scripts.pipeline_viz jun\n",
    "\n",
    "#!python3 -m scripts.pipeline_ML sep\n",
    "#!python3 -m scripts.pipeline_ML dic\n",
    "#!python3 -m scripts.pipeline_ML mar\n",
    "#!python3 -m scripts.pipeline_ML jun"
   ],
   "id": "c472560bfef60d89",
   "outputs": [],
   "execution_count": 2
  }
 ],
 "metadata": {
  "kernelspec": {
   "display_name": "Python 3",
   "language": "python",
   "name": "python3"
  },
  "language_info": {
   "codemirror_mode": {
    "name": "ipython",
    "version": 2
   },
   "file_extension": ".py",
   "mimetype": "text/x-python",
   "name": "python",
   "nbconvert_exporter": "python",
   "pygments_lexer": "ipython2",
   "version": "2.7.6"
  }
 },
 "nbformat": 4,
 "nbformat_minor": 5
}
