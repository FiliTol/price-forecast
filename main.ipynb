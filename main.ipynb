{
 "cells": [
  {
   "metadata": {},
   "cell_type": "code",
   "source": [
    "import sqlite3\n",
    "import pandas as pd"
   ],
   "id": "f8cf60f448884917",
   "outputs": [],
   "execution_count": null
  },
  {
   "cell_type": "code",
   "id": "initial_id",
   "metadata": {
    "collapsed": true,
    "ExecuteTime": {
     "end_time": "2024-08-01T16:24:35.829799Z",
     "start_time": "2024-08-01T16:23:04.406016Z"
    }
   },
   "source": [
    "## Load Visualization Pipeline for all the periods\n",
    "## Insert one of the following arguments to run the visualization\n",
    "# dataframe cleaning for that period\n",
    "#!python3 -m scripts.visualization_pipeline sep\n",
    "#!python3 -m scripts.visualization_pipeline dic\n",
    "#!python3 -m scripts.visualization_pipeline mar\n",
    "#!python3 -m scripts.visualization_pipeline jun\n",
    "\n",
    "#!python3 -m scripts.mappings_host_location"
   ],
   "outputs": [],
   "execution_count": 2
  },
  {
   "metadata": {},
   "cell_type": "code",
   "source": [
    "#import sqlite3\n",
    "#import pandas as pd\n",
    "#\n",
    "#def create_connection(db_file):\n",
    "#    conn = sqlite3.connect(db_file)\n",
    "#    return conn\n",
    "#\n",
    "#def create_table(conn):\n",
    "#    cursor = conn.cursor()\n",
    "#    cursor.execute('''\n",
    "#        CREATE TABLE IF NOT EXISTS my_table (\n",
    "#            id INTEGER PRIMARY KEY AUTOINCREMENT,\n",
    "#            column1 TEXT,\n",
    "#            column2 INTEGER,\n",
    "#            column3 REAL\n",
    "#        )\n",
    "#    ''')\n",
    "#    conn.commit()\n",
    "#\n",
    "#def insert_dataframe(conn, df):\n",
    "#    df.to_sql('listings', conn, if_exists='replace', index=False)\n",
    "#    \n",
    "#def main():\n",
    "#    database = 'data/database.sqlite'\n",
    "#    conn = create_connection(database)\n",
    "#    \n",
    "#    create_table(conn)\n",
    "#    df = pd.read_pickle(\"data/pickles/listings_viz_dic.pkl\")\n",
    "#    insert_dataframe(conn, df)\n",
    "#    \n",
    "#    conn.close()\n",
    "#    \n",
    "#main()"
   ],
   "id": "f5c37540c6c8ddd8",
   "outputs": [],
   "execution_count": null
  }
 ],
 "metadata": {
  "kernelspec": {
   "display_name": "Python 3",
   "language": "python",
   "name": "python3"
  },
  "language_info": {
   "codemirror_mode": {
    "name": "ipython",
    "version": 2
   },
   "file_extension": ".py",
   "mimetype": "text/x-python",
   "name": "python",
   "nbconvert_exporter": "python",
   "pygments_lexer": "ipython2",
   "version": "2.7.6"
  }
 },
 "nbformat": 4,
 "nbformat_minor": 5
}
