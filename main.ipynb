{
 "cells": [
  {
   "metadata": {
    "ExecuteTime": {
     "end_time": "2024-08-25T15:22:11.833829Z",
     "start_time": "2024-08-25T15:22:07.285842Z"
    }
   },
   "cell_type": "code",
   "source": [
    "from tqdm.notebook import tqdm\n",
    "import pandas as pd\n",
    "import numpy as np\n",
    "import os\n",
    "import re\n",
    "import matplotlib.pyplot as plt\n",
    "import math\n",
    "import plotly.express as px\n",
    "from sklearn.neighbors import LocalOutlierFactor\n",
    "\n",
    "tqdm.pandas()"
   ],
   "id": "edba97e04c07ffed",
   "outputs": [],
   "execution_count": 2
  },
  {
   "metadata": {},
   "cell_type": "code",
   "source": [
    "## Run the following to compute the mappings for host locations\n",
    "#!python3 -m scripts.mappings_host_location_all_cities\n",
    "\n",
    "## Load Visualization Pipeline\n",
    "#!python3 -m scripts.pipeline_all_cities_viz\n",
    "\n",
    "## Load ML pipeline\n",
    "#!python3 -m scripts.pipeline_ML"
   ],
   "id": "4553ee22eba0240e",
   "outputs": [],
   "execution_count": null
  },
  {
   "metadata": {},
   "cell_type": "code",
   "source": "df = pd.read_pickle(\"data/pickles/total_listings_viz.pkl\")",
   "id": "381f4ae14b4387d5",
   "outputs": [],
   "execution_count": null
  },
  {
   "metadata": {},
   "cell_type": "code",
   "source": "df.loc[df[\"amenities_host_greeting\"] != 0, :]",
   "id": "80b46052be329",
   "outputs": [],
   "execution_count": null
  },
  {
   "metadata": {},
   "cell_type": "code",
   "source": "df.head()",
   "id": "bc888f84a4b6a3cf",
   "outputs": [],
   "execution_count": null
  },
  {
   "metadata": {},
   "cell_type": "code",
   "source": "df.columns.tolist()",
   "id": "47d15f049d598d3b",
   "outputs": [],
   "execution_count": null
  },
  {
   "metadata": {},
   "cell_type": "markdown",
   "source": "## Visualize neighbourhoods",
   "id": "e21ac184b0a65c09"
  },
  {
   "metadata": {},
   "cell_type": "code",
   "source": [
    "neigh_list = df[\"neighbourhood_cleansed\"].tolist()\n",
    "neigh_counter = {x:neigh_list.count(x) for x in neigh_list}\n",
    "neigh_counter = dict(sorted(neigh_counter.items(), key=lambda item: item[1], reverse=True))\n",
    "\n",
    "neigh_counter\n"
   ],
   "id": "1d25a211efe22bbc",
   "outputs": [],
   "execution_count": null
  },
  {
   "metadata": {},
   "cell_type": "markdown",
   "source": "## Testing",
   "id": "8682a204b9e11253"
  },
  {
   "metadata": {
    "ExecuteTime": {
     "end_time": "2024-08-25T15:22:13.070548Z",
     "start_time": "2024-08-25T15:22:11.839050Z"
    }
   },
   "cell_type": "code",
   "source": "df = pd.read_pickle(\"data/pickles/total_listings_exploration_handling.pkl\")",
   "id": "a32f3a462aa15278",
   "outputs": [],
   "execution_count": 3
  },
  {
   "metadata": {
    "ExecuteTime": {
     "end_time": "2024-08-25T15:22:15.775352Z",
     "start_time": "2024-08-25T15:22:15.728519Z"
    }
   },
   "cell_type": "code",
   "source": "df.head()",
   "id": "5b51f5397a88da4e",
   "outputs": [
    {
     "data": {
      "text/plain": [
       "        host_id host_response_rate  price host_since first_review last_review  \\\n",
       "31840    380378                100  122.0 2011-02-07   2010-06-23  2024-06-08   \n",
       "32120     99235                100   95.0 2010-03-26   2010-09-26  2023-10-09   \n",
       "32180  13925330                100  109.0 2014-04-05   2010-06-17  2023-12-06   \n",
       "39115    167739                100  104.0 2010-07-15   2010-09-07  2024-05-15   \n",
       "39165    167739                100  121.0 2010-07-15   2010-12-17  2024-04-08   \n",
       "\n",
       "                                             description  host_location  \\\n",
       "31840  nice private quiet double room classic style b...       0.857548   \n",
       "32120  apartment minute walk ponte vecchio piazzale m...       1.976853   \n",
       "32180                                                          0.992744   \n",
       "39115  double twin room shared bathroom comfortable l...       0.654212   \n",
       "39165  double room private bathroom comfortable large...       0.654212   \n",
       "\n",
       "       host_response_time host_is_superhost  ...      sofa   station  \\\n",
       "31840      within_an_hour                 f  ...  0.000000  0.000000   \n",
       "32120      within_an_hour                 f  ...  0.204476  0.000000   \n",
       "32180  more_than_one_hour                 t  ...  0.000000  0.000000   \n",
       "39115  more_than_one_hour                 f  ...  0.000000  0.419241   \n",
       "39165  more_than_one_hour                 f  ...  0.000000  0.175460   \n",
       "\n",
       "           stay steps   tv      walk      wifi   x_coord   y_coord   z_coord  \n",
       "31840  0.000000   0.0  0.0  0.000000  0.000000  0.248455 -0.946968 -0.203770  \n",
       "32120  0.422793   0.0  0.0  0.000000  0.000000  0.271372 -0.937242 -0.218939  \n",
       "32180  0.249367   0.0  0.0  0.000000  0.226435  0.239778 -0.947320 -0.212348  \n",
       "39115  0.000000   0.0  0.0  0.427326  0.000000  0.248757 -0.946499 -0.205571  \n",
       "39165  0.000000   0.0  0.0  0.357688  0.000000  0.248757 -0.946499 -0.205571  \n",
       "\n",
       "[5 rows x 99 columns]"
      ],
      "text/html": [
       "<div>\n",
       "<style scoped>\n",
       "    .dataframe tbody tr th:only-of-type {\n",
       "        vertical-align: middle;\n",
       "    }\n",
       "\n",
       "    .dataframe tbody tr th {\n",
       "        vertical-align: top;\n",
       "    }\n",
       "\n",
       "    .dataframe thead th {\n",
       "        text-align: right;\n",
       "    }\n",
       "</style>\n",
       "<table border=\"1\" class=\"dataframe\">\n",
       "  <thead>\n",
       "    <tr style=\"text-align: right;\">\n",
       "      <th></th>\n",
       "      <th>host_id</th>\n",
       "      <th>host_response_rate</th>\n",
       "      <th>price</th>\n",
       "      <th>host_since</th>\n",
       "      <th>first_review</th>\n",
       "      <th>last_review</th>\n",
       "      <th>description</th>\n",
       "      <th>host_location</th>\n",
       "      <th>host_response_time</th>\n",
       "      <th>host_is_superhost</th>\n",
       "      <th>...</th>\n",
       "      <th>sofa</th>\n",
       "      <th>station</th>\n",
       "      <th>stay</th>\n",
       "      <th>steps</th>\n",
       "      <th>tv</th>\n",
       "      <th>walk</th>\n",
       "      <th>wifi</th>\n",
       "      <th>x_coord</th>\n",
       "      <th>y_coord</th>\n",
       "      <th>z_coord</th>\n",
       "    </tr>\n",
       "  </thead>\n",
       "  <tbody>\n",
       "    <tr>\n",
       "      <th>31840</th>\n",
       "      <td>380378</td>\n",
       "      <td>100</td>\n",
       "      <td>122.0</td>\n",
       "      <td>2011-02-07</td>\n",
       "      <td>2010-06-23</td>\n",
       "      <td>2024-06-08</td>\n",
       "      <td>nice private quiet double room classic style b...</td>\n",
       "      <td>0.857548</td>\n",
       "      <td>within_an_hour</td>\n",
       "      <td>f</td>\n",
       "      <td>...</td>\n",
       "      <td>0.000000</td>\n",
       "      <td>0.000000</td>\n",
       "      <td>0.000000</td>\n",
       "      <td>0.0</td>\n",
       "      <td>0.0</td>\n",
       "      <td>0.000000</td>\n",
       "      <td>0.000000</td>\n",
       "      <td>0.248455</td>\n",
       "      <td>-0.946968</td>\n",
       "      <td>-0.203770</td>\n",
       "    </tr>\n",
       "    <tr>\n",
       "      <th>32120</th>\n",
       "      <td>99235</td>\n",
       "      <td>100</td>\n",
       "      <td>95.0</td>\n",
       "      <td>2010-03-26</td>\n",
       "      <td>2010-09-26</td>\n",
       "      <td>2023-10-09</td>\n",
       "      <td>apartment minute walk ponte vecchio piazzale m...</td>\n",
       "      <td>1.976853</td>\n",
       "      <td>within_an_hour</td>\n",
       "      <td>f</td>\n",
       "      <td>...</td>\n",
       "      <td>0.204476</td>\n",
       "      <td>0.000000</td>\n",
       "      <td>0.422793</td>\n",
       "      <td>0.0</td>\n",
       "      <td>0.0</td>\n",
       "      <td>0.000000</td>\n",
       "      <td>0.000000</td>\n",
       "      <td>0.271372</td>\n",
       "      <td>-0.937242</td>\n",
       "      <td>-0.218939</td>\n",
       "    </tr>\n",
       "    <tr>\n",
       "      <th>32180</th>\n",
       "      <td>13925330</td>\n",
       "      <td>100</td>\n",
       "      <td>109.0</td>\n",
       "      <td>2014-04-05</td>\n",
       "      <td>2010-06-17</td>\n",
       "      <td>2023-12-06</td>\n",
       "      <td></td>\n",
       "      <td>0.992744</td>\n",
       "      <td>more_than_one_hour</td>\n",
       "      <td>t</td>\n",
       "      <td>...</td>\n",
       "      <td>0.000000</td>\n",
       "      <td>0.000000</td>\n",
       "      <td>0.249367</td>\n",
       "      <td>0.0</td>\n",
       "      <td>0.0</td>\n",
       "      <td>0.000000</td>\n",
       "      <td>0.226435</td>\n",
       "      <td>0.239778</td>\n",
       "      <td>-0.947320</td>\n",
       "      <td>-0.212348</td>\n",
       "    </tr>\n",
       "    <tr>\n",
       "      <th>39115</th>\n",
       "      <td>167739</td>\n",
       "      <td>100</td>\n",
       "      <td>104.0</td>\n",
       "      <td>2010-07-15</td>\n",
       "      <td>2010-09-07</td>\n",
       "      <td>2024-05-15</td>\n",
       "      <td>double twin room shared bathroom comfortable l...</td>\n",
       "      <td>0.654212</td>\n",
       "      <td>more_than_one_hour</td>\n",
       "      <td>f</td>\n",
       "      <td>...</td>\n",
       "      <td>0.000000</td>\n",
       "      <td>0.419241</td>\n",
       "      <td>0.000000</td>\n",
       "      <td>0.0</td>\n",
       "      <td>0.0</td>\n",
       "      <td>0.427326</td>\n",
       "      <td>0.000000</td>\n",
       "      <td>0.248757</td>\n",
       "      <td>-0.946499</td>\n",
       "      <td>-0.205571</td>\n",
       "    </tr>\n",
       "    <tr>\n",
       "      <th>39165</th>\n",
       "      <td>167739</td>\n",
       "      <td>100</td>\n",
       "      <td>121.0</td>\n",
       "      <td>2010-07-15</td>\n",
       "      <td>2010-12-17</td>\n",
       "      <td>2024-04-08</td>\n",
       "      <td>double room private bathroom comfortable large...</td>\n",
       "      <td>0.654212</td>\n",
       "      <td>more_than_one_hour</td>\n",
       "      <td>f</td>\n",
       "      <td>...</td>\n",
       "      <td>0.000000</td>\n",
       "      <td>0.175460</td>\n",
       "      <td>0.000000</td>\n",
       "      <td>0.0</td>\n",
       "      <td>0.0</td>\n",
       "      <td>0.357688</td>\n",
       "      <td>0.000000</td>\n",
       "      <td>0.248757</td>\n",
       "      <td>-0.946499</td>\n",
       "      <td>-0.205571</td>\n",
       "    </tr>\n",
       "  </tbody>\n",
       "</table>\n",
       "<p>5 rows × 99 columns</p>\n",
       "</div>"
      ]
     },
     "execution_count": 4,
     "metadata": {},
     "output_type": "execute_result"
    }
   ],
   "execution_count": 4
  },
  {
   "metadata": {},
   "cell_type": "code",
   "source": "df[\"listing_city\"].unique().tolist()",
   "id": "d282909ea6efb3a0",
   "outputs": [],
   "execution_count": null
  },
  {
   "metadata": {},
   "cell_type": "code",
   "source": [
    "fig = px.histogram(df.loc[df[\"price\"]<1000], x = \"price\")\n",
    "fig.show()"
   ],
   "id": "9c9683da7f519bef",
   "outputs": [],
   "execution_count": null
  },
  {
   "metadata": {},
   "cell_type": "code",
   "source": [
    "df.loc[df[\"price\"]>=400, \"price_category\"] = \"high_high_price\"\n",
    "df.loc[df[\"price\"]<400, \"price_category\"] = \"normal_high_price\"\n",
    "df.loc[df[\"price\"]<160, \"price_category\"] = \"normal_medium_price\"\n",
    "df.loc[df[\"price\"]<100, \"price_category\"] = \"normal_low_price\"\n",
    "df.loc[df[\"price\"]<60, \"price_category\"] = \"low_low_price\"\n",
    "\n"
   ],
   "id": "9c26c16eedc61b24",
   "outputs": [],
   "execution_count": null
  },
  {
   "metadata": {},
   "cell_type": "code",
   "source": [
    "fig = px.histogram(df, x = \"price_category\")\n",
    "fig.show()"
   ],
   "id": "69efc7aee78811a",
   "outputs": [],
   "execution_count": null
  },
  {
   "metadata": {},
   "cell_type": "code",
   "source": "df[\"host_response_rate\"].unique()",
   "id": "b8c3ec0185cc713b",
   "outputs": [],
   "execution_count": null
  },
  {
   "metadata": {},
   "cell_type": "code",
   "source": [
    "fig = px.scatter(df, x = \"price\", y = \"host_response_rate\")\n",
    "fig.show()"
   ],
   "id": "ce53dfe29949232a",
   "outputs": [],
   "execution_count": null
  },
  {
   "metadata": {},
   "cell_type": "code",
   "source": "df_only_num = pd.DataFrame(df.dtypes, columns=[\"type\"]).loc[(pd.DataFrame(df.dtypes, columns=[\"type\"])[\"type\"] == \"float64\") | (pd.DataFrame(df.dtypes, columns=[\"type\"])[\"type\"] == \"int64\")]",
   "id": "283fcf1e96d37fe7",
   "outputs": [],
   "execution_count": null
  },
  {
   "metadata": {},
   "cell_type": "code",
   "source": "df_only_num = df[df_only_num.index.tolist()]",
   "id": "23ab2fb5d5885cdd",
   "outputs": [],
   "execution_count": null
  },
  {
   "metadata": {},
   "cell_type": "code",
   "source": "df.loc[df[\"price\"]>5000, :]",
   "id": "c3bc018033e8bdfe",
   "outputs": [],
   "execution_count": null
  },
  {
   "metadata": {},
   "cell_type": "code",
   "source": "df.loc[df[\"price_category\"]==\"normal_price\", :]",
   "id": "6141366fc38ca80f",
   "outputs": [],
   "execution_count": null
  },
  {
   "metadata": {},
   "cell_type": "code",
   "source": [
    "# This shows that the coordinates distributions are multimodal distributions\n",
    "# Nonetheless, I use the StandardScaler to scale the data\n",
    "fig = px.ecdf(df, x = \"x_coord\")\n",
    "fig.show()"
   ],
   "id": "589e7559c0f38392",
   "outputs": [],
   "execution_count": null
  },
  {
   "metadata": {},
   "cell_type": "code",
   "source": "df.head()",
   "id": "eba02433550e9490",
   "outputs": [],
   "execution_count": null
  },
  {
   "metadata": {},
   "cell_type": "code",
   "source": [
    "fig = px.histogram(df, x = \"x_coord\")\n",
    "fig.show()"
   ],
   "id": "c271c25dce8b54f6",
   "outputs": [],
   "execution_count": null
  },
  {
   "metadata": {},
   "cell_type": "code",
   "source": [
    "\n",
    "fig = px.histogram(df, x = \"y_coord\")\n",
    "fig.show()\n"
   ],
   "id": "2d3caba00857b69d",
   "outputs": [],
   "execution_count": null
  },
  {
   "metadata": {},
   "cell_type": "code",
   "source": [
    "fig = px.histogram(df, x = \"z_coord\")\n",
    "fig.show()"
   ],
   "id": "387977775ab4b4c1",
   "outputs": [],
   "execution_count": null
  },
  {
   "metadata": {},
   "cell_type": "markdown",
   "source": "### Normalize numerical data distribution with `power_transform`",
   "id": "148c448c8b47c9a4"
  },
  {
   "metadata": {},
   "cell_type": "code",
   "source": [
    "fig = px.histogram(df.loc[df[\"number_of_reviews\"]<100], x = \"number_of_reviews\")\n",
    "fig.show()"
   ],
   "id": "f9de59bce1ae3d0f",
   "outputs": [],
   "execution_count": null
  },
  {
   "metadata": {},
   "cell_type": "code",
   "source": [
    "fig = px.histogram(df, x = \"accommodates\")\n",
    "fig.show()\n"
   ],
   "id": "b523f26413f39951",
   "outputs": [],
   "execution_count": null
  },
  {
   "metadata": {},
   "cell_type": "code",
   "source": [
    "numerical_positive = [\n",
    "    \"host_listings_count\",\n",
    "    \"host_location\",\n",
    "    \"accommodates\",\n",
    "    \"number_of_reviews\",\n",
    "    \"reviews_per_month\",\n",
    "    \"amenities_benefits\"\n",
    "]"
   ],
   "id": "d318986029e063ff",
   "outputs": [],
   "execution_count": null
  },
  {
   "metadata": {},
   "cell_type": "code",
   "source": "df[numerical_positive].skew().sort_values(ascending=False)",
   "id": "6d02f42370c7893a",
   "outputs": [],
   "execution_count": null
  }
 ],
 "metadata": {
  "kernelspec": {
   "display_name": "Python 3",
   "language": "python",
   "name": "python3"
  },
  "language_info": {
   "codemirror_mode": {
    "name": "ipython",
    "version": 2
   },
   "file_extension": ".py",
   "mimetype": "text/x-python",
   "name": "python",
   "nbconvert_exporter": "python",
   "pygments_lexer": "ipython2",
   "version": "2.7.6"
  }
 },
 "nbformat": 4,
 "nbformat_minor": 5
}
