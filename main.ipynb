{
 "cells": [
  {
   "metadata": {
    "ExecuteTime": {
     "end_time": "2024-09-07T19:37:39.719032Z",
     "start_time": "2024-09-07T19:37:35.717106Z"
    }
   },
   "cell_type": "code",
   "source": [
    "import sys\n",
    "import plotly.express as px\n",
    "import pandas as pd\n",
    "from pandarallel import pandarallel\n",
    "from sklearn.pipeline import Pipeline\n",
    "from sklearn.compose import ColumnTransformer\n",
    "from src.tools import JsonHandler, concatenate_listings_datasets, return_cleaned_col_names, preprocess_text\n",
    "from src.class_transformers import (\n",
    "    GeographicTransformer,\n",
    "    BathroomsTransformer,\n",
    "    CreateVerificationsTransformer,\n",
    "    AmenitiesTransformer,\n",
    "    OfflineLocationFinder,\n",
    "    PropertyTypeTransformer,\n",
    "    HostLocationImputer,\n",
    "    ScrapingDateTransformer\n",
    ")\n",
    "from src.function_transformers import (\n",
    "    fun_tr_id_to_string,\n",
    "    fun_tr_from_string_to_rate,\n",
    "    fun_tr_transform_to_datetime,\n",
    "    fun_tr_remove_dollar_sign,\n",
    ")\n",
    "from sklearn.utils import estimator_html_repr\n",
    "from sklearn import set_config\n",
    "from sklearn.feature_extraction.text import TfidfVectorizer\n",
    "from textblob import TextBlob\n",
    "\n",
    "set_config(transform_output=\"pandas\")\n",
    "\n",
    "pandarallel.initialize()\n",
    "pd.options.display.float_format = \"{:.0f}\".format\n",
    "handler = JsonHandler()\n",
    "import pandas as pd\n",
    "import numpy as np\n",
    "from feature_engine.datetime import DatetimeSubtraction\n",
    "from feature_engine.creation import RelativeFeatures\n",
    "from feature_engine.encoding import OneHotEncoder, CountFrequencyEncoder, OrdinalEncoder\n",
    "from feature_engine.wrappers import SklearnTransformerWrapper\n",
    "from feature_engine.imputation import MeanMedianImputer, CategoricalImputer\n",
    "from sklearn.model_selection import train_test_split\n",
    "from sklearn.preprocessing import MinMaxScaler, StandardScaler, PolynomialFeatures, PowerTransformer, RobustScaler\n",
    "from sklearn.impute import KNNImputer\n",
    "from sklearn.ensemble import RandomForestRegressor\n",
    "from sklearn.metrics import explained_variance_score, mean_absolute_error, mean_squared_error, r2_score, make_scorer\n",
    "from sklearn.pipeline import Pipeline\n",
    "from sklearn.svm import SVR\n",
    "from sklearn.tree import DecisionTreeRegressor\n",
    "from sklearn.neighbors import KNeighborsRegressor\n",
    "from sklearn.linear_model import QuantileRegressor\n",
    "from sklearn.compose import TransformedTargetRegressor\n",
    "from sklearn.model_selection import GridSearchCV\n",
    "import sys\n",
    "from sklearn.neural_network import MLPRegressor\n",
    "\n"
   ],
   "id": "dd2a0cf1036ae07a",
   "outputs": [
    {
     "name": "stdout",
     "output_type": "stream",
     "text": [
      "INFO: Pandarallel will run on 4 workers.\n",
      "INFO: Pandarallel will use Memory file system to transfer data between the main process and workers.\n",
      "INFO: Pandarallel will run on 4 workers.\n",
      "INFO: Pandarallel will use Memory file system to transfer data between the main process and workers.\n"
     ]
    }
   ],
   "execution_count": 1
  },
  {
   "metadata": {},
   "cell_type": "code",
   "source": [
    "#df_listings = concatenate_listings_datasets()\n",
    "#host_locations = handler.import_from_json(\"data/mappings/host_locations.json\")\n",
    "#remap_baths = handler.import_from_json(\"data/mappings/baths.json\")"
   ],
   "id": "da442d7f518a040",
   "outputs": [],
   "execution_count": null
  },
  {
   "metadata": {},
   "cell_type": "code",
   "source": [
    "#df_listings.drop(\n",
    "#    [\n",
    "#        \"description\",\n",
    "#        \"neighborhood_overview\",\n",
    "#        \"host_about\",\n",
    "#        \"host_neighbourhood\",\n",
    "#        \"neighbourhood\",\n",
    "#        \"neighbourhood_group_cleansed\",\n",
    "#        \"calendar_updated\",\n",
    "#        \"license\",\n",
    "#        \"listing_url\",\n",
    "#        \"scrape_id\",\n",
    "#        \"last_scraped\",\n",
    "#        \"source\",\n",
    "#        \"name\",\n",
    "#        \"picture_url\",\n",
    "#        \"host_url\",\n",
    "#        \"host_name\",\n",
    "#        \"host_thumbnail_url\",\n",
    "#        \"host_picture_url\",\n",
    "#        \"minimum_minimum_nights\",\n",
    "#        \"maximum_minimum_nights\",\n",
    "#        \"minimum_maximum_nights\",\n",
    "#        \"maximum_maximum_nights\",\n",
    "#        \"minimum_nights_avg_ntm\",\n",
    "#        \"maximum_nights_avg_ntm\",\n",
    "#        \"has_availability\",\n",
    "#        \"availability_30\",\n",
    "#        \"availability_60\",\n",
    "#        \"availability_90\",\n",
    "#        \"availability_365\",\n",
    "#        \"calendar_last_scraped\",\n",
    "#        \"number_of_reviews_ltm\",\n",
    "#        \"number_of_reviews_l30d\",\n",
    "#        \"instant_bookable\",\n",
    "#        \"calculated_host_listings_count\",\n",
    "#        \"calculated_host_listings_count_entire_homes\",\n",
    "#        \"calculated_host_listings_count_private_rooms\",\n",
    "#        \"calculated_host_listings_count_shared_rooms\",\n",
    "#    ],\n",
    "#    axis=1,\n",
    "#    inplace=True\n",
    "#)"
   ],
   "id": "e5416fa65183a14e",
   "outputs": [],
   "execution_count": null
  },
  {
   "metadata": {},
   "cell_type": "code",
   "source": [
    "#df_listings.set_index(\"id\", inplace=True)\n",
    "#\n",
    "#df_nas_columns = pd.DataFrame(\n",
    "#    {\n",
    "#        \"NAs\": df_listings.isnull().sum(axis=1),\n",
    "#        \"Columns_with_NAs\": df_listings.apply(\n",
    "#            lambda x: \", \".join(x.index[x.isnull()]), axis=1\n",
    "#        ),\n",
    "#    }\n",
    "#)\n",
    "#\n",
    "#more_than_7_missing = df_nas_columns.loc[df_nas_columns[\"NAs\"] > 7, :].index.tolist()\n",
    "#df_listings.drop(more_than_7_missing, inplace=True)"
   ],
   "id": "d315eadfbe5acce7",
   "outputs": [],
   "execution_count": null
  },
  {
   "metadata": {},
   "cell_type": "code",
   "source": "#df_listings.head()",
   "id": "614f3d7b8693b561",
   "outputs": [],
   "execution_count": null
  },
  {
   "metadata": {},
   "cell_type": "code",
   "source": [
    "#id_feature = [\"host_id\"]\n",
    "#rate_feature = [\"host_response_rate\", \"host_acceptance_rate\"]\n",
    "#time_feature = [\"host_since\", \"first_review\", \"last_review\"]\n",
    "#neighbourhood_feature = [\"neighbourhood_cleansed\"]\n",
    "#price_feature = [\"price\"]\n",
    "#\n",
    "## Amenities\n",
    "#internet_pattern: str = r\"\\b(wifi|internet|ethernet|fibra|connection)\\b\"\n",
    "#self_checkin_pattern: str = r\"\\b(self checkin|self check-in|self-checkin)\\b\"\n",
    "#host_greeting_pattern: str = r\"\\b(host greeting|host greets you)\\b\"\n",
    "#pool_pattern: str = r\"\\b(pool|pool view|shared pool)\\b\"\n",
    "#oven_pattern: str = r\"\\b(oven)\\b\"\n",
    "#microwave_pattern: str = r\"\\b(microwave|microonde)\\b\"\n",
    "#garden_pattern: str = r\"\\b(garden|park|backyard)\\b\"\n",
    "#streaming_pattern: str = r\"\\b(netflix|amazon|disney+|chromecast|apple tv|hbo|hbo max)\\b\"\n",
    "#gym_pattern: str = r\"\\b(exercise|gym|fitness|private gym in building|shared gym|gym nearby|workout bench)\\b\"\n",
    "#elevator_pattern: str = r\"\\b(elevator)\\b\"\n",
    "#heating_pattern: str = r\"\\b(heating)\\b\"\n",
    "#ac_pattern: str = r\"\\b(central air conditioning|ac|air conditioning)\\b\"\n",
    "#safe_pattern: str = r\"\\b(safe|locker|lock|security|guard)\\b\"\n",
    "#workspace_pattern: str = r\"\\b(workspace|work)\\b\"\n",
    "#freezer_pattern: str = r\"\\b(freezer|refrigerator)\\b\"\n",
    "#aid_pattern: str = r\"\\b(first aid kit|aid)\\b\"\n",
    "#dishwasher_pattern: str = r\"\\b(dishwasher)\\b\"\n",
    "#long_term_stays_pattern: str = r\"\\b(long term stays)\\b\"\n",
    "#pets_pattern: str = r\"\\b(pets allowed)\\b\"\n",
    "#bathtube_pattern: str = r\"\\b(bathtube)\\b\"\n",
    "#bbq_grill_pattern: str = r\"\\b(bbq grill|grill|barbeque|barbeque utensils)\\b\"\n",
    "#lake_bay_pattern: str = r\"\\b(lake view|bay view|harbor view|beach view)\\b\"\n",
    "#\n",
    "#set_amenities_remapper = [\n",
    "#    (internet_pattern, \"internet\"),\n",
    "#    (self_checkin_pattern, \"self-checkin\"),\n",
    "#    (host_greeting_pattern, \"host-greeting\"),\n",
    "#    (pool_pattern, \"pool\"),\n",
    "#    (oven_pattern, \"oven\"),\n",
    "#    (microwave_pattern, \"microwave\"),\n",
    "#    (garden_pattern, \"garden\"),\n",
    "#    (streaming_pattern, \"streaming\"),\n",
    "#    (gym_pattern, \"gym\"),\n",
    "#    (elevator_pattern, \"elevator\"),\n",
    "#    (heating_pattern, \"heating\"),\n",
    "#    (ac_pattern, \"air-conditioning\"),\n",
    "#    (workspace_pattern, \"workspace\"),\n",
    "#    (freezer_pattern, \"freezer\"),\n",
    "#    (aid_pattern, \"first-aid-kit\"),\n",
    "#    (dishwasher_pattern, \"dishwasher\"),\n",
    "#    (long_term_stays_pattern, \"long-term-stays\"),\n",
    "#    (pets_pattern, \"pets-allowed\"),\n",
    "#    (bathtube_pattern, \"bathtube\"),\n",
    "#    (bbq_grill_pattern, \"bbq-grill\"),\n",
    "#    (lake_bay_pattern, \"lake-bay-view\")\n",
    "#]\n",
    "#\n",
    "## Property type\n",
    "#entire_property_pattern = r\"\\b(entire|tiny home)\\b\"\n",
    "#private_room_pattern = r\"\\b(private room|room in serviced apartment|room in bed and breakfast|room in hotel|room in resort)\\b\"\n",
    "#shared_room_pattern = r\"\\b(shared room|shared)\\b\"\n",
    "#other_room_pattern = r\"\\b(entire|tiny home|private room|room in serviced apartment|room in bed and breakfast|room in hotel|room in resort|shared room|shared)\\b\"\n",
    "#\n",
    "#set_property_type_remapper = [\n",
    "#    (entire_property_pattern, \"entire_property\"),\n",
    "#    (private_room_pattern, \"private_room\"),\n",
    "#    (shared_room_pattern, \"shared_room\"),\n",
    "#    (other_room_pattern, \"other\"),\n",
    "#]\n",
    "#\n",
    "#id_pipeline = Pipeline(steps=[(\"From ID to string\", fun_tr_id_to_string)], verbose=True)\n",
    "#\n",
    "#rates_pipeline = Pipeline(\n",
    "#    steps=[(\"Transform response rate\", fun_tr_from_string_to_rate)], verbose=True\n",
    "#)\n",
    "#\n",
    "#timestamp_pipeline = Pipeline(\n",
    "#    steps=[(\"Transform to timestamp\", fun_tr_transform_to_datetime)], verbose=True\n",
    "#)\n",
    "#\n",
    "#price_pipeline = Pipeline(\n",
    "#    steps=[(\"Trim price feature\", fun_tr_remove_dollar_sign)], verbose=True\n",
    "#)\n",
    "#\n",
    "## Apply to all dataset (feature engineering using other features)\n",
    "#feature_creation_pipeline = Pipeline(\n",
    "#    steps=[\n",
    "#        (\"Listing Locations\", OfflineLocationFinder()),\n",
    "#        (\"Host Locations imputer\", HostLocationImputer()),\n",
    "#        (\n",
    "#            \"Host location\",\n",
    "#            GeographicTransformer(column=\"host_location\", locations=host_locations),\n",
    "#        ),\n",
    "#        (\"Host verifications\", CreateVerificationsTransformer()),\n",
    "#        (\"Bathrooms\", BathroomsTransformer(remap_baths)),\n",
    "#        (\n",
    "#            \"Amenities\",\n",
    "#            AmenitiesTransformer(df=df_listings, remapper=set_amenities_remapper),\n",
    "#        ),\n",
    "#        (\n",
    "#            \"Property type\",\n",
    "#            PropertyTypeTransformer(\n",
    "#                df=df_listings, remapper=set_property_type_remapper\n",
    "#            ),\n",
    "#        ),\n",
    "#    ],\n",
    "#    verbose=True,\n",
    "#)\n",
    "#print(\"Executing Feature Creation Pipeline...\")\n",
    "#df_listings = feature_creation_pipeline.fit_transform(df_listings)\n",
    "#print(\"Feature Creation Pipeline completed!\")\n"
   ],
   "id": "bc9c01fc48991c3e",
   "outputs": [],
   "execution_count": null
  },
  {
   "metadata": {},
   "cell_type": "code",
   "source": [
    "#print(\"Executing preprocessing on features...\")\n",
    "#feature_preprocessor = ColumnTransformer(\n",
    "#    remainder=\"passthrough\",\n",
    "#    n_jobs=-1,\n",
    "#    force_int_remainder_cols=False,\n",
    "#    transformers=[\n",
    "#        (\"Id\", id_pipeline, id_feature),\n",
    "#        (\"Rates\", rates_pipeline, rate_feature),\n",
    "#        (\"Price\", price_pipeline, price_feature),\n",
    "#        (\"Timestamp\", timestamp_pipeline, time_feature),\n",
    "#    ],\n",
    "#    verbose=True,\n",
    "#)\n",
    "#\n",
    "#cleaned_df = feature_preprocessor.fit_transform(df_listings)\n",
    "#print(\"Preprocessing on features completed!\")\n",
    "#cleaned_df.columns = return_cleaned_col_names(cleaned_df.columns)\n",
    "#print(\"Cleaned feature names retrieved\")\n",
    "#\n",
    "#del df_listings"
   ],
   "id": "f9835cf0df4f185f",
   "outputs": [],
   "execution_count": null
  },
  {
   "metadata": {},
   "cell_type": "code",
   "source": "#cleaned_df.head()",
   "id": "af4359e77237ee3d",
   "outputs": [],
   "execution_count": null
  },
  {
   "metadata": {},
   "cell_type": "code",
   "source": "#pd.to_pickle(cleaned_df, \"data/city_data/step_by_step.pkl\")",
   "id": "a67151a79d67ddc5",
   "outputs": [],
   "execution_count": null
  },
  {
   "metadata": {
    "ExecuteTime": {
     "end_time": "2024-09-07T20:07:31.797309Z",
     "start_time": "2024-09-07T20:07:31.008994Z"
    }
   },
   "cell_type": "code",
   "source": "df = pd.read_pickle(\"data/city_data/step_by_step.pkl\")",
   "id": "ed3885a51e8eeca9",
   "outputs": [],
   "execution_count": 41
  },
  {
   "metadata": {
    "ExecuteTime": {
     "end_time": "2024-09-07T20:07:32.033235Z",
     "start_time": "2024-09-07T20:07:31.998542Z"
    }
   },
   "cell_type": "code",
   "source": "df.head()",
   "id": "9083200d8412568",
   "outputs": [
    {
     "data": {
      "text/plain": [
       "        host_id  host_response_rate  host_acceptance_rate  price host_since  \\\n",
       "id                                                                            \n",
       "31840    380378                 100                   100    122 2011-02-07   \n",
       "32120     99235                 100                    50     95 2010-03-26   \n",
       "32180  13925330                 100                    67    109 2014-04-05   \n",
       "39115    167739                 100                    62    104 2010-07-15   \n",
       "39165    167739                 100                    62    121 2010-07-15   \n",
       "\n",
       "      first_review last_review  host_location  host_response_time  \\\n",
       "id                                                                  \n",
       "31840   2010-06-23  2024-06-08              1      within an hour   \n",
       "32120   2010-09-26  2023-10-09              2      within an hour   \n",
       "32180   2010-06-17  2023-12-06              1        within a day   \n",
       "39115   2010-09-07  2024-05-15              1  within a few hours   \n",
       "39165   2010-12-17  2024-04-08              1  within a few hours   \n",
       "\n",
       "      host_is_superhost  ...  amenities_air-conditioning  amenities_workspace  \\\n",
       "id                       ...                                                    \n",
       "31840                 f  ...                           t                    f   \n",
       "32120                 f  ...                           t                    f   \n",
       "32180                 t  ...                           f                    f   \n",
       "39115                 f  ...                           t                    t   \n",
       "39165                 f  ...                           t                    t   \n",
       "\n",
       "      amenities_freezer amenities_first-aid-kit amenities_dishwasher  \\\n",
       "id                                                                     \n",
       "31840                 t                       f                    f   \n",
       "32120                 f                       f                    f   \n",
       "32180                 t                       f                    t   \n",
       "39115                 f                       f                    f   \n",
       "39165                 t                       f                    f   \n",
       "\n",
       "       amenities_long-term-stays  amenities_pets-allowed amenities_bathtube  \\\n",
       "id                                                                            \n",
       "31840                          f                       f                  f   \n",
       "32120                          f                       f                  f   \n",
       "32180                          t                       f                  f   \n",
       "39115                          f                       f                  f   \n",
       "39165                          f                       f                  f   \n",
       "\n",
       "      amenities_bbq-grill  amenities_lake-bay-view  \n",
       "id                                                  \n",
       "31840                   f                        f  \n",
       "32120                   f                        f  \n",
       "32180                   f                        f  \n",
       "39115                   f                        f  \n",
       "39165                   f                        f  \n",
       "\n",
       "[5 rows x 63 columns]"
      ],
      "text/html": [
       "<div>\n",
       "<style scoped>\n",
       "    .dataframe tbody tr th:only-of-type {\n",
       "        vertical-align: middle;\n",
       "    }\n",
       "\n",
       "    .dataframe tbody tr th {\n",
       "        vertical-align: top;\n",
       "    }\n",
       "\n",
       "    .dataframe thead th {\n",
       "        text-align: right;\n",
       "    }\n",
       "</style>\n",
       "<table border=\"1\" class=\"dataframe\">\n",
       "  <thead>\n",
       "    <tr style=\"text-align: right;\">\n",
       "      <th></th>\n",
       "      <th>host_id</th>\n",
       "      <th>host_response_rate</th>\n",
       "      <th>host_acceptance_rate</th>\n",
       "      <th>price</th>\n",
       "      <th>host_since</th>\n",
       "      <th>first_review</th>\n",
       "      <th>last_review</th>\n",
       "      <th>host_location</th>\n",
       "      <th>host_response_time</th>\n",
       "      <th>host_is_superhost</th>\n",
       "      <th>...</th>\n",
       "      <th>amenities_air-conditioning</th>\n",
       "      <th>amenities_workspace</th>\n",
       "      <th>amenities_freezer</th>\n",
       "      <th>amenities_first-aid-kit</th>\n",
       "      <th>amenities_dishwasher</th>\n",
       "      <th>amenities_long-term-stays</th>\n",
       "      <th>amenities_pets-allowed</th>\n",
       "      <th>amenities_bathtube</th>\n",
       "      <th>amenities_bbq-grill</th>\n",
       "      <th>amenities_lake-bay-view</th>\n",
       "    </tr>\n",
       "    <tr>\n",
       "      <th>id</th>\n",
       "      <th></th>\n",
       "      <th></th>\n",
       "      <th></th>\n",
       "      <th></th>\n",
       "      <th></th>\n",
       "      <th></th>\n",
       "      <th></th>\n",
       "      <th></th>\n",
       "      <th></th>\n",
       "      <th></th>\n",
       "      <th></th>\n",
       "      <th></th>\n",
       "      <th></th>\n",
       "      <th></th>\n",
       "      <th></th>\n",
       "      <th></th>\n",
       "      <th></th>\n",
       "      <th></th>\n",
       "      <th></th>\n",
       "      <th></th>\n",
       "      <th></th>\n",
       "    </tr>\n",
       "  </thead>\n",
       "  <tbody>\n",
       "    <tr>\n",
       "      <th>31840</th>\n",
       "      <td>380378</td>\n",
       "      <td>100</td>\n",
       "      <td>100</td>\n",
       "      <td>122</td>\n",
       "      <td>2011-02-07</td>\n",
       "      <td>2010-06-23</td>\n",
       "      <td>2024-06-08</td>\n",
       "      <td>1</td>\n",
       "      <td>within an hour</td>\n",
       "      <td>f</td>\n",
       "      <td>...</td>\n",
       "      <td>t</td>\n",
       "      <td>f</td>\n",
       "      <td>t</td>\n",
       "      <td>f</td>\n",
       "      <td>f</td>\n",
       "      <td>f</td>\n",
       "      <td>f</td>\n",
       "      <td>f</td>\n",
       "      <td>f</td>\n",
       "      <td>f</td>\n",
       "    </tr>\n",
       "    <tr>\n",
       "      <th>32120</th>\n",
       "      <td>99235</td>\n",
       "      <td>100</td>\n",
       "      <td>50</td>\n",
       "      <td>95</td>\n",
       "      <td>2010-03-26</td>\n",
       "      <td>2010-09-26</td>\n",
       "      <td>2023-10-09</td>\n",
       "      <td>2</td>\n",
       "      <td>within an hour</td>\n",
       "      <td>f</td>\n",
       "      <td>...</td>\n",
       "      <td>t</td>\n",
       "      <td>f</td>\n",
       "      <td>f</td>\n",
       "      <td>f</td>\n",
       "      <td>f</td>\n",
       "      <td>f</td>\n",
       "      <td>f</td>\n",
       "      <td>f</td>\n",
       "      <td>f</td>\n",
       "      <td>f</td>\n",
       "    </tr>\n",
       "    <tr>\n",
       "      <th>32180</th>\n",
       "      <td>13925330</td>\n",
       "      <td>100</td>\n",
       "      <td>67</td>\n",
       "      <td>109</td>\n",
       "      <td>2014-04-05</td>\n",
       "      <td>2010-06-17</td>\n",
       "      <td>2023-12-06</td>\n",
       "      <td>1</td>\n",
       "      <td>within a day</td>\n",
       "      <td>t</td>\n",
       "      <td>...</td>\n",
       "      <td>f</td>\n",
       "      <td>f</td>\n",
       "      <td>t</td>\n",
       "      <td>f</td>\n",
       "      <td>t</td>\n",
       "      <td>t</td>\n",
       "      <td>f</td>\n",
       "      <td>f</td>\n",
       "      <td>f</td>\n",
       "      <td>f</td>\n",
       "    </tr>\n",
       "    <tr>\n",
       "      <th>39115</th>\n",
       "      <td>167739</td>\n",
       "      <td>100</td>\n",
       "      <td>62</td>\n",
       "      <td>104</td>\n",
       "      <td>2010-07-15</td>\n",
       "      <td>2010-09-07</td>\n",
       "      <td>2024-05-15</td>\n",
       "      <td>1</td>\n",
       "      <td>within a few hours</td>\n",
       "      <td>f</td>\n",
       "      <td>...</td>\n",
       "      <td>t</td>\n",
       "      <td>t</td>\n",
       "      <td>f</td>\n",
       "      <td>f</td>\n",
       "      <td>f</td>\n",
       "      <td>f</td>\n",
       "      <td>f</td>\n",
       "      <td>f</td>\n",
       "      <td>f</td>\n",
       "      <td>f</td>\n",
       "    </tr>\n",
       "    <tr>\n",
       "      <th>39165</th>\n",
       "      <td>167739</td>\n",
       "      <td>100</td>\n",
       "      <td>62</td>\n",
       "      <td>121</td>\n",
       "      <td>2010-07-15</td>\n",
       "      <td>2010-12-17</td>\n",
       "      <td>2024-04-08</td>\n",
       "      <td>1</td>\n",
       "      <td>within a few hours</td>\n",
       "      <td>f</td>\n",
       "      <td>...</td>\n",
       "      <td>t</td>\n",
       "      <td>t</td>\n",
       "      <td>t</td>\n",
       "      <td>f</td>\n",
       "      <td>f</td>\n",
       "      <td>f</td>\n",
       "      <td>f</td>\n",
       "      <td>f</td>\n",
       "      <td>f</td>\n",
       "      <td>f</td>\n",
       "    </tr>\n",
       "  </tbody>\n",
       "</table>\n",
       "<p>5 rows × 63 columns</p>\n",
       "</div>"
      ]
     },
     "execution_count": 42,
     "metadata": {},
     "output_type": "execute_result"
    }
   ],
   "execution_count": 42
  },
  {
   "metadata": {},
   "cell_type": "markdown",
   "source": [
    "## Tryouts\n",
    "\n",
    "### Predict only with numerical"
   ],
   "id": "f789343d904c4e5e"
  },
  {
   "metadata": {
    "ExecuteTime": {
     "end_time": "2024-09-07T20:07:33.501515Z",
     "start_time": "2024-09-07T20:07:33.493751Z"
    }
   },
   "cell_type": "code",
   "source": [
    "numerical_features = [\n",
    "    'host_response_rate',\n",
    "    'host_acceptance_rate',\n",
    "    'price',\n",
    "    'host_location',\n",
    "    'host_listings_count',\n",
    "    'host_total_listings_count',\n",
    "    'latitude',\n",
    "    'longitude',\n",
    "    'accommodates',\n",
    "    'bathrooms',\n",
    "    'bedrooms',\n",
    "    'beds',\n",
    "    'minimum_nights',\n",
    "    'maximum_nights',\n",
    "    'number_of_reviews',\n",
    "    'review_scores_rating',\n",
    "    'review_scores_accuracy',\n",
    "    'review_scores_cleanliness',\n",
    "    'review_scores_checkin',\n",
    "    'review_scores_communication',\n",
    "    'review_scores_location',\n",
    "    'review_scores_value',\n",
    "    'reviews_per_month',\n",
    "    'listing_city_pop',\n",
    "]"
   ],
   "id": "6f01cbe1daa4ec27",
   "outputs": [],
   "execution_count": 43
  },
  {
   "metadata": {
    "ExecuteTime": {
     "end_time": "2024-09-07T20:07:35.259396Z",
     "start_time": "2024-09-07T20:07:35.249074Z"
    }
   },
   "cell_type": "code",
   "source": [
    "binary_features = [\n",
    "    'host_has_profile_pic',\n",
    "    'host_identity_verified',\n",
    "    \"host_is_superhost\",\n",
    "    'email_verification',\n",
    "    'phone_verification',\n",
    "    'work_email_verification',\n",
    "    'amenities_internet',\n",
    "    'amenities_self-checkin',\n",
    "    'amenities_host-greeting',\n",
    "    'amenities_pool',\n",
    "    'amenities_oven',\n",
    "    'amenities_microwave',\n",
    "    'amenities_garden',\n",
    "    'amenities_streaming',\n",
    "    'amenities_gym',\n",
    "    'amenities_elevator',\n",
    "    'amenities_heating',\n",
    "    'amenities_air-conditioning',\n",
    "    'amenities_workspace',\n",
    "    'amenities_freezer',\n",
    "    'amenities_first-aid-kit',\n",
    "    'amenities_dishwasher',\n",
    "    'amenities_long-term-stays',\n",
    "    'amenities_pets-allowed',\n",
    "    'amenities_bathtube',\n",
    "    'amenities_bbq-grill',\n",
    "    'amenities_lake-bay-view'\n",
    "]"
   ],
   "id": "9130a3a3f888ee8d",
   "outputs": [],
   "execution_count": 44
  },
  {
   "metadata": {
    "ExecuteTime": {
     "end_time": "2024-09-07T20:07:35.924991Z",
     "start_time": "2024-09-07T20:07:35.917011Z"
    }
   },
   "cell_type": "code",
   "source": "other_features = list(set(df.columns.tolist()) - set(numerical_features) - set(binary_features))",
   "id": "5d6c70094753e21f",
   "outputs": [],
   "execution_count": 45
  },
  {
   "metadata": {},
   "cell_type": "markdown",
   "source": "## Correlation between features",
   "id": "fa216042b1c52404"
  },
  {
   "metadata": {
    "ExecuteTime": {
     "end_time": "2024-09-07T20:07:37.562065Z",
     "start_time": "2024-09-07T20:07:37.006321Z"
    }
   },
   "cell_type": "code",
   "source": [
    "df_corr = df.copy()\n",
    "corr_full = df_corr[numerical_features].corr()\n",
    "colors = ['green' if val < 0.7 else 'red' for val in corr_full.values.flatten()]\n",
    "mask = np.where(corr_full < 0.7, 0, 1)\n",
    "\n",
    "fig = px.imshow(corr_full,\n",
    "                text_auto=True,\n",
    "                aspect=\"auto\",\n",
    "                width=900,\n",
    "                height=900\n",
    "                )\n",
    "\n",
    "fig.show()"
   ],
   "id": "a01675ab973466bb",
   "outputs": [
    {
     "data": {
      "application/vnd.plotly.v1+json": {
       "data": [
        {
         "coloraxis": "coloraxis",
         "name": "0",
         "texttemplate": "%{z}",
         "x": [
          "host_response_rate",
          "host_acceptance_rate",
          "price",
          "host_location",
          "host_listings_count",
          "host_total_listings_count",
          "latitude",
          "longitude",
          "accommodates",
          "bathrooms",
          "bedrooms",
          "beds",
          "minimum_nights",
          "maximum_nights",
          "number_of_reviews",
          "review_scores_rating",
          "review_scores_accuracy",
          "review_scores_cleanliness",
          "review_scores_checkin",
          "review_scores_communication",
          "review_scores_location",
          "review_scores_value",
          "reviews_per_month",
          "listing_city_pop"
         ],
         "y": [
          "host_response_rate",
          "host_acceptance_rate",
          "price",
          "host_location",
          "host_listings_count",
          "host_total_listings_count",
          "latitude",
          "longitude",
          "accommodates",
          "bathrooms",
          "bedrooms",
          "beds",
          "minimum_nights",
          "maximum_nights",
          "number_of_reviews",
          "review_scores_rating",
          "review_scores_accuracy",
          "review_scores_cleanliness",
          "review_scores_checkin",
          "review_scores_communication",
          "review_scores_location",
          "review_scores_value",
          "reviews_per_month",
          "listing_city_pop"
         ],
         "z": [
          [
           1.0,
           0.4886369054802641,
           0.0015084621969513488,
           -0.022566766051814503,
           0.03246530665118959,
           0.027916187126511217,
           -0.008809387417326972,
           0.024336702559697467,
           0.05504384483440084,
           0.019534424290073977,
           0.015216987803528367,
           0.024703912929153492,
           -0.02460799465576236,
           -0.050720642631613785,
           0.09242795051413072,
           0.08430678539654198,
           0.08456277025906049,
           0.08619537470338344,
           0.0693462478853297,
           0.1005761282326483,
           0.07385503605184893,
           0.07470961878795868,
           0.15901824501659154,
           -0.008275578907088282
          ],
          [
           0.4886369054802641,
           1.0,
           0.023176389646013058,
           -0.020620316327518384,
           0.10301534443022972,
           0.09009384046181622,
           -0.043373171634425424,
           0.07511289704772767,
           0.0993020899131039,
           0.025924323379087916,
           0.027341771075186035,
           0.04180633836846383,
           -0.0692047018027056,
           -0.03841483128946748,
           0.14789865473167368,
           0.02269405307408542,
           0.03304296949838424,
           0.04978665277007086,
           -0.005017550733126197,
           0.015218674612365604,
           0.06492309673092679,
           0.032297854104716944,
           0.2541030573877237,
           -0.016302904563936918
          ],
          [
           0.0015084621969513488,
           0.023176389646013058,
           1.0,
           -0.0014938694498979864,
           0.0067548967587932815,
           0.006914648534019061,
           0.004956673802506731,
           -0.001788430601310225,
           0.10618332344572011,
           0.11669562056606868,
           0.11064498493111932,
           0.0806650485801064,
           -0.0037416793777904443,
           0.02200947055870091,
           -0.016236351413545687,
           0.00590378282707245,
           -6.385581072250665E-4,
           0.005063162561814681,
           -0.0032635298259141164,
           -0.004979085628709311,
           0.02981062859994066,
           0.005136582494564193,
           -0.02382906042425688,
           0.006087141443071527
          ],
          [
           -0.022566766051814503,
           -0.020620316327518384,
           -0.0014938694498979864,
           1.0,
           0.006157308974990603,
           0.014175635792329933,
           1.4815330493803637E-4,
           -7.743006414804852E-6,
           0.0027413554173706957,
           0.012150067901738122,
           0.011217210491330338,
           0.007423615670266054,
           0.01861734958377958,
           0.010609427796819204,
           -0.01755626020193517,
           -0.0072184116979576735,
           -0.007652978942514436,
           -0.014100689078573696,
           -0.010968059819245238,
           -0.011425018185304578,
           -0.005466062336179099,
           -0.0062536376208670525,
           -0.027632739883355018,
           -0.005568704728916394
          ],
          [
           0.03246530665118959,
           0.10301534443022972,
           0.0067548967587932815,
           0.006157308974990603,
           1.0,
           0.9397019547879307,
           0.09044148811932975,
           -0.11293103170017185,
           0.040883912877636375,
           0.021013793294632394,
           -0.0034082703160283924,
           0.040137290175247094,
           -0.017689482748727895,
           0.08719577533686369,
           -0.08828486158629632,
           -0.24730393630525246,
           -0.1994257164566606,
           -0.20416195440066273,
           -0.23948558647055687,
           -0.24794173438016412,
           -0.07190993845113593,
           -0.2320252682078073,
           -0.07795042509524648,
           0.06484923337443446
          ],
          [
           0.027916187126511217,
           0.09009384046181622,
           0.006914648534019061,
           0.014175635792329933,
           0.9397019547879307,
           1.0,
           0.0698263864504864,
           -0.09058082645172978,
           0.03987986384928237,
           0.022354184871912642,
           2.173521553271737E-4,
           0.03897486785600282,
           -0.015590110783889076,
           0.07235591499440788,
           -0.07886056008150005,
           -0.2230412360454381,
           -0.18389537326365227,
           -0.18727273074706433,
           -0.21396441794444154,
           -0.22076530903284658,
           -0.06453974367580481,
           -0.20802337675553667,
           -0.06855304682186589,
           0.054265151004501314
          ],
          [
           -0.008809387417326972,
           -0.043373171634425424,
           0.004956673802506731,
           1.4815330493803637E-4,
           0.09044148811932975,
           0.0698263864504864,
           1.0,
           -0.8462246316044727,
           -0.08393579545546116,
           -0.058487878937161834,
           -0.0736175690458431,
           -0.03910864342962869,
           0.013243976366953368,
           0.007451350741983887,
           -0.016214285573597272,
           -0.02793980613352296,
           -0.018685444571935057,
           -0.028642935551337536,
           -0.049755441187872125,
           -0.05137448233944435,
           0.03244383346989158,
           -0.06341674542312666,
           0.0074491857226761425,
           0.07014301750436919
          ],
          [
           0.024336702559697467,
           0.07511289704772767,
           -0.001788430601310225,
           -7.743006414804852E-6,
           -0.11293103170017185,
           -0.09058082645172978,
           -0.8462246316044727,
           1.0,
           0.10762166868354635,
           0.0749607950483316,
           0.11696145763032471,
           0.07895476657086731,
           -0.023217423376180636,
           0.01551200536846373,
           0.07598083278801183,
           0.02658479715156174,
           0.01907823901802328,
           0.03823249190236285,
           0.04818093022367083,
           0.041151630975515587,
           0.011629936392806805,
           0.06557789363799445,
           0.0025161902882684635,
           -0.2573977556433282
          ],
          [
           0.05504384483440084,
           0.0993020899131039,
           0.10618332344572011,
           0.0027413554173706957,
           0.040883912877636375,
           0.03987986384928237,
           -0.08393579545546116,
           0.10762166868354635,
           1.0,
           0.5810567484005478,
           0.710555218903263,
           0.7035788157408623,
           -0.02369218479875809,
           0.041545542843966034,
           -0.009732842909714358,
           0.0011230792733840727,
           -0.005588793193844452,
           -0.00804362546277716,
           -0.003217026218988272,
           -0.006438651389085884,
           0.04145721441408701,
           0.030461664573035216,
           -0.014892097127400777,
           -0.05457922854122641
          ],
          [
           0.019534424290073977,
           0.025924323379087916,
           0.11669562056606868,
           0.012150067901738122,
           0.021013793294632394,
           0.022354184871912642,
           -0.058487878937161834,
           0.0749607950483316,
           0.5810567484005478,
           1.0,
           0.6644079144493176,
           0.47569582214435135,
           0.0015955302339672544,
           0.038638413578969605,
           -0.011674991189337349,
           0.021916487261706787,
           0.005803341413554389,
           0.006006054238823375,
           0.011720356867679804,
           0.005770205269802756,
           0.05630707465311772,
           0.036267759751864165,
           -0.042269068783755984,
           -0.018084553697911482
          ],
          [
           0.015216987803528367,
           0.027341771075186035,
           0.11064498493111932,
           0.011217210491330338,
           -0.0034082703160283924,
           2.173521553271737E-4,
           -0.0736175690458431,
           0.11696145763032471,
           0.710555218903263,
           0.6644079144493176,
           1.0,
           0.5990825259752368,
           -0.001943750401711766,
           0.029477449686346444,
           -0.0161461048550676,
           0.023918728237606653,
           0.0073097871847108585,
           0.01079314006310362,
           0.0192446690421302,
           0.011571959951932375,
           0.04616664125560757,
           0.048895017144143,
           -0.04593362290601285,
           -0.04579403076251841
          ],
          [
           0.024703912929153492,
           0.04180633836846383,
           0.0806650485801064,
           0.007423615670266054,
           0.040137290175247094,
           0.03897486785600282,
           -0.03910864342962869,
           0.07895476657086731,
           0.7035788157408623,
           0.47569582214435135,
           0.5990825259752368,
           1.0,
           -0.002815900931390079,
           0.0641985489956543,
           0.036277867802732955,
           -0.022364590086010817,
           -0.023266518095712424,
           -0.02310429246162886,
           -0.011601572573560707,
           -0.020312579656632152,
           0.01909427919863455,
           0.010709318197107616,
           -0.06699263464994538,
           -0.053320782574082425
          ],
          [
           -0.02460799465576236,
           -0.0692047018027056,
           -0.0037416793777904443,
           0.01861734958377958,
           -0.017689482748727895,
           -0.015590110783889076,
           0.013243976366953368,
           -0.023217423376180636,
           -0.02369218479875809,
           0.0015955302339672544,
           -0.001943750401711766,
           -0.002815900931390079,
           1.0,
           0.026241668459534132,
           -0.018454527981053712,
           -0.004155765757208905,
           -0.0034286222571755735,
           -0.016258929339011092,
           0.00594368033812498,
           0.003761500709010918,
           -0.003212966881097703,
           -0.0013354012488824077,
           -0.04911859129248391,
           0.004719909305368321
          ],
          [
           -0.050720642631613785,
           -0.03841483128946748,
           0.02200947055870091,
           0.010609427796819204,
           0.08719577533686369,
           0.07235591499440788,
           0.007451350741983887,
           0.01551200536846373,
           0.041545542843966034,
           0.038638413578969605,
           0.029477449686346444,
           0.0641985489956543,
           0.026241668459534132,
           1.0,
           0.037741403387827575,
           -0.08911061950331926,
           -0.07757691196331021,
           -0.07296163329098149,
           -0.06467758262062528,
           -0.07881807684235786,
           -0.009150703302037998,
           -0.06999872366610686,
           -0.10892980531855485,
           0.003822154155004926
          ],
          [
           0.09242795051413072,
           0.14789865473167368,
           -0.016236351413545687,
           -0.01755626020193517,
           -0.08828486158629632,
           -0.07886056008150005,
           -0.016214285573597272,
           0.07598083278801183,
           -0.009732842909714358,
           -0.011674991189337349,
           -0.0161461048550676,
           0.036277867802732955,
           -0.018454527981053712,
           0.037741403387827575,
           1.0,
           0.08102579389780366,
           0.09611733083653341,
           0.08197855014728321,
           0.09793157358457145,
           0.09592863680292789,
           0.10592675285177088,
           0.12887534368627024,
           0.47586558115776756,
           0.016909407195727394
          ],
          [
           0.08430678539654198,
           0.02269405307408542,
           0.00590378282707245,
           -0.0072184116979576735,
           -0.24730393630525246,
           -0.2230412360454381,
           -0.02793980613352296,
           0.02658479715156174,
           0.0011230792733840727,
           0.021916487261706787,
           0.023918728237606653,
           -0.022364590086010817,
           -0.004155765757208905,
           -0.08911061950331926,
           0.08102579389780366,
           1.0,
           0.8300464215999985,
           0.7657467109976551,
           0.6924759842684574,
           0.7411585051308162,
           0.5064484571189378,
           0.8319222475918578,
           0.14206247358796098,
           -0.028257659259975088
          ],
          [
           0.08456277025906049,
           0.03304296949838424,
           -6.385581072250665E-4,
           -0.007652978942514436,
           -0.1994257164566606,
           -0.18389537326365227,
           -0.018685444571935057,
           0.01907823901802328,
           -0.005588793193844452,
           0.005803341413554389,
           0.0073097871847108585,
           -0.023266518095712424,
           -0.0034286222571755735,
           -0.07757691196331021,
           0.09611733083653341,
           0.8300464215999985,
           1.0,
           0.7120777021897473,
           0.6525934341430738,
           0.6980135813760974,
           0.48300744499194037,
           0.7839963957436993,
           0.1381597790078504,
           -0.018941787020388675
          ],
          [
           0.08619537470338344,
           0.04978665277007086,
           0.005063162561814681,
           -0.014100689078573696,
           -0.20416195440066273,
           -0.18727273074706433,
           -0.028642935551337536,
           0.03823249190236285,
           -0.00804362546277716,
           0.006006054238823375,
           0.01079314006310362,
           -0.02310429246162886,
           -0.016258929339011092,
           -0.07296163329098149,
           0.08197855014728321,
           0.7657467109976551,
           0.7120777021897473,
           1.0,
           0.56098481360943,
           0.5886832595681815,
           0.413249566644908,
           0.7100623617057005,
           0.12741328184898826,
           -0.029448695017890592
          ],
          [
           0.0693462478853297,
           -0.005017550733126197,
           -0.0032635298259141164,
           -0.010968059819245238,
           -0.23948558647055687,
           -0.21396441794444154,
           -0.049755441187872125,
           0.04818093022367083,
           -0.003217026218988272,
           0.011720356867679804,
           0.0192446690421302,
           -0.011601572573560707,
           0.00594368033812498,
           -0.06467758262062528,
           0.09793157358457145,
           0.6924759842684574,
           0.6525934341430738,
           0.56098481360943,
           1.0,
           0.7337663903999809,
           0.42841716392214696,
           0.6348993635337286,
           0.10715532624858821,
           -0.02364061926219788
          ],
          [
           0.1005761282326483,
           0.015218674612365604,
           -0.004979085628709311,
           -0.011425018185304578,
           -0.24794173438016412,
           -0.22076530903284658,
           -0.05137448233944435,
           0.041151630975515587,
           -0.006438651389085884,
           0.005770205269802756,
           0.011571959951932375,
           -0.020312579656632152,
           0.003761500709010918,
           -0.07881807684235786,
           0.09592863680292789,
           0.7411585051308162,
           0.6980135813760974,
           0.5886832595681815,
           0.7337663903999809,
           1.0,
           0.4309216679694292,
           0.6790539259454521,
           0.13574154113641124,
           -0.0268189430487001
          ],
          [
           0.07385503605184893,
           0.06492309673092679,
           0.02981062859994066,
           -0.005466062336179099,
           -0.07190993845113593,
           -0.06453974367580481,
           0.03244383346989158,
           0.011629936392806805,
           0.04145721441408701,
           0.05630707465311772,
           0.04616664125560757,
           0.01909427919863455,
           -0.003212966881097703,
           -0.009150703302037998,
           0.10592675285177088,
           0.5064484571189378,
           0.48300744499194037,
           0.413249566644908,
           0.42841716392214696,
           0.4309216679694292,
           1.0,
           0.5168624442537889,
           0.09230081606825286,
           0.027576032154928213
          ],
          [
           0.07470961878795868,
           0.032297854104716944,
           0.005136582494564193,
           -0.0062536376208670525,
           -0.2320252682078073,
           -0.20802337675553667,
           -0.06341674542312666,
           0.06557789363799445,
           0.030461664573035216,
           0.036267759751864165,
           0.048895017144143,
           0.010709318197107616,
           -0.0013354012488824077,
           -0.06999872366610686,
           0.12887534368627024,
           0.8319222475918578,
           0.7839963957436993,
           0.7100623617057005,
           0.6348993635337286,
           0.6790539259454521,
           0.5168624442537889,
           1.0,
           0.15719216746227407,
           -0.03812515054582032
          ],
          [
           0.15901824501659154,
           0.2541030573877237,
           -0.02382906042425688,
           -0.027632739883355018,
           -0.07795042509524648,
           -0.06855304682186589,
           0.0074491857226761425,
           0.0025161902882684635,
           -0.014892097127400777,
           -0.042269068783755984,
           -0.04593362290601285,
           -0.06699263464994538,
           -0.04911859129248391,
           -0.10892980531855485,
           0.47586558115776756,
           0.14206247358796098,
           0.1381597790078504,
           0.12741328184898826,
           0.10715532624858821,
           0.13574154113641124,
           0.09230081606825286,
           0.15719216746227407,
           1.0,
           0.049342438619084016
          ],
          [
           -0.008275578907088282,
           -0.016302904563936918,
           0.006087141443071527,
           -0.005568704728916394,
           0.06484923337443446,
           0.054265151004501314,
           0.07014301750436919,
           -0.2573977556433282,
           -0.05457922854122641,
           -0.018084553697911482,
           -0.04579403076251841,
           -0.053320782574082425,
           0.004719909305368321,
           0.003822154155004926,
           0.016909407195727394,
           -0.028257659259975088,
           -0.018941787020388675,
           -0.029448695017890592,
           -0.02364061926219788,
           -0.0268189430487001,
           0.027576032154928213,
           -0.03812515054582032,
           0.049342438619084016,
           1.0
          ]
         ],
         "type": "heatmap",
         "xaxis": "x",
         "yaxis": "y",
         "hovertemplate": "x: %{x}<br>y: %{y}<br>color: %{z}<extra></extra>"
        }
       ],
       "layout": {
        "template": {
         "data": {
          "histogram2dcontour": [
           {
            "type": "histogram2dcontour",
            "colorbar": {
             "outlinewidth": 0,
             "ticks": ""
            },
            "colorscale": [
             [
              0.0,
              "#0d0887"
             ],
             [
              0.1111111111111111,
              "#46039f"
             ],
             [
              0.2222222222222222,
              "#7201a8"
             ],
             [
              0.3333333333333333,
              "#9c179e"
             ],
             [
              0.4444444444444444,
              "#bd3786"
             ],
             [
              0.5555555555555556,
              "#d8576b"
             ],
             [
              0.6666666666666666,
              "#ed7953"
             ],
             [
              0.7777777777777778,
              "#fb9f3a"
             ],
             [
              0.8888888888888888,
              "#fdca26"
             ],
             [
              1.0,
              "#f0f921"
             ]
            ]
           }
          ],
          "choropleth": [
           {
            "type": "choropleth",
            "colorbar": {
             "outlinewidth": 0,
             "ticks": ""
            }
           }
          ],
          "histogram2d": [
           {
            "type": "histogram2d",
            "colorbar": {
             "outlinewidth": 0,
             "ticks": ""
            },
            "colorscale": [
             [
              0.0,
              "#0d0887"
             ],
             [
              0.1111111111111111,
              "#46039f"
             ],
             [
              0.2222222222222222,
              "#7201a8"
             ],
             [
              0.3333333333333333,
              "#9c179e"
             ],
             [
              0.4444444444444444,
              "#bd3786"
             ],
             [
              0.5555555555555556,
              "#d8576b"
             ],
             [
              0.6666666666666666,
              "#ed7953"
             ],
             [
              0.7777777777777778,
              "#fb9f3a"
             ],
             [
              0.8888888888888888,
              "#fdca26"
             ],
             [
              1.0,
              "#f0f921"
             ]
            ]
           }
          ],
          "heatmap": [
           {
            "type": "heatmap",
            "colorbar": {
             "outlinewidth": 0,
             "ticks": ""
            },
            "colorscale": [
             [
              0.0,
              "#0d0887"
             ],
             [
              0.1111111111111111,
              "#46039f"
             ],
             [
              0.2222222222222222,
              "#7201a8"
             ],
             [
              0.3333333333333333,
              "#9c179e"
             ],
             [
              0.4444444444444444,
              "#bd3786"
             ],
             [
              0.5555555555555556,
              "#d8576b"
             ],
             [
              0.6666666666666666,
              "#ed7953"
             ],
             [
              0.7777777777777778,
              "#fb9f3a"
             ],
             [
              0.8888888888888888,
              "#fdca26"
             ],
             [
              1.0,
              "#f0f921"
             ]
            ]
           }
          ],
          "heatmapgl": [
           {
            "type": "heatmapgl",
            "colorbar": {
             "outlinewidth": 0,
             "ticks": ""
            },
            "colorscale": [
             [
              0.0,
              "#0d0887"
             ],
             [
              0.1111111111111111,
              "#46039f"
             ],
             [
              0.2222222222222222,
              "#7201a8"
             ],
             [
              0.3333333333333333,
              "#9c179e"
             ],
             [
              0.4444444444444444,
              "#bd3786"
             ],
             [
              0.5555555555555556,
              "#d8576b"
             ],
             [
              0.6666666666666666,
              "#ed7953"
             ],
             [
              0.7777777777777778,
              "#fb9f3a"
             ],
             [
              0.8888888888888888,
              "#fdca26"
             ],
             [
              1.0,
              "#f0f921"
             ]
            ]
           }
          ],
          "contourcarpet": [
           {
            "type": "contourcarpet",
            "colorbar": {
             "outlinewidth": 0,
             "ticks": ""
            }
           }
          ],
          "contour": [
           {
            "type": "contour",
            "colorbar": {
             "outlinewidth": 0,
             "ticks": ""
            },
            "colorscale": [
             [
              0.0,
              "#0d0887"
             ],
             [
              0.1111111111111111,
              "#46039f"
             ],
             [
              0.2222222222222222,
              "#7201a8"
             ],
             [
              0.3333333333333333,
              "#9c179e"
             ],
             [
              0.4444444444444444,
              "#bd3786"
             ],
             [
              0.5555555555555556,
              "#d8576b"
             ],
             [
              0.6666666666666666,
              "#ed7953"
             ],
             [
              0.7777777777777778,
              "#fb9f3a"
             ],
             [
              0.8888888888888888,
              "#fdca26"
             ],
             [
              1.0,
              "#f0f921"
             ]
            ]
           }
          ],
          "surface": [
           {
            "type": "surface",
            "colorbar": {
             "outlinewidth": 0,
             "ticks": ""
            },
            "colorscale": [
             [
              0.0,
              "#0d0887"
             ],
             [
              0.1111111111111111,
              "#46039f"
             ],
             [
              0.2222222222222222,
              "#7201a8"
             ],
             [
              0.3333333333333333,
              "#9c179e"
             ],
             [
              0.4444444444444444,
              "#bd3786"
             ],
             [
              0.5555555555555556,
              "#d8576b"
             ],
             [
              0.6666666666666666,
              "#ed7953"
             ],
             [
              0.7777777777777778,
              "#fb9f3a"
             ],
             [
              0.8888888888888888,
              "#fdca26"
             ],
             [
              1.0,
              "#f0f921"
             ]
            ]
           }
          ],
          "mesh3d": [
           {
            "type": "mesh3d",
            "colorbar": {
             "outlinewidth": 0,
             "ticks": ""
            }
           }
          ],
          "scatter": [
           {
            "fillpattern": {
             "fillmode": "overlay",
             "size": 10,
             "solidity": 0.2
            },
            "type": "scatter"
           }
          ],
          "parcoords": [
           {
            "type": "parcoords",
            "line": {
             "colorbar": {
              "outlinewidth": 0,
              "ticks": ""
             }
            }
           }
          ],
          "scatterpolargl": [
           {
            "type": "scatterpolargl",
            "marker": {
             "colorbar": {
              "outlinewidth": 0,
              "ticks": ""
             }
            }
           }
          ],
          "bar": [
           {
            "error_x": {
             "color": "#2a3f5f"
            },
            "error_y": {
             "color": "#2a3f5f"
            },
            "marker": {
             "line": {
              "color": "#E5ECF6",
              "width": 0.5
             },
             "pattern": {
              "fillmode": "overlay",
              "size": 10,
              "solidity": 0.2
             }
            },
            "type": "bar"
           }
          ],
          "scattergeo": [
           {
            "type": "scattergeo",
            "marker": {
             "colorbar": {
              "outlinewidth": 0,
              "ticks": ""
             }
            }
           }
          ],
          "scatterpolar": [
           {
            "type": "scatterpolar",
            "marker": {
             "colorbar": {
              "outlinewidth": 0,
              "ticks": ""
             }
            }
           }
          ],
          "histogram": [
           {
            "marker": {
             "pattern": {
              "fillmode": "overlay",
              "size": 10,
              "solidity": 0.2
             }
            },
            "type": "histogram"
           }
          ],
          "scattergl": [
           {
            "type": "scattergl",
            "marker": {
             "colorbar": {
              "outlinewidth": 0,
              "ticks": ""
             }
            }
           }
          ],
          "scatter3d": [
           {
            "type": "scatter3d",
            "line": {
             "colorbar": {
              "outlinewidth": 0,
              "ticks": ""
             }
            },
            "marker": {
             "colorbar": {
              "outlinewidth": 0,
              "ticks": ""
             }
            }
           }
          ],
          "scattermapbox": [
           {
            "type": "scattermapbox",
            "marker": {
             "colorbar": {
              "outlinewidth": 0,
              "ticks": ""
             }
            }
           }
          ],
          "scatterternary": [
           {
            "type": "scatterternary",
            "marker": {
             "colorbar": {
              "outlinewidth": 0,
              "ticks": ""
             }
            }
           }
          ],
          "scattercarpet": [
           {
            "type": "scattercarpet",
            "marker": {
             "colorbar": {
              "outlinewidth": 0,
              "ticks": ""
             }
            }
           }
          ],
          "carpet": [
           {
            "aaxis": {
             "endlinecolor": "#2a3f5f",
             "gridcolor": "white",
             "linecolor": "white",
             "minorgridcolor": "white",
             "startlinecolor": "#2a3f5f"
            },
            "baxis": {
             "endlinecolor": "#2a3f5f",
             "gridcolor": "white",
             "linecolor": "white",
             "minorgridcolor": "white",
             "startlinecolor": "#2a3f5f"
            },
            "type": "carpet"
           }
          ],
          "table": [
           {
            "cells": {
             "fill": {
              "color": "#EBF0F8"
             },
             "line": {
              "color": "white"
             }
            },
            "header": {
             "fill": {
              "color": "#C8D4E3"
             },
             "line": {
              "color": "white"
             }
            },
            "type": "table"
           }
          ],
          "barpolar": [
           {
            "marker": {
             "line": {
              "color": "#E5ECF6",
              "width": 0.5
             },
             "pattern": {
              "fillmode": "overlay",
              "size": 10,
              "solidity": 0.2
             }
            },
            "type": "barpolar"
           }
          ],
          "pie": [
           {
            "automargin": true,
            "type": "pie"
           }
          ]
         },
         "layout": {
          "autotypenumbers": "strict",
          "colorway": [
           "#636efa",
           "#EF553B",
           "#00cc96",
           "#ab63fa",
           "#FFA15A",
           "#19d3f3",
           "#FF6692",
           "#B6E880",
           "#FF97FF",
           "#FECB52"
          ],
          "font": {
           "color": "#2a3f5f"
          },
          "hovermode": "closest",
          "hoverlabel": {
           "align": "left"
          },
          "paper_bgcolor": "white",
          "plot_bgcolor": "#E5ECF6",
          "polar": {
           "bgcolor": "#E5ECF6",
           "angularaxis": {
            "gridcolor": "white",
            "linecolor": "white",
            "ticks": ""
           },
           "radialaxis": {
            "gridcolor": "white",
            "linecolor": "white",
            "ticks": ""
           }
          },
          "ternary": {
           "bgcolor": "#E5ECF6",
           "aaxis": {
            "gridcolor": "white",
            "linecolor": "white",
            "ticks": ""
           },
           "baxis": {
            "gridcolor": "white",
            "linecolor": "white",
            "ticks": ""
           },
           "caxis": {
            "gridcolor": "white",
            "linecolor": "white",
            "ticks": ""
           }
          },
          "coloraxis": {
           "colorbar": {
            "outlinewidth": 0,
            "ticks": ""
           }
          },
          "colorscale": {
           "sequential": [
            [
             0.0,
             "#0d0887"
            ],
            [
             0.1111111111111111,
             "#46039f"
            ],
            [
             0.2222222222222222,
             "#7201a8"
            ],
            [
             0.3333333333333333,
             "#9c179e"
            ],
            [
             0.4444444444444444,
             "#bd3786"
            ],
            [
             0.5555555555555556,
             "#d8576b"
            ],
            [
             0.6666666666666666,
             "#ed7953"
            ],
            [
             0.7777777777777778,
             "#fb9f3a"
            ],
            [
             0.8888888888888888,
             "#fdca26"
            ],
            [
             1.0,
             "#f0f921"
            ]
           ],
           "sequentialminus": [
            [
             0.0,
             "#0d0887"
            ],
            [
             0.1111111111111111,
             "#46039f"
            ],
            [
             0.2222222222222222,
             "#7201a8"
            ],
            [
             0.3333333333333333,
             "#9c179e"
            ],
            [
             0.4444444444444444,
             "#bd3786"
            ],
            [
             0.5555555555555556,
             "#d8576b"
            ],
            [
             0.6666666666666666,
             "#ed7953"
            ],
            [
             0.7777777777777778,
             "#fb9f3a"
            ],
            [
             0.8888888888888888,
             "#fdca26"
            ],
            [
             1.0,
             "#f0f921"
            ]
           ],
           "diverging": [
            [
             0,
             "#8e0152"
            ],
            [
             0.1,
             "#c51b7d"
            ],
            [
             0.2,
             "#de77ae"
            ],
            [
             0.3,
             "#f1b6da"
            ],
            [
             0.4,
             "#fde0ef"
            ],
            [
             0.5,
             "#f7f7f7"
            ],
            [
             0.6,
             "#e6f5d0"
            ],
            [
             0.7,
             "#b8e186"
            ],
            [
             0.8,
             "#7fbc41"
            ],
            [
             0.9,
             "#4d9221"
            ],
            [
             1,
             "#276419"
            ]
           ]
          },
          "xaxis": {
           "gridcolor": "white",
           "linecolor": "white",
           "ticks": "",
           "title": {
            "standoff": 15
           },
           "zerolinecolor": "white",
           "automargin": true,
           "zerolinewidth": 2
          },
          "yaxis": {
           "gridcolor": "white",
           "linecolor": "white",
           "ticks": "",
           "title": {
            "standoff": 15
           },
           "zerolinecolor": "white",
           "automargin": true,
           "zerolinewidth": 2
          },
          "scene": {
           "xaxis": {
            "backgroundcolor": "#E5ECF6",
            "gridcolor": "white",
            "linecolor": "white",
            "showbackground": true,
            "ticks": "",
            "zerolinecolor": "white",
            "gridwidth": 2
           },
           "yaxis": {
            "backgroundcolor": "#E5ECF6",
            "gridcolor": "white",
            "linecolor": "white",
            "showbackground": true,
            "ticks": "",
            "zerolinecolor": "white",
            "gridwidth": 2
           },
           "zaxis": {
            "backgroundcolor": "#E5ECF6",
            "gridcolor": "white",
            "linecolor": "white",
            "showbackground": true,
            "ticks": "",
            "zerolinecolor": "white",
            "gridwidth": 2
           }
          },
          "shapedefaults": {
           "line": {
            "color": "#2a3f5f"
           }
          },
          "annotationdefaults": {
           "arrowcolor": "#2a3f5f",
           "arrowhead": 0,
           "arrowwidth": 1
          },
          "geo": {
           "bgcolor": "white",
           "landcolor": "#E5ECF6",
           "subunitcolor": "white",
           "showland": true,
           "showlakes": true,
           "lakecolor": "white"
          },
          "title": {
           "x": 0.05
          },
          "mapbox": {
           "style": "light"
          }
         }
        },
        "xaxis": {
         "anchor": "y",
         "domain": [
          0.0,
          1.0
         ]
        },
        "yaxis": {
         "anchor": "x",
         "domain": [
          0.0,
          1.0
         ],
         "autorange": "reversed"
        },
        "coloraxis": {
         "colorscale": [
          [
           0.0,
           "#0d0887"
          ],
          [
           0.1111111111111111,
           "#46039f"
          ],
          [
           0.2222222222222222,
           "#7201a8"
          ],
          [
           0.3333333333333333,
           "#9c179e"
          ],
          [
           0.4444444444444444,
           "#bd3786"
          ],
          [
           0.5555555555555556,
           "#d8576b"
          ],
          [
           0.6666666666666666,
           "#ed7953"
          ],
          [
           0.7777777777777778,
           "#fb9f3a"
          ],
          [
           0.8888888888888888,
           "#fdca26"
          ],
          [
           1.0,
           "#f0f921"
          ]
         ]
        },
        "margin": {
         "t": 60
        },
        "height": 900,
        "width": 900
       },
       "config": {
        "plotlyServerURL": "https://plot.ly"
       }
      },
      "text/html": [
       "<div>                            <div id=\"ea6a8169-baf8-493e-a2fb-16c6c9467bc3\" class=\"plotly-graph-div\" style=\"height:900px; width:900px;\"></div>            <script type=\"text/javascript\">                require([\"plotly\"], function(Plotly) {                    window.PLOTLYENV=window.PLOTLYENV || {};                                    if (document.getElementById(\"ea6a8169-baf8-493e-a2fb-16c6c9467bc3\")) {                    Plotly.newPlot(                        \"ea6a8169-baf8-493e-a2fb-16c6c9467bc3\",                        [{\"coloraxis\":\"coloraxis\",\"name\":\"0\",\"texttemplate\":\"%{z}\",\"x\":[\"host_response_rate\",\"host_acceptance_rate\",\"price\",\"host_location\",\"host_listings_count\",\"host_total_listings_count\",\"latitude\",\"longitude\",\"accommodates\",\"bathrooms\",\"bedrooms\",\"beds\",\"minimum_nights\",\"maximum_nights\",\"number_of_reviews\",\"review_scores_rating\",\"review_scores_accuracy\",\"review_scores_cleanliness\",\"review_scores_checkin\",\"review_scores_communication\",\"review_scores_location\",\"review_scores_value\",\"reviews_per_month\",\"listing_city_pop\"],\"y\":[\"host_response_rate\",\"host_acceptance_rate\",\"price\",\"host_location\",\"host_listings_count\",\"host_total_listings_count\",\"latitude\",\"longitude\",\"accommodates\",\"bathrooms\",\"bedrooms\",\"beds\",\"minimum_nights\",\"maximum_nights\",\"number_of_reviews\",\"review_scores_rating\",\"review_scores_accuracy\",\"review_scores_cleanliness\",\"review_scores_checkin\",\"review_scores_communication\",\"review_scores_location\",\"review_scores_value\",\"reviews_per_month\",\"listing_city_pop\"],\"z\":[[1.0,0.4886369054802641,0.0015084621969513488,-0.022566766051814503,0.03246530665118959,0.027916187126511217,-0.008809387417326972,0.024336702559697467,0.05504384483440084,0.019534424290073977,0.015216987803528367,0.024703912929153492,-0.02460799465576236,-0.050720642631613785,0.09242795051413072,0.08430678539654198,0.08456277025906049,0.08619537470338344,0.0693462478853297,0.1005761282326483,0.07385503605184893,0.07470961878795868,0.15901824501659154,-0.008275578907088282],[0.4886369054802641,1.0,0.023176389646013058,-0.020620316327518384,0.10301534443022972,0.09009384046181622,-0.043373171634425424,0.07511289704772767,0.0993020899131039,0.025924323379087916,0.027341771075186035,0.04180633836846383,-0.0692047018027056,-0.03841483128946748,0.14789865473167368,0.02269405307408542,0.03304296949838424,0.04978665277007086,-0.005017550733126197,0.015218674612365604,0.06492309673092679,0.032297854104716944,0.2541030573877237,-0.016302904563936918],[0.0015084621969513488,0.023176389646013058,1.0,-0.0014938694498979864,0.0067548967587932815,0.006914648534019061,0.004956673802506731,-0.001788430601310225,0.10618332344572011,0.11669562056606868,0.11064498493111932,0.0806650485801064,-0.0037416793777904443,0.02200947055870091,-0.016236351413545687,0.00590378282707245,-0.0006385581072250665,0.005063162561814681,-0.0032635298259141164,-0.004979085628709311,0.02981062859994066,0.005136582494564193,-0.02382906042425688,0.006087141443071527],[-0.022566766051814503,-0.020620316327518384,-0.0014938694498979864,1.0,0.006157308974990603,0.014175635792329933,0.00014815330493803637,-7.743006414804852e-06,0.0027413554173706957,0.012150067901738122,0.011217210491330338,0.007423615670266054,0.01861734958377958,0.010609427796819204,-0.01755626020193517,-0.0072184116979576735,-0.007652978942514436,-0.014100689078573696,-0.010968059819245238,-0.011425018185304578,-0.005466062336179099,-0.0062536376208670525,-0.027632739883355018,-0.005568704728916394],[0.03246530665118959,0.10301534443022972,0.0067548967587932815,0.006157308974990603,1.0,0.9397019547879307,0.09044148811932975,-0.11293103170017185,0.040883912877636375,0.021013793294632394,-0.0034082703160283924,0.040137290175247094,-0.017689482748727895,0.08719577533686369,-0.08828486158629632,-0.24730393630525246,-0.1994257164566606,-0.20416195440066273,-0.23948558647055687,-0.24794173438016412,-0.07190993845113593,-0.2320252682078073,-0.07795042509524648,0.06484923337443446],[0.027916187126511217,0.09009384046181622,0.006914648534019061,0.014175635792329933,0.9397019547879307,1.0,0.0698263864504864,-0.09058082645172978,0.03987986384928237,0.022354184871912642,0.0002173521553271737,0.03897486785600282,-0.015590110783889076,0.07235591499440788,-0.07886056008150005,-0.2230412360454381,-0.18389537326365227,-0.18727273074706433,-0.21396441794444154,-0.22076530903284658,-0.06453974367580481,-0.20802337675553667,-0.06855304682186589,0.054265151004501314],[-0.008809387417326972,-0.043373171634425424,0.004956673802506731,0.00014815330493803637,0.09044148811932975,0.0698263864504864,1.0,-0.8462246316044727,-0.08393579545546116,-0.058487878937161834,-0.0736175690458431,-0.03910864342962869,0.013243976366953368,0.007451350741983887,-0.016214285573597272,-0.02793980613352296,-0.018685444571935057,-0.028642935551337536,-0.049755441187872125,-0.05137448233944435,0.03244383346989158,-0.06341674542312666,0.0074491857226761425,0.07014301750436919],[0.024336702559697467,0.07511289704772767,-0.001788430601310225,-7.743006414804852e-06,-0.11293103170017185,-0.09058082645172978,-0.8462246316044727,1.0,0.10762166868354635,0.0749607950483316,0.11696145763032471,0.07895476657086731,-0.023217423376180636,0.01551200536846373,0.07598083278801183,0.02658479715156174,0.01907823901802328,0.03823249190236285,0.04818093022367083,0.041151630975515587,0.011629936392806805,0.06557789363799445,0.0025161902882684635,-0.2573977556433282],[0.05504384483440084,0.0993020899131039,0.10618332344572011,0.0027413554173706957,0.040883912877636375,0.03987986384928237,-0.08393579545546116,0.10762166868354635,1.0,0.5810567484005478,0.710555218903263,0.7035788157408623,-0.02369218479875809,0.041545542843966034,-0.009732842909714358,0.0011230792733840727,-0.005588793193844452,-0.00804362546277716,-0.003217026218988272,-0.006438651389085884,0.04145721441408701,0.030461664573035216,-0.014892097127400777,-0.05457922854122641],[0.019534424290073977,0.025924323379087916,0.11669562056606868,0.012150067901738122,0.021013793294632394,0.022354184871912642,-0.058487878937161834,0.0749607950483316,0.5810567484005478,1.0,0.6644079144493176,0.47569582214435135,0.0015955302339672544,0.038638413578969605,-0.011674991189337349,0.021916487261706787,0.005803341413554389,0.006006054238823375,0.011720356867679804,0.005770205269802756,0.05630707465311772,0.036267759751864165,-0.042269068783755984,-0.018084553697911482],[0.015216987803528367,0.027341771075186035,0.11064498493111932,0.011217210491330338,-0.0034082703160283924,0.0002173521553271737,-0.0736175690458431,0.11696145763032471,0.710555218903263,0.6644079144493176,1.0,0.5990825259752368,-0.001943750401711766,0.029477449686346444,-0.0161461048550676,0.023918728237606653,0.0073097871847108585,0.01079314006310362,0.0192446690421302,0.011571959951932375,0.04616664125560757,0.048895017144143,-0.04593362290601285,-0.04579403076251841],[0.024703912929153492,0.04180633836846383,0.0806650485801064,0.007423615670266054,0.040137290175247094,0.03897486785600282,-0.03910864342962869,0.07895476657086731,0.7035788157408623,0.47569582214435135,0.5990825259752368,1.0,-0.002815900931390079,0.0641985489956543,0.036277867802732955,-0.022364590086010817,-0.023266518095712424,-0.02310429246162886,-0.011601572573560707,-0.020312579656632152,0.01909427919863455,0.010709318197107616,-0.06699263464994538,-0.053320782574082425],[-0.02460799465576236,-0.0692047018027056,-0.0037416793777904443,0.01861734958377958,-0.017689482748727895,-0.015590110783889076,0.013243976366953368,-0.023217423376180636,-0.02369218479875809,0.0015955302339672544,-0.001943750401711766,-0.002815900931390079,1.0,0.026241668459534132,-0.018454527981053712,-0.004155765757208905,-0.0034286222571755735,-0.016258929339011092,0.00594368033812498,0.003761500709010918,-0.003212966881097703,-0.0013354012488824077,-0.04911859129248391,0.004719909305368321],[-0.050720642631613785,-0.03841483128946748,0.02200947055870091,0.010609427796819204,0.08719577533686369,0.07235591499440788,0.007451350741983887,0.01551200536846373,0.041545542843966034,0.038638413578969605,0.029477449686346444,0.0641985489956543,0.026241668459534132,1.0,0.037741403387827575,-0.08911061950331926,-0.07757691196331021,-0.07296163329098149,-0.06467758262062528,-0.07881807684235786,-0.009150703302037998,-0.06999872366610686,-0.10892980531855485,0.003822154155004926],[0.09242795051413072,0.14789865473167368,-0.016236351413545687,-0.01755626020193517,-0.08828486158629632,-0.07886056008150005,-0.016214285573597272,0.07598083278801183,-0.009732842909714358,-0.011674991189337349,-0.0161461048550676,0.036277867802732955,-0.018454527981053712,0.037741403387827575,1.0,0.08102579389780366,0.09611733083653341,0.08197855014728321,0.09793157358457145,0.09592863680292789,0.10592675285177088,0.12887534368627024,0.47586558115776756,0.016909407195727394],[0.08430678539654198,0.02269405307408542,0.00590378282707245,-0.0072184116979576735,-0.24730393630525246,-0.2230412360454381,-0.02793980613352296,0.02658479715156174,0.0011230792733840727,0.021916487261706787,0.023918728237606653,-0.022364590086010817,-0.004155765757208905,-0.08911061950331926,0.08102579389780366,1.0,0.8300464215999985,0.7657467109976551,0.6924759842684574,0.7411585051308162,0.5064484571189378,0.8319222475918578,0.14206247358796098,-0.028257659259975088],[0.08456277025906049,0.03304296949838424,-0.0006385581072250665,-0.007652978942514436,-0.1994257164566606,-0.18389537326365227,-0.018685444571935057,0.01907823901802328,-0.005588793193844452,0.005803341413554389,0.0073097871847108585,-0.023266518095712424,-0.0034286222571755735,-0.07757691196331021,0.09611733083653341,0.8300464215999985,1.0,0.7120777021897473,0.6525934341430738,0.6980135813760974,0.48300744499194037,0.7839963957436993,0.1381597790078504,-0.018941787020388675],[0.08619537470338344,0.04978665277007086,0.005063162561814681,-0.014100689078573696,-0.20416195440066273,-0.18727273074706433,-0.028642935551337536,0.03823249190236285,-0.00804362546277716,0.006006054238823375,0.01079314006310362,-0.02310429246162886,-0.016258929339011092,-0.07296163329098149,0.08197855014728321,0.7657467109976551,0.7120777021897473,1.0,0.56098481360943,0.5886832595681815,0.413249566644908,0.7100623617057005,0.12741328184898826,-0.029448695017890592],[0.0693462478853297,-0.005017550733126197,-0.0032635298259141164,-0.010968059819245238,-0.23948558647055687,-0.21396441794444154,-0.049755441187872125,0.04818093022367083,-0.003217026218988272,0.011720356867679804,0.0192446690421302,-0.011601572573560707,0.00594368033812498,-0.06467758262062528,0.09793157358457145,0.6924759842684574,0.6525934341430738,0.56098481360943,1.0,0.7337663903999809,0.42841716392214696,0.6348993635337286,0.10715532624858821,-0.02364061926219788],[0.1005761282326483,0.015218674612365604,-0.004979085628709311,-0.011425018185304578,-0.24794173438016412,-0.22076530903284658,-0.05137448233944435,0.041151630975515587,-0.006438651389085884,0.005770205269802756,0.011571959951932375,-0.020312579656632152,0.003761500709010918,-0.07881807684235786,0.09592863680292789,0.7411585051308162,0.6980135813760974,0.5886832595681815,0.7337663903999809,1.0,0.4309216679694292,0.6790539259454521,0.13574154113641124,-0.0268189430487001],[0.07385503605184893,0.06492309673092679,0.02981062859994066,-0.005466062336179099,-0.07190993845113593,-0.06453974367580481,0.03244383346989158,0.011629936392806805,0.04145721441408701,0.05630707465311772,0.04616664125560757,0.01909427919863455,-0.003212966881097703,-0.009150703302037998,0.10592675285177088,0.5064484571189378,0.48300744499194037,0.413249566644908,0.42841716392214696,0.4309216679694292,1.0,0.5168624442537889,0.09230081606825286,0.027576032154928213],[0.07470961878795868,0.032297854104716944,0.005136582494564193,-0.0062536376208670525,-0.2320252682078073,-0.20802337675553667,-0.06341674542312666,0.06557789363799445,0.030461664573035216,0.036267759751864165,0.048895017144143,0.010709318197107616,-0.0013354012488824077,-0.06999872366610686,0.12887534368627024,0.8319222475918578,0.7839963957436993,0.7100623617057005,0.6348993635337286,0.6790539259454521,0.5168624442537889,1.0,0.15719216746227407,-0.03812515054582032],[0.15901824501659154,0.2541030573877237,-0.02382906042425688,-0.027632739883355018,-0.07795042509524648,-0.06855304682186589,0.0074491857226761425,0.0025161902882684635,-0.014892097127400777,-0.042269068783755984,-0.04593362290601285,-0.06699263464994538,-0.04911859129248391,-0.10892980531855485,0.47586558115776756,0.14206247358796098,0.1381597790078504,0.12741328184898826,0.10715532624858821,0.13574154113641124,0.09230081606825286,0.15719216746227407,1.0,0.049342438619084016],[-0.008275578907088282,-0.016302904563936918,0.006087141443071527,-0.005568704728916394,0.06484923337443446,0.054265151004501314,0.07014301750436919,-0.2573977556433282,-0.05457922854122641,-0.018084553697911482,-0.04579403076251841,-0.053320782574082425,0.004719909305368321,0.003822154155004926,0.016909407195727394,-0.028257659259975088,-0.018941787020388675,-0.029448695017890592,-0.02364061926219788,-0.0268189430487001,0.027576032154928213,-0.03812515054582032,0.049342438619084016,1.0]],\"type\":\"heatmap\",\"xaxis\":\"x\",\"yaxis\":\"y\",\"hovertemplate\":\"x: %{x}\\u003cbr\\u003ey: %{y}\\u003cbr\\u003ecolor: %{z}\\u003cextra\\u003e\\u003c\\u002fextra\\u003e\"}],                        {\"template\":{\"data\":{\"histogram2dcontour\":[{\"type\":\"histogram2dcontour\",\"colorbar\":{\"outlinewidth\":0,\"ticks\":\"\"},\"colorscale\":[[0.0,\"#0d0887\"],[0.1111111111111111,\"#46039f\"],[0.2222222222222222,\"#7201a8\"],[0.3333333333333333,\"#9c179e\"],[0.4444444444444444,\"#bd3786\"],[0.5555555555555556,\"#d8576b\"],[0.6666666666666666,\"#ed7953\"],[0.7777777777777778,\"#fb9f3a\"],[0.8888888888888888,\"#fdca26\"],[1.0,\"#f0f921\"]]}],\"choropleth\":[{\"type\":\"choropleth\",\"colorbar\":{\"outlinewidth\":0,\"ticks\":\"\"}}],\"histogram2d\":[{\"type\":\"histogram2d\",\"colorbar\":{\"outlinewidth\":0,\"ticks\":\"\"},\"colorscale\":[[0.0,\"#0d0887\"],[0.1111111111111111,\"#46039f\"],[0.2222222222222222,\"#7201a8\"],[0.3333333333333333,\"#9c179e\"],[0.4444444444444444,\"#bd3786\"],[0.5555555555555556,\"#d8576b\"],[0.6666666666666666,\"#ed7953\"],[0.7777777777777778,\"#fb9f3a\"],[0.8888888888888888,\"#fdca26\"],[1.0,\"#f0f921\"]]}],\"heatmap\":[{\"type\":\"heatmap\",\"colorbar\":{\"outlinewidth\":0,\"ticks\":\"\"},\"colorscale\":[[0.0,\"#0d0887\"],[0.1111111111111111,\"#46039f\"],[0.2222222222222222,\"#7201a8\"],[0.3333333333333333,\"#9c179e\"],[0.4444444444444444,\"#bd3786\"],[0.5555555555555556,\"#d8576b\"],[0.6666666666666666,\"#ed7953\"],[0.7777777777777778,\"#fb9f3a\"],[0.8888888888888888,\"#fdca26\"],[1.0,\"#f0f921\"]]}],\"heatmapgl\":[{\"type\":\"heatmapgl\",\"colorbar\":{\"outlinewidth\":0,\"ticks\":\"\"},\"colorscale\":[[0.0,\"#0d0887\"],[0.1111111111111111,\"#46039f\"],[0.2222222222222222,\"#7201a8\"],[0.3333333333333333,\"#9c179e\"],[0.4444444444444444,\"#bd3786\"],[0.5555555555555556,\"#d8576b\"],[0.6666666666666666,\"#ed7953\"],[0.7777777777777778,\"#fb9f3a\"],[0.8888888888888888,\"#fdca26\"],[1.0,\"#f0f921\"]]}],\"contourcarpet\":[{\"type\":\"contourcarpet\",\"colorbar\":{\"outlinewidth\":0,\"ticks\":\"\"}}],\"contour\":[{\"type\":\"contour\",\"colorbar\":{\"outlinewidth\":0,\"ticks\":\"\"},\"colorscale\":[[0.0,\"#0d0887\"],[0.1111111111111111,\"#46039f\"],[0.2222222222222222,\"#7201a8\"],[0.3333333333333333,\"#9c179e\"],[0.4444444444444444,\"#bd3786\"],[0.5555555555555556,\"#d8576b\"],[0.6666666666666666,\"#ed7953\"],[0.7777777777777778,\"#fb9f3a\"],[0.8888888888888888,\"#fdca26\"],[1.0,\"#f0f921\"]]}],\"surface\":[{\"type\":\"surface\",\"colorbar\":{\"outlinewidth\":0,\"ticks\":\"\"},\"colorscale\":[[0.0,\"#0d0887\"],[0.1111111111111111,\"#46039f\"],[0.2222222222222222,\"#7201a8\"],[0.3333333333333333,\"#9c179e\"],[0.4444444444444444,\"#bd3786\"],[0.5555555555555556,\"#d8576b\"],[0.6666666666666666,\"#ed7953\"],[0.7777777777777778,\"#fb9f3a\"],[0.8888888888888888,\"#fdca26\"],[1.0,\"#f0f921\"]]}],\"mesh3d\":[{\"type\":\"mesh3d\",\"colorbar\":{\"outlinewidth\":0,\"ticks\":\"\"}}],\"scatter\":[{\"fillpattern\":{\"fillmode\":\"overlay\",\"size\":10,\"solidity\":0.2},\"type\":\"scatter\"}],\"parcoords\":[{\"type\":\"parcoords\",\"line\":{\"colorbar\":{\"outlinewidth\":0,\"ticks\":\"\"}}}],\"scatterpolargl\":[{\"type\":\"scatterpolargl\",\"marker\":{\"colorbar\":{\"outlinewidth\":0,\"ticks\":\"\"}}}],\"bar\":[{\"error_x\":{\"color\":\"#2a3f5f\"},\"error_y\":{\"color\":\"#2a3f5f\"},\"marker\":{\"line\":{\"color\":\"#E5ECF6\",\"width\":0.5},\"pattern\":{\"fillmode\":\"overlay\",\"size\":10,\"solidity\":0.2}},\"type\":\"bar\"}],\"scattergeo\":[{\"type\":\"scattergeo\",\"marker\":{\"colorbar\":{\"outlinewidth\":0,\"ticks\":\"\"}}}],\"scatterpolar\":[{\"type\":\"scatterpolar\",\"marker\":{\"colorbar\":{\"outlinewidth\":0,\"ticks\":\"\"}}}],\"histogram\":[{\"marker\":{\"pattern\":{\"fillmode\":\"overlay\",\"size\":10,\"solidity\":0.2}},\"type\":\"histogram\"}],\"scattergl\":[{\"type\":\"scattergl\",\"marker\":{\"colorbar\":{\"outlinewidth\":0,\"ticks\":\"\"}}}],\"scatter3d\":[{\"type\":\"scatter3d\",\"line\":{\"colorbar\":{\"outlinewidth\":0,\"ticks\":\"\"}},\"marker\":{\"colorbar\":{\"outlinewidth\":0,\"ticks\":\"\"}}}],\"scattermapbox\":[{\"type\":\"scattermapbox\",\"marker\":{\"colorbar\":{\"outlinewidth\":0,\"ticks\":\"\"}}}],\"scatterternary\":[{\"type\":\"scatterternary\",\"marker\":{\"colorbar\":{\"outlinewidth\":0,\"ticks\":\"\"}}}],\"scattercarpet\":[{\"type\":\"scattercarpet\",\"marker\":{\"colorbar\":{\"outlinewidth\":0,\"ticks\":\"\"}}}],\"carpet\":[{\"aaxis\":{\"endlinecolor\":\"#2a3f5f\",\"gridcolor\":\"white\",\"linecolor\":\"white\",\"minorgridcolor\":\"white\",\"startlinecolor\":\"#2a3f5f\"},\"baxis\":{\"endlinecolor\":\"#2a3f5f\",\"gridcolor\":\"white\",\"linecolor\":\"white\",\"minorgridcolor\":\"white\",\"startlinecolor\":\"#2a3f5f\"},\"type\":\"carpet\"}],\"table\":[{\"cells\":{\"fill\":{\"color\":\"#EBF0F8\"},\"line\":{\"color\":\"white\"}},\"header\":{\"fill\":{\"color\":\"#C8D4E3\"},\"line\":{\"color\":\"white\"}},\"type\":\"table\"}],\"barpolar\":[{\"marker\":{\"line\":{\"color\":\"#E5ECF6\",\"width\":0.5},\"pattern\":{\"fillmode\":\"overlay\",\"size\":10,\"solidity\":0.2}},\"type\":\"barpolar\"}],\"pie\":[{\"automargin\":true,\"type\":\"pie\"}]},\"layout\":{\"autotypenumbers\":\"strict\",\"colorway\":[\"#636efa\",\"#EF553B\",\"#00cc96\",\"#ab63fa\",\"#FFA15A\",\"#19d3f3\",\"#FF6692\",\"#B6E880\",\"#FF97FF\",\"#FECB52\"],\"font\":{\"color\":\"#2a3f5f\"},\"hovermode\":\"closest\",\"hoverlabel\":{\"align\":\"left\"},\"paper_bgcolor\":\"white\",\"plot_bgcolor\":\"#E5ECF6\",\"polar\":{\"bgcolor\":\"#E5ECF6\",\"angularaxis\":{\"gridcolor\":\"white\",\"linecolor\":\"white\",\"ticks\":\"\"},\"radialaxis\":{\"gridcolor\":\"white\",\"linecolor\":\"white\",\"ticks\":\"\"}},\"ternary\":{\"bgcolor\":\"#E5ECF6\",\"aaxis\":{\"gridcolor\":\"white\",\"linecolor\":\"white\",\"ticks\":\"\"},\"baxis\":{\"gridcolor\":\"white\",\"linecolor\":\"white\",\"ticks\":\"\"},\"caxis\":{\"gridcolor\":\"white\",\"linecolor\":\"white\",\"ticks\":\"\"}},\"coloraxis\":{\"colorbar\":{\"outlinewidth\":0,\"ticks\":\"\"}},\"colorscale\":{\"sequential\":[[0.0,\"#0d0887\"],[0.1111111111111111,\"#46039f\"],[0.2222222222222222,\"#7201a8\"],[0.3333333333333333,\"#9c179e\"],[0.4444444444444444,\"#bd3786\"],[0.5555555555555556,\"#d8576b\"],[0.6666666666666666,\"#ed7953\"],[0.7777777777777778,\"#fb9f3a\"],[0.8888888888888888,\"#fdca26\"],[1.0,\"#f0f921\"]],\"sequentialminus\":[[0.0,\"#0d0887\"],[0.1111111111111111,\"#46039f\"],[0.2222222222222222,\"#7201a8\"],[0.3333333333333333,\"#9c179e\"],[0.4444444444444444,\"#bd3786\"],[0.5555555555555556,\"#d8576b\"],[0.6666666666666666,\"#ed7953\"],[0.7777777777777778,\"#fb9f3a\"],[0.8888888888888888,\"#fdca26\"],[1.0,\"#f0f921\"]],\"diverging\":[[0,\"#8e0152\"],[0.1,\"#c51b7d\"],[0.2,\"#de77ae\"],[0.3,\"#f1b6da\"],[0.4,\"#fde0ef\"],[0.5,\"#f7f7f7\"],[0.6,\"#e6f5d0\"],[0.7,\"#b8e186\"],[0.8,\"#7fbc41\"],[0.9,\"#4d9221\"],[1,\"#276419\"]]},\"xaxis\":{\"gridcolor\":\"white\",\"linecolor\":\"white\",\"ticks\":\"\",\"title\":{\"standoff\":15},\"zerolinecolor\":\"white\",\"automargin\":true,\"zerolinewidth\":2},\"yaxis\":{\"gridcolor\":\"white\",\"linecolor\":\"white\",\"ticks\":\"\",\"title\":{\"standoff\":15},\"zerolinecolor\":\"white\",\"automargin\":true,\"zerolinewidth\":2},\"scene\":{\"xaxis\":{\"backgroundcolor\":\"#E5ECF6\",\"gridcolor\":\"white\",\"linecolor\":\"white\",\"showbackground\":true,\"ticks\":\"\",\"zerolinecolor\":\"white\",\"gridwidth\":2},\"yaxis\":{\"backgroundcolor\":\"#E5ECF6\",\"gridcolor\":\"white\",\"linecolor\":\"white\",\"showbackground\":true,\"ticks\":\"\",\"zerolinecolor\":\"white\",\"gridwidth\":2},\"zaxis\":{\"backgroundcolor\":\"#E5ECF6\",\"gridcolor\":\"white\",\"linecolor\":\"white\",\"showbackground\":true,\"ticks\":\"\",\"zerolinecolor\":\"white\",\"gridwidth\":2}},\"shapedefaults\":{\"line\":{\"color\":\"#2a3f5f\"}},\"annotationdefaults\":{\"arrowcolor\":\"#2a3f5f\",\"arrowhead\":0,\"arrowwidth\":1},\"geo\":{\"bgcolor\":\"white\",\"landcolor\":\"#E5ECF6\",\"subunitcolor\":\"white\",\"showland\":true,\"showlakes\":true,\"lakecolor\":\"white\"},\"title\":{\"x\":0.05},\"mapbox\":{\"style\":\"light\"}}},\"xaxis\":{\"anchor\":\"y\",\"domain\":[0.0,1.0]},\"yaxis\":{\"anchor\":\"x\",\"domain\":[0.0,1.0],\"autorange\":\"reversed\"},\"coloraxis\":{\"colorscale\":[[0.0,\"#0d0887\"],[0.1111111111111111,\"#46039f\"],[0.2222222222222222,\"#7201a8\"],[0.3333333333333333,\"#9c179e\"],[0.4444444444444444,\"#bd3786\"],[0.5555555555555556,\"#d8576b\"],[0.6666666666666666,\"#ed7953\"],[0.7777777777777778,\"#fb9f3a\"],[0.8888888888888888,\"#fdca26\"],[1.0,\"#f0f921\"]]},\"margin\":{\"t\":60},\"height\":900,\"width\":900},                        {\"responsive\": true}                    ).then(function(){\n",
       "                            \n",
       "var gd = document.getElementById('ea6a8169-baf8-493e-a2fb-16c6c9467bc3');\n",
       "var x = new MutationObserver(function (mutations, observer) {{\n",
       "        var display = window.getComputedStyle(gd).display;\n",
       "        if (!display || display === 'none') {{\n",
       "            console.log([gd, 'removed!']);\n",
       "            Plotly.purge(gd);\n",
       "            observer.disconnect();\n",
       "        }}\n",
       "}});\n",
       "\n",
       "// Listen for the removal of the full notebook cells\n",
       "var notebookContainer = gd.closest('#notebook-container');\n",
       "if (notebookContainer) {{\n",
       "    x.observe(notebookContainer, {childList: true});\n",
       "}}\n",
       "\n",
       "// Listen for the clearing of the current output cell\n",
       "var outputEl = gd.closest('.output');\n",
       "if (outputEl) {{\n",
       "    x.observe(outputEl, {childList: true});\n",
       "}}\n",
       "\n",
       "                        })                };                });            </script>        </div>"
      ]
     },
     "metadata": {},
     "output_type": "display_data"
    }
   ],
   "execution_count": 46
  },
  {
   "metadata": {
    "ExecuteTime": {
     "end_time": "2024-09-07T20:07:38.663689Z",
     "start_time": "2024-09-07T20:07:38.568258Z"
    }
   },
   "cell_type": "code",
   "source": [
    "fig = px.imshow(corr_full,\n",
    "                text_auto=True,\n",
    "                aspect=\"auto\",\n",
    "                width=900,\n",
    "                height=900,\n",
    "                color_continuous_scale=[\"green\", \"red\"])\n",
    "\n",
    "fig.update_traces(z=mask, colorscale=[[0, \"green\"], [1, \"red\"]])\n",
    "\n",
    "fig.show()"
   ],
   "id": "28cb36cf248c0a5e",
   "outputs": [
    {
     "data": {
      "application/vnd.plotly.v1+json": {
       "data": [
        {
         "coloraxis": "coloraxis",
         "name": "0",
         "texttemplate": "%{z}",
         "x": [
          "host_response_rate",
          "host_acceptance_rate",
          "price",
          "host_location",
          "host_listings_count",
          "host_total_listings_count",
          "latitude",
          "longitude",
          "accommodates",
          "bathrooms",
          "bedrooms",
          "beds",
          "minimum_nights",
          "maximum_nights",
          "number_of_reviews",
          "review_scores_rating",
          "review_scores_accuracy",
          "review_scores_cleanliness",
          "review_scores_checkin",
          "review_scores_communication",
          "review_scores_location",
          "review_scores_value",
          "reviews_per_month",
          "listing_city_pop"
         ],
         "y": [
          "host_response_rate",
          "host_acceptance_rate",
          "price",
          "host_location",
          "host_listings_count",
          "host_total_listings_count",
          "latitude",
          "longitude",
          "accommodates",
          "bathrooms",
          "bedrooms",
          "beds",
          "minimum_nights",
          "maximum_nights",
          "number_of_reviews",
          "review_scores_rating",
          "review_scores_accuracy",
          "review_scores_cleanliness",
          "review_scores_checkin",
          "review_scores_communication",
          "review_scores_location",
          "review_scores_value",
          "reviews_per_month",
          "listing_city_pop"
         ],
         "z": [
          [
           1,
           0,
           0,
           0,
           0,
           0,
           0,
           0,
           0,
           0,
           0,
           0,
           0,
           0,
           0,
           0,
           0,
           0,
           0,
           0,
           0,
           0,
           0,
           0
          ],
          [
           0,
           1,
           0,
           0,
           0,
           0,
           0,
           0,
           0,
           0,
           0,
           0,
           0,
           0,
           0,
           0,
           0,
           0,
           0,
           0,
           0,
           0,
           0,
           0
          ],
          [
           0,
           0,
           1,
           0,
           0,
           0,
           0,
           0,
           0,
           0,
           0,
           0,
           0,
           0,
           0,
           0,
           0,
           0,
           0,
           0,
           0,
           0,
           0,
           0
          ],
          [
           0,
           0,
           0,
           1,
           0,
           0,
           0,
           0,
           0,
           0,
           0,
           0,
           0,
           0,
           0,
           0,
           0,
           0,
           0,
           0,
           0,
           0,
           0,
           0
          ],
          [
           0,
           0,
           0,
           0,
           1,
           1,
           0,
           0,
           0,
           0,
           0,
           0,
           0,
           0,
           0,
           0,
           0,
           0,
           0,
           0,
           0,
           0,
           0,
           0
          ],
          [
           0,
           0,
           0,
           0,
           1,
           1,
           0,
           0,
           0,
           0,
           0,
           0,
           0,
           0,
           0,
           0,
           0,
           0,
           0,
           0,
           0,
           0,
           0,
           0
          ],
          [
           0,
           0,
           0,
           0,
           0,
           0,
           1,
           0,
           0,
           0,
           0,
           0,
           0,
           0,
           0,
           0,
           0,
           0,
           0,
           0,
           0,
           0,
           0,
           0
          ],
          [
           0,
           0,
           0,
           0,
           0,
           0,
           0,
           1,
           0,
           0,
           0,
           0,
           0,
           0,
           0,
           0,
           0,
           0,
           0,
           0,
           0,
           0,
           0,
           0
          ],
          [
           0,
           0,
           0,
           0,
           0,
           0,
           0,
           0,
           1,
           0,
           1,
           1,
           0,
           0,
           0,
           0,
           0,
           0,
           0,
           0,
           0,
           0,
           0,
           0
          ],
          [
           0,
           0,
           0,
           0,
           0,
           0,
           0,
           0,
           0,
           1,
           0,
           0,
           0,
           0,
           0,
           0,
           0,
           0,
           0,
           0,
           0,
           0,
           0,
           0
          ],
          [
           0,
           0,
           0,
           0,
           0,
           0,
           0,
           0,
           1,
           0,
           1,
           0,
           0,
           0,
           0,
           0,
           0,
           0,
           0,
           0,
           0,
           0,
           0,
           0
          ],
          [
           0,
           0,
           0,
           0,
           0,
           0,
           0,
           0,
           1,
           0,
           0,
           1,
           0,
           0,
           0,
           0,
           0,
           0,
           0,
           0,
           0,
           0,
           0,
           0
          ],
          [
           0,
           0,
           0,
           0,
           0,
           0,
           0,
           0,
           0,
           0,
           0,
           0,
           1,
           0,
           0,
           0,
           0,
           0,
           0,
           0,
           0,
           0,
           0,
           0
          ],
          [
           0,
           0,
           0,
           0,
           0,
           0,
           0,
           0,
           0,
           0,
           0,
           0,
           0,
           1,
           0,
           0,
           0,
           0,
           0,
           0,
           0,
           0,
           0,
           0
          ],
          [
           0,
           0,
           0,
           0,
           0,
           0,
           0,
           0,
           0,
           0,
           0,
           0,
           0,
           0,
           1,
           0,
           0,
           0,
           0,
           0,
           0,
           0,
           0,
           0
          ],
          [
           0,
           0,
           0,
           0,
           0,
           0,
           0,
           0,
           0,
           0,
           0,
           0,
           0,
           0,
           0,
           1,
           1,
           1,
           0,
           1,
           0,
           1,
           0,
           0
          ],
          [
           0,
           0,
           0,
           0,
           0,
           0,
           0,
           0,
           0,
           0,
           0,
           0,
           0,
           0,
           0,
           1,
           1,
           1,
           0,
           0,
           0,
           1,
           0,
           0
          ],
          [
           0,
           0,
           0,
           0,
           0,
           0,
           0,
           0,
           0,
           0,
           0,
           0,
           0,
           0,
           0,
           1,
           1,
           1,
           0,
           0,
           0,
           1,
           0,
           0
          ],
          [
           0,
           0,
           0,
           0,
           0,
           0,
           0,
           0,
           0,
           0,
           0,
           0,
           0,
           0,
           0,
           0,
           0,
           0,
           1,
           1,
           0,
           0,
           0,
           0
          ],
          [
           0,
           0,
           0,
           0,
           0,
           0,
           0,
           0,
           0,
           0,
           0,
           0,
           0,
           0,
           0,
           1,
           0,
           0,
           1,
           1,
           0,
           0,
           0,
           0
          ],
          [
           0,
           0,
           0,
           0,
           0,
           0,
           0,
           0,
           0,
           0,
           0,
           0,
           0,
           0,
           0,
           0,
           0,
           0,
           0,
           0,
           1,
           0,
           0,
           0
          ],
          [
           0,
           0,
           0,
           0,
           0,
           0,
           0,
           0,
           0,
           0,
           0,
           0,
           0,
           0,
           0,
           1,
           1,
           1,
           0,
           0,
           0,
           1,
           0,
           0
          ],
          [
           0,
           0,
           0,
           0,
           0,
           0,
           0,
           0,
           0,
           0,
           0,
           0,
           0,
           0,
           0,
           0,
           0,
           0,
           0,
           0,
           0,
           0,
           1,
           0
          ],
          [
           0,
           0,
           0,
           0,
           0,
           0,
           0,
           0,
           0,
           0,
           0,
           0,
           0,
           0,
           0,
           0,
           0,
           0,
           0,
           0,
           0,
           0,
           0,
           1
          ]
         ],
         "type": "heatmap",
         "xaxis": "x",
         "yaxis": "y",
         "hovertemplate": "x: %{x}<br>y: %{y}<br>color: %{z}<extra></extra>",
         "colorscale": [
          [
           0,
           "green"
          ],
          [
           1,
           "red"
          ]
         ]
        }
       ],
       "layout": {
        "template": {
         "data": {
          "histogram2dcontour": [
           {
            "type": "histogram2dcontour",
            "colorbar": {
             "outlinewidth": 0,
             "ticks": ""
            },
            "colorscale": [
             [
              0.0,
              "#0d0887"
             ],
             [
              0.1111111111111111,
              "#46039f"
             ],
             [
              0.2222222222222222,
              "#7201a8"
             ],
             [
              0.3333333333333333,
              "#9c179e"
             ],
             [
              0.4444444444444444,
              "#bd3786"
             ],
             [
              0.5555555555555556,
              "#d8576b"
             ],
             [
              0.6666666666666666,
              "#ed7953"
             ],
             [
              0.7777777777777778,
              "#fb9f3a"
             ],
             [
              0.8888888888888888,
              "#fdca26"
             ],
             [
              1.0,
              "#f0f921"
             ]
            ]
           }
          ],
          "choropleth": [
           {
            "type": "choropleth",
            "colorbar": {
             "outlinewidth": 0,
             "ticks": ""
            }
           }
          ],
          "histogram2d": [
           {
            "type": "histogram2d",
            "colorbar": {
             "outlinewidth": 0,
             "ticks": ""
            },
            "colorscale": [
             [
              0.0,
              "#0d0887"
             ],
             [
              0.1111111111111111,
              "#46039f"
             ],
             [
              0.2222222222222222,
              "#7201a8"
             ],
             [
              0.3333333333333333,
              "#9c179e"
             ],
             [
              0.4444444444444444,
              "#bd3786"
             ],
             [
              0.5555555555555556,
              "#d8576b"
             ],
             [
              0.6666666666666666,
              "#ed7953"
             ],
             [
              0.7777777777777778,
              "#fb9f3a"
             ],
             [
              0.8888888888888888,
              "#fdca26"
             ],
             [
              1.0,
              "#f0f921"
             ]
            ]
           }
          ],
          "heatmap": [
           {
            "type": "heatmap",
            "colorbar": {
             "outlinewidth": 0,
             "ticks": ""
            },
            "colorscale": [
             [
              0.0,
              "#0d0887"
             ],
             [
              0.1111111111111111,
              "#46039f"
             ],
             [
              0.2222222222222222,
              "#7201a8"
             ],
             [
              0.3333333333333333,
              "#9c179e"
             ],
             [
              0.4444444444444444,
              "#bd3786"
             ],
             [
              0.5555555555555556,
              "#d8576b"
             ],
             [
              0.6666666666666666,
              "#ed7953"
             ],
             [
              0.7777777777777778,
              "#fb9f3a"
             ],
             [
              0.8888888888888888,
              "#fdca26"
             ],
             [
              1.0,
              "#f0f921"
             ]
            ]
           }
          ],
          "heatmapgl": [
           {
            "type": "heatmapgl",
            "colorbar": {
             "outlinewidth": 0,
             "ticks": ""
            },
            "colorscale": [
             [
              0.0,
              "#0d0887"
             ],
             [
              0.1111111111111111,
              "#46039f"
             ],
             [
              0.2222222222222222,
              "#7201a8"
             ],
             [
              0.3333333333333333,
              "#9c179e"
             ],
             [
              0.4444444444444444,
              "#bd3786"
             ],
             [
              0.5555555555555556,
              "#d8576b"
             ],
             [
              0.6666666666666666,
              "#ed7953"
             ],
             [
              0.7777777777777778,
              "#fb9f3a"
             ],
             [
              0.8888888888888888,
              "#fdca26"
             ],
             [
              1.0,
              "#f0f921"
             ]
            ]
           }
          ],
          "contourcarpet": [
           {
            "type": "contourcarpet",
            "colorbar": {
             "outlinewidth": 0,
             "ticks": ""
            }
           }
          ],
          "contour": [
           {
            "type": "contour",
            "colorbar": {
             "outlinewidth": 0,
             "ticks": ""
            },
            "colorscale": [
             [
              0.0,
              "#0d0887"
             ],
             [
              0.1111111111111111,
              "#46039f"
             ],
             [
              0.2222222222222222,
              "#7201a8"
             ],
             [
              0.3333333333333333,
              "#9c179e"
             ],
             [
              0.4444444444444444,
              "#bd3786"
             ],
             [
              0.5555555555555556,
              "#d8576b"
             ],
             [
              0.6666666666666666,
              "#ed7953"
             ],
             [
              0.7777777777777778,
              "#fb9f3a"
             ],
             [
              0.8888888888888888,
              "#fdca26"
             ],
             [
              1.0,
              "#f0f921"
             ]
            ]
           }
          ],
          "surface": [
           {
            "type": "surface",
            "colorbar": {
             "outlinewidth": 0,
             "ticks": ""
            },
            "colorscale": [
             [
              0.0,
              "#0d0887"
             ],
             [
              0.1111111111111111,
              "#46039f"
             ],
             [
              0.2222222222222222,
              "#7201a8"
             ],
             [
              0.3333333333333333,
              "#9c179e"
             ],
             [
              0.4444444444444444,
              "#bd3786"
             ],
             [
              0.5555555555555556,
              "#d8576b"
             ],
             [
              0.6666666666666666,
              "#ed7953"
             ],
             [
              0.7777777777777778,
              "#fb9f3a"
             ],
             [
              0.8888888888888888,
              "#fdca26"
             ],
             [
              1.0,
              "#f0f921"
             ]
            ]
           }
          ],
          "mesh3d": [
           {
            "type": "mesh3d",
            "colorbar": {
             "outlinewidth": 0,
             "ticks": ""
            }
           }
          ],
          "scatter": [
           {
            "fillpattern": {
             "fillmode": "overlay",
             "size": 10,
             "solidity": 0.2
            },
            "type": "scatter"
           }
          ],
          "parcoords": [
           {
            "type": "parcoords",
            "line": {
             "colorbar": {
              "outlinewidth": 0,
              "ticks": ""
             }
            }
           }
          ],
          "scatterpolargl": [
           {
            "type": "scatterpolargl",
            "marker": {
             "colorbar": {
              "outlinewidth": 0,
              "ticks": ""
             }
            }
           }
          ],
          "bar": [
           {
            "error_x": {
             "color": "#2a3f5f"
            },
            "error_y": {
             "color": "#2a3f5f"
            },
            "marker": {
             "line": {
              "color": "#E5ECF6",
              "width": 0.5
             },
             "pattern": {
              "fillmode": "overlay",
              "size": 10,
              "solidity": 0.2
             }
            },
            "type": "bar"
           }
          ],
          "scattergeo": [
           {
            "type": "scattergeo",
            "marker": {
             "colorbar": {
              "outlinewidth": 0,
              "ticks": ""
             }
            }
           }
          ],
          "scatterpolar": [
           {
            "type": "scatterpolar",
            "marker": {
             "colorbar": {
              "outlinewidth": 0,
              "ticks": ""
             }
            }
           }
          ],
          "histogram": [
           {
            "marker": {
             "pattern": {
              "fillmode": "overlay",
              "size": 10,
              "solidity": 0.2
             }
            },
            "type": "histogram"
           }
          ],
          "scattergl": [
           {
            "type": "scattergl",
            "marker": {
             "colorbar": {
              "outlinewidth": 0,
              "ticks": ""
             }
            }
           }
          ],
          "scatter3d": [
           {
            "type": "scatter3d",
            "line": {
             "colorbar": {
              "outlinewidth": 0,
              "ticks": ""
             }
            },
            "marker": {
             "colorbar": {
              "outlinewidth": 0,
              "ticks": ""
             }
            }
           }
          ],
          "scattermapbox": [
           {
            "type": "scattermapbox",
            "marker": {
             "colorbar": {
              "outlinewidth": 0,
              "ticks": ""
             }
            }
           }
          ],
          "scatterternary": [
           {
            "type": "scatterternary",
            "marker": {
             "colorbar": {
              "outlinewidth": 0,
              "ticks": ""
             }
            }
           }
          ],
          "scattercarpet": [
           {
            "type": "scattercarpet",
            "marker": {
             "colorbar": {
              "outlinewidth": 0,
              "ticks": ""
             }
            }
           }
          ],
          "carpet": [
           {
            "aaxis": {
             "endlinecolor": "#2a3f5f",
             "gridcolor": "white",
             "linecolor": "white",
             "minorgridcolor": "white",
             "startlinecolor": "#2a3f5f"
            },
            "baxis": {
             "endlinecolor": "#2a3f5f",
             "gridcolor": "white",
             "linecolor": "white",
             "minorgridcolor": "white",
             "startlinecolor": "#2a3f5f"
            },
            "type": "carpet"
           }
          ],
          "table": [
           {
            "cells": {
             "fill": {
              "color": "#EBF0F8"
             },
             "line": {
              "color": "white"
             }
            },
            "header": {
             "fill": {
              "color": "#C8D4E3"
             },
             "line": {
              "color": "white"
             }
            },
            "type": "table"
           }
          ],
          "barpolar": [
           {
            "marker": {
             "line": {
              "color": "#E5ECF6",
              "width": 0.5
             },
             "pattern": {
              "fillmode": "overlay",
              "size": 10,
              "solidity": 0.2
             }
            },
            "type": "barpolar"
           }
          ],
          "pie": [
           {
            "automargin": true,
            "type": "pie"
           }
          ]
         },
         "layout": {
          "autotypenumbers": "strict",
          "colorway": [
           "#636efa",
           "#EF553B",
           "#00cc96",
           "#ab63fa",
           "#FFA15A",
           "#19d3f3",
           "#FF6692",
           "#B6E880",
           "#FF97FF",
           "#FECB52"
          ],
          "font": {
           "color": "#2a3f5f"
          },
          "hovermode": "closest",
          "hoverlabel": {
           "align": "left"
          },
          "paper_bgcolor": "white",
          "plot_bgcolor": "#E5ECF6",
          "polar": {
           "bgcolor": "#E5ECF6",
           "angularaxis": {
            "gridcolor": "white",
            "linecolor": "white",
            "ticks": ""
           },
           "radialaxis": {
            "gridcolor": "white",
            "linecolor": "white",
            "ticks": ""
           }
          },
          "ternary": {
           "bgcolor": "#E5ECF6",
           "aaxis": {
            "gridcolor": "white",
            "linecolor": "white",
            "ticks": ""
           },
           "baxis": {
            "gridcolor": "white",
            "linecolor": "white",
            "ticks": ""
           },
           "caxis": {
            "gridcolor": "white",
            "linecolor": "white",
            "ticks": ""
           }
          },
          "coloraxis": {
           "colorbar": {
            "outlinewidth": 0,
            "ticks": ""
           }
          },
          "colorscale": {
           "sequential": [
            [
             0.0,
             "#0d0887"
            ],
            [
             0.1111111111111111,
             "#46039f"
            ],
            [
             0.2222222222222222,
             "#7201a8"
            ],
            [
             0.3333333333333333,
             "#9c179e"
            ],
            [
             0.4444444444444444,
             "#bd3786"
            ],
            [
             0.5555555555555556,
             "#d8576b"
            ],
            [
             0.6666666666666666,
             "#ed7953"
            ],
            [
             0.7777777777777778,
             "#fb9f3a"
            ],
            [
             0.8888888888888888,
             "#fdca26"
            ],
            [
             1.0,
             "#f0f921"
            ]
           ],
           "sequentialminus": [
            [
             0.0,
             "#0d0887"
            ],
            [
             0.1111111111111111,
             "#46039f"
            ],
            [
             0.2222222222222222,
             "#7201a8"
            ],
            [
             0.3333333333333333,
             "#9c179e"
            ],
            [
             0.4444444444444444,
             "#bd3786"
            ],
            [
             0.5555555555555556,
             "#d8576b"
            ],
            [
             0.6666666666666666,
             "#ed7953"
            ],
            [
             0.7777777777777778,
             "#fb9f3a"
            ],
            [
             0.8888888888888888,
             "#fdca26"
            ],
            [
             1.0,
             "#f0f921"
            ]
           ],
           "diverging": [
            [
             0,
             "#8e0152"
            ],
            [
             0.1,
             "#c51b7d"
            ],
            [
             0.2,
             "#de77ae"
            ],
            [
             0.3,
             "#f1b6da"
            ],
            [
             0.4,
             "#fde0ef"
            ],
            [
             0.5,
             "#f7f7f7"
            ],
            [
             0.6,
             "#e6f5d0"
            ],
            [
             0.7,
             "#b8e186"
            ],
            [
             0.8,
             "#7fbc41"
            ],
            [
             0.9,
             "#4d9221"
            ],
            [
             1,
             "#276419"
            ]
           ]
          },
          "xaxis": {
           "gridcolor": "white",
           "linecolor": "white",
           "ticks": "",
           "title": {
            "standoff": 15
           },
           "zerolinecolor": "white",
           "automargin": true,
           "zerolinewidth": 2
          },
          "yaxis": {
           "gridcolor": "white",
           "linecolor": "white",
           "ticks": "",
           "title": {
            "standoff": 15
           },
           "zerolinecolor": "white",
           "automargin": true,
           "zerolinewidth": 2
          },
          "scene": {
           "xaxis": {
            "backgroundcolor": "#E5ECF6",
            "gridcolor": "white",
            "linecolor": "white",
            "showbackground": true,
            "ticks": "",
            "zerolinecolor": "white",
            "gridwidth": 2
           },
           "yaxis": {
            "backgroundcolor": "#E5ECF6",
            "gridcolor": "white",
            "linecolor": "white",
            "showbackground": true,
            "ticks": "",
            "zerolinecolor": "white",
            "gridwidth": 2
           },
           "zaxis": {
            "backgroundcolor": "#E5ECF6",
            "gridcolor": "white",
            "linecolor": "white",
            "showbackground": true,
            "ticks": "",
            "zerolinecolor": "white",
            "gridwidth": 2
           }
          },
          "shapedefaults": {
           "line": {
            "color": "#2a3f5f"
           }
          },
          "annotationdefaults": {
           "arrowcolor": "#2a3f5f",
           "arrowhead": 0,
           "arrowwidth": 1
          },
          "geo": {
           "bgcolor": "white",
           "landcolor": "#E5ECF6",
           "subunitcolor": "white",
           "showland": true,
           "showlakes": true,
           "lakecolor": "white"
          },
          "title": {
           "x": 0.05
          },
          "mapbox": {
           "style": "light"
          }
         }
        },
        "xaxis": {
         "anchor": "y",
         "domain": [
          0.0,
          1.0
         ]
        },
        "yaxis": {
         "anchor": "x",
         "domain": [
          0.0,
          1.0
         ],
         "autorange": "reversed"
        },
        "coloraxis": {
         "colorscale": [
          [
           0.0,
           "green"
          ],
          [
           1.0,
           "red"
          ]
         ]
        },
        "margin": {
         "t": 60
        },
        "height": 900,
        "width": 900
       },
       "config": {
        "plotlyServerURL": "https://plot.ly"
       }
      },
      "text/html": [
       "<div>                            <div id=\"dc25afa0-2ba0-4923-8d22-3a48573f9b5d\" class=\"plotly-graph-div\" style=\"height:900px; width:900px;\"></div>            <script type=\"text/javascript\">                require([\"plotly\"], function(Plotly) {                    window.PLOTLYENV=window.PLOTLYENV || {};                                    if (document.getElementById(\"dc25afa0-2ba0-4923-8d22-3a48573f9b5d\")) {                    Plotly.newPlot(                        \"dc25afa0-2ba0-4923-8d22-3a48573f9b5d\",                        [{\"coloraxis\":\"coloraxis\",\"name\":\"0\",\"texttemplate\":\"%{z}\",\"x\":[\"host_response_rate\",\"host_acceptance_rate\",\"price\",\"host_location\",\"host_listings_count\",\"host_total_listings_count\",\"latitude\",\"longitude\",\"accommodates\",\"bathrooms\",\"bedrooms\",\"beds\",\"minimum_nights\",\"maximum_nights\",\"number_of_reviews\",\"review_scores_rating\",\"review_scores_accuracy\",\"review_scores_cleanliness\",\"review_scores_checkin\",\"review_scores_communication\",\"review_scores_location\",\"review_scores_value\",\"reviews_per_month\",\"listing_city_pop\"],\"y\":[\"host_response_rate\",\"host_acceptance_rate\",\"price\",\"host_location\",\"host_listings_count\",\"host_total_listings_count\",\"latitude\",\"longitude\",\"accommodates\",\"bathrooms\",\"bedrooms\",\"beds\",\"minimum_nights\",\"maximum_nights\",\"number_of_reviews\",\"review_scores_rating\",\"review_scores_accuracy\",\"review_scores_cleanliness\",\"review_scores_checkin\",\"review_scores_communication\",\"review_scores_location\",\"review_scores_value\",\"reviews_per_month\",\"listing_city_pop\"],\"z\":[[1,0,0,0,0,0,0,0,0,0,0,0,0,0,0,0,0,0,0,0,0,0,0,0],[0,1,0,0,0,0,0,0,0,0,0,0,0,0,0,0,0,0,0,0,0,0,0,0],[0,0,1,0,0,0,0,0,0,0,0,0,0,0,0,0,0,0,0,0,0,0,0,0],[0,0,0,1,0,0,0,0,0,0,0,0,0,0,0,0,0,0,0,0,0,0,0,0],[0,0,0,0,1,1,0,0,0,0,0,0,0,0,0,0,0,0,0,0,0,0,0,0],[0,0,0,0,1,1,0,0,0,0,0,0,0,0,0,0,0,0,0,0,0,0,0,0],[0,0,0,0,0,0,1,0,0,0,0,0,0,0,0,0,0,0,0,0,0,0,0,0],[0,0,0,0,0,0,0,1,0,0,0,0,0,0,0,0,0,0,0,0,0,0,0,0],[0,0,0,0,0,0,0,0,1,0,1,1,0,0,0,0,0,0,0,0,0,0,0,0],[0,0,0,0,0,0,0,0,0,1,0,0,0,0,0,0,0,0,0,0,0,0,0,0],[0,0,0,0,0,0,0,0,1,0,1,0,0,0,0,0,0,0,0,0,0,0,0,0],[0,0,0,0,0,0,0,0,1,0,0,1,0,0,0,0,0,0,0,0,0,0,0,0],[0,0,0,0,0,0,0,0,0,0,0,0,1,0,0,0,0,0,0,0,0,0,0,0],[0,0,0,0,0,0,0,0,0,0,0,0,0,1,0,0,0,0,0,0,0,0,0,0],[0,0,0,0,0,0,0,0,0,0,0,0,0,0,1,0,0,0,0,0,0,0,0,0],[0,0,0,0,0,0,0,0,0,0,0,0,0,0,0,1,1,1,0,1,0,1,0,0],[0,0,0,0,0,0,0,0,0,0,0,0,0,0,0,1,1,1,0,0,0,1,0,0],[0,0,0,0,0,0,0,0,0,0,0,0,0,0,0,1,1,1,0,0,0,1,0,0],[0,0,0,0,0,0,0,0,0,0,0,0,0,0,0,0,0,0,1,1,0,0,0,0],[0,0,0,0,0,0,0,0,0,0,0,0,0,0,0,1,0,0,1,1,0,0,0,0],[0,0,0,0,0,0,0,0,0,0,0,0,0,0,0,0,0,0,0,0,1,0,0,0],[0,0,0,0,0,0,0,0,0,0,0,0,0,0,0,1,1,1,0,0,0,1,0,0],[0,0,0,0,0,0,0,0,0,0,0,0,0,0,0,0,0,0,0,0,0,0,1,0],[0,0,0,0,0,0,0,0,0,0,0,0,0,0,0,0,0,0,0,0,0,0,0,1]],\"type\":\"heatmap\",\"xaxis\":\"x\",\"yaxis\":\"y\",\"hovertemplate\":\"x: %{x}\\u003cbr\\u003ey: %{y}\\u003cbr\\u003ecolor: %{z}\\u003cextra\\u003e\\u003c\\u002fextra\\u003e\",\"colorscale\":[[0,\"green\"],[1,\"red\"]]}],                        {\"template\":{\"data\":{\"histogram2dcontour\":[{\"type\":\"histogram2dcontour\",\"colorbar\":{\"outlinewidth\":0,\"ticks\":\"\"},\"colorscale\":[[0.0,\"#0d0887\"],[0.1111111111111111,\"#46039f\"],[0.2222222222222222,\"#7201a8\"],[0.3333333333333333,\"#9c179e\"],[0.4444444444444444,\"#bd3786\"],[0.5555555555555556,\"#d8576b\"],[0.6666666666666666,\"#ed7953\"],[0.7777777777777778,\"#fb9f3a\"],[0.8888888888888888,\"#fdca26\"],[1.0,\"#f0f921\"]]}],\"choropleth\":[{\"type\":\"choropleth\",\"colorbar\":{\"outlinewidth\":0,\"ticks\":\"\"}}],\"histogram2d\":[{\"type\":\"histogram2d\",\"colorbar\":{\"outlinewidth\":0,\"ticks\":\"\"},\"colorscale\":[[0.0,\"#0d0887\"],[0.1111111111111111,\"#46039f\"],[0.2222222222222222,\"#7201a8\"],[0.3333333333333333,\"#9c179e\"],[0.4444444444444444,\"#bd3786\"],[0.5555555555555556,\"#d8576b\"],[0.6666666666666666,\"#ed7953\"],[0.7777777777777778,\"#fb9f3a\"],[0.8888888888888888,\"#fdca26\"],[1.0,\"#f0f921\"]]}],\"heatmap\":[{\"type\":\"heatmap\",\"colorbar\":{\"outlinewidth\":0,\"ticks\":\"\"},\"colorscale\":[[0.0,\"#0d0887\"],[0.1111111111111111,\"#46039f\"],[0.2222222222222222,\"#7201a8\"],[0.3333333333333333,\"#9c179e\"],[0.4444444444444444,\"#bd3786\"],[0.5555555555555556,\"#d8576b\"],[0.6666666666666666,\"#ed7953\"],[0.7777777777777778,\"#fb9f3a\"],[0.8888888888888888,\"#fdca26\"],[1.0,\"#f0f921\"]]}],\"heatmapgl\":[{\"type\":\"heatmapgl\",\"colorbar\":{\"outlinewidth\":0,\"ticks\":\"\"},\"colorscale\":[[0.0,\"#0d0887\"],[0.1111111111111111,\"#46039f\"],[0.2222222222222222,\"#7201a8\"],[0.3333333333333333,\"#9c179e\"],[0.4444444444444444,\"#bd3786\"],[0.5555555555555556,\"#d8576b\"],[0.6666666666666666,\"#ed7953\"],[0.7777777777777778,\"#fb9f3a\"],[0.8888888888888888,\"#fdca26\"],[1.0,\"#f0f921\"]]}],\"contourcarpet\":[{\"type\":\"contourcarpet\",\"colorbar\":{\"outlinewidth\":0,\"ticks\":\"\"}}],\"contour\":[{\"type\":\"contour\",\"colorbar\":{\"outlinewidth\":0,\"ticks\":\"\"},\"colorscale\":[[0.0,\"#0d0887\"],[0.1111111111111111,\"#46039f\"],[0.2222222222222222,\"#7201a8\"],[0.3333333333333333,\"#9c179e\"],[0.4444444444444444,\"#bd3786\"],[0.5555555555555556,\"#d8576b\"],[0.6666666666666666,\"#ed7953\"],[0.7777777777777778,\"#fb9f3a\"],[0.8888888888888888,\"#fdca26\"],[1.0,\"#f0f921\"]]}],\"surface\":[{\"type\":\"surface\",\"colorbar\":{\"outlinewidth\":0,\"ticks\":\"\"},\"colorscale\":[[0.0,\"#0d0887\"],[0.1111111111111111,\"#46039f\"],[0.2222222222222222,\"#7201a8\"],[0.3333333333333333,\"#9c179e\"],[0.4444444444444444,\"#bd3786\"],[0.5555555555555556,\"#d8576b\"],[0.6666666666666666,\"#ed7953\"],[0.7777777777777778,\"#fb9f3a\"],[0.8888888888888888,\"#fdca26\"],[1.0,\"#f0f921\"]]}],\"mesh3d\":[{\"type\":\"mesh3d\",\"colorbar\":{\"outlinewidth\":0,\"ticks\":\"\"}}],\"scatter\":[{\"fillpattern\":{\"fillmode\":\"overlay\",\"size\":10,\"solidity\":0.2},\"type\":\"scatter\"}],\"parcoords\":[{\"type\":\"parcoords\",\"line\":{\"colorbar\":{\"outlinewidth\":0,\"ticks\":\"\"}}}],\"scatterpolargl\":[{\"type\":\"scatterpolargl\",\"marker\":{\"colorbar\":{\"outlinewidth\":0,\"ticks\":\"\"}}}],\"bar\":[{\"error_x\":{\"color\":\"#2a3f5f\"},\"error_y\":{\"color\":\"#2a3f5f\"},\"marker\":{\"line\":{\"color\":\"#E5ECF6\",\"width\":0.5},\"pattern\":{\"fillmode\":\"overlay\",\"size\":10,\"solidity\":0.2}},\"type\":\"bar\"}],\"scattergeo\":[{\"type\":\"scattergeo\",\"marker\":{\"colorbar\":{\"outlinewidth\":0,\"ticks\":\"\"}}}],\"scatterpolar\":[{\"type\":\"scatterpolar\",\"marker\":{\"colorbar\":{\"outlinewidth\":0,\"ticks\":\"\"}}}],\"histogram\":[{\"marker\":{\"pattern\":{\"fillmode\":\"overlay\",\"size\":10,\"solidity\":0.2}},\"type\":\"histogram\"}],\"scattergl\":[{\"type\":\"scattergl\",\"marker\":{\"colorbar\":{\"outlinewidth\":0,\"ticks\":\"\"}}}],\"scatter3d\":[{\"type\":\"scatter3d\",\"line\":{\"colorbar\":{\"outlinewidth\":0,\"ticks\":\"\"}},\"marker\":{\"colorbar\":{\"outlinewidth\":0,\"ticks\":\"\"}}}],\"scattermapbox\":[{\"type\":\"scattermapbox\",\"marker\":{\"colorbar\":{\"outlinewidth\":0,\"ticks\":\"\"}}}],\"scatterternary\":[{\"type\":\"scatterternary\",\"marker\":{\"colorbar\":{\"outlinewidth\":0,\"ticks\":\"\"}}}],\"scattercarpet\":[{\"type\":\"scattercarpet\",\"marker\":{\"colorbar\":{\"outlinewidth\":0,\"ticks\":\"\"}}}],\"carpet\":[{\"aaxis\":{\"endlinecolor\":\"#2a3f5f\",\"gridcolor\":\"white\",\"linecolor\":\"white\",\"minorgridcolor\":\"white\",\"startlinecolor\":\"#2a3f5f\"},\"baxis\":{\"endlinecolor\":\"#2a3f5f\",\"gridcolor\":\"white\",\"linecolor\":\"white\",\"minorgridcolor\":\"white\",\"startlinecolor\":\"#2a3f5f\"},\"type\":\"carpet\"}],\"table\":[{\"cells\":{\"fill\":{\"color\":\"#EBF0F8\"},\"line\":{\"color\":\"white\"}},\"header\":{\"fill\":{\"color\":\"#C8D4E3\"},\"line\":{\"color\":\"white\"}},\"type\":\"table\"}],\"barpolar\":[{\"marker\":{\"line\":{\"color\":\"#E5ECF6\",\"width\":0.5},\"pattern\":{\"fillmode\":\"overlay\",\"size\":10,\"solidity\":0.2}},\"type\":\"barpolar\"}],\"pie\":[{\"automargin\":true,\"type\":\"pie\"}]},\"layout\":{\"autotypenumbers\":\"strict\",\"colorway\":[\"#636efa\",\"#EF553B\",\"#00cc96\",\"#ab63fa\",\"#FFA15A\",\"#19d3f3\",\"#FF6692\",\"#B6E880\",\"#FF97FF\",\"#FECB52\"],\"font\":{\"color\":\"#2a3f5f\"},\"hovermode\":\"closest\",\"hoverlabel\":{\"align\":\"left\"},\"paper_bgcolor\":\"white\",\"plot_bgcolor\":\"#E5ECF6\",\"polar\":{\"bgcolor\":\"#E5ECF6\",\"angularaxis\":{\"gridcolor\":\"white\",\"linecolor\":\"white\",\"ticks\":\"\"},\"radialaxis\":{\"gridcolor\":\"white\",\"linecolor\":\"white\",\"ticks\":\"\"}},\"ternary\":{\"bgcolor\":\"#E5ECF6\",\"aaxis\":{\"gridcolor\":\"white\",\"linecolor\":\"white\",\"ticks\":\"\"},\"baxis\":{\"gridcolor\":\"white\",\"linecolor\":\"white\",\"ticks\":\"\"},\"caxis\":{\"gridcolor\":\"white\",\"linecolor\":\"white\",\"ticks\":\"\"}},\"coloraxis\":{\"colorbar\":{\"outlinewidth\":0,\"ticks\":\"\"}},\"colorscale\":{\"sequential\":[[0.0,\"#0d0887\"],[0.1111111111111111,\"#46039f\"],[0.2222222222222222,\"#7201a8\"],[0.3333333333333333,\"#9c179e\"],[0.4444444444444444,\"#bd3786\"],[0.5555555555555556,\"#d8576b\"],[0.6666666666666666,\"#ed7953\"],[0.7777777777777778,\"#fb9f3a\"],[0.8888888888888888,\"#fdca26\"],[1.0,\"#f0f921\"]],\"sequentialminus\":[[0.0,\"#0d0887\"],[0.1111111111111111,\"#46039f\"],[0.2222222222222222,\"#7201a8\"],[0.3333333333333333,\"#9c179e\"],[0.4444444444444444,\"#bd3786\"],[0.5555555555555556,\"#d8576b\"],[0.6666666666666666,\"#ed7953\"],[0.7777777777777778,\"#fb9f3a\"],[0.8888888888888888,\"#fdca26\"],[1.0,\"#f0f921\"]],\"diverging\":[[0,\"#8e0152\"],[0.1,\"#c51b7d\"],[0.2,\"#de77ae\"],[0.3,\"#f1b6da\"],[0.4,\"#fde0ef\"],[0.5,\"#f7f7f7\"],[0.6,\"#e6f5d0\"],[0.7,\"#b8e186\"],[0.8,\"#7fbc41\"],[0.9,\"#4d9221\"],[1,\"#276419\"]]},\"xaxis\":{\"gridcolor\":\"white\",\"linecolor\":\"white\",\"ticks\":\"\",\"title\":{\"standoff\":15},\"zerolinecolor\":\"white\",\"automargin\":true,\"zerolinewidth\":2},\"yaxis\":{\"gridcolor\":\"white\",\"linecolor\":\"white\",\"ticks\":\"\",\"title\":{\"standoff\":15},\"zerolinecolor\":\"white\",\"automargin\":true,\"zerolinewidth\":2},\"scene\":{\"xaxis\":{\"backgroundcolor\":\"#E5ECF6\",\"gridcolor\":\"white\",\"linecolor\":\"white\",\"showbackground\":true,\"ticks\":\"\",\"zerolinecolor\":\"white\",\"gridwidth\":2},\"yaxis\":{\"backgroundcolor\":\"#E5ECF6\",\"gridcolor\":\"white\",\"linecolor\":\"white\",\"showbackground\":true,\"ticks\":\"\",\"zerolinecolor\":\"white\",\"gridwidth\":2},\"zaxis\":{\"backgroundcolor\":\"#E5ECF6\",\"gridcolor\":\"white\",\"linecolor\":\"white\",\"showbackground\":true,\"ticks\":\"\",\"zerolinecolor\":\"white\",\"gridwidth\":2}},\"shapedefaults\":{\"line\":{\"color\":\"#2a3f5f\"}},\"annotationdefaults\":{\"arrowcolor\":\"#2a3f5f\",\"arrowhead\":0,\"arrowwidth\":1},\"geo\":{\"bgcolor\":\"white\",\"landcolor\":\"#E5ECF6\",\"subunitcolor\":\"white\",\"showland\":true,\"showlakes\":true,\"lakecolor\":\"white\"},\"title\":{\"x\":0.05},\"mapbox\":{\"style\":\"light\"}}},\"xaxis\":{\"anchor\":\"y\",\"domain\":[0.0,1.0]},\"yaxis\":{\"anchor\":\"x\",\"domain\":[0.0,1.0],\"autorange\":\"reversed\"},\"coloraxis\":{\"colorscale\":[[0.0,\"green\"],[1.0,\"red\"]]},\"margin\":{\"t\":60},\"height\":900,\"width\":900},                        {\"responsive\": true}                    ).then(function(){\n",
       "                            \n",
       "var gd = document.getElementById('dc25afa0-2ba0-4923-8d22-3a48573f9b5d');\n",
       "var x = new MutationObserver(function (mutations, observer) {{\n",
       "        var display = window.getComputedStyle(gd).display;\n",
       "        if (!display || display === 'none') {{\n",
       "            console.log([gd, 'removed!']);\n",
       "            Plotly.purge(gd);\n",
       "            observer.disconnect();\n",
       "        }}\n",
       "}});\n",
       "\n",
       "// Listen for the removal of the full notebook cells\n",
       "var notebookContainer = gd.closest('#notebook-container');\n",
       "if (notebookContainer) {{\n",
       "    x.observe(notebookContainer, {childList: true});\n",
       "}}\n",
       "\n",
       "// Listen for the clearing of the current output cell\n",
       "var outputEl = gd.closest('.output');\n",
       "if (outputEl) {{\n",
       "    x.observe(outputEl, {childList: true});\n",
       "}}\n",
       "\n",
       "                        })                };                });            </script>        </div>"
      ]
     },
     "metadata": {},
     "output_type": "display_data"
    }
   ],
   "execution_count": 47
  },
  {
   "metadata": {},
   "cell_type": "markdown",
   "source": "### Create some features",
   "id": "82f8932ffee0866c"
  },
  {
   "metadata": {
    "ExecuteTime": {
     "end_time": "2024-09-07T20:07:53.605932Z",
     "start_time": "2024-09-07T20:07:53.597464Z"
    }
   },
   "cell_type": "code",
   "source": "df[\"beds_for_bedroom\"] = df[\"beds\"] / df[\"bedrooms\"]",
   "id": "4821b40fdaa29de",
   "outputs": [],
   "execution_count": 48
  },
  {
   "metadata": {},
   "cell_type": "markdown",
   "source": "### Drop highly correlates",
   "id": "dc247939f16ce7ac"
  },
  {
   "metadata": {
    "ExecuteTime": {
     "end_time": "2024-09-07T20:14:03.329305Z",
     "start_time": "2024-09-07T20:14:03.319803Z"
    }
   },
   "cell_type": "code",
   "source": [
    "numerical_features = [\n",
    "    \"beds_for_bedroom\",\n",
    "    'host_response_rate',\n",
    "    'host_acceptance_rate',\n",
    "    'price',\n",
    "    'host_location',\n",
    "    'host_listings_count',\n",
    "    'latitude',\n",
    "    'longitude',\n",
    "    'accommodates',\n",
    "    'bathrooms',\n",
    "    'minimum_nights',\n",
    "    'maximum_nights',\n",
    "    'number_of_reviews',\n",
    "    'review_scores_rating',\n",
    "    'review_scores_checkin',\n",
    "    'review_scores_location',\n",
    "    'review_scores_value',\n",
    "    'reviews_per_month',\n",
    "    'listing_city_pop',\n",
    "]"
   ],
   "id": "d0b0a96bc24169cb",
   "outputs": [],
   "execution_count": 58
  },
  {
   "metadata": {
    "ExecuteTime": {
     "end_time": "2024-09-07T20:14:06.073764Z",
     "start_time": "2024-09-07T20:14:05.729015Z"
    }
   },
   "cell_type": "code",
   "source": [
    "df_corr = df.copy()\n",
    "corr_full = df_corr[numerical_features].corr()\n",
    "\n",
    "fig = px.imshow(corr_full,\n",
    "                text_auto=True,\n",
    "                aspect=\"auto\",\n",
    "                width=900,\n",
    "                height=900\n",
    "                )\n",
    "\n",
    "fig.show()"
   ],
   "id": "598e3fc36e5355ec",
   "outputs": [
    {
     "data": {
      "application/vnd.plotly.v1+json": {
       "data": [
        {
         "coloraxis": "coloraxis",
         "name": "0",
         "texttemplate": "%{z}",
         "x": [
          "beds_for_bedroom",
          "host_response_rate",
          "host_acceptance_rate",
          "price",
          "host_location",
          "host_listings_count",
          "latitude",
          "longitude",
          "accommodates",
          "bathrooms",
          "minimum_nights",
          "maximum_nights",
          "number_of_reviews",
          "review_scores_rating",
          "review_scores_checkin",
          "review_scores_location",
          "review_scores_value",
          "reviews_per_month",
          "listing_city_pop"
         ],
         "y": [
          "beds_for_bedroom",
          "host_response_rate",
          "host_acceptance_rate",
          "price",
          "host_location",
          "host_listings_count",
          "latitude",
          "longitude",
          "accommodates",
          "bathrooms",
          "minimum_nights",
          "maximum_nights",
          "number_of_reviews",
          "review_scores_rating",
          "review_scores_checkin",
          "review_scores_location",
          "review_scores_value",
          "reviews_per_month",
          "listing_city_pop"
         ],
         "z": [
          [
           1.0,
           0.01349720135213927,
           0.028056654291458878,
           0.006527789373312034,
           -6.708893389954971E-4,
           0.04720598148236629,
           -0.005180258138728748,
           0.022347175895257376,
           0.2647160718303844,
           0.006269915130478933,
           -0.004544594182566002,
           0.04953292726032488,
           0.04618672266929014,
           -0.044175367949799885,
           -0.029664220743395954,
           -0.012916643799997572,
           -0.02121194538465889,
           -0.049485297130650086,
           -0.033304820263481694
          ],
          [
           0.01349720135213927,
           1.0,
           0.4886369054802641,
           0.0015084621969513488,
           -0.022566766051814503,
           0.03246530665118959,
           -0.008809387417326972,
           0.024336702559697467,
           0.05504384483440084,
           0.019534424290073977,
           -0.02460799465576236,
           -0.050720642631613785,
           0.09242795051413072,
           0.08430678539654198,
           0.0693462478853297,
           0.07385503605184893,
           0.07470961878795868,
           0.15901824501659154,
           -0.008275578907088282
          ],
          [
           0.028056654291458878,
           0.4886369054802641,
           1.0,
           0.023176389646013058,
           -0.020620316327518384,
           0.10301534443022972,
           -0.043373171634425424,
           0.07511289704772767,
           0.0993020899131039,
           0.025924323379087916,
           -0.0692047018027056,
           -0.03841483128946748,
           0.14789865473167368,
           0.02269405307408542,
           -0.005017550733126197,
           0.06492309673092679,
           0.032297854104716944,
           0.2541030573877237,
           -0.016302904563936918
          ],
          [
           0.006527789373312034,
           0.0015084621969513488,
           0.023176389646013058,
           1.0,
           -0.0014938694498979864,
           0.0067548967587932815,
           0.004956673802506731,
           -0.001788430601310225,
           0.10618332344572011,
           0.11669562056606868,
           -0.0037416793777904443,
           0.02200947055870091,
           -0.016236351413545687,
           0.00590378282707245,
           -0.0032635298259141164,
           0.02981062859994066,
           0.005136582494564193,
           -0.02382906042425688,
           0.006087141443071527
          ],
          [
           -6.708893389954971E-4,
           -0.022566766051814503,
           -0.020620316327518384,
           -0.0014938694498979864,
           1.0,
           0.006157308974990603,
           1.4815330493803637E-4,
           -7.743006414804852E-6,
           0.0027413554173706957,
           0.012150067901738122,
           0.01861734958377958,
           0.010609427796819204,
           -0.01755626020193517,
           -0.0072184116979576735,
           -0.010968059819245238,
           -0.005466062336179099,
           -0.0062536376208670525,
           -0.027632739883355018,
           -0.005568704728916394
          ],
          [
           0.04720598148236629,
           0.03246530665118959,
           0.10301534443022972,
           0.0067548967587932815,
           0.006157308974990603,
           1.0,
           0.09044148811932975,
           -0.11293103170017185,
           0.040883912877636375,
           0.021013793294632394,
           -0.017689482748727895,
           0.08719577533686369,
           -0.08828486158629632,
           -0.24730393630525246,
           -0.23948558647055687,
           -0.07190993845113593,
           -0.2320252682078073,
           -0.07795042509524648,
           0.06484923337443446
          ],
          [
           -0.005180258138728748,
           -0.008809387417326972,
           -0.043373171634425424,
           0.004956673802506731,
           1.4815330493803637E-4,
           0.09044148811932975,
           1.0,
           -0.8462246316044727,
           -0.08393579545546116,
           -0.058487878937161834,
           0.013243976366953368,
           0.007451350741983887,
           -0.016214285573597272,
           -0.02793980613352296,
           -0.049755441187872125,
           0.03244383346989158,
           -0.06341674542312666,
           0.0074491857226761425,
           0.07014301750436919
          ],
          [
           0.022347175895257376,
           0.024336702559697467,
           0.07511289704772767,
           -0.001788430601310225,
           -7.743006414804852E-6,
           -0.11293103170017185,
           -0.8462246316044727,
           1.0,
           0.10762166868354635,
           0.0749607950483316,
           -0.023217423376180636,
           0.01551200536846373,
           0.07598083278801183,
           0.02658479715156174,
           0.04818093022367083,
           0.011629936392806805,
           0.06557789363799445,
           0.0025161902882684635,
           -0.2573977556433282
          ],
          [
           0.2647160718303844,
           0.05504384483440084,
           0.0993020899131039,
           0.10618332344572011,
           0.0027413554173706957,
           0.040883912877636375,
           -0.08393579545546116,
           0.10762166868354635,
           1.0,
           0.5810567484005478,
           -0.02369218479875809,
           0.041545542843966034,
           -0.009732842909714358,
           0.0011230792733840727,
           -0.003217026218988272,
           0.04145721441408701,
           0.030461664573035216,
           -0.014892097127400777,
           -0.05457922854122641
          ],
          [
           0.006269915130478933,
           0.019534424290073977,
           0.025924323379087916,
           0.11669562056606868,
           0.012150067901738122,
           0.021013793294632394,
           -0.058487878937161834,
           0.0749607950483316,
           0.5810567484005478,
           1.0,
           0.0015955302339672544,
           0.038638413578969605,
           -0.011674991189337349,
           0.021916487261706787,
           0.011720356867679804,
           0.05630707465311772,
           0.036267759751864165,
           -0.042269068783755984,
           -0.018084553697911482
          ],
          [
           -0.004544594182566002,
           -0.02460799465576236,
           -0.0692047018027056,
           -0.0037416793777904443,
           0.01861734958377958,
           -0.017689482748727895,
           0.013243976366953368,
           -0.023217423376180636,
           -0.02369218479875809,
           0.0015955302339672544,
           1.0,
           0.026241668459534132,
           -0.018454527981053712,
           -0.004155765757208905,
           0.00594368033812498,
           -0.003212966881097703,
           -0.0013354012488824077,
           -0.04911859129248391,
           0.004719909305368321
          ],
          [
           0.04953292726032488,
           -0.050720642631613785,
           -0.03841483128946748,
           0.02200947055870091,
           0.010609427796819204,
           0.08719577533686369,
           0.007451350741983887,
           0.01551200536846373,
           0.041545542843966034,
           0.038638413578969605,
           0.026241668459534132,
           1.0,
           0.037741403387827575,
           -0.08911061950331926,
           -0.06467758262062528,
           -0.009150703302037998,
           -0.06999872366610686,
           -0.10892980531855485,
           0.003822154155004926
          ],
          [
           0.04618672266929014,
           0.09242795051413072,
           0.14789865473167368,
           -0.016236351413545687,
           -0.01755626020193517,
           -0.08828486158629632,
           -0.016214285573597272,
           0.07598083278801183,
           -0.009732842909714358,
           -0.011674991189337349,
           -0.018454527981053712,
           0.037741403387827575,
           1.0,
           0.08102579389780366,
           0.09793157358457145,
           0.10592675285177088,
           0.12887534368627024,
           0.47586558115776756,
           0.016909407195727394
          ],
          [
           -0.044175367949799885,
           0.08430678539654198,
           0.02269405307408542,
           0.00590378282707245,
           -0.0072184116979576735,
           -0.24730393630525246,
           -0.02793980613352296,
           0.02658479715156174,
           0.0011230792733840727,
           0.021916487261706787,
           -0.004155765757208905,
           -0.08911061950331926,
           0.08102579389780366,
           1.0,
           0.6924759842684574,
           0.5064484571189378,
           0.8319222475918578,
           0.14206247358796098,
           -0.028257659259975088
          ],
          [
           -0.029664220743395954,
           0.0693462478853297,
           -0.005017550733126197,
           -0.0032635298259141164,
           -0.010968059819245238,
           -0.23948558647055687,
           -0.049755441187872125,
           0.04818093022367083,
           -0.003217026218988272,
           0.011720356867679804,
           0.00594368033812498,
           -0.06467758262062528,
           0.09793157358457145,
           0.6924759842684574,
           1.0,
           0.42841716392214696,
           0.6348993635337286,
           0.10715532624858821,
           -0.02364061926219788
          ],
          [
           -0.012916643799997572,
           0.07385503605184893,
           0.06492309673092679,
           0.02981062859994066,
           -0.005466062336179099,
           -0.07190993845113593,
           0.03244383346989158,
           0.011629936392806805,
           0.04145721441408701,
           0.05630707465311772,
           -0.003212966881097703,
           -0.009150703302037998,
           0.10592675285177088,
           0.5064484571189378,
           0.42841716392214696,
           1.0,
           0.5168624442537889,
           0.09230081606825286,
           0.027576032154928213
          ],
          [
           -0.02121194538465889,
           0.07470961878795868,
           0.032297854104716944,
           0.005136582494564193,
           -0.0062536376208670525,
           -0.2320252682078073,
           -0.06341674542312666,
           0.06557789363799445,
           0.030461664573035216,
           0.036267759751864165,
           -0.0013354012488824077,
           -0.06999872366610686,
           0.12887534368627024,
           0.8319222475918578,
           0.6348993635337286,
           0.5168624442537889,
           1.0,
           0.15719216746227407,
           -0.03812515054582032
          ],
          [
           -0.049485297130650086,
           0.15901824501659154,
           0.2541030573877237,
           -0.02382906042425688,
           -0.027632739883355018,
           -0.07795042509524648,
           0.0074491857226761425,
           0.0025161902882684635,
           -0.014892097127400777,
           -0.042269068783755984,
           -0.04911859129248391,
           -0.10892980531855485,
           0.47586558115776756,
           0.14206247358796098,
           0.10715532624858821,
           0.09230081606825286,
           0.15719216746227407,
           1.0,
           0.049342438619084016
          ],
          [
           -0.033304820263481694,
           -0.008275578907088282,
           -0.016302904563936918,
           0.006087141443071527,
           -0.005568704728916394,
           0.06484923337443446,
           0.07014301750436919,
           -0.2573977556433282,
           -0.05457922854122641,
           -0.018084553697911482,
           0.004719909305368321,
           0.003822154155004926,
           0.016909407195727394,
           -0.028257659259975088,
           -0.02364061926219788,
           0.027576032154928213,
           -0.03812515054582032,
           0.049342438619084016,
           1.0
          ]
         ],
         "type": "heatmap",
         "xaxis": "x",
         "yaxis": "y",
         "hovertemplate": "x: %{x}<br>y: %{y}<br>color: %{z}<extra></extra>"
        }
       ],
       "layout": {
        "template": {
         "data": {
          "histogram2dcontour": [
           {
            "type": "histogram2dcontour",
            "colorbar": {
             "outlinewidth": 0,
             "ticks": ""
            },
            "colorscale": [
             [
              0.0,
              "#0d0887"
             ],
             [
              0.1111111111111111,
              "#46039f"
             ],
             [
              0.2222222222222222,
              "#7201a8"
             ],
             [
              0.3333333333333333,
              "#9c179e"
             ],
             [
              0.4444444444444444,
              "#bd3786"
             ],
             [
              0.5555555555555556,
              "#d8576b"
             ],
             [
              0.6666666666666666,
              "#ed7953"
             ],
             [
              0.7777777777777778,
              "#fb9f3a"
             ],
             [
              0.8888888888888888,
              "#fdca26"
             ],
             [
              1.0,
              "#f0f921"
             ]
            ]
           }
          ],
          "choropleth": [
           {
            "type": "choropleth",
            "colorbar": {
             "outlinewidth": 0,
             "ticks": ""
            }
           }
          ],
          "histogram2d": [
           {
            "type": "histogram2d",
            "colorbar": {
             "outlinewidth": 0,
             "ticks": ""
            },
            "colorscale": [
             [
              0.0,
              "#0d0887"
             ],
             [
              0.1111111111111111,
              "#46039f"
             ],
             [
              0.2222222222222222,
              "#7201a8"
             ],
             [
              0.3333333333333333,
              "#9c179e"
             ],
             [
              0.4444444444444444,
              "#bd3786"
             ],
             [
              0.5555555555555556,
              "#d8576b"
             ],
             [
              0.6666666666666666,
              "#ed7953"
             ],
             [
              0.7777777777777778,
              "#fb9f3a"
             ],
             [
              0.8888888888888888,
              "#fdca26"
             ],
             [
              1.0,
              "#f0f921"
             ]
            ]
           }
          ],
          "heatmap": [
           {
            "type": "heatmap",
            "colorbar": {
             "outlinewidth": 0,
             "ticks": ""
            },
            "colorscale": [
             [
              0.0,
              "#0d0887"
             ],
             [
              0.1111111111111111,
              "#46039f"
             ],
             [
              0.2222222222222222,
              "#7201a8"
             ],
             [
              0.3333333333333333,
              "#9c179e"
             ],
             [
              0.4444444444444444,
              "#bd3786"
             ],
             [
              0.5555555555555556,
              "#d8576b"
             ],
             [
              0.6666666666666666,
              "#ed7953"
             ],
             [
              0.7777777777777778,
              "#fb9f3a"
             ],
             [
              0.8888888888888888,
              "#fdca26"
             ],
             [
              1.0,
              "#f0f921"
             ]
            ]
           }
          ],
          "heatmapgl": [
           {
            "type": "heatmapgl",
            "colorbar": {
             "outlinewidth": 0,
             "ticks": ""
            },
            "colorscale": [
             [
              0.0,
              "#0d0887"
             ],
             [
              0.1111111111111111,
              "#46039f"
             ],
             [
              0.2222222222222222,
              "#7201a8"
             ],
             [
              0.3333333333333333,
              "#9c179e"
             ],
             [
              0.4444444444444444,
              "#bd3786"
             ],
             [
              0.5555555555555556,
              "#d8576b"
             ],
             [
              0.6666666666666666,
              "#ed7953"
             ],
             [
              0.7777777777777778,
              "#fb9f3a"
             ],
             [
              0.8888888888888888,
              "#fdca26"
             ],
             [
              1.0,
              "#f0f921"
             ]
            ]
           }
          ],
          "contourcarpet": [
           {
            "type": "contourcarpet",
            "colorbar": {
             "outlinewidth": 0,
             "ticks": ""
            }
           }
          ],
          "contour": [
           {
            "type": "contour",
            "colorbar": {
             "outlinewidth": 0,
             "ticks": ""
            },
            "colorscale": [
             [
              0.0,
              "#0d0887"
             ],
             [
              0.1111111111111111,
              "#46039f"
             ],
             [
              0.2222222222222222,
              "#7201a8"
             ],
             [
              0.3333333333333333,
              "#9c179e"
             ],
             [
              0.4444444444444444,
              "#bd3786"
             ],
             [
              0.5555555555555556,
              "#d8576b"
             ],
             [
              0.6666666666666666,
              "#ed7953"
             ],
             [
              0.7777777777777778,
              "#fb9f3a"
             ],
             [
              0.8888888888888888,
              "#fdca26"
             ],
             [
              1.0,
              "#f0f921"
             ]
            ]
           }
          ],
          "surface": [
           {
            "type": "surface",
            "colorbar": {
             "outlinewidth": 0,
             "ticks": ""
            },
            "colorscale": [
             [
              0.0,
              "#0d0887"
             ],
             [
              0.1111111111111111,
              "#46039f"
             ],
             [
              0.2222222222222222,
              "#7201a8"
             ],
             [
              0.3333333333333333,
              "#9c179e"
             ],
             [
              0.4444444444444444,
              "#bd3786"
             ],
             [
              0.5555555555555556,
              "#d8576b"
             ],
             [
              0.6666666666666666,
              "#ed7953"
             ],
             [
              0.7777777777777778,
              "#fb9f3a"
             ],
             [
              0.8888888888888888,
              "#fdca26"
             ],
             [
              1.0,
              "#f0f921"
             ]
            ]
           }
          ],
          "mesh3d": [
           {
            "type": "mesh3d",
            "colorbar": {
             "outlinewidth": 0,
             "ticks": ""
            }
           }
          ],
          "scatter": [
           {
            "fillpattern": {
             "fillmode": "overlay",
             "size": 10,
             "solidity": 0.2
            },
            "type": "scatter"
           }
          ],
          "parcoords": [
           {
            "type": "parcoords",
            "line": {
             "colorbar": {
              "outlinewidth": 0,
              "ticks": ""
             }
            }
           }
          ],
          "scatterpolargl": [
           {
            "type": "scatterpolargl",
            "marker": {
             "colorbar": {
              "outlinewidth": 0,
              "ticks": ""
             }
            }
           }
          ],
          "bar": [
           {
            "error_x": {
             "color": "#2a3f5f"
            },
            "error_y": {
             "color": "#2a3f5f"
            },
            "marker": {
             "line": {
              "color": "#E5ECF6",
              "width": 0.5
             },
             "pattern": {
              "fillmode": "overlay",
              "size": 10,
              "solidity": 0.2
             }
            },
            "type": "bar"
           }
          ],
          "scattergeo": [
           {
            "type": "scattergeo",
            "marker": {
             "colorbar": {
              "outlinewidth": 0,
              "ticks": ""
             }
            }
           }
          ],
          "scatterpolar": [
           {
            "type": "scatterpolar",
            "marker": {
             "colorbar": {
              "outlinewidth": 0,
              "ticks": ""
             }
            }
           }
          ],
          "histogram": [
           {
            "marker": {
             "pattern": {
              "fillmode": "overlay",
              "size": 10,
              "solidity": 0.2
             }
            },
            "type": "histogram"
           }
          ],
          "scattergl": [
           {
            "type": "scattergl",
            "marker": {
             "colorbar": {
              "outlinewidth": 0,
              "ticks": ""
             }
            }
           }
          ],
          "scatter3d": [
           {
            "type": "scatter3d",
            "line": {
             "colorbar": {
              "outlinewidth": 0,
              "ticks": ""
             }
            },
            "marker": {
             "colorbar": {
              "outlinewidth": 0,
              "ticks": ""
             }
            }
           }
          ],
          "scattermapbox": [
           {
            "type": "scattermapbox",
            "marker": {
             "colorbar": {
              "outlinewidth": 0,
              "ticks": ""
             }
            }
           }
          ],
          "scatterternary": [
           {
            "type": "scatterternary",
            "marker": {
             "colorbar": {
              "outlinewidth": 0,
              "ticks": ""
             }
            }
           }
          ],
          "scattercarpet": [
           {
            "type": "scattercarpet",
            "marker": {
             "colorbar": {
              "outlinewidth": 0,
              "ticks": ""
             }
            }
           }
          ],
          "carpet": [
           {
            "aaxis": {
             "endlinecolor": "#2a3f5f",
             "gridcolor": "white",
             "linecolor": "white",
             "minorgridcolor": "white",
             "startlinecolor": "#2a3f5f"
            },
            "baxis": {
             "endlinecolor": "#2a3f5f",
             "gridcolor": "white",
             "linecolor": "white",
             "minorgridcolor": "white",
             "startlinecolor": "#2a3f5f"
            },
            "type": "carpet"
           }
          ],
          "table": [
           {
            "cells": {
             "fill": {
              "color": "#EBF0F8"
             },
             "line": {
              "color": "white"
             }
            },
            "header": {
             "fill": {
              "color": "#C8D4E3"
             },
             "line": {
              "color": "white"
             }
            },
            "type": "table"
           }
          ],
          "barpolar": [
           {
            "marker": {
             "line": {
              "color": "#E5ECF6",
              "width": 0.5
             },
             "pattern": {
              "fillmode": "overlay",
              "size": 10,
              "solidity": 0.2
             }
            },
            "type": "barpolar"
           }
          ],
          "pie": [
           {
            "automargin": true,
            "type": "pie"
           }
          ]
         },
         "layout": {
          "autotypenumbers": "strict",
          "colorway": [
           "#636efa",
           "#EF553B",
           "#00cc96",
           "#ab63fa",
           "#FFA15A",
           "#19d3f3",
           "#FF6692",
           "#B6E880",
           "#FF97FF",
           "#FECB52"
          ],
          "font": {
           "color": "#2a3f5f"
          },
          "hovermode": "closest",
          "hoverlabel": {
           "align": "left"
          },
          "paper_bgcolor": "white",
          "plot_bgcolor": "#E5ECF6",
          "polar": {
           "bgcolor": "#E5ECF6",
           "angularaxis": {
            "gridcolor": "white",
            "linecolor": "white",
            "ticks": ""
           },
           "radialaxis": {
            "gridcolor": "white",
            "linecolor": "white",
            "ticks": ""
           }
          },
          "ternary": {
           "bgcolor": "#E5ECF6",
           "aaxis": {
            "gridcolor": "white",
            "linecolor": "white",
            "ticks": ""
           },
           "baxis": {
            "gridcolor": "white",
            "linecolor": "white",
            "ticks": ""
           },
           "caxis": {
            "gridcolor": "white",
            "linecolor": "white",
            "ticks": ""
           }
          },
          "coloraxis": {
           "colorbar": {
            "outlinewidth": 0,
            "ticks": ""
           }
          },
          "colorscale": {
           "sequential": [
            [
             0.0,
             "#0d0887"
            ],
            [
             0.1111111111111111,
             "#46039f"
            ],
            [
             0.2222222222222222,
             "#7201a8"
            ],
            [
             0.3333333333333333,
             "#9c179e"
            ],
            [
             0.4444444444444444,
             "#bd3786"
            ],
            [
             0.5555555555555556,
             "#d8576b"
            ],
            [
             0.6666666666666666,
             "#ed7953"
            ],
            [
             0.7777777777777778,
             "#fb9f3a"
            ],
            [
             0.8888888888888888,
             "#fdca26"
            ],
            [
             1.0,
             "#f0f921"
            ]
           ],
           "sequentialminus": [
            [
             0.0,
             "#0d0887"
            ],
            [
             0.1111111111111111,
             "#46039f"
            ],
            [
             0.2222222222222222,
             "#7201a8"
            ],
            [
             0.3333333333333333,
             "#9c179e"
            ],
            [
             0.4444444444444444,
             "#bd3786"
            ],
            [
             0.5555555555555556,
             "#d8576b"
            ],
            [
             0.6666666666666666,
             "#ed7953"
            ],
            [
             0.7777777777777778,
             "#fb9f3a"
            ],
            [
             0.8888888888888888,
             "#fdca26"
            ],
            [
             1.0,
             "#f0f921"
            ]
           ],
           "diverging": [
            [
             0,
             "#8e0152"
            ],
            [
             0.1,
             "#c51b7d"
            ],
            [
             0.2,
             "#de77ae"
            ],
            [
             0.3,
             "#f1b6da"
            ],
            [
             0.4,
             "#fde0ef"
            ],
            [
             0.5,
             "#f7f7f7"
            ],
            [
             0.6,
             "#e6f5d0"
            ],
            [
             0.7,
             "#b8e186"
            ],
            [
             0.8,
             "#7fbc41"
            ],
            [
             0.9,
             "#4d9221"
            ],
            [
             1,
             "#276419"
            ]
           ]
          },
          "xaxis": {
           "gridcolor": "white",
           "linecolor": "white",
           "ticks": "",
           "title": {
            "standoff": 15
           },
           "zerolinecolor": "white",
           "automargin": true,
           "zerolinewidth": 2
          },
          "yaxis": {
           "gridcolor": "white",
           "linecolor": "white",
           "ticks": "",
           "title": {
            "standoff": 15
           },
           "zerolinecolor": "white",
           "automargin": true,
           "zerolinewidth": 2
          },
          "scene": {
           "xaxis": {
            "backgroundcolor": "#E5ECF6",
            "gridcolor": "white",
            "linecolor": "white",
            "showbackground": true,
            "ticks": "",
            "zerolinecolor": "white",
            "gridwidth": 2
           },
           "yaxis": {
            "backgroundcolor": "#E5ECF6",
            "gridcolor": "white",
            "linecolor": "white",
            "showbackground": true,
            "ticks": "",
            "zerolinecolor": "white",
            "gridwidth": 2
           },
           "zaxis": {
            "backgroundcolor": "#E5ECF6",
            "gridcolor": "white",
            "linecolor": "white",
            "showbackground": true,
            "ticks": "",
            "zerolinecolor": "white",
            "gridwidth": 2
           }
          },
          "shapedefaults": {
           "line": {
            "color": "#2a3f5f"
           }
          },
          "annotationdefaults": {
           "arrowcolor": "#2a3f5f",
           "arrowhead": 0,
           "arrowwidth": 1
          },
          "geo": {
           "bgcolor": "white",
           "landcolor": "#E5ECF6",
           "subunitcolor": "white",
           "showland": true,
           "showlakes": true,
           "lakecolor": "white"
          },
          "title": {
           "x": 0.05
          },
          "mapbox": {
           "style": "light"
          }
         }
        },
        "xaxis": {
         "anchor": "y",
         "domain": [
          0.0,
          1.0
         ]
        },
        "yaxis": {
         "anchor": "x",
         "domain": [
          0.0,
          1.0
         ],
         "autorange": "reversed"
        },
        "coloraxis": {
         "colorscale": [
          [
           0.0,
           "#0d0887"
          ],
          [
           0.1111111111111111,
           "#46039f"
          ],
          [
           0.2222222222222222,
           "#7201a8"
          ],
          [
           0.3333333333333333,
           "#9c179e"
          ],
          [
           0.4444444444444444,
           "#bd3786"
          ],
          [
           0.5555555555555556,
           "#d8576b"
          ],
          [
           0.6666666666666666,
           "#ed7953"
          ],
          [
           0.7777777777777778,
           "#fb9f3a"
          ],
          [
           0.8888888888888888,
           "#fdca26"
          ],
          [
           1.0,
           "#f0f921"
          ]
         ]
        },
        "margin": {
         "t": 60
        },
        "height": 900,
        "width": 900
       },
       "config": {
        "plotlyServerURL": "https://plot.ly"
       }
      },
      "text/html": [
       "<div>                            <div id=\"23c73355-fec1-463e-88e4-eb5ebfe6072b\" class=\"plotly-graph-div\" style=\"height:900px; width:900px;\"></div>            <script type=\"text/javascript\">                require([\"plotly\"], function(Plotly) {                    window.PLOTLYENV=window.PLOTLYENV || {};                                    if (document.getElementById(\"23c73355-fec1-463e-88e4-eb5ebfe6072b\")) {                    Plotly.newPlot(                        \"23c73355-fec1-463e-88e4-eb5ebfe6072b\",                        [{\"coloraxis\":\"coloraxis\",\"name\":\"0\",\"texttemplate\":\"%{z}\",\"x\":[\"beds_for_bedroom\",\"host_response_rate\",\"host_acceptance_rate\",\"price\",\"host_location\",\"host_listings_count\",\"latitude\",\"longitude\",\"accommodates\",\"bathrooms\",\"minimum_nights\",\"maximum_nights\",\"number_of_reviews\",\"review_scores_rating\",\"review_scores_checkin\",\"review_scores_location\",\"review_scores_value\",\"reviews_per_month\",\"listing_city_pop\"],\"y\":[\"beds_for_bedroom\",\"host_response_rate\",\"host_acceptance_rate\",\"price\",\"host_location\",\"host_listings_count\",\"latitude\",\"longitude\",\"accommodates\",\"bathrooms\",\"minimum_nights\",\"maximum_nights\",\"number_of_reviews\",\"review_scores_rating\",\"review_scores_checkin\",\"review_scores_location\",\"review_scores_value\",\"reviews_per_month\",\"listing_city_pop\"],\"z\":[[1.0,0.01349720135213927,0.028056654291458878,0.006527789373312034,-0.0006708893389954971,0.04720598148236629,-0.005180258138728748,0.022347175895257376,0.2647160718303844,0.006269915130478933,-0.004544594182566002,0.04953292726032488,0.04618672266929014,-0.044175367949799885,-0.029664220743395954,-0.012916643799997572,-0.02121194538465889,-0.049485297130650086,-0.033304820263481694],[0.01349720135213927,1.0,0.4886369054802641,0.0015084621969513488,-0.022566766051814503,0.03246530665118959,-0.008809387417326972,0.024336702559697467,0.05504384483440084,0.019534424290073977,-0.02460799465576236,-0.050720642631613785,0.09242795051413072,0.08430678539654198,0.0693462478853297,0.07385503605184893,0.07470961878795868,0.15901824501659154,-0.008275578907088282],[0.028056654291458878,0.4886369054802641,1.0,0.023176389646013058,-0.020620316327518384,0.10301534443022972,-0.043373171634425424,0.07511289704772767,0.0993020899131039,0.025924323379087916,-0.0692047018027056,-0.03841483128946748,0.14789865473167368,0.02269405307408542,-0.005017550733126197,0.06492309673092679,0.032297854104716944,0.2541030573877237,-0.016302904563936918],[0.006527789373312034,0.0015084621969513488,0.023176389646013058,1.0,-0.0014938694498979864,0.0067548967587932815,0.004956673802506731,-0.001788430601310225,0.10618332344572011,0.11669562056606868,-0.0037416793777904443,0.02200947055870091,-0.016236351413545687,0.00590378282707245,-0.0032635298259141164,0.02981062859994066,0.005136582494564193,-0.02382906042425688,0.006087141443071527],[-0.0006708893389954971,-0.022566766051814503,-0.020620316327518384,-0.0014938694498979864,1.0,0.006157308974990603,0.00014815330493803637,-7.743006414804852e-06,0.0027413554173706957,0.012150067901738122,0.01861734958377958,0.010609427796819204,-0.01755626020193517,-0.0072184116979576735,-0.010968059819245238,-0.005466062336179099,-0.0062536376208670525,-0.027632739883355018,-0.005568704728916394],[0.04720598148236629,0.03246530665118959,0.10301534443022972,0.0067548967587932815,0.006157308974990603,1.0,0.09044148811932975,-0.11293103170017185,0.040883912877636375,0.021013793294632394,-0.017689482748727895,0.08719577533686369,-0.08828486158629632,-0.24730393630525246,-0.23948558647055687,-0.07190993845113593,-0.2320252682078073,-0.07795042509524648,0.06484923337443446],[-0.005180258138728748,-0.008809387417326972,-0.043373171634425424,0.004956673802506731,0.00014815330493803637,0.09044148811932975,1.0,-0.8462246316044727,-0.08393579545546116,-0.058487878937161834,0.013243976366953368,0.007451350741983887,-0.016214285573597272,-0.02793980613352296,-0.049755441187872125,0.03244383346989158,-0.06341674542312666,0.0074491857226761425,0.07014301750436919],[0.022347175895257376,0.024336702559697467,0.07511289704772767,-0.001788430601310225,-7.743006414804852e-06,-0.11293103170017185,-0.8462246316044727,1.0,0.10762166868354635,0.0749607950483316,-0.023217423376180636,0.01551200536846373,0.07598083278801183,0.02658479715156174,0.04818093022367083,0.011629936392806805,0.06557789363799445,0.0025161902882684635,-0.2573977556433282],[0.2647160718303844,0.05504384483440084,0.0993020899131039,0.10618332344572011,0.0027413554173706957,0.040883912877636375,-0.08393579545546116,0.10762166868354635,1.0,0.5810567484005478,-0.02369218479875809,0.041545542843966034,-0.009732842909714358,0.0011230792733840727,-0.003217026218988272,0.04145721441408701,0.030461664573035216,-0.014892097127400777,-0.05457922854122641],[0.006269915130478933,0.019534424290073977,0.025924323379087916,0.11669562056606868,0.012150067901738122,0.021013793294632394,-0.058487878937161834,0.0749607950483316,0.5810567484005478,1.0,0.0015955302339672544,0.038638413578969605,-0.011674991189337349,0.021916487261706787,0.011720356867679804,0.05630707465311772,0.036267759751864165,-0.042269068783755984,-0.018084553697911482],[-0.004544594182566002,-0.02460799465576236,-0.0692047018027056,-0.0037416793777904443,0.01861734958377958,-0.017689482748727895,0.013243976366953368,-0.023217423376180636,-0.02369218479875809,0.0015955302339672544,1.0,0.026241668459534132,-0.018454527981053712,-0.004155765757208905,0.00594368033812498,-0.003212966881097703,-0.0013354012488824077,-0.04911859129248391,0.004719909305368321],[0.04953292726032488,-0.050720642631613785,-0.03841483128946748,0.02200947055870091,0.010609427796819204,0.08719577533686369,0.007451350741983887,0.01551200536846373,0.041545542843966034,0.038638413578969605,0.026241668459534132,1.0,0.037741403387827575,-0.08911061950331926,-0.06467758262062528,-0.009150703302037998,-0.06999872366610686,-0.10892980531855485,0.003822154155004926],[0.04618672266929014,0.09242795051413072,0.14789865473167368,-0.016236351413545687,-0.01755626020193517,-0.08828486158629632,-0.016214285573597272,0.07598083278801183,-0.009732842909714358,-0.011674991189337349,-0.018454527981053712,0.037741403387827575,1.0,0.08102579389780366,0.09793157358457145,0.10592675285177088,0.12887534368627024,0.47586558115776756,0.016909407195727394],[-0.044175367949799885,0.08430678539654198,0.02269405307408542,0.00590378282707245,-0.0072184116979576735,-0.24730393630525246,-0.02793980613352296,0.02658479715156174,0.0011230792733840727,0.021916487261706787,-0.004155765757208905,-0.08911061950331926,0.08102579389780366,1.0,0.6924759842684574,0.5064484571189378,0.8319222475918578,0.14206247358796098,-0.028257659259975088],[-0.029664220743395954,0.0693462478853297,-0.005017550733126197,-0.0032635298259141164,-0.010968059819245238,-0.23948558647055687,-0.049755441187872125,0.04818093022367083,-0.003217026218988272,0.011720356867679804,0.00594368033812498,-0.06467758262062528,0.09793157358457145,0.6924759842684574,1.0,0.42841716392214696,0.6348993635337286,0.10715532624858821,-0.02364061926219788],[-0.012916643799997572,0.07385503605184893,0.06492309673092679,0.02981062859994066,-0.005466062336179099,-0.07190993845113593,0.03244383346989158,0.011629936392806805,0.04145721441408701,0.05630707465311772,-0.003212966881097703,-0.009150703302037998,0.10592675285177088,0.5064484571189378,0.42841716392214696,1.0,0.5168624442537889,0.09230081606825286,0.027576032154928213],[-0.02121194538465889,0.07470961878795868,0.032297854104716944,0.005136582494564193,-0.0062536376208670525,-0.2320252682078073,-0.06341674542312666,0.06557789363799445,0.030461664573035216,0.036267759751864165,-0.0013354012488824077,-0.06999872366610686,0.12887534368627024,0.8319222475918578,0.6348993635337286,0.5168624442537889,1.0,0.15719216746227407,-0.03812515054582032],[-0.049485297130650086,0.15901824501659154,0.2541030573877237,-0.02382906042425688,-0.027632739883355018,-0.07795042509524648,0.0074491857226761425,0.0025161902882684635,-0.014892097127400777,-0.042269068783755984,-0.04911859129248391,-0.10892980531855485,0.47586558115776756,0.14206247358796098,0.10715532624858821,0.09230081606825286,0.15719216746227407,1.0,0.049342438619084016],[-0.033304820263481694,-0.008275578907088282,-0.016302904563936918,0.006087141443071527,-0.005568704728916394,0.06484923337443446,0.07014301750436919,-0.2573977556433282,-0.05457922854122641,-0.018084553697911482,0.004719909305368321,0.003822154155004926,0.016909407195727394,-0.028257659259975088,-0.02364061926219788,0.027576032154928213,-0.03812515054582032,0.049342438619084016,1.0]],\"type\":\"heatmap\",\"xaxis\":\"x\",\"yaxis\":\"y\",\"hovertemplate\":\"x: %{x}\\u003cbr\\u003ey: %{y}\\u003cbr\\u003ecolor: %{z}\\u003cextra\\u003e\\u003c\\u002fextra\\u003e\"}],                        {\"template\":{\"data\":{\"histogram2dcontour\":[{\"type\":\"histogram2dcontour\",\"colorbar\":{\"outlinewidth\":0,\"ticks\":\"\"},\"colorscale\":[[0.0,\"#0d0887\"],[0.1111111111111111,\"#46039f\"],[0.2222222222222222,\"#7201a8\"],[0.3333333333333333,\"#9c179e\"],[0.4444444444444444,\"#bd3786\"],[0.5555555555555556,\"#d8576b\"],[0.6666666666666666,\"#ed7953\"],[0.7777777777777778,\"#fb9f3a\"],[0.8888888888888888,\"#fdca26\"],[1.0,\"#f0f921\"]]}],\"choropleth\":[{\"type\":\"choropleth\",\"colorbar\":{\"outlinewidth\":0,\"ticks\":\"\"}}],\"histogram2d\":[{\"type\":\"histogram2d\",\"colorbar\":{\"outlinewidth\":0,\"ticks\":\"\"},\"colorscale\":[[0.0,\"#0d0887\"],[0.1111111111111111,\"#46039f\"],[0.2222222222222222,\"#7201a8\"],[0.3333333333333333,\"#9c179e\"],[0.4444444444444444,\"#bd3786\"],[0.5555555555555556,\"#d8576b\"],[0.6666666666666666,\"#ed7953\"],[0.7777777777777778,\"#fb9f3a\"],[0.8888888888888888,\"#fdca26\"],[1.0,\"#f0f921\"]]}],\"heatmap\":[{\"type\":\"heatmap\",\"colorbar\":{\"outlinewidth\":0,\"ticks\":\"\"},\"colorscale\":[[0.0,\"#0d0887\"],[0.1111111111111111,\"#46039f\"],[0.2222222222222222,\"#7201a8\"],[0.3333333333333333,\"#9c179e\"],[0.4444444444444444,\"#bd3786\"],[0.5555555555555556,\"#d8576b\"],[0.6666666666666666,\"#ed7953\"],[0.7777777777777778,\"#fb9f3a\"],[0.8888888888888888,\"#fdca26\"],[1.0,\"#f0f921\"]]}],\"heatmapgl\":[{\"type\":\"heatmapgl\",\"colorbar\":{\"outlinewidth\":0,\"ticks\":\"\"},\"colorscale\":[[0.0,\"#0d0887\"],[0.1111111111111111,\"#46039f\"],[0.2222222222222222,\"#7201a8\"],[0.3333333333333333,\"#9c179e\"],[0.4444444444444444,\"#bd3786\"],[0.5555555555555556,\"#d8576b\"],[0.6666666666666666,\"#ed7953\"],[0.7777777777777778,\"#fb9f3a\"],[0.8888888888888888,\"#fdca26\"],[1.0,\"#f0f921\"]]}],\"contourcarpet\":[{\"type\":\"contourcarpet\",\"colorbar\":{\"outlinewidth\":0,\"ticks\":\"\"}}],\"contour\":[{\"type\":\"contour\",\"colorbar\":{\"outlinewidth\":0,\"ticks\":\"\"},\"colorscale\":[[0.0,\"#0d0887\"],[0.1111111111111111,\"#46039f\"],[0.2222222222222222,\"#7201a8\"],[0.3333333333333333,\"#9c179e\"],[0.4444444444444444,\"#bd3786\"],[0.5555555555555556,\"#d8576b\"],[0.6666666666666666,\"#ed7953\"],[0.7777777777777778,\"#fb9f3a\"],[0.8888888888888888,\"#fdca26\"],[1.0,\"#f0f921\"]]}],\"surface\":[{\"type\":\"surface\",\"colorbar\":{\"outlinewidth\":0,\"ticks\":\"\"},\"colorscale\":[[0.0,\"#0d0887\"],[0.1111111111111111,\"#46039f\"],[0.2222222222222222,\"#7201a8\"],[0.3333333333333333,\"#9c179e\"],[0.4444444444444444,\"#bd3786\"],[0.5555555555555556,\"#d8576b\"],[0.6666666666666666,\"#ed7953\"],[0.7777777777777778,\"#fb9f3a\"],[0.8888888888888888,\"#fdca26\"],[1.0,\"#f0f921\"]]}],\"mesh3d\":[{\"type\":\"mesh3d\",\"colorbar\":{\"outlinewidth\":0,\"ticks\":\"\"}}],\"scatter\":[{\"fillpattern\":{\"fillmode\":\"overlay\",\"size\":10,\"solidity\":0.2},\"type\":\"scatter\"}],\"parcoords\":[{\"type\":\"parcoords\",\"line\":{\"colorbar\":{\"outlinewidth\":0,\"ticks\":\"\"}}}],\"scatterpolargl\":[{\"type\":\"scatterpolargl\",\"marker\":{\"colorbar\":{\"outlinewidth\":0,\"ticks\":\"\"}}}],\"bar\":[{\"error_x\":{\"color\":\"#2a3f5f\"},\"error_y\":{\"color\":\"#2a3f5f\"},\"marker\":{\"line\":{\"color\":\"#E5ECF6\",\"width\":0.5},\"pattern\":{\"fillmode\":\"overlay\",\"size\":10,\"solidity\":0.2}},\"type\":\"bar\"}],\"scattergeo\":[{\"type\":\"scattergeo\",\"marker\":{\"colorbar\":{\"outlinewidth\":0,\"ticks\":\"\"}}}],\"scatterpolar\":[{\"type\":\"scatterpolar\",\"marker\":{\"colorbar\":{\"outlinewidth\":0,\"ticks\":\"\"}}}],\"histogram\":[{\"marker\":{\"pattern\":{\"fillmode\":\"overlay\",\"size\":10,\"solidity\":0.2}},\"type\":\"histogram\"}],\"scattergl\":[{\"type\":\"scattergl\",\"marker\":{\"colorbar\":{\"outlinewidth\":0,\"ticks\":\"\"}}}],\"scatter3d\":[{\"type\":\"scatter3d\",\"line\":{\"colorbar\":{\"outlinewidth\":0,\"ticks\":\"\"}},\"marker\":{\"colorbar\":{\"outlinewidth\":0,\"ticks\":\"\"}}}],\"scattermapbox\":[{\"type\":\"scattermapbox\",\"marker\":{\"colorbar\":{\"outlinewidth\":0,\"ticks\":\"\"}}}],\"scatterternary\":[{\"type\":\"scatterternary\",\"marker\":{\"colorbar\":{\"outlinewidth\":0,\"ticks\":\"\"}}}],\"scattercarpet\":[{\"type\":\"scattercarpet\",\"marker\":{\"colorbar\":{\"outlinewidth\":0,\"ticks\":\"\"}}}],\"carpet\":[{\"aaxis\":{\"endlinecolor\":\"#2a3f5f\",\"gridcolor\":\"white\",\"linecolor\":\"white\",\"minorgridcolor\":\"white\",\"startlinecolor\":\"#2a3f5f\"},\"baxis\":{\"endlinecolor\":\"#2a3f5f\",\"gridcolor\":\"white\",\"linecolor\":\"white\",\"minorgridcolor\":\"white\",\"startlinecolor\":\"#2a3f5f\"},\"type\":\"carpet\"}],\"table\":[{\"cells\":{\"fill\":{\"color\":\"#EBF0F8\"},\"line\":{\"color\":\"white\"}},\"header\":{\"fill\":{\"color\":\"#C8D4E3\"},\"line\":{\"color\":\"white\"}},\"type\":\"table\"}],\"barpolar\":[{\"marker\":{\"line\":{\"color\":\"#E5ECF6\",\"width\":0.5},\"pattern\":{\"fillmode\":\"overlay\",\"size\":10,\"solidity\":0.2}},\"type\":\"barpolar\"}],\"pie\":[{\"automargin\":true,\"type\":\"pie\"}]},\"layout\":{\"autotypenumbers\":\"strict\",\"colorway\":[\"#636efa\",\"#EF553B\",\"#00cc96\",\"#ab63fa\",\"#FFA15A\",\"#19d3f3\",\"#FF6692\",\"#B6E880\",\"#FF97FF\",\"#FECB52\"],\"font\":{\"color\":\"#2a3f5f\"},\"hovermode\":\"closest\",\"hoverlabel\":{\"align\":\"left\"},\"paper_bgcolor\":\"white\",\"plot_bgcolor\":\"#E5ECF6\",\"polar\":{\"bgcolor\":\"#E5ECF6\",\"angularaxis\":{\"gridcolor\":\"white\",\"linecolor\":\"white\",\"ticks\":\"\"},\"radialaxis\":{\"gridcolor\":\"white\",\"linecolor\":\"white\",\"ticks\":\"\"}},\"ternary\":{\"bgcolor\":\"#E5ECF6\",\"aaxis\":{\"gridcolor\":\"white\",\"linecolor\":\"white\",\"ticks\":\"\"},\"baxis\":{\"gridcolor\":\"white\",\"linecolor\":\"white\",\"ticks\":\"\"},\"caxis\":{\"gridcolor\":\"white\",\"linecolor\":\"white\",\"ticks\":\"\"}},\"coloraxis\":{\"colorbar\":{\"outlinewidth\":0,\"ticks\":\"\"}},\"colorscale\":{\"sequential\":[[0.0,\"#0d0887\"],[0.1111111111111111,\"#46039f\"],[0.2222222222222222,\"#7201a8\"],[0.3333333333333333,\"#9c179e\"],[0.4444444444444444,\"#bd3786\"],[0.5555555555555556,\"#d8576b\"],[0.6666666666666666,\"#ed7953\"],[0.7777777777777778,\"#fb9f3a\"],[0.8888888888888888,\"#fdca26\"],[1.0,\"#f0f921\"]],\"sequentialminus\":[[0.0,\"#0d0887\"],[0.1111111111111111,\"#46039f\"],[0.2222222222222222,\"#7201a8\"],[0.3333333333333333,\"#9c179e\"],[0.4444444444444444,\"#bd3786\"],[0.5555555555555556,\"#d8576b\"],[0.6666666666666666,\"#ed7953\"],[0.7777777777777778,\"#fb9f3a\"],[0.8888888888888888,\"#fdca26\"],[1.0,\"#f0f921\"]],\"diverging\":[[0,\"#8e0152\"],[0.1,\"#c51b7d\"],[0.2,\"#de77ae\"],[0.3,\"#f1b6da\"],[0.4,\"#fde0ef\"],[0.5,\"#f7f7f7\"],[0.6,\"#e6f5d0\"],[0.7,\"#b8e186\"],[0.8,\"#7fbc41\"],[0.9,\"#4d9221\"],[1,\"#276419\"]]},\"xaxis\":{\"gridcolor\":\"white\",\"linecolor\":\"white\",\"ticks\":\"\",\"title\":{\"standoff\":15},\"zerolinecolor\":\"white\",\"automargin\":true,\"zerolinewidth\":2},\"yaxis\":{\"gridcolor\":\"white\",\"linecolor\":\"white\",\"ticks\":\"\",\"title\":{\"standoff\":15},\"zerolinecolor\":\"white\",\"automargin\":true,\"zerolinewidth\":2},\"scene\":{\"xaxis\":{\"backgroundcolor\":\"#E5ECF6\",\"gridcolor\":\"white\",\"linecolor\":\"white\",\"showbackground\":true,\"ticks\":\"\",\"zerolinecolor\":\"white\",\"gridwidth\":2},\"yaxis\":{\"backgroundcolor\":\"#E5ECF6\",\"gridcolor\":\"white\",\"linecolor\":\"white\",\"showbackground\":true,\"ticks\":\"\",\"zerolinecolor\":\"white\",\"gridwidth\":2},\"zaxis\":{\"backgroundcolor\":\"#E5ECF6\",\"gridcolor\":\"white\",\"linecolor\":\"white\",\"showbackground\":true,\"ticks\":\"\",\"zerolinecolor\":\"white\",\"gridwidth\":2}},\"shapedefaults\":{\"line\":{\"color\":\"#2a3f5f\"}},\"annotationdefaults\":{\"arrowcolor\":\"#2a3f5f\",\"arrowhead\":0,\"arrowwidth\":1},\"geo\":{\"bgcolor\":\"white\",\"landcolor\":\"#E5ECF6\",\"subunitcolor\":\"white\",\"showland\":true,\"showlakes\":true,\"lakecolor\":\"white\"},\"title\":{\"x\":0.05},\"mapbox\":{\"style\":\"light\"}}},\"xaxis\":{\"anchor\":\"y\",\"domain\":[0.0,1.0]},\"yaxis\":{\"anchor\":\"x\",\"domain\":[0.0,1.0],\"autorange\":\"reversed\"},\"coloraxis\":{\"colorscale\":[[0.0,\"#0d0887\"],[0.1111111111111111,\"#46039f\"],[0.2222222222222222,\"#7201a8\"],[0.3333333333333333,\"#9c179e\"],[0.4444444444444444,\"#bd3786\"],[0.5555555555555556,\"#d8576b\"],[0.6666666666666666,\"#ed7953\"],[0.7777777777777778,\"#fb9f3a\"],[0.8888888888888888,\"#fdca26\"],[1.0,\"#f0f921\"]]},\"margin\":{\"t\":60},\"height\":900,\"width\":900},                        {\"responsive\": true}                    ).then(function(){\n",
       "                            \n",
       "var gd = document.getElementById('23c73355-fec1-463e-88e4-eb5ebfe6072b');\n",
       "var x = new MutationObserver(function (mutations, observer) {{\n",
       "        var display = window.getComputedStyle(gd).display;\n",
       "        if (!display || display === 'none') {{\n",
       "            console.log([gd, 'removed!']);\n",
       "            Plotly.purge(gd);\n",
       "            observer.disconnect();\n",
       "        }}\n",
       "}});\n",
       "\n",
       "// Listen for the removal of the full notebook cells\n",
       "var notebookContainer = gd.closest('#notebook-container');\n",
       "if (notebookContainer) {{\n",
       "    x.observe(notebookContainer, {childList: true});\n",
       "}}\n",
       "\n",
       "// Listen for the clearing of the current output cell\n",
       "var outputEl = gd.closest('.output');\n",
       "if (outputEl) {{\n",
       "    x.observe(outputEl, {childList: true});\n",
       "}}\n",
       "\n",
       "                        })                };                });            </script>        </div>"
      ]
     },
     "metadata": {},
     "output_type": "display_data"
    }
   ],
   "execution_count": 59
  },
  {
   "metadata": {
    "ExecuteTime": {
     "end_time": "2024-09-07T20:12:58.578940Z",
     "start_time": "2024-09-07T20:12:58.572734Z"
    }
   },
   "cell_type": "code",
   "source": "other_features = list(set(df.columns.tolist()) - set(numerical_features) - set(binary_features))",
   "id": "a4cb3d74b0c139c7",
   "outputs": [],
   "execution_count": 54
  },
  {
   "metadata": {},
   "cell_type": "markdown",
   "source": [
    "### Exploration\n",
    "\n",
    "*Data exploration of features. Firstly the binary ones with respect to price*.\n",
    "\n",
    "*Then engineer the other features as needed and observe their relationship with price*."
   ],
   "id": "c401a34f0735d9e8"
  },
  {
   "metadata": {},
   "cell_type": "code",
   "source": "#numerical_df.replace({\"t\": 1, \"f\": 0}, inplace=True)",
   "id": "af4de58f6b3cfe5",
   "outputs": [],
   "execution_count": null
  },
  {
   "metadata": {},
   "cell_type": "code",
   "source": "#numerical_df.dropna(inplace=True)",
   "id": "37a1102757b2120e",
   "outputs": [],
   "execution_count": null
  },
  {
   "metadata": {},
   "cell_type": "code",
   "source": [
    "X = df.drop([\"price\"], axis=1, inplace=False)\n",
    "y = df[\"price\"]\n",
    "\n",
    "X_train, X_test, y_train, y_test = train_test_split(\n",
    "    X, y, test_size=0.3, random_state=874631\n",
    ")"
   ],
   "id": "96a5f1525ad106d3",
   "outputs": [],
   "execution_count": null
  },
  {
   "metadata": {},
   "cell_type": "code",
   "source": [
    "wizard_pipe = Pipeline(\n",
    "    steps=[\n",
    "        (\n",
    "            \"Standardize\",\n",
    "            StandardScaler(),\n",
    "        ),\n",
    "        #(\n",
    "        #    \"SupportVectorRegression\",\n",
    "        #    SVR(\n",
    "        #        kernel=\"rbf\",\n",
    "        #        gamma=\"auto\",\n",
    "        #        tol=1e-3,\n",
    "        #        epsilon=0.1,\n",
    "        #        verbose=True\n",
    "        #    ),\n",
    "        #),\n",
    "        (\n",
    "            \"Model\",\n",
    "            RandomForestRegressor(\n",
    "                n_estimators=100,\n",
    "                criterion=\"squared_error\",\n",
    "                bootstrap=True,\n",
    "                max_samples=0.8,\n",
    "                oob_score=True,\n",
    "                n_jobs=-1,\n",
    "                random_state=874631,\n",
    "                verbose=True\n",
    "            ),\n",
    "        ),\n",
    "        #(\n",
    "        #    \"MLPRegressor\",\n",
    "        #    MLPRegressor(hidden_layer_sizes=(100, 100, 100, 100),\n",
    "        #                 activation=\"logistic\",\n",
    "        #                 solver=\"adam\",\n",
    "        #                 alpha=0.001,\n",
    "        #                 batch_size=5000,\n",
    "        #                 learning_rate=\"adaptive\",\n",
    "        #                 #learning_rate_init=0.01,\n",
    "        #                 max_iter=2000,\n",
    "        #                 shuffle=True,\n",
    "        #                 random_state=874631,\n",
    "        #                 tol=1e-4,\n",
    "        #                 verbose=True,\n",
    "        #                 warm_start=True,\n",
    "        #                 momentum=0.9,\n",
    "        #                 early_stopping=False,\n",
    "        #                 validation_fraction=0.2,\n",
    "        #    )\n",
    "        #)\n",
    "    ],\n",
    "    verbose=True\n",
    ")"
   ],
   "id": "1de6df006165428a",
   "outputs": [],
   "execution_count": null
  },
  {
   "metadata": {},
   "cell_type": "code",
   "source": "wizard_pipe.fit(X_train, y_train)",
   "id": "b9c723a9874f116a",
   "outputs": [],
   "execution_count": null
  },
  {
   "metadata": {},
   "cell_type": "code",
   "source": [
    "pred = wizard_pipe.predict(X_test)\n",
    "print(\n",
    "    f\"\\nExplained variance score is {explained_variance_score(y_true=y_test, y_pred=pred)}\",\n",
    "    f\"\\nMean Absolute Error is {mean_absolute_error(y_true=y_test, y_pred=pred)}\",\n",
    "    f\"\\nMean Squared Error is {mean_squared_error(y_true=y_test, y_pred=pred)}\",\n",
    "    f\"\\nR^2 Error is {r2_score(y_true=y_test, y_pred=pred)}\",\n",
    ")"
   ],
   "id": "693b01e737ba5a09",
   "outputs": [],
   "execution_count": null
  },
  {
   "metadata": {},
   "cell_type": "code",
   "source": [
    "#plot_loss = pd.DataFrame(wizard_pipe[\"MLPRegressor\"].loss_curve_, columns=[\"loss\"])\n",
    "#fig = px.line(plot_loss, x = plot_loss.index, y = \"loss\")\n",
    "#fig.show()"
   ],
   "id": "f7d3bbfaf5009afd",
   "outputs": [],
   "execution_count": null
  }
 ],
 "metadata": {
  "kernelspec": {
   "display_name": "Python 3",
   "language": "python",
   "name": "python3"
  },
  "language_info": {
   "codemirror_mode": {
    "name": "ipython",
    "version": 2
   },
   "file_extension": ".py",
   "mimetype": "text/x-python",
   "name": "python",
   "nbconvert_exporter": "python",
   "pygments_lexer": "ipython2",
   "version": "2.7.6"
  }
 },
 "nbformat": 4,
 "nbformat_minor": 5
}
