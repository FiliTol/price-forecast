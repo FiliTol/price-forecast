{
 "cells": [
  {
   "metadata": {},
   "cell_type": "code",
   "source": [
    "from tqdm.notebook import tqdm\n",
    "import pandas as pd\n",
    "import numpy as np\n",
    "import os\n",
    "import re\n",
    "import matplotlib.pyplot as plt\n",
    "import math\n",
    "import plotly.express as px\n",
    "from sklearn.neighbors import LocalOutlierFactor\n",
    "\n",
    "tqdm.pandas()"
   ],
   "id": "174fae200d112ed3",
   "outputs": [],
   "execution_count": null
  },
  {
   "metadata": {},
   "cell_type": "code",
   "source": [
    "## Run the following to compute the mappings for host locations\n",
    "#!python3 -m scripts.mappings_host_location_all_cities\n",
    "\n",
    "## Load Visualization Pipeline\n",
    "#!python3 -m scripts.pipeline_all_cities_viz\n",
    "\n",
    "## Load ML pipeline\n",
    "#!python3 -m scripts.pipeline_ML"
   ],
   "id": "4553ee22eba0240e",
   "outputs": [],
   "execution_count": null
  },
  {
   "metadata": {},
   "cell_type": "code",
   "source": "df = pd.read_pickle(\"data/pickles/total_listings_viz.pkl\")",
   "id": "381f4ae14b4387d5",
   "outputs": [],
   "execution_count": null
  },
  {
   "metadata": {},
   "cell_type": "code",
   "source": "df.columns.tolist()",
   "id": "47d15f049d598d3b",
   "outputs": [],
   "execution_count": null
  },
  {
   "metadata": {},
   "cell_type": "markdown",
   "source": "## Visualize neighbourhoods",
   "id": "e21ac184b0a65c09"
  },
  {
   "metadata": {},
   "cell_type": "code",
   "source": [
    "neigh_list = df[\"neighbourhood_cleansed\"].tolist()\n",
    "neigh_counter = {x:neigh_list.count(x) for x in neigh_list}\n",
    "neigh_counter = dict(sorted(neigh_counter.items(), key=lambda item: item[1], reverse=True))\n",
    "\n",
    "neigh_counter\n"
   ],
   "id": "1d25a211efe22bbc",
   "outputs": [],
   "execution_count": null
  },
  {
   "metadata": {},
   "cell_type": "markdown",
   "source": "## Testing",
   "id": "8682a204b9e11253"
  },
  {
   "metadata": {},
   "cell_type": "code",
   "source": "df = pd.read_pickle(\"data/pickles/total_listings_exploration_handling.pkl\")",
   "id": "a32f3a462aa15278",
   "outputs": [],
   "execution_count": null
  },
  {
   "metadata": {},
   "cell_type": "code",
   "source": [
    "fig = px.histogram(df, x = \"price\")\n",
    "fig.show()"
   ],
   "id": "9c9683da7f519bef",
   "outputs": [],
   "execution_count": null
  },
  {
   "metadata": {},
   "cell_type": "code",
   "source": [
    "df.loc[df[\"price\"]>=400, \"price_category\"] = \"high_high_price\"\n",
    "df.loc[df[\"price\"]<400, \"price_category\"] = \"normal_high_price\"\n",
    "df.loc[df[\"price\"]<160, \"price_category\"] = \"normal_medium_price\"\n",
    "df.loc[df[\"price\"]<100, \"price_category\"] = \"normal_low_price\"\n",
    "df.loc[df[\"price\"]<60, \"price_category\"] = \"low_low_price\"\n",
    "\n"
   ],
   "id": "9c26c16eedc61b24",
   "outputs": [],
   "execution_count": null
  },
  {
   "metadata": {},
   "cell_type": "code",
   "source": [
    "fig = px.histogram(df, x = \"price_category\")\n",
    "fig.show()"
   ],
   "id": "69efc7aee78811a",
   "outputs": [],
   "execution_count": null
  },
  {
   "metadata": {},
   "cell_type": "code",
   "source": "df[\"host_response_rate\"].unique()",
   "id": "b8c3ec0185cc713b",
   "outputs": [],
   "execution_count": null
  },
  {
   "metadata": {},
   "cell_type": "code",
   "source": [
    "fig = px.scatter(df, x = \"price\", y = \"host_response_rate\")\n",
    "fig.show()"
   ],
   "id": "ce53dfe29949232a",
   "outputs": [],
   "execution_count": null
  },
  {
   "metadata": {},
   "cell_type": "code",
   "source": "df_only_num = pd.DataFrame(df.dtypes, columns=[\"type\"]).loc[(pd.DataFrame(df.dtypes, columns=[\"type\"])[\"type\"] == \"float64\") | (pd.DataFrame(df.dtypes, columns=[\"type\"])[\"type\"] == \"int64\")]",
   "id": "283fcf1e96d37fe7",
   "outputs": [],
   "execution_count": null
  },
  {
   "metadata": {},
   "cell_type": "code",
   "source": "df_only_num = df[df_only_num.index.tolist()]",
   "id": "23ab2fb5d5885cdd",
   "outputs": [],
   "execution_count": null
  },
  {
   "metadata": {},
   "cell_type": "code",
   "source": "df.loc[df[\"price\"]>5000, :]",
   "id": "c3bc018033e8bdfe",
   "outputs": [],
   "execution_count": null
  },
  {
   "metadata": {},
   "cell_type": "code",
   "source": "df.loc[df[\"price_category\"]==\"normal_price\", :]",
   "id": "6141366fc38ca80f",
   "outputs": [],
   "execution_count": null
  },
  {
   "metadata": {},
   "cell_type": "code",
   "source": [
    "# This shows that the coordinates distributions are multimodal distributions\n",
    "# Nonetheless, I use the StandardScaler to scale the data\n",
    "fig = px.ecdf(df, x = \"x_coord\")\n",
    "fig.show()"
   ],
   "id": "589e7559c0f38392",
   "outputs": [],
   "execution_count": null
  },
  {
   "metadata": {},
   "cell_type": "code",
   "source": "df.head()",
   "id": "eba02433550e9490",
   "outputs": [],
   "execution_count": null
  },
  {
   "metadata": {},
   "cell_type": "code",
   "source": [
    "fig = px.histogram(df, x = \"x_coord\")\n",
    "fig.show()"
   ],
   "id": "c271c25dce8b54f6",
   "outputs": [],
   "execution_count": null
  },
  {
   "metadata": {},
   "cell_type": "code",
   "source": [
    "\n",
    "fig = px.histogram(df, x = \"y_coord\")\n",
    "fig.show()\n"
   ],
   "id": "2d3caba00857b69d",
   "outputs": [],
   "execution_count": null
  },
  {
   "metadata": {},
   "cell_type": "code",
   "source": [
    "fig = px.histogram(df, x = \"z_coord\")\n",
    "fig.show()"
   ],
   "id": "387977775ab4b4c1",
   "outputs": [],
   "execution_count": null
  },
  {
   "metadata": {},
   "cell_type": "markdown",
   "source": "### Normalize numerical data distribution with `power_transform`",
   "id": "148c448c8b47c9a4"
  },
  {
   "metadata": {},
   "cell_type": "code",
   "source": [
    "fig = px.histogram(df.loc[df[\"number_of_reviews\"]<100], x = \"number_of_reviews\")\n",
    "fig.show()"
   ],
   "id": "f9de59bce1ae3d0f",
   "outputs": [],
   "execution_count": null
  },
  {
   "metadata": {},
   "cell_type": "code",
   "source": [
    "fig = px.histogram(df, x = \"accommodates\")\n",
    "fig.show()\n"
   ],
   "id": "b523f26413f39951",
   "outputs": [],
   "execution_count": null
  },
  {
   "metadata": {},
   "cell_type": "code",
   "source": [
    "numerical_positive = [\n",
    "    \"host_listings_count\",\n",
    "    \"host_location\",\n",
    "    \"accommodates\",\n",
    "    \"number_of_reviews\",\n",
    "    \"reviews_per_month\",\n",
    "    \"amenities_benefits\"\n",
    "]"
   ],
   "id": "d318986029e063ff",
   "outputs": [],
   "execution_count": null
  },
  {
   "metadata": {},
   "cell_type": "code",
   "source": "df[numerical_positive].skew().sort_values(ascending=False)",
   "id": "6d02f42370c7893a",
   "outputs": [],
   "execution_count": null
  }
 ],
 "metadata": {
  "kernelspec": {
   "display_name": "Python 3",
   "language": "python",
   "name": "python3"
  },
  "language_info": {
   "codemirror_mode": {
    "name": "ipython",
    "version": 2
   },
   "file_extension": ".py",
   "mimetype": "text/x-python",
   "name": "python",
   "nbconvert_exporter": "python",
   "pygments_lexer": "ipython2",
   "version": "2.7.6"
  }
 },
 "nbformat": 4,
 "nbformat_minor": 5
}
