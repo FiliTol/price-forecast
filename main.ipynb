{
 "cells": [
  {
   "metadata": {},
   "cell_type": "code",
   "outputs": [],
   "execution_count": null,
   "source": [
    "from tqdm.notebook import tqdm\n",
    "\n",
    "tqdm.pandas()"
   ],
   "id": "174fae200d112ed3"
  },
  {
   "metadata": {
    "ExecuteTime": {
     "end_time": "2024-08-07T12:59:43.374977Z",
     "start_time": "2024-08-07T12:59:10.005665Z"
    }
   },
   "cell_type": "code",
   "source": [
    "## Run the following to compute the mappings for host locations\n",
    "#!python3 -m scripts.mappings_host_location\n",
    "\n",
    "## Load Visualization Pipeline for all the periods\n",
    "## Insert one of the following arguments to run the visualization:\n",
    "## - sep\n",
    "## - dic\n",
    "## - mar\n",
    "## - jun\n",
    "\n",
    "#!python3 -m scripts.pipeline_viz sep\n",
    "#!python3 -m scripts.pipeline_viz dic\n",
    "#!python3 -m scripts.pipeline_viz mar\n",
    "#!python3 -m scripts.pipeline_viz jun\n",
    "\n",
    "!python3 -m scripts.pipeline_ML sep\n",
    "!python3 -m scripts.pipeline_ML dic\n",
    "!python3 -m scripts.pipeline_ML mar\n",
    "!python3 -m scripts.pipeline_ML jun"
   ],
   "id": "c472560bfef60d89",
   "outputs": [
    {
     "name": "stdout",
     "output_type": "stream",
     "text": [
      "Accuracy score for test set of sep is 0.9258549480990774\r\n",
      "Accuracy score for test set of dic is 0.5593624398277914\r\n",
      "Accuracy score for test set of mar is 0.6320364272931409\r\n",
      "Accuracy score for test set of jun is 0.37415311879699964\r\n"
     ]
    }
   ],
   "execution_count": 1
  }
 ],
 "metadata": {
  "kernelspec": {
   "display_name": "Python 3",
   "language": "python",
   "name": "python3"
  },
  "language_info": {
   "codemirror_mode": {
    "name": "ipython",
    "version": 2
   },
   "file_extension": ".py",
   "mimetype": "text/x-python",
   "name": "python",
   "nbconvert_exporter": "python",
   "pygments_lexer": "ipython2",
   "version": "2.7.6"
  }
 },
 "nbformat": 4,
 "nbformat_minor": 5
}
