{
 "cells": [
  {
   "cell_type": "code",
   "id": "initial_id",
   "metadata": {
    "collapsed": true,
    "ExecuteTime": {
     "end_time": "2024-07-31T16:31:25.261279Z",
     "start_time": "2024-07-31T16:30:53.627669Z"
    }
   },
   "source": [
    "## Load Visualization Pipeline for December 2023\n",
    "!python3 -m scripts.visualization_pipeline"
   ],
   "outputs": [],
   "execution_count": 15
  },
  {
   "metadata": {
    "ExecuteTime": {
     "end_time": "2024-07-31T16:31:39.711711Z",
     "start_time": "2024-07-31T16:31:39.698401Z"
    }
   },
   "cell_type": "code",
   "source": [
    "import sqlite3\n",
    "import pandas as pd\n",
    "\n",
    "def create_connection(db_file):\n",
    "    conn = sqlite3.connect(db_file)\n",
    "    return conn\n",
    "\n",
    "def create_table(conn):\n",
    "    cursor = conn.cursor()\n",
    "    cursor.execute('''\n",
    "        CREATE TABLE IF NOT EXISTS my_table (\n",
    "            id INTEGER PRIMARY KEY AUTOINCREMENT,\n",
    "            column1 TEXT,\n",
    "            column2 INTEGER,\n",
    "            column3 REAL\n",
    "        )\n",
    "    ''')\n",
    "    conn.commit()\n",
    "\n",
    "def insert_dataframe(conn, df):\n",
    "    df.to_sql('listings', conn, if_exists='replace', index=False)\n",
    "    \n",
    "def main():\n",
    "    database = 'data/database.sqlite'\n",
    "    conn = create_connection(database)\n",
    "    \n",
    "    create_table(conn)\n",
    "    df = pd.read_pickle(\"data/pickles/december_listings_viz.pkl\")\n",
    "    insert_dataframe(conn, df)\n",
    "    \n",
    "    conn.close()"
   ],
   "id": "f5c37540c6c8ddd8",
   "outputs": [],
   "execution_count": 16
  },
  {
   "metadata": {
    "ExecuteTime": {
     "end_time": "2024-07-31T16:31:42.210440Z",
     "start_time": "2024-07-31T16:31:41.506253Z"
    }
   },
   "cell_type": "code",
   "source": "main()",
   "id": "17ee3ecfdbb113fb",
   "outputs": [],
   "execution_count": 17
  },
  {
   "metadata": {
    "ExecuteTime": {
     "end_time": "2024-07-31T18:57:27.031980Z",
     "start_time": "2024-07-31T18:57:26.999093Z"
    }
   },
   "cell_type": "code",
   "source": [
    "import pandas as pd\n",
    "graph = pd.read_pickle(\"data/pickles/december_listings_viz.pkl\")\n",
    "type(graph['host_response_rate'])"
   ],
   "id": "ff39e22d24e206e4",
   "outputs": [
    {
     "data": {
      "text/plain": [
       "pandas.core.series.Series"
      ]
     },
     "execution_count": 26,
     "metadata": {},
     "output_type": "execute_result"
    }
   ],
   "execution_count": 26
  }
 ],
 "metadata": {
  "kernelspec": {
   "display_name": "Python 3",
   "language": "python",
   "name": "python3"
  },
  "language_info": {
   "codemirror_mode": {
    "name": "ipython",
    "version": 2
   },
   "file_extension": ".py",
   "mimetype": "text/x-python",
   "name": "python",
   "nbconvert_exporter": "python",
   "pygments_lexer": "ipython2",
   "version": "2.7.6"
  }
 },
 "nbformat": 4,
 "nbformat_minor": 5
}
