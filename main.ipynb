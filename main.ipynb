{
 "cells": [
  {
   "metadata": {
    "ExecuteTime": {
     "end_time": "2024-08-07T16:38:29.710415Z",
     "start_time": "2024-08-07T16:38:28.891589Z"
    }
   },
   "cell_type": "code",
   "source": [
    "from tqdm.notebook import tqdm\n",
    "import pandas as pd\n",
    "import os\n",
    "import re\n",
    "\n",
    "tqdm.pandas()"
   ],
   "id": "174fae200d112ed3",
   "outputs": [],
   "execution_count": 1
  },
  {
   "metadata": {},
   "cell_type": "code",
   "source": [
    "## Run the following to compute the mappings for host locations\n",
    "#!python3 -m scripts.mappings_host_location\n",
    "\n",
    "## Load Visualization Pipeline for all the periods\n",
    "## Insert one of the following arguments to run the visualization:\n",
    "## - sep\n",
    "## - dic\n",
    "## - mar\n",
    "## - jun\n",
    "\n",
    "#!python3 -m scripts.pipeline_viz sep\n",
    "#!python3 -m scripts.pipeline_viz dic\n",
    "#!python3 -m scripts.pipeline_viz mar\n",
    "#!python3 -m scripts.pipeline_viz jun\n",
    "\n",
    "#!python3 -m scripts.pipeline_ML sep\n",
    "#!python3 -m scripts.pipeline_ML dic\n",
    "#!python3 -m scripts.pipeline_ML mar\n",
    "#!python3 -m scripts.pipeline_ML jun"
   ],
   "id": "c472560bfef60d89",
   "outputs": [],
   "execution_count": null
  },
  {
   "metadata": {},
   "cell_type": "markdown",
   "source": "# Multiple city analysis",
   "id": "d83a8dbfd0a1f20a"
  },
  {
   "metadata": {
    "ExecuteTime": {
     "end_time": "2024-08-07T16:38:34.882743Z",
     "start_time": "2024-08-07T16:38:30.428066Z"
    }
   },
   "cell_type": "code",
   "source": [
    "datasets = {}\n",
    "\n",
    "for file in os.listdir(\"data/all_cities\"):\n",
    "    pattern = r'_(\\w{2})'\n",
    "    match = re.search(pattern, file)\n",
    "    result = match.group(1)\n",
    "    datasets[f\"df_{result}\"] = pd.read_csv(f\"data/all_cities/{file}\")"
   ],
   "id": "ab0b0e6e31a7a40d",
   "outputs": [],
   "execution_count": 2
  },
  {
   "metadata": {
    "ExecuteTime": {
     "end_time": "2024-08-07T16:38:34.942860Z",
     "start_time": "2024-08-07T16:38:34.886673Z"
    }
   },
   "cell_type": "code",
   "source": "df = pd.concat([value for key,value in datasets.items()], ignore_index=True)",
   "id": "1b8e7ce09a57c892",
   "outputs": [],
   "execution_count": 3
  },
  {
   "metadata": {
    "ExecuteTime": {
     "end_time": "2024-08-07T16:38:34.959491Z",
     "start_time": "2024-08-07T16:38:34.945509Z"
    }
   },
   "cell_type": "code",
   "source": "df.shape",
   "id": "4f48c03619b1225a",
   "outputs": [
    {
     "data": {
      "text/plain": [
       "(96015, 75)"
      ]
     },
     "execution_count": 4,
     "metadata": {},
     "output_type": "execute_result"
    }
   ],
   "execution_count": 4
  }
 ],
 "metadata": {
  "kernelspec": {
   "display_name": "Python 3",
   "language": "python",
   "name": "python3"
  },
  "language_info": {
   "codemirror_mode": {
    "name": "ipython",
    "version": 2
   },
   "file_extension": ".py",
   "mimetype": "text/x-python",
   "name": "python",
   "nbconvert_exporter": "python",
   "pygments_lexer": "ipython2",
   "version": "2.7.6"
  }
 },
 "nbformat": 4,
 "nbformat_minor": 5
}
