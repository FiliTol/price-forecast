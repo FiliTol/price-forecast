{
 "cells": [
  {
   "metadata": {},
   "cell_type": "code",
   "source": [
    "from tqdm.notebook import tqdm\n",
    "import pandas as pd\n",
    "import os\n",
    "import re\n",
    "import matplotlib.pyplot as plt\n",
    "\n",
    "tqdm.pandas()"
   ],
   "id": "174fae200d112ed3",
   "outputs": [],
   "execution_count": null
  },
  {
   "metadata": {},
   "cell_type": "code",
   "source": [
    "## Run the following to compute the mappings for host locations\n",
    "#!python3 -m scripts.mappings_host_location_all_cities\n",
    "\n",
    "## Load Visualization Pipeline\n",
    "#!python3 -m scripts.pipeline_all_cities_viz\n",
    "\n",
    "## Load ML pipeline\n",
    "#!python3 -m scripts.pipeline_ML"
   ],
   "id": "4553ee22eba0240e",
   "outputs": [],
   "execution_count": null
  },
  {
   "metadata": {},
   "cell_type": "code",
   "source": "df = pd.read_pickle(\"data/pickles/total_listings_viz.pkl\")",
   "id": "381f4ae14b4387d5",
   "outputs": [],
   "execution_count": null
  },
  {
   "metadata": {},
   "cell_type": "code",
   "source": "df.columns.tolist()",
   "id": "47d15f049d598d3b",
   "outputs": [],
   "execution_count": null
  },
  {
   "metadata": {},
   "cell_type": "markdown",
   "source": "## Visualize neighbourhoods",
   "id": "e21ac184b0a65c09"
  },
  {
   "metadata": {},
   "cell_type": "code",
   "source": [
    "neigh_list = df[\"neighbourhood_cleansed\"].tolist()\n",
    "neigh_counter = {x:neigh_list.count(x) for x in neigh_list}\n",
    "neigh_counter = dict(sorted(neigh_counter.items(), key=lambda item: item[1], reverse=True))\n",
    "\n",
    "neigh_counter\n"
   ],
   "id": "1d25a211efe22bbc",
   "outputs": [],
   "execution_count": null
  },
  {
   "metadata": {},
   "cell_type": "code",
   "source": "df = pd.read_pickle(\"data/pickles/total_listings_exploration_handling.pkl\")",
   "id": "a32f3a462aa15278",
   "outputs": [],
   "execution_count": null
  },
  {
   "metadata": {},
   "cell_type": "code",
   "source": "df.head()",
   "id": "eba02433550e9490",
   "outputs": [],
   "execution_count": null
  },
  {
   "metadata": {},
   "cell_type": "code",
   "source": "df.dtypes",
   "id": "8914ef5dc152ad17",
   "outputs": [],
   "execution_count": null
  },
  {
   "metadata": {},
   "cell_type": "code",
   "source": "len((df[\"neighbourhood_cleansed\"]+\"-\"+df[\"listing_city\"]).unique().tolist())",
   "id": "4eb45e3a97d793ca",
   "outputs": [],
   "execution_count": null
  },
  {
   "metadata": {},
   "cell_type": "code",
   "source": [
    "neigh_list = df[\"listing_city\"].tolist()\n",
    "neigh_counter = {x:neigh_list.count(x) for x in neigh_list}\n",
    "neigh_counter = dict(sorted(neigh_counter.items(), key=lambda item: item[1], reverse=True))\n",
    "\n",
    "neigh_counter"
   ],
   "id": "34803ee165590f34",
   "outputs": [],
   "execution_count": null
  }
 ],
 "metadata": {
  "kernelspec": {
   "display_name": "Python 3",
   "language": "python",
   "name": "python3"
  },
  "language_info": {
   "codemirror_mode": {
    "name": "ipython",
    "version": 2
   },
   "file_extension": ".py",
   "mimetype": "text/x-python",
   "name": "python",
   "nbconvert_exporter": "python",
   "pygments_lexer": "ipython2",
   "version": "2.7.6"
  }
 },
 "nbformat": 4,
 "nbformat_minor": 5
}
