{
 "cells": [
  {
   "cell_type": "code",
   "id": "initial_id",
   "metadata": {
    "collapsed": true
   },
   "source": [
    "import pandas as pd\n",
    "from sklearn.pipeline import Pipeline\n",
    "from sklearn.preprocessing import FunctionTransformer\n",
    "from sklearn.feature_extraction.text import TfidfVectorizer\n",
    "import re\n",
    "from scripts.custom.tools import JsonHandler\n",
    "from scripts.custom.transformers import GeographicTransformer\n",
    "from scripts.custom.transformers import CreateStrategicLocationTransformer\n",
    "from scripts.custom.transformers import VectorToDataFrame\n",
    "from scripts.custom.transformers import NeighborhoodMapper\n",
    "from scripts.custom.transformers import BathroomsTransformer\n",
    "\n",
    "\n",
    "pd.options.display.float_format = '{:.0f}'.format\n",
    "handler = JsonHandler()"
   ],
   "outputs": [],
   "execution_count": null
  },
  {
   "metadata": {},
   "cell_type": "code",
   "source": [
    "# Import mappings data\n",
    "\n",
    "host_locations = handler.import_from_json(\"data/mappings/host_locations.json\")\n",
    "strategic_locations = handler.import_from_json(\"data/mappings/strategic_locations.json\")\n",
    "neighbourhood_levels = handler.import_from_json(\"data/mappings/neighbourhoods_levels.json\")\n",
    "remap_baths = handler.import_from_json('data/mappings/baths.json')\n"
   ],
   "id": "3d24135e3f1738eb",
   "outputs": [],
   "execution_count": null
  },
  {
   "metadata": {},
   "cell_type": "code",
   "source": [
    "df_listings = pd.read_csv(\"data/2023dic/d_listings.csv\")\n",
    "df_listings.drop(labels=[\"listing_url\", \"name\", \"scrape_id\", \"last_scraped\", \"source\", \"description\", \"picture_url\", \"host_url\",\n",
    "                         \"host_name\", \"host_thumbnail_url\", \"host_picture_url\", \"host_neighbourhood\", \"neighbourhood\",\n",
    "                         \"neighbourhood_group_cleansed\", \"property_type\", \"amenities\", \"minimum_minimum_nights\",\n",
    "                         \"maximum_minimum_nights\", \"minimum_maximum_nights\", \"maximum_maximum_nights\", \"minimum_nights_avg_ntm\",\n",
    "                         \"maximum_nights_avg_ntm\", \"has_availability\", \"availability_30\", \"availability_60\", \"availability_90\",\n",
    "                         \"availability_365\", \"calendar_updated\", \"calendar_last_scraped\", \"number_of_reviews_ltm\",\n",
    "                         \"number_of_reviews_l30d\", \"license\", \"instant_bookable\"],\n",
    "                 axis=1,\n",
    "                 inplace=True)"
   ],
   "id": "6cf180bc5b7ac523",
   "outputs": [],
   "execution_count": null
  },
  {
   "metadata": {},
   "cell_type": "markdown",
   "source": "**The following chunck is probably needed after this visualization pipeline**",
   "id": "d27330e825cc86e8"
  },
  {
   "metadata": {},
   "cell_type": "code",
   "source": [
    "## Drop rows with NaN in target \n",
    "#df_listings = df_listings.loc[df_listings['price'].notnull(), :]\n",
    "#df_listings.price.isnull().sum()\n",
    "\n",
    "#X = df_listings.drop([\"price\"], axis=1, inplace=False)\n",
    "#y = df_listings[\"price\"]\n",
    "\n",
    "#X_train, X_test, y_train, y_test = train_test_split(X, y, test_size=0.3, random_state=874631)\n"
   ],
   "id": "3f9f153a37911bc7",
   "outputs": [],
   "execution_count": null
  },
  {
   "metadata": {},
   "cell_type": "code",
   "source": [
    "def drop_features_with_many_nan(x: pd.DataFrame) -> pd.DataFrame:\n",
    "    nulls_summary = pd.DataFrame(df_listings.isnull().sum())\n",
    "    more_than_null_features = nulls_summary.loc[nulls_summary.iloc[:, 0] > df_listings.shape[0]*0.5, :].index.tolist()\n",
    "    return x.drop(more_than_null_features, axis=1)\n",
    "\n",
    "fun_tr_drop_features_with_many_nan = FunctionTransformer(drop_features_with_many_nan)"
   ],
   "id": "c5978ab20ef7796",
   "outputs": [],
   "execution_count": null
  },
  {
   "metadata": {},
   "cell_type": "markdown",
   "source": "## Define groups for data transformation",
   "id": "4619392d43c4fa28"
  },
  {
   "metadata": {},
   "cell_type": "markdown",
   "source": [
    "### Geographical Features\n",
    "\n",
    "***Directly on the Feature elaboration pipeline***\n"
   ],
   "id": "755900984221522c"
  },
  {
   "metadata": {},
   "cell_type": "markdown",
   "source": "### String features",
   "id": "75cdfcb5a9dfbcdf"
  },
  {
   "metadata": {},
   "cell_type": "code",
   "source": [
    "string_features = [\"neighborhood_overview\",\n",
    "                   \"host_about\"]\n",
    "\n",
    "def transform_nan_unicode(text_series):\n",
    "    return text_series.fillna(\"\").astype('U')\n",
    "\n",
    "text_encoding_pipeline = Pipeline(steps=[\n",
    "    (\"text preprocessing\", FunctionTransformer(transform_nan_unicode, validate=False)),\n",
    "    (\"tf-idf vectorizer\", TfidfVectorizer(encoding='utf-8',\n",
    "                                          decode_error='ignore',\n",
    "                                          strip_accents='unicode',\n",
    "                                          lowercase=True,\n",
    "                                          analyzer='word',\n",
    "                                          max_df=0.8,\n",
    "                                          use_idf=True,\n",
    "                                          smooth_idf=True,\n",
    "                                          max_features = 30)\n",
    "     ),\n",
    "    (\"Vectors into dataframe\", VectorToDataFrame())\n",
    "])\n"
   ],
   "id": "3f2f6b7237a34b54",
   "outputs": [],
   "execution_count": null
  },
  {
   "metadata": {},
   "cell_type": "markdown",
   "source": "### ID features",
   "id": "dfb622d4eee327c9"
  },
  {
   "metadata": {},
   "cell_type": "code",
   "source": [
    "id_feature = [\"id\",\n",
    "              \"host_id\"]\n",
    "\n",
    "def id_to_string(id_object) -> str:\n",
    "    return id_object.astype(str)\n",
    "\n",
    "id_pipeline = Pipeline(steps=[\n",
    "    (\"From ID to string\", FunctionTransformer(id_to_string))\n",
    "])\n"
   ],
   "id": "292ddfeec544d581",
   "outputs": [],
   "execution_count": null
  },
  {
   "metadata": {},
   "cell_type": "markdown",
   "source": "### Rates features",
   "id": "c8a69e0ca2efac17"
  },
  {
   "metadata": {},
   "cell_type": "code",
   "source": [
    "rate_feature = [\"host_response_rate\",\n",
    "                \"host_acceptance_rate\"]\n",
    "\n",
    "def from_string_to_rate(rate_string: str) -> float:\n",
    "    return rate_string.str.rstrip('%').astype(float)\n",
    "\n",
    "rates_pipeline = Pipeline(steps=[\n",
    "    (\"Transform response rate\", FunctionTransformer(from_string_to_rate))\n",
    "])"
   ],
   "id": "222bdedf65f1d7ba",
   "outputs": [],
   "execution_count": null
  },
  {
   "metadata": {},
   "cell_type": "markdown",
   "source": "### Time features",
   "id": "94ef10fa86378680"
  },
  {
   "metadata": {},
   "cell_type": "code",
   "source": [
    "time_feature = [\"host_since\",\n",
    "                \"first_review\",\n",
    "                \"last_review\"]\n",
    "\n",
    "def transform_to_datetime(text_date: str) -> pd.Timestamp | pd.Timestamp:\n",
    "    return pd.to_datetime(text_date)\n",
    "\n",
    "timestamp_pipeline = Pipeline(steps=[\n",
    "    (\"Transform to timestamp\", FunctionTransformer(transform_to_datetime))\n",
    "])"
   ],
   "id": "561c1cfef5706295",
   "outputs": [],
   "execution_count": null
  },
  {
   "metadata": {},
   "cell_type": "markdown",
   "source": [
    " ## Categorical features\n",
    " \n",
    "### Neighbourhoods features"
   ],
   "id": "6ad49c40c607c967"
  },
  {
   "metadata": {},
   "cell_type": "code",
   "source": [
    "neighbourhood_feature = [\"neighbourhood_cleansed\"]\n",
    "\n",
    "neighbourhood_pipeline = Pipeline(steps=[\n",
    "    ('Neighbourhood Mapper', NeighborhoodMapper(mapping=neighbourhood_levels))\n",
    "])\n"
   ],
   "id": "c4b63f68bce30510",
   "outputs": [],
   "execution_count": null
  },
  {
   "metadata": {},
   "cell_type": "markdown",
   "source": "### Verifications Feature",
   "id": "41d97ee3c79387a4"
  },
  {
   "metadata": {},
   "cell_type": "code",
   "source": [
    "def new_features_for_verifications(df: pd.DataFrame) -> pd.DataFrame:\n",
    "    df['email_verification'] = 'f'\n",
    "    df['phone_verification'] = 'f'\n",
    "    df['work_email_verification'] = 'f'\n",
    "    return df\n",
    "\n",
    "def allocate_verifications_to_variables(row):\n",
    "    if \"email\" in row[\"host_verifications\"]:\n",
    "        row[\"email_verification\"] = 't'\n",
    "    if \"phone\" in row[\"host_verifications\"]:\n",
    "        row[\"phone_verification\"] = 't'\n",
    "    if \"work_email\" in row[\"host_verifications\"]:\n",
    "        row[\"work_email_verification\"] = 't'\n",
    "    return row\n",
    "\n",
    "def apply_on_every_row(df: pd.DataFrame) -> pd.DataFrame:\n",
    "    return df.apply(allocate_verifications_to_variables, axis=1)\n",
    "\n",
    "verifications_pipeline = Pipeline(steps=[\n",
    "    ('Create features', FunctionTransformer(new_features_for_verifications)),\n",
    "    ('Allocate verifications', FunctionTransformer(apply_on_every_row))\n",
    "])\n"
   ],
   "id": "edb1645163407202",
   "outputs": [],
   "execution_count": null
  },
  {
   "metadata": {},
   "cell_type": "markdown",
   "source": "### Bathrooms text feature",
   "id": "edda8d7f63f2dbd5"
  },
  {
   "metadata": {},
   "cell_type": "code",
   "source": [
    "bathroom_text_feature = [\"bathrooms_text\"]\n",
    "\n",
    "bathrooms_pipeline = Pipeline(steps=[\n",
    "    ('Remap bathrooms text', BathroomsTransformer(remap_baths))\n",
    "])    "
   ],
   "id": "2ecd8f327d4daedb",
   "outputs": [],
   "execution_count": null
  },
  {
   "metadata": {},
   "cell_type": "markdown",
   "source": "### Price feature",
   "id": "542bf82a72ee2d43"
  },
  {
   "metadata": {},
   "cell_type": "code",
   "source": [
    "price_feature = ['price']\n",
    "\n",
    "def remove_symbols(text):\n",
    "    try:\n",
    "        cleaned_text = re.sub(r'[$,]', '', text)\n",
    "        return cleaned_text.strip()\n",
    "    except:\n",
    "        return None\n",
    "    \n",
    "def remove_dollar_sign(df: pd.DataFrame) -> pd.DataFrame:\n",
    "    df['price'] = df['price'].apply(remove_symbols).astype(float)\n",
    "    return df\n",
    "    \n",
    "price_pipeline = Pipeline(steps=[\n",
    "    (\"Trim price feature\", FunctionTransformer(remove_dollar_sign))\n",
    "])\n",
    "    "
   ],
   "id": "b2eb5e6b3365797b",
   "outputs": [],
   "execution_count": null
  },
  {
   "metadata": {},
   "cell_type": "markdown",
   "source": "## Aggregate visualization dataset",
   "id": "1d8ad1cb51c8d253"
  },
  {
   "metadata": {},
   "cell_type": "code",
   "source": [
    "from sklearn import set_config\n",
    "set_config(transform_output = \"pandas\")\n",
    "\n",
    "# Apply to all dataset (feature engineering using other features)\n",
    "feature_creation_pipeline = Pipeline(steps=[\n",
    "    (\"Create Strategic locations distance\", CreateStrategicLocationTransformer(locations=strategic_locations)),\n",
    "    ('Host location transformer', GeographicTransformer(column=\"host_location\", locations=host_locations)),\n",
    "])\n",
    "\n",
    "# Features pipeline: apply to single columns elaboration\n",
    "visualization_pipeline = Pipeline(steps=[\n",
    "    (\"Text encoding\", text_encoding_pipeline, string_features),\n",
    "    (\"Id\", id_pipeline, id_feature),\n",
    "    (\"Rates\", rates_pipeline, rate_feature),\n",
    "    (\"Timestamp\", timestamp_pipeline, time_feature),\n",
    "    (\"Neighbourhood\", neighbourhood_pipeline, neighbourhood_feature),\n",
    "    (\"Verifications\", verifications_pipeline, df_listings),\n",
    "    (\"Bathrooms\", bathrooms_pipeline, bathroom_text_feature),\n",
    "    (\"Price\", price_pipeline, price_feature)\n",
    "])\n",
    "\n",
    "#preprocessor = ColumnTransformer(transformers=[\n",
    "#    (\"Geographic\", geographic_pipeline, df_listings),\n",
    "#    (\"Text encoding\", text_encoding_pipeline, string_features),\n",
    "#    (\"Id\", id_pipeline, id_feature),\n",
    "#    (\"Rates\", rates_pipeline, rate_feature),\n",
    "#    (\"Timestamp\", timestamp_pipeline, time_feature),\n",
    "#    (\"Neighbourhood\", neighbourhood_pipeline, neighbourhood_feature),\n",
    "#    (\"Verifications\", verifications_pipeline, df_listings),\n",
    "#    (\"Bathrooms\", bathrooms_pipeline, bathroom_text_feature),\n",
    "#    (\"Price\", price_pipeline, price_feature)\n",
    "#],\n",
    "#    remainder=\"passthrough\",\n",
    "#    n_jobs=-1\n",
    "#)"
   ],
   "id": "772205159d1e3b76",
   "outputs": [],
   "execution_count": null
  },
  {
   "metadata": {},
   "cell_type": "code",
   "source": [
    "from sklearn.utils import estimator_html_repr\n",
    "with open('data/visual/visualization_pipeline.html', 'w') as f:  \n",
    "    f.write(estimator_html_repr(visualization_pipeline))\n"
   ],
   "id": "b3f58f3e1a70c552",
   "outputs": [],
   "execution_count": null
  },
  {
   "metadata": {},
   "cell_type": "code",
   "source": "visualization_pipeline.fit_transform(df_listings)",
   "id": "61aff34319152efb",
   "outputs": [],
   "execution_count": null
  },
  {
   "metadata": {},
   "cell_type": "markdown",
   "source": "# Pipeline for visualization ENDED",
   "id": "60498a2684c269c1"
  },
  {
   "metadata": {},
   "cell_type": "markdown",
   "source": "## Numerical features",
   "id": "e9e054fc6211afeb"
  },
  {
   "metadata": {},
   "cell_type": "code",
   "source": [
    "num_features = [\"host_listings_count\", \"host_total_listings_count\", \"accommodates\", \"bathrooms\", \"bedrooms\", \"beds\",\n",
    "                \"minimum_nights\", \"maximum_nights\", \"number_of_reviews\", \"review_scores_rating\", \"review_scores_accuracy\",\n",
    "                \"review_scores_cleanliness\", \"review_scores_checkin\", \"review_scores_communication\",\n",
    "                \"review_scores_location\", \"review_scores_value\", \"calculated_host_listings_count\",\n",
    "                \"calculated_host_listings_count_entire_homes\", \"calculated_host_listings_count_private_rooms\",\n",
    "                \"calculated_host_listings_count_shared_rooms\", \"reviews_per_month\"\n",
    "                ]"
   ],
   "id": "4a5eec912159bebd",
   "outputs": [],
   "execution_count": null
  },
  {
   "metadata": {},
   "cell_type": "markdown",
   "source": "### Add and manipulate features",
   "id": "79720a1c16896a6a"
  }
 ],
 "metadata": {
  "kernelspec": {
   "display_name": "Python 3",
   "language": "python",
   "name": "python3"
  },
  "language_info": {
   "codemirror_mode": {
    "name": "ipython",
    "version": 2
   },
   "file_extension": ".py",
   "mimetype": "text/x-python",
   "name": "python",
   "nbconvert_exporter": "python",
   "pygments_lexer": "ipython2",
   "version": "2.7.6"
  }
 },
 "nbformat": 4,
 "nbformat_minor": 5
}
