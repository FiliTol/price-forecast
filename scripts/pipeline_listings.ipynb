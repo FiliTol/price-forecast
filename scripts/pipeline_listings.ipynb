{
 "cells": [
  {
   "cell_type": "code",
   "id": "initial_id",
   "metadata": {
    "collapsed": true,
    "ExecuteTime": {
     "end_time": "2024-07-28T12:47:34.072430Z",
     "start_time": "2024-07-28T12:47:30.711125Z"
    }
   },
   "source": [
    "import pandas as pd\n",
    "pd.options.display.float_format = '{:.0f}'.format\n",
    "import numpy as np\n",
    "import matplotlib.pyplot as plt\n",
    "from geopy.geocoders import Nominatim\n",
    "from geopy.distance import geodesic\n",
    "from geopy.extra.rate_limiter import RateLimiter\n",
    "from tqdm import tqdm\n",
    "import json\n",
    "from sklearn.model_selection import train_test_split\n",
    "#from sklearn.pipeline import Pipeline\n",
    "from sklearn.preprocessing import MinMaxScaler, StandardScaler\n",
    "from feature_engine.imputation import AddMissingIndicator, MeanMedianImputer\n",
    "from feature_engine.pipeline import Pipeline\n"
   ],
   "outputs": [],
   "execution_count": 1
  },
  {
   "metadata": {
    "ExecuteTime": {
     "end_time": "2024-07-28T12:47:34.345925Z",
     "start_time": "2024-07-28T12:47:34.075609Z"
    }
   },
   "cell_type": "code",
   "source": [
    "df_listings = pd.read_csv(\"../data/2023dic/d_listings.csv\")\n",
    "#df_listings = df_listings[['id', 'neighborhood_overview', 'host_id', 'host_since', 'host_location', 'host_about',\n",
    "#                           'host_response_time', 'host_response_rate', 'host_acceptance_rate', 'host_is_superhost',\n",
    "#                           'host_listings_count', 'host_total_listings_count', 'host_verifications',\n",
    "#                           'host_has_profile_pic', 'host_identity_verified', 'neighbourhood_cleansed',\n",
    "#                           'latitude', 'longitude', 'room_type',\n",
    "#                           'accommodates', 'bathrooms_text', 'beds', 'price',\n",
    "#                           'minimum_nights_avg_ntm', 'maximum_nights_avg_ntm', 'has_availability', 'availability_30',\n",
    "#                           'availability_60', 'availability_90', 'availability_365', 'number_of_reviews', 'first_review',\n",
    "#                           'last_review', 'review_scores_rating', 'review_scores_accuracy', 'review_scores_cleanliness',\n",
    "#                           'review_scores_checkin', 'review_scores_communication', 'review_scores_location',\n",
    "#                           'review_scores_value', 'calculated_host_listings_count',\n",
    "#                           'calculated_host_listings_count_entire_homes', 'calculated_host_listings_count_private_rooms',\n",
    "#                           'calculated_host_listings_count_shared_rooms', 'reviews_per_month']]"
   ],
   "id": "6cf180bc5b7ac523",
   "outputs": [],
   "execution_count": 2
  },
  {
   "metadata": {
    "ExecuteTime": {
     "end_time": "2024-07-28T12:47:34.371968Z",
     "start_time": "2024-07-28T12:47:34.350109Z"
    }
   },
   "cell_type": "code",
   "source": [
    "df_listings.drop(labels=[\"listing_url\", \"name\", \"scrape_id\", \"last_scraped\", \"source\", \"description\", \"picture_url\", \"host_url\",\n",
    "                         \"host_name\", \"host_thumbnail_url\", \"host_picture_url\", \"host_neighbourhood\", \"neighbourhood\",\n",
    "                         \"neighbourhood_group_cleansed\", \"property_type\", \"amenities\", \"minimum_minimum_nights\",\n",
    "                         \"maximum_minimum_nights\", \"minimum_maximum_nights\", \"maximum_maximum_nights\", \"minimum_nights_avg_ntm\",\n",
    "                         \"maximum_nights_avg_ntm\", \"calendar_updated\", \"calendar_last_scraped\", \"number_of_reviews_ltm\",\n",
    "                         \"number_of_reviews_l30d\", \"license\", \"instant_bookable\"],\n",
    "                 axis=1,\n",
    "                 inplace=True)"
   ],
   "id": "d7b761af79c6b9f4",
   "outputs": [],
   "execution_count": 3
  },
  {
   "metadata": {},
   "cell_type": "code",
   "source": "df_listings.head()",
   "id": "3f9f153a37911bc7",
   "outputs": [],
   "execution_count": null
  },
  {
   "metadata": {},
   "cell_type": "markdown",
   "source": [
    "## Feature engineering\n",
    "\n",
    "- `first_review` to `last_review` as date span\n",
    "- `host_listings_count` as a % of `host_total_listings_count`\n",
    "- Manage `neighbourhoods_cleansed` as a OHE of most frequent categories\n",
    "- Distance between host home and listing location\n",
    "- Distance between listing and relevant locations in town\n",
    "- `host_since` encoded as *days of activity until period end (end of dataset scraping)*\n",
    "- Sentiment of `neighborhood_overview` (investigate best sentiment technique for descriptions of appartments)\n",
    "- Sentiment of `host_about` (investigate best sentiment technique for description of people)\n",
    "- `host_id` and `id` as categorial\n",
    "- `host_response_time` as ordinal variable\n",
    "- string manipulation for `host_response_rate` and `host_acceptance_rate`\n",
    "- `host_is_superhost` as binary categorial\n",
    "- `host_verifications` as encoded in previous script\n",
    "- `host_has_profile_pic` as binary\n",
    "- `host_identity_verified` as binary\n",
    "- keep `room_type` instead of `property_type` and make `room_type` a categorial with OHE\n",
    "- `accomodates` used with `baths`, `beds` to compute the rate of beds and bathrooms for every person\n",
    "- `price` with string manipulation\n",
    "- `minimum_nighs_avg_ntm` as float\n",
    "- `maximum_nights_avg_ntm` as float\n",
    "- `has_availability` as binary\n",
    "- all the `has_availability_NUMBER` as a % of the NUMBER of the feature\n",
    "- `number_of_reviews` as an integer\n",
    "- `review_scores_rating` as float\n",
    "- all the reviews scores as float\n",
    "- remove `calculated_host_listings_count` and keep the other three BUT **set them as % of the total host listings**\n",
    "- `reviews_per_month` as float\n",
    "- `longitude` and `latitude` standardization (because the values are both negatives and positives)"
   ],
   "id": "79ce926a42d01763"
  },
  {
   "metadata": {},
   "cell_type": "markdown",
   "source": [
    "## Transform feature datatypes\n",
    "\n",
    "In this section we execute the feature engineering without dealing with null values.\n",
    "We do it because once the types are cleaned, we want to plot a bit the data and explore it to see what is going on\n",
    "with NAs, frequency distribution, numeric distributions etc.\n",
    "In order to do so, we need to:\n",
    "1. Generalise the pipeline, because we would like to apply this script also to other similar dataset\n",
    "2. Return exceptions for NAs, to carry them on to the data exploration section\n",
    "\n",
    "> ***NOTE*** that the `feature-engine` library enables us to split the dataset into train and test just after the data type and feature engineering. This because the library contains some functions for [preprocessing](https://feature-engine.trainindata.com/en/latest/user_guide/preprocessing/index.html) that can deal with removed rows and features afterwards\n",
    "\n",
    "- [Useful library for feature engineering](https://feature-engine.trainindata.com/en/latest/quickstart/index.html)"
   ],
   "id": "d7e6ae9af4aec729"
  },
  {
   "metadata": {},
   "cell_type": "code",
   "source": "df_listings.dtypes",
   "id": "4f54f8f00bfdeb20",
   "outputs": [],
   "execution_count": null
  },
  {
   "metadata": {},
   "cell_type": "code",
   "source": "# https://feature-engine.trainindata.com/en/latest/quickstart/index.html",
   "id": "90c2e3980ad0d04b",
   "outputs": [],
   "execution_count": null
  },
  {
   "metadata": {},
   "cell_type": "markdown",
   "source": "### Transform data types",
   "id": "11c67b451d33781d"
  },
  {
   "metadata": {},
   "cell_type": "code",
   "source": [
    "def retrieve_host_location(df: pd.DataFrame) -> dict:\n",
    "    \"\"\"\n",
    "    From a dataset of listings, extracts the list of unique host locations\n",
    "    and retrieve latitude and longitude of every location\n",
    "    :param df: pandas dataframe of listings\n",
    "    :return: dict of locations: [latitude, longitude]\n",
    "    \"\"\"\n",
    "    location_geo = {}\n",
    "    try:\n",
    "        for l in df.host_location.unique().tolist():\n",
    "            geolocator = Nominatim(user_agent=\"Host to listing distance\")\n",
    "            geocode = RateLimiter(geolocator.geocode, min_delay_seconds=1.1)\n",
    "            host_location = geolocator.geocode(l)\n",
    "            location_geo[l] = (host_location.latitude, host_location.longitude)\n",
    "        return location_geo\n",
    "    except:\n",
    "        return None\n",
    "\n",
    "\n",
    "def export_to_json(dict_object: dict, path: str) -> None:\n",
    "    \"\"\"\n",
    "    Given a dict with host locations, saves it to custom path\n",
    "    :param dict_object: dictionary to be saved as json\n",
    "    :param path: str with the path where to save json\n",
    "    :return: None\n",
    "    \"\"\"\n",
    "    with open(path, 'w') as f:\n",
    "        json.dump(dict_object, f)\n",
    "    return\n",
    "\n",
    "\n",
    "def import_from_json(path: str) -> dict:\n",
    "    \"\"\"\n",
    "    Import host location from saved json\n",
    "    :param path: path where the json is saved\n",
    "    :return: json in dictionary form\n",
    "    \"\"\"\n",
    "    with open(path, 'r') as f:\n",
    "        dict_object = json.load(f)\n",
    "    return dict_object\n",
    "\n",
    "\n",
    "def transform_to_coordinates(entry, locations: dict) -> list[int, int]:\n",
    "    \"\"\"\n",
    "    Given an entry and a dictionary, returns the latitude, longitude for\n",
    "    the entry that are saved in the dictionary\n",
    "    :param entry: entry (from dataframe)\n",
    "    :param locations: dict of locations:[latitude, longitude]\n",
    "    :return: [latitude, longitude]\n",
    "    \"\"\"\n",
    "    try:\n",
    "        return locations.get(entry)\n",
    "    except:\n",
    "        return None\n",
    "\n",
    "\n",
    "def geodesic_distancer(row, from_loc: str):\n",
    "    try:\n",
    "        coords_1 = (row[f\"{from_loc}\"][0], row[f\"{from_loc}\"][1])\n",
    "        coords_2 = (row[\"latitude\"], row[\"longitude\"])\n",
    "        return geodesic(coords_1, coords_2).km\n",
    "    except:\n",
    "        return None\n",
    "\n",
    "\n",
    "def compute_distance(entry) -> float:\n",
    "    \"\"\"\n",
    "    Given a row in the \n",
    "    :param entry: \n",
    "    :return: \n",
    "    \"\"\"\n",
    "    pass"
   ],
   "id": "f8828c589b579637",
   "outputs": [],
   "execution_count": null
  },
  {
   "metadata": {},
   "cell_type": "code",
   "source": "",
   "id": "88e10d3761bd4af3",
   "outputs": [],
   "execution_count": null
  },
  {
   "metadata": {},
   "cell_type": "code",
   "source": [
    "def transform_to_string(text) -> str:\n",
    "    try:\n",
    "        return str(text)\n",
    "    except:\n",
    "        return None\n",
    "\n",
    "\n",
    "def transform_to_date(date) -> pd.DatetimeTZDtype:\n",
    "    try:\n",
    "        return pd.to_datetime(date)\n",
    "    except:\n",
    "        return None\n",
    "        \n",
    "\n",
    "\n"
   ],
   "id": "6e8ed07572ab5f28",
   "outputs": [],
   "execution_count": null
  },
  {
   "metadata": {},
   "cell_type": "code",
   "source": "",
   "id": "342313067519749c",
   "outputs": [],
   "execution_count": null
  },
  {
   "metadata": {},
   "cell_type": "markdown",
   "source": "### Add and manipulate features",
   "id": "79720a1c16896a6a"
  }
 ],
 "metadata": {
  "kernelspec": {
   "display_name": "Python 3",
   "language": "python",
   "name": "python3"
  },
  "language_info": {
   "codemirror_mode": {
    "name": "ipython",
    "version": 2
   },
   "file_extension": ".py",
   "mimetype": "text/x-python",
   "name": "python",
   "nbconvert_exporter": "python",
   "pygments_lexer": "ipython2",
   "version": "2.7.6"
  }
 },
 "nbformat": 4,
 "nbformat_minor": 5
}
